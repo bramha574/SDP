{
  "nbformat": 4,
  "nbformat_minor": 0,
  "metadata": {
    "kernelspec": {
      "language": "python",
      "display_name": "Python 3",
      "name": "python3"
    },
    "language_info": {
      "pygments_lexer": "ipython3",
      "nbconvert_exporter": "python",
      "version": "3.6.4",
      "file_extension": ".py",
      "codemirror_mode": {
        "name": "ipython",
        "version": 3
      },
      "name": "python",
      "mimetype": "text/x-python"
    },
    "colab": {
      "name": "softwaredefectpredicition-process-metrics-new.ipynb",
      "provenance": [],
      "include_colab_link": true
    }
  },
  "cells": [
    {
      "cell_type": "markdown",
      "metadata": {
        "id": "view-in-github",
        "colab_type": "text"
      },
      "source": [
        "<a href=\"https://colab.research.google.com/github/bramha574/SDP/blob/main/softwaredefectpredicition_process_metrics_new.ipynb\" target=\"_parent\"><img src=\"https://colab.research.google.com/assets/colab-badge.svg\" alt=\"Open In Colab\"/></a>"
      ]
    },
    {
      "cell_type": "code",
      "metadata": {
        "_uuid": "90c825f7-5ed0-4d63-bf56-bb7ce1c26c0e",
        "_cell_guid": "03661c99-3ba9-45db-988e-c9c302016ef9",
        "id": "agLxKX0b_AuH",
        "jupyter": {
          "outputs_hidden": false
        },
        "execution": {
          "iopub.status.busy": "2021-05-23T21:30:57.907193Z",
          "iopub.execute_input": "2021-05-23T21:30:57.907926Z",
          "iopub.status.idle": "2021-05-23T21:32:19.892655Z",
          "shell.execute_reply.started": "2021-05-23T21:30:57.907867Z",
          "shell.execute_reply": "2021-05-23T21:32:19.890910Z"
        },
        "trusted": true,
        "colab": {
          "base_uri": "https://localhost:8080/"
        },
        "outputId": "d8a0f8c6-c5ef-4321-97b5-1e65c3539a27"
      },
      "source": [
        "!pip install seaborn\n",
        "!pip install matplotlib\n",
        "!pip install sklearn"
      ],
      "execution_count": null,
      "outputs": [
        {
          "output_type": "stream",
          "text": [
            "Requirement already satisfied: seaborn in /usr/local/lib/python3.7/dist-packages (0.11.1)\n",
            "Requirement already satisfied: matplotlib>=2.2 in /usr/local/lib/python3.7/dist-packages (from seaborn) (3.2.2)\n",
            "Requirement already satisfied: pandas>=0.23 in /usr/local/lib/python3.7/dist-packages (from seaborn) (1.1.5)\n",
            "Requirement already satisfied: numpy>=1.15 in /usr/local/lib/python3.7/dist-packages (from seaborn) (1.19.5)\n",
            "Requirement already satisfied: scipy>=1.0 in /usr/local/lib/python3.7/dist-packages (from seaborn) (1.4.1)\n",
            "Requirement already satisfied: kiwisolver>=1.0.1 in /usr/local/lib/python3.7/dist-packages (from matplotlib>=2.2->seaborn) (1.3.1)\n",
            "Requirement already satisfied: cycler>=0.10 in /usr/local/lib/python3.7/dist-packages (from matplotlib>=2.2->seaborn) (0.10.0)\n",
            "Requirement already satisfied: python-dateutil>=2.1 in /usr/local/lib/python3.7/dist-packages (from matplotlib>=2.2->seaborn) (2.8.1)\n",
            "Requirement already satisfied: pyparsing!=2.0.4,!=2.1.2,!=2.1.6,>=2.0.1 in /usr/local/lib/python3.7/dist-packages (from matplotlib>=2.2->seaborn) (2.4.7)\n",
            "Requirement already satisfied: pytz>=2017.2 in /usr/local/lib/python3.7/dist-packages (from pandas>=0.23->seaborn) (2018.9)\n",
            "Requirement already satisfied: six in /usr/local/lib/python3.7/dist-packages (from cycler>=0.10->matplotlib>=2.2->seaborn) (1.15.0)\n",
            "Requirement already satisfied: matplotlib in /usr/local/lib/python3.7/dist-packages (3.2.2)\n",
            "Requirement already satisfied: python-dateutil>=2.1 in /usr/local/lib/python3.7/dist-packages (from matplotlib) (2.8.1)\n",
            "Requirement already satisfied: cycler>=0.10 in /usr/local/lib/python3.7/dist-packages (from matplotlib) (0.10.0)\n",
            "Requirement already satisfied: numpy>=1.11 in /usr/local/lib/python3.7/dist-packages (from matplotlib) (1.19.5)\n",
            "Requirement already satisfied: kiwisolver>=1.0.1 in /usr/local/lib/python3.7/dist-packages (from matplotlib) (1.3.1)\n",
            "Requirement already satisfied: pyparsing!=2.0.4,!=2.1.2,!=2.1.6,>=2.0.1 in /usr/local/lib/python3.7/dist-packages (from matplotlib) (2.4.7)\n",
            "Requirement already satisfied: six>=1.5 in /usr/local/lib/python3.7/dist-packages (from python-dateutil>=2.1->matplotlib) (1.15.0)\n",
            "Requirement already satisfied: sklearn in /usr/local/lib/python3.7/dist-packages (0.0)\n",
            "Requirement already satisfied: scikit-learn in /usr/local/lib/python3.7/dist-packages (from sklearn) (0.22.2.post1)\n",
            "Requirement already satisfied: numpy>=1.11.0 in /usr/local/lib/python3.7/dist-packages (from scikit-learn->sklearn) (1.19.5)\n",
            "Requirement already satisfied: scipy>=0.17.0 in /usr/local/lib/python3.7/dist-packages (from scikit-learn->sklearn) (1.4.1)\n",
            "Requirement already satisfied: joblib>=0.11 in /usr/local/lib/python3.7/dist-packages (from scikit-learn->sklearn) (1.0.1)\n"
          ],
          "name": "stdout"
        }
      ]
    },
    {
      "cell_type": "code",
      "metadata": {
        "colab": {
          "base_uri": "https://localhost:8080/"
        },
        "id": "R4OLu0aayG34",
        "outputId": "2e932ca2-1055-48d5-89bd-04c94b4b07eb"
      },
      "source": [
        "from google.colab import drive\n",
        "drive.mount('/content/drive')"
      ],
      "execution_count": 5,
      "outputs": [
        {
          "output_type": "stream",
          "text": [
            "Drive already mounted at /content/drive; to attempt to forcibly remount, call drive.mount(\"/content/drive\", force_remount=True).\n"
          ],
          "name": "stdout"
        }
      ]
    },
    {
      "cell_type": "code",
      "metadata": {
        "_uuid": "53260b93-9806-47ab-afb0-4931c47baef7",
        "_cell_guid": "d6a75b16-11e4-49de-93b3-93187c0b0b5e",
        "id": "kWYaR_Asf1WB",
        "jupyter": {
          "outputs_hidden": false
        },
        "execution": {
          "iopub.status.busy": "2021-05-23T21:35:57.227343Z",
          "iopub.execute_input": "2021-05-23T21:35:57.227795Z",
          "iopub.status.idle": "2021-05-23T21:35:57.402025Z",
          "shell.execute_reply.started": "2021-05-23T21:35:57.227759Z",
          "shell.execute_reply": "2021-05-23T21:35:57.400876Z"
        },
        "trusted": true
      },
      "source": [
        "import pandas as pd\n",
        "import numpy as np\n",
        "\n",
        "#Reading the dataset\n",
        "processmetrics = pd.read_csv(\"/content/drive/MyDrive/MLDataAnalysis/READYTOMLPROCESSMETRICS.csv\")"
      ],
      "execution_count": 6,
      "outputs": []
    },
    {
      "cell_type": "code",
      "metadata": {
        "_uuid": "d6dcb522-4c28-4ec8-afec-11f40d71ee77",
        "_cell_guid": "1d941397-fa91-4cd7-8809-d3c65219ab55",
        "id": "iD2pZXNFhTvM",
        "jupyter": {
          "outputs_hidden": false
        },
        "execution": {
          "iopub.status.busy": "2021-05-23T21:35:59.221168Z",
          "iopub.execute_input": "2021-05-23T21:35:59.221780Z",
          "iopub.status.idle": "2021-05-23T21:35:59.240562Z",
          "shell.execute_reply.started": "2021-05-23T21:35:59.221721Z",
          "shell.execute_reply": "2021-05-23T21:35:59.239819Z"
        },
        "trusted": true,
        "colab": {
          "base_uri": "https://localhost:8080/",
          "height": 419
        },
        "outputId": "3e78dc7f-5e40-4244-a0cd-765ef90e1620"
      },
      "source": [
        "processmetrics"
      ],
      "execution_count": null,
      "outputs": [
        {
          "output_type": "execute_result",
          "data": {
            "text/html": [
              "<div>\n",
              "<style scoped>\n",
              "    .dataframe tbody tr th:only-of-type {\n",
              "        vertical-align: middle;\n",
              "    }\n",
              "\n",
              "    .dataframe tbody tr th {\n",
              "        vertical-align: top;\n",
              "    }\n",
              "\n",
              "    .dataframe thead th {\n",
              "        text-align: right;\n",
              "    }\n",
              "</style>\n",
              "<table border=\"1\" class=\"dataframe\">\n",
              "  <thead>\n",
              "    <tr style=\"text-align: right;\">\n",
              "      <th></th>\n",
              "      <th>Unnamed: 0</th>\n",
              "      <th>entity</th>\n",
              "      <th>age-months</th>\n",
              "      <th>n-authors</th>\n",
              "      <th>n-revs</th>\n",
              "      <th>BUG_STATUS</th>\n",
              "    </tr>\n",
              "  </thead>\n",
              "  <tbody>\n",
              "    <tr>\n",
              "      <th>0</th>\n",
              "      <td>0</td>\n",
              "      <td>rl4j/rl4j-core/src/test/java/org/deeplearning4...</td>\n",
              "      <td>0</td>\n",
              "      <td>4</td>\n",
              "      <td>13</td>\n",
              "      <td>0.0</td>\n",
              "    </tr>\n",
              "    <tr>\n",
              "      <th>1</th>\n",
              "      <td>1</td>\n",
              "      <td>deeplearning4j/deeplearning4j-scaleout/spark/d...</td>\n",
              "      <td>0</td>\n",
              "      <td>5</td>\n",
              "      <td>19</td>\n",
              "      <td>0.0</td>\n",
              "    </tr>\n",
              "    <tr>\n",
              "      <th>2</th>\n",
              "      <td>2</td>\n",
              "      <td>deeplearning4j/deeplearning4j-nlp-parent/deepl...</td>\n",
              "      <td>0</td>\n",
              "      <td>7</td>\n",
              "      <td>19</td>\n",
              "      <td>1.0</td>\n",
              "    </tr>\n",
              "    <tr>\n",
              "      <th>3</th>\n",
              "      <td>3</td>\n",
              "      <td>deeplearning4j/deeplearning4j-core/src/test/ja...</td>\n",
              "      <td>0</td>\n",
              "      <td>7</td>\n",
              "      <td>27</td>\n",
              "      <td>1.0</td>\n",
              "    </tr>\n",
              "    <tr>\n",
              "      <th>4</th>\n",
              "      <td>4</td>\n",
              "      <td>datavec/datavec-spark/src/test/java/org/datave...</td>\n",
              "      <td>0</td>\n",
              "      <td>6</td>\n",
              "      <td>14</td>\n",
              "      <td>0.0</td>\n",
              "    </tr>\n",
              "    <tr>\n",
              "      <th>...</th>\n",
              "      <td>...</td>\n",
              "      <td>...</td>\n",
              "      <td>...</td>\n",
              "      <td>...</td>\n",
              "      <td>...</td>\n",
              "      <td>...</td>\n",
              "    </tr>\n",
              "    <tr>\n",
              "      <th>72148</th>\n",
              "      <td>72148</td>\n",
              "      <td>youtube_dl/extractor/jadorecettepub.py</td>\n",
              "      <td>60</td>\n",
              "      <td>1</td>\n",
              "      <td>1</td>\n",
              "      <td>0.0</td>\n",
              "    </tr>\n",
              "    <tr>\n",
              "      <th>72149</th>\n",
              "      <td>72149</td>\n",
              "      <td>youtube_dl/extractor/wayofthemaster.py</td>\n",
              "      <td>60</td>\n",
              "      <td>1</td>\n",
              "      <td>1</td>\n",
              "      <td>0.0</td>\n",
              "    </tr>\n",
              "    <tr>\n",
              "      <th>72150</th>\n",
              "      <td>72150</td>\n",
              "      <td>youtube_dl/extractor/theonion.py</td>\n",
              "      <td>60</td>\n",
              "      <td>1</td>\n",
              "      <td>1</td>\n",
              "      <td>0.0</td>\n",
              "    </tr>\n",
              "    <tr>\n",
              "      <th>72151</th>\n",
              "      <td>72151</td>\n",
              "      <td>youtube_dl/extractor/unistra.py</td>\n",
              "      <td>60</td>\n",
              "      <td>1</td>\n",
              "      <td>1</td>\n",
              "      <td>0.0</td>\n",
              "    </tr>\n",
              "    <tr>\n",
              "      <th>72152</th>\n",
              "      <td>72152</td>\n",
              "      <td>youtube_dl/extractor/openclassroom.py</td>\n",
              "      <td>60</td>\n",
              "      <td>1</td>\n",
              "      <td>2</td>\n",
              "      <td>0.0</td>\n",
              "    </tr>\n",
              "  </tbody>\n",
              "</table>\n",
              "<p>72153 rows × 6 columns</p>\n",
              "</div>"
            ],
            "text/plain": [
              "       Unnamed: 0  ... BUG_STATUS\n",
              "0               0  ...        0.0\n",
              "1               1  ...        0.0\n",
              "2               2  ...        1.0\n",
              "3               3  ...        1.0\n",
              "4               4  ...        0.0\n",
              "...           ...  ...        ...\n",
              "72148       72148  ...        0.0\n",
              "72149       72149  ...        0.0\n",
              "72150       72150  ...        0.0\n",
              "72151       72151  ...        0.0\n",
              "72152       72152  ...        0.0\n",
              "\n",
              "[72153 rows x 6 columns]"
            ]
          },
          "metadata": {
            "tags": []
          },
          "execution_count": 3
        }
      ]
    },
    {
      "cell_type": "code",
      "metadata": {
        "_uuid": "c5406329-e445-477d-ac86-27def19308b6",
        "_cell_guid": "e9103bd7-5c9f-4266-8d6d-9a9dcf4fdff6",
        "id": "llRdoFvjyTtx",
        "jupyter": {
          "outputs_hidden": false
        },
        "execution": {
          "iopub.status.busy": "2021-05-23T21:36:15.616246Z",
          "iopub.execute_input": "2021-05-23T21:36:15.616784Z",
          "iopub.status.idle": "2021-05-23T21:36:15.632433Z",
          "shell.execute_reply.started": "2021-05-23T21:36:15.616734Z",
          "shell.execute_reply": "2021-05-23T21:36:15.631445Z"
        },
        "trusted": true,
        "colab": {
          "base_uri": "https://localhost:8080/"
        },
        "outputId": "9da7fa3b-b49e-4b6f-8e01-9d067bd48dee"
      },
      "source": [
        "processmetrics.isnull().sum()"
      ],
      "execution_count": 7,
      "outputs": [
        {
          "output_type": "execute_result",
          "data": {
            "text/plain": [
              "Unnamed: 0    0\n",
              "entity        0\n",
              "age-months    0\n",
              "n-authors     0\n",
              "n-revs        0\n",
              "BUG_STATUS    0\n",
              "dtype: int64"
            ]
          },
          "metadata": {
            "tags": []
          },
          "execution_count": 7
        }
      ]
    },
    {
      "cell_type": "code",
      "metadata": {
        "_uuid": "8eacd946-47d3-4165-ae50-931b1cb3d381",
        "_cell_guid": "7d073bcc-46ea-4123-8e5a-95d2ae48de12",
        "id": "xKvex99vhoL0",
        "jupyter": {
          "outputs_hidden": false
        },
        "execution": {
          "iopub.status.busy": "2021-05-23T21:36:17.119054Z",
          "iopub.execute_input": "2021-05-23T21:36:17.119533Z",
          "iopub.status.idle": "2021-05-23T21:36:17.174264Z",
          "shell.execute_reply.started": "2021-05-23T21:36:17.119501Z",
          "shell.execute_reply": "2021-05-23T21:36:17.173059Z"
        },
        "trusted": true,
        "colab": {
          "base_uri": "https://localhost:8080/",
          "height": 518
        },
        "outputId": "082a0fd5-24ea-4964-8c46-de027ab662ed"
      },
      "source": [
        "#Quick description of data\n",
        "processmetrics.info()\n",
        "processmetrics.describe()"
      ],
      "execution_count": 8,
      "outputs": [
        {
          "output_type": "stream",
          "text": [
            "<class 'pandas.core.frame.DataFrame'>\n",
            "RangeIndex: 72153 entries, 0 to 72152\n",
            "Data columns (total 6 columns):\n",
            " #   Column      Non-Null Count  Dtype  \n",
            "---  ------      --------------  -----  \n",
            " 0   Unnamed: 0  72153 non-null  int64  \n",
            " 1   entity      72153 non-null  object \n",
            " 2   age-months  72153 non-null  int64  \n",
            " 3   n-authors   72153 non-null  int64  \n",
            " 4   n-revs      72153 non-null  int64  \n",
            " 5   BUG_STATUS  72153 non-null  float64\n",
            "dtypes: float64(1), int64(4), object(1)\n",
            "memory usage: 3.3+ MB\n"
          ],
          "name": "stdout"
        },
        {
          "output_type": "execute_result",
          "data": {
            "text/html": [
              "<div>\n",
              "<style scoped>\n",
              "    .dataframe tbody tr th:only-of-type {\n",
              "        vertical-align: middle;\n",
              "    }\n",
              "\n",
              "    .dataframe tbody tr th {\n",
              "        vertical-align: top;\n",
              "    }\n",
              "\n",
              "    .dataframe thead th {\n",
              "        text-align: right;\n",
              "    }\n",
              "</style>\n",
              "<table border=\"1\" class=\"dataframe\">\n",
              "  <thead>\n",
              "    <tr style=\"text-align: right;\">\n",
              "      <th></th>\n",
              "      <th>Unnamed: 0</th>\n",
              "      <th>age-months</th>\n",
              "      <th>n-authors</th>\n",
              "      <th>n-revs</th>\n",
              "      <th>BUG_STATUS</th>\n",
              "    </tr>\n",
              "  </thead>\n",
              "  <tbody>\n",
              "    <tr>\n",
              "      <th>count</th>\n",
              "      <td>72153.000000</td>\n",
              "      <td>72153.000000</td>\n",
              "      <td>72153.000000</td>\n",
              "      <td>72153.000000</td>\n",
              "      <td>72153.000000</td>\n",
              "    </tr>\n",
              "    <tr>\n",
              "      <th>mean</th>\n",
              "      <td>36076.000000</td>\n",
              "      <td>22.894821</td>\n",
              "      <td>3.325198</td>\n",
              "      <td>8.548931</td>\n",
              "      <td>0.280058</td>\n",
              "    </tr>\n",
              "    <tr>\n",
              "      <th>std</th>\n",
              "      <td>20828.921323</td>\n",
              "      <td>17.829621</td>\n",
              "      <td>3.235353</td>\n",
              "      <td>13.652957</td>\n",
              "      <td>0.449030</td>\n",
              "    </tr>\n",
              "    <tr>\n",
              "      <th>min</th>\n",
              "      <td>0.000000</td>\n",
              "      <td>0.000000</td>\n",
              "      <td>1.000000</td>\n",
              "      <td>1.000000</td>\n",
              "      <td>0.000000</td>\n",
              "    </tr>\n",
              "    <tr>\n",
              "      <th>25%</th>\n",
              "      <td>18038.000000</td>\n",
              "      <td>6.000000</td>\n",
              "      <td>1.000000</td>\n",
              "      <td>2.000000</td>\n",
              "      <td>0.000000</td>\n",
              "    </tr>\n",
              "    <tr>\n",
              "      <th>50%</th>\n",
              "      <td>36076.000000</td>\n",
              "      <td>21.000000</td>\n",
              "      <td>2.000000</td>\n",
              "      <td>5.000000</td>\n",
              "      <td>0.000000</td>\n",
              "    </tr>\n",
              "    <tr>\n",
              "      <th>75%</th>\n",
              "      <td>54114.000000</td>\n",
              "      <td>35.000000</td>\n",
              "      <td>4.000000</td>\n",
              "      <td>10.000000</td>\n",
              "      <td>1.000000</td>\n",
              "    </tr>\n",
              "    <tr>\n",
              "      <th>max</th>\n",
              "      <td>72152.000000</td>\n",
              "      <td>61.000000</td>\n",
              "      <td>127.000000</td>\n",
              "      <td>932.000000</td>\n",
              "      <td>1.000000</td>\n",
              "    </tr>\n",
              "  </tbody>\n",
              "</table>\n",
              "</div>"
            ],
            "text/plain": [
              "         Unnamed: 0    age-months     n-authors        n-revs    BUG_STATUS\n",
              "count  72153.000000  72153.000000  72153.000000  72153.000000  72153.000000\n",
              "mean   36076.000000     22.894821      3.325198      8.548931      0.280058\n",
              "std    20828.921323     17.829621      3.235353     13.652957      0.449030\n",
              "min        0.000000      0.000000      1.000000      1.000000      0.000000\n",
              "25%    18038.000000      6.000000      1.000000      2.000000      0.000000\n",
              "50%    36076.000000     21.000000      2.000000      5.000000      0.000000\n",
              "75%    54114.000000     35.000000      4.000000     10.000000      1.000000\n",
              "max    72152.000000     61.000000    127.000000    932.000000      1.000000"
            ]
          },
          "metadata": {
            "tags": []
          },
          "execution_count": 8
        }
      ]
    },
    {
      "cell_type": "code",
      "metadata": {
        "_uuid": "5915a91d-30aa-4f83-b08a-56a6a6cee493",
        "_cell_guid": "96e3ac0c-ace6-48de-9021-6fc869adab02",
        "id": "wfZdHvh2g4Uq",
        "jupyter": {
          "outputs_hidden": false
        },
        "execution": {
          "iopub.status.busy": "2021-05-23T21:36:20.223725Z",
          "iopub.execute_input": "2021-05-23T21:36:20.224083Z",
          "iopub.status.idle": "2021-05-23T21:36:20.234038Z",
          "shell.execute_reply.started": "2021-05-23T21:36:20.224053Z",
          "shell.execute_reply": "2021-05-23T21:36:20.233075Z"
        },
        "trusted": true
      },
      "source": [
        "#Removing the un necessary columns\n",
        "processmetrics.drop(['Unnamed: 0'], inplace=True, axis=1)"
      ],
      "execution_count": 9,
      "outputs": []
    },
    {
      "cell_type": "code",
      "metadata": {
        "_uuid": "d9fe1738-0daf-423f-8ac1-e160410fe2c5",
        "_cell_guid": "aca3280b-d167-4bbd-ac51-979b63a0a68e",
        "id": "AXZW639keMQM",
        "jupyter": {
          "outputs_hidden": false
        },
        "execution": {
          "iopub.status.busy": "2021-05-23T21:36:22.003335Z",
          "iopub.execute_input": "2021-05-23T21:36:22.003913Z",
          "iopub.status.idle": "2021-05-23T21:36:22.144570Z",
          "shell.execute_reply.started": "2021-05-23T21:36:22.003874Z",
          "shell.execute_reply": "2021-05-23T21:36:22.143863Z"
        },
        "trusted": true,
        "colab": {
          "base_uri": "https://localhost:8080/",
          "height": 297
        },
        "outputId": "7c2b2b79-7420-423f-d9ba-f9c321252a7e"
      },
      "source": [
        "\n",
        "import seaborn as sns\n",
        "sns.countplot(x='BUG_STATUS', data=processmetrics)"
      ],
      "execution_count": 10,
      "outputs": [
        {
          "output_type": "execute_result",
          "data": {
            "text/plain": [
              "<matplotlib.axes._subplots.AxesSubplot at 0x7fe50734d6d0>"
            ]
          },
          "metadata": {
            "tags": []
          },
          "execution_count": 10
        },
        {
          "output_type": "display_data",
          "data": {
            "image/png": "[encoded data removed]",
            "text/plain": [
              "<Figure size 432x288 with 1 Axes>"
            ]
          },
          "metadata": {
            "tags": [],
            "needs_background": "light"
          }
        }
      ]
    },
    {
      "cell_type": "code",
      "metadata": {
        "_uuid": "78cc0445-be86-4beb-981c-2993545b3a22",
        "_cell_guid": "73597211-1600-4a61-88d2-89cd2f06acea",
        "id": "zkpwtXV0hEn-",
        "jupyter": {
          "outputs_hidden": false
        },
        "execution": {
          "iopub.status.busy": "2021-05-23T21:36:24.409974Z",
          "iopub.execute_input": "2021-05-23T21:36:24.410488Z",
          "iopub.status.idle": "2021-05-23T21:36:25.361529Z",
          "shell.execute_reply.started": "2021-05-23T21:36:24.410430Z",
          "shell.execute_reply": "2021-05-23T21:36:25.360744Z"
        },
        "trusted": true,
        "colab": {
          "base_uri": "https://localhost:8080/",
          "height": 879
        },
        "outputId": "dc6d40af-ed98-42c4-ed87-996706c04da5"
      },
      "source": [
        "import matplotlib.pyplot as plt\n",
        "processmetrics.hist(bins=50,figsize=(20,15))\n",
        "plt.show()"
      ],
      "execution_count": 11,
      "outputs": [
        {
          "output_type": "display_data",
          "data": {
            "image/png": "[encoded data removed]",
            "text/plain": [
              "<Figure size 1440x1080 with 4 Axes>"
            ]
          },
          "metadata": {
            "tags": [],
            "needs_background": "light"
          }
        }
      ]
    },
    {
      "cell_type": "code",
      "metadata": {
        "_uuid": "2006bade-5e03-4aaf-99ea-30491b39caf7",
        "_cell_guid": "9075422a-4128-4370-8208-73bbdb8926d3",
        "id": "5Iuwe-azpphf",
        "jupyter": {
          "outputs_hidden": false
        },
        "execution": {
          "iopub.status.busy": "2021-05-23T21:36:27.867877Z",
          "iopub.execute_input": "2021-05-23T21:36:27.868461Z",
          "iopub.status.idle": "2021-05-23T21:36:27.886399Z",
          "shell.execute_reply.started": "2021-05-23T21:36:27.868414Z",
          "shell.execute_reply": "2021-05-23T21:36:27.884849Z"
        },
        "trusted": true
      },
      "source": [
        "# #train and test set splitting\n",
        "from sklearn.model_selection import train_test_split\n",
        "train_set, test_set = train_test_split(processmetrics,test_size=0.2,random_state=42)"
      ],
      "execution_count": 12,
      "outputs": []
    },
    {
      "cell_type": "code",
      "metadata": {
        "_uuid": "7cb12903-570d-4d6e-9717-5095d79e29a7",
        "_cell_guid": "861fdd8f-aab6-43d8-88f4-9bb0138ae680",
        "id": "kbyL_C7jgK-M",
        "jupyter": {
          "outputs_hidden": false
        },
        "execution": {
          "iopub.status.busy": "2021-05-23T21:36:29.670764Z",
          "iopub.execute_input": "2021-05-23T21:36:29.671123Z",
          "iopub.status.idle": "2021-05-23T21:36:29.677715Z",
          "shell.execute_reply.started": "2021-05-23T21:36:29.671092Z",
          "shell.execute_reply": "2021-05-23T21:36:29.676380Z"
        },
        "trusted": true,
        "colab": {
          "base_uri": "https://localhost:8080/"
        },
        "outputId": "01d2cd43-cb89-4cce-db94-71b9e9e62ab7"
      },
      "source": [
        "x = len(train_set)\n",
        "y = len(test_set)\n",
        "print(train_set.shape)\n",
        "print(test_set.shape)"
      ],
      "execution_count": 14,
      "outputs": [
        {
          "output_type": "stream",
          "text": [
            "(57722, 5)\n",
            "(14431, 5)\n"
          ],
          "name": "stdout"
        }
      ]
    },
    {
      "cell_type": "code",
      "metadata": {
        "_uuid": "f0de04f8-5742-4faa-87a9-de3e3a80ab3c",
        "_cell_guid": "7734d2bc-c118-4689-82f8-5a32263a2117",
        "id": "ZpXwP1lchtUR",
        "jupyter": {
          "outputs_hidden": false
        },
        "execution": {
          "iopub.status.busy": "2021-05-23T21:36:30.892896Z",
          "iopub.execute_input": "2021-05-23T21:36:30.893303Z",
          "iopub.status.idle": "2021-05-23T21:36:31.045394Z",
          "shell.execute_reply.started": "2021-05-23T21:36:30.893270Z",
          "shell.execute_reply": "2021-05-23T21:36:31.043945Z"
        },
        "trusted": true,
        "colab": {
          "base_uri": "https://localhost:8080/",
          "height": 338
        },
        "outputId": "cf87ad65-5006-4fda-b659-27c2619480b3"
      },
      "source": [
        "import matplotlib.pyplot as plt\n",
        "fig = plt.figure()\n",
        "ax = fig.add_axes([0,0,1,1])\n",
        "set_ = ['train_set','test_set']\n",
        "length =  [x,y]\n",
        "ax.bar(set_,length)\n",
        "plt.show()"
      ],
      "execution_count": 15,
      "outputs": [
        {
          "output_type": "display_data",
          "data": {
            "image/png": "[encoded data removed]",
            "text/plain": [
              "<Figure size 432x288 with 1 Axes>"
            ]
          },
          "metadata": {
            "tags": [],
            "needs_background": "light"
          }
        }
      ]
    },
    {
      "cell_type": "code",
      "metadata": {
        "_uuid": "87481ba9-d3b3-40a9-b328-aed24122c2f8",
        "_cell_guid": "fb2b9707-538b-48bc-bab5-f86d9b97e7ed",
        "id": "XyhH1up5vTrY",
        "jupyter": {
          "outputs_hidden": false
        },
        "execution": {
          "iopub.status.busy": "2021-05-23T21:36:36.221768Z",
          "iopub.execute_input": "2021-05-23T21:36:36.222219Z",
          "iopub.status.idle": "2021-05-23T21:36:36.231661Z",
          "shell.execute_reply.started": "2021-05-23T21:36:36.222181Z",
          "shell.execute_reply": "2021-05-23T21:36:36.230277Z"
        },
        "trusted": true
      },
      "source": [
        "processmetrics = train_set.copy()"
      ],
      "execution_count": 16,
      "outputs": []
    },
    {
      "cell_type": "code",
      "metadata": {
        "_uuid": "cf5bfcae-7e16-43f8-a40a-01cd71eaea93",
        "_cell_guid": "ff26d2ca-422c-4a06-affb-e27fe959169c",
        "id": "p29rwFx3vjrk",
        "jupyter": {
          "outputs_hidden": false
        },
        "execution": {
          "iopub.status.busy": "2021-05-23T21:36:37.630829Z",
          "iopub.execute_input": "2021-05-23T21:36:37.631220Z",
          "iopub.status.idle": "2021-05-23T21:36:37.648975Z",
          "shell.execute_reply.started": "2021-05-23T21:36:37.631187Z",
          "shell.execute_reply": "2021-05-23T21:36:37.647638Z"
        },
        "trusted": true,
        "colab": {
          "base_uri": "https://localhost:8080/"
        },
        "outputId": "d38cb37d-52b1-4557-c381-676e5c3895cb"
      },
      "source": [
        "#checking correlation\n",
        "corr_matrix = processmetrics.corr()\n",
        "corr_matrix[\"BUG_STATUS\"].sort_values(ascending=False)"
      ],
      "execution_count": 19,
      "outputs": [
        {
          "output_type": "execute_result",
          "data": {
            "text/plain": [
              "BUG_STATUS    1.000000\n",
              "n-authors     0.113700\n",
              "n-revs        0.089009\n",
              "age-months   -0.239859\n",
              "Name: BUG_STATUS, dtype: float64"
            ]
          },
          "metadata": {
            "tags": []
          },
          "execution_count": 19
        }
      ]
    },
    {
      "cell_type": "code",
      "metadata": {
        "_uuid": "94373729-6498-4d04-a5f8-90f53a787075",
        "_cell_guid": "491655b7-e75c-43e8-8315-daf0e8fc8bc1",
        "id": "cWmzWLnNwTde",
        "jupyter": {
          "outputs_hidden": false
        },
        "execution": {
          "iopub.status.busy": "2021-05-23T21:36:39.021891Z",
          "iopub.execute_input": "2021-05-23T21:36:39.022309Z",
          "iopub.status.idle": "2021-05-23T21:36:43.304946Z",
          "shell.execute_reply.started": "2021-05-23T21:36:39.022275Z",
          "shell.execute_reply": "2021-05-23T21:36:43.303594Z"
        },
        "trusted": true,
        "colab": {
          "base_uri": "https://localhost:8080/",
          "height": 795
        },
        "outputId": "c3319f84-9108-46c5-9064-d6b12bc92a1a"
      },
      "source": [
        "#checking correlation with scatter_matrix\n",
        "from pandas.plotting import scatter_matrix\n",
        "\n",
        "attributes = [\"BUG_STATUS\",\"age-months\",\"n-authors\",\"n-revs\"]\n",
        "scatter_matrix(processmetrics[attributes],figsize=(12,8))"
      ],
      "execution_count": 20,
      "outputs": [
        {
          "output_type": "execute_result",
          "data": {
            "text/plain": [
              "array([[<matplotlib.axes._subplots.AxesSubplot object at 0x7fe504d91a50>,\n",
              "        <matplotlib.axes._subplots.AxesSubplot object at 0x7fe504dd6cd0>,\n",
              "        <matplotlib.axes._subplots.AxesSubplot object at 0x7fe504d59b50>,\n",
              "        <matplotlib.axes._subplots.AxesSubplot object at 0x7fe504d24710>],\n",
              "       [<matplotlib.axes._subplots.AxesSubplot object at 0x7fe504cd9d90>,\n",
              "        <matplotlib.axes._subplots.AxesSubplot object at 0x7fe504c9b450>,\n",
              "        <matplotlib.axes._subplots.AxesSubplot object at 0x7fe504c4ce90>,\n",
              "        <matplotlib.axes._subplots.AxesSubplot object at 0x7fe504c0f390>],\n",
              "       [<matplotlib.axes._subplots.AxesSubplot object at 0x7fe504c0f3d0>,\n",
              "        <matplotlib.axes._subplots.AxesSubplot object at 0x7fe504bc6a50>,\n",
              "        <matplotlib.axes._subplots.AxesSubplot object at 0x7fe504b3d490>,\n",
              "        <matplotlib.axes._subplots.AxesSubplot object at 0x7fe504b70a10>],\n",
              "       [<matplotlib.axes._subplots.AxesSubplot object at 0x7fe504b29f90>,\n",
              "        <matplotlib.axes._subplots.AxesSubplot object at 0x7fe504aea550>,\n",
              "        <matplotlib.axes._subplots.AxesSubplot object at 0x7fe504a9fad0>,\n",
              "        <matplotlib.axes._subplots.AxesSubplot object at 0x7fe504a4bb50>]],\n",
              "      dtype=object)"
            ]
          },
          "metadata": {
            "tags": []
          },
          "execution_count": 20
        },
        {
          "output_type": "display_data",
          "data": {
            "image/png": "[encoded data removed]",
            "text/plain": [
              "<Figure size 864x576 with 16 Axes>"
            ]
          },
          "metadata": {
            "tags": [],
            "needs_background": "light"
          }
        }
      ]
    },
    {
      "cell_type": "code",
      "metadata": {
        "_uuid": "46206cae-9cef-4741-8942-97a66ea23315",
        "_cell_guid": "84e82b57-3c58-4630-9656-c26c8b5b8cdc",
        "id": "hntMSav3xuAQ",
        "jupyter": {
          "outputs_hidden": false
        },
        "execution": {
          "iopub.status.busy": "2021-05-23T21:36:45.646097Z",
          "iopub.execute_input": "2021-05-23T21:36:45.646553Z",
          "iopub.status.idle": "2021-05-23T21:36:45.661529Z",
          "shell.execute_reply.started": "2021-05-23T21:36:45.646513Z",
          "shell.execute_reply": "2021-05-23T21:36:45.659994Z"
        },
        "trusted": true
      },
      "source": [
        "X_train = train_set.drop(\"BUG_STATUS\",axis=1)\n",
        "y_train = train_set['BUG_STATUS'].copy()\n",
        "\n",
        "X_test = test_set.drop(\"BUG_STATUS\",axis=1)\n",
        "y_test = test_set['BUG_STATUS'].copy()"
      ],
      "execution_count": 21,
      "outputs": []
    },
    {
      "cell_type": "code",
      "metadata": {
        "_uuid": "5615d7e6-7212-4966-bb39-97ee568706ac",
        "_cell_guid": "620aa13e-ac8d-4d72-8af2-34874dd8f815",
        "id": "lr3enoUPdhb7",
        "jupyter": {
          "outputs_hidden": false
        },
        "execution": {
          "iopub.status.busy": "2021-05-23T21:36:47.190002Z",
          "iopub.execute_input": "2021-05-23T21:36:47.190454Z",
          "iopub.status.idle": "2021-05-23T21:36:47.200477Z",
          "shell.execute_reply.started": "2021-05-23T21:36:47.190418Z",
          "shell.execute_reply": "2021-05-23T21:36:47.199254Z"
        },
        "trusted": true
      },
      "source": [
        "X_train = X_train.drop(\"entity\",axis=1)\n",
        "X_test = X_test.drop(\"entity\",axis=1)"
      ],
      "execution_count": 22,
      "outputs": []
    },
    {
      "cell_type": "code",
      "metadata": {
        "_uuid": "cd40ec53-491f-46d9-bd96-8c9bb9426282",
        "_cell_guid": "888b9903-ccc4-4f05-886a-cecbfe4f1498",
        "id": "TcpQ8IaqpKne",
        "jupyter": {
          "outputs_hidden": false
        },
        "execution": {
          "iopub.status.busy": "2021-05-23T21:36:48.328195Z",
          "iopub.execute_input": "2021-05-23T21:36:48.328640Z",
          "iopub.status.idle": "2021-05-23T21:36:48.346632Z",
          "shell.execute_reply.started": "2021-05-23T21:36:48.328582Z",
          "shell.execute_reply": "2021-05-23T21:36:48.345082Z"
        },
        "trusted": true
      },
      "source": [
        "from sklearn.preprocessing import StandardScaler \n",
        "sc = StandardScaler() \n",
        "X_train = sc.fit_transform(X_train) \n",
        "X_test = sc.transform(X_test)"
      ],
      "execution_count": 23,
      "outputs": []
    },
    {
      "cell_type": "code",
      "metadata": {
        "_uuid": "59ecb714-c68b-4b84-bd0d-15103417ae07",
        "_cell_guid": "75b81480-bd01-4687-b7cf-252766f777d7",
        "id": "bXHjG9xbWIrf",
        "jupyter": {
          "outputs_hidden": false
        },
        "execution": {
          "iopub.status.busy": "2021-05-23T21:36:51.382307Z",
          "iopub.execute_input": "2021-05-23T21:36:51.382887Z",
          "iopub.status.idle": "2021-05-23T21:36:51.389149Z",
          "shell.execute_reply.started": "2021-05-23T21:36:51.382850Z",
          "shell.execute_reply": "2021-05-23T21:36:51.388234Z"
        },
        "trusted": true,
        "colab": {
          "base_uri": "https://localhost:8080/"
        },
        "outputId": "4513440f-92d5-4cf1-e8a0-81938dc4285a"
      },
      "source": [
        "X_train"
      ],
      "execution_count": 24,
      "outputs": [
        {
          "output_type": "execute_result",
          "data": {
            "text/plain": [
              "array([[ 0.67787854,  0.20796609,  1.19458646],\n",
              "       [ 0.67787854,  0.20796609, -0.18749469],\n",
              "       [-1.22756762, -0.41207052, -0.40571802],\n",
              "       ...,\n",
              "       [ 1.07017628, -0.41207052, -0.40571802],\n",
              "       [-1.22756762,  0.5179844 ,  0.53991644],\n",
              "       [ 1.57455908, -0.72208883, -0.04201246]])"
            ]
          },
          "metadata": {
            "tags": []
          },
          "execution_count": 24
        }
      ]
    },
    {
      "cell_type": "code",
      "metadata": {
        "_uuid": "f7ee2a54-e178-4e04-a032-b08df60cf716",
        "_cell_guid": "29b30004-8862-4707-b6ce-894718c81b25",
        "id": "c01x4a-MzxEj",
        "jupyter": {
          "outputs_hidden": false
        },
        "execution": {
          "iopub.status.busy": "2021-05-23T21:36:52.674236Z",
          "iopub.execute_input": "2021-05-23T21:36:52.674941Z",
          "iopub.status.idle": "2021-05-23T21:36:52.684284Z",
          "shell.execute_reply.started": "2021-05-23T21:36:52.674896Z",
          "shell.execute_reply": "2021-05-23T21:36:52.683089Z"
        },
        "trusted": true,
        "colab": {
          "base_uri": "https://localhost:8080/"
        },
        "outputId": "1ff738d9-7e5f-4093-d624-88890b49e76e"
      },
      "source": [
        "y_train"
      ],
      "execution_count": 25,
      "outputs": [
        {
          "output_type": "execute_result",
          "data": {
            "text/plain": [
              "9626     0.0\n",
              "9020     0.0\n",
              "39079    1.0\n",
              "71362    0.0\n",
              "46643    0.0\n",
              "        ... \n",
              "37194    0.0\n",
              "6265     0.0\n",
              "54886    0.0\n",
              "860      0.0\n",
              "15795    0.0\n",
              "Name: BUG_STATUS, Length: 57722, dtype: float64"
            ]
          },
          "metadata": {
            "tags": []
          },
          "execution_count": 25
        }
      ]
    },
    {
      "cell_type": "code",
      "metadata": {
        "_uuid": "beb08a8c-81f8-4700-87de-12ddb7b1ad04",
        "_cell_guid": "c570aa8f-6ff5-45e8-934e-310ce66a7fb8",
        "id": "qnWrHtAIoOMX",
        "jupyter": {
          "outputs_hidden": false
        },
        "execution": {
          "iopub.status.busy": "2021-05-23T21:36:54.595232Z",
          "iopub.execute_input": "2021-05-23T21:36:54.595875Z",
          "iopub.status.idle": "2021-05-23T21:36:54.604391Z",
          "shell.execute_reply.started": "2021-05-23T21:36:54.595817Z",
          "shell.execute_reply": "2021-05-23T21:36:54.603180Z"
        },
        "trusted": true,
        "colab": {
          "base_uri": "https://localhost:8080/"
        },
        "outputId": "0078acdb-318e-4287-c5f0-e947f245528f"
      },
      "source": [
        "X_test"
      ],
      "execution_count": 26,
      "outputs": [
        {
          "output_type": "execute_result",
          "data": {
            "text/plain": [
              "array([[ 0.67787854, -0.10205221,  0.68539867],\n",
              "       [-1.11548255, -0.10205221, -0.33297691],\n",
              "       [-0.89131241, -0.72208883, -0.40571802],\n",
              "       ...,\n",
              "       [-1.00339748, -0.10205221, -0.33297691],\n",
              "       [ 0.1174532 , -0.72208883, -0.55120025],\n",
              "       [-0.72318481,  0.20796609, -0.2602358 ]])"
            ]
          },
          "metadata": {
            "tags": []
          },
          "execution_count": 26
        }
      ]
    },
    {
      "cell_type": "code",
      "metadata": {
        "_uuid": "4d6be04c-bae4-4f31-9ba5-664b794d6f77",
        "_cell_guid": "5d9e5679-3f3a-474b-b858-9429ea004287",
        "id": "aLvfiOHYu6mS",
        "jupyter": {
          "outputs_hidden": false
        },
        "execution": {
          "iopub.status.busy": "2021-05-23T21:36:56.707170Z",
          "iopub.execute_input": "2021-05-23T21:36:56.707576Z",
          "iopub.status.idle": "2021-05-23T21:36:56.716994Z",
          "shell.execute_reply.started": "2021-05-23T21:36:56.707542Z",
          "shell.execute_reply": "2021-05-23T21:36:56.715627Z"
        },
        "trusted": true,
        "colab": {
          "base_uri": "https://localhost:8080/"
        },
        "outputId": "ddd56d37-43d9-4045-a0a6-c800828db49b"
      },
      "source": [
        "y_test"
      ],
      "execution_count": 27,
      "outputs": [
        {
          "output_type": "execute_result",
          "data": {
            "text/plain": [
              "11562    0.0\n",
              "57351    0.0\n",
              "22818    1.0\n",
              "35957    1.0\n",
              "56037    0.0\n",
              "        ... \n",
              "67097    0.0\n",
              "2077     0.0\n",
              "28598    0.0\n",
              "67909    0.0\n",
              "33280    1.0\n",
              "Name: BUG_STATUS, Length: 14431, dtype: float64"
            ]
          },
          "metadata": {
            "tags": []
          },
          "execution_count": 27
        }
      ]
    },
    {
      "cell_type": "code",
      "metadata": {
        "_uuid": "706e9fa3-5aad-4886-8da7-b9bb2b6388a1",
        "_cell_guid": "76da276c-b0f4-4672-979a-66ae6ddca17c",
        "id": "9w83oMruf6Ol",
        "jupyter": {
          "outputs_hidden": false
        },
        "execution": {
          "iopub.status.busy": "2021-05-23T21:36:58.227802Z",
          "iopub.execute_input": "2021-05-23T21:36:58.228223Z",
          "iopub.status.idle": "2021-05-23T21:36:58.235218Z",
          "shell.execute_reply.started": "2021-05-23T21:36:58.228186Z",
          "shell.execute_reply": "2021-05-23T21:36:58.233923Z"
        },
        "trusted": true
      },
      "source": [
        "# import all libraries\n",
        "import numpy as np\n",
        "import pandas as pd\n",
        "import matplotlib.pyplot as plt \n",
        "import seaborn as sns\n",
        "import re\n",
        "\n",
        "import sklearn\n",
        "from sklearn.model_selection import train_test_split\n",
        "from sklearn.linear_model import LinearRegression\n",
        "from sklearn.model_selection import cross_val_predict\n",
        "from sklearn.model_selection import GridSearchCV\n",
        "import warnings # supress warnings\n",
        "warnings.filterwarnings('ignore')"
      ],
      "execution_count": 28,
      "outputs": []
    },
    {
      "cell_type": "code",
      "metadata": {
        "_uuid": "c7dceafa-59c7-45b6-9e20-d8fd2edb6cbd",
        "_cell_guid": "ab578582-46e7-472c-9fb5-4e0dd7082775",
        "id": "Jp3rN3kGjwxy",
        "jupyter": {
          "outputs_hidden": false
        },
        "execution": {
          "iopub.status.busy": "2021-05-23T21:37:01.927569Z",
          "iopub.execute_input": "2021-05-23T21:37:01.928002Z",
          "iopub.status.idle": "2021-05-23T21:37:01.932359Z",
          "shell.execute_reply.started": "2021-05-23T21:37:01.927965Z",
          "shell.execute_reply": "2021-05-23T21:37:01.931502Z"
        },
        "trusted": true
      },
      "source": [
        "# Classifiers:\n",
        "# Logistic Regression\n",
        "# Decision Tree\n",
        "# Support Vector Machine\n",
        "\n",
        "# Linear Discriminant Analysis\n",
        "# Quadratic Discriminant Analysis\n",
        "# Random Forest\n",
        "# K-Nearest Neighbors\n",
        "# Naive Bayes\n",
        "\n",
        "# Scoring:\n",
        "# precision score\n",
        "# recall score\n",
        "# F1 score\n",
        "# support score\n",
        "# accuracy score\n",
        "# AUC/ROC"
      ],
      "execution_count": null,
      "outputs": []
    },
    {
      "cell_type": "code",
      "metadata": {
        "_uuid": "29d65766-02b6-4153-a9b8-bfc83ac5e913",
        "_cell_guid": "70a9bb8e-d99a-4d51-9049-795e9b00123e",
        "id": "fFKA9q9Eqv7p",
        "jupyter": {
          "outputs_hidden": false
        },
        "execution": {
          "iopub.status.busy": "2021-05-23T21:14:55.785521Z",
          "iopub.execute_input": "2021-05-23T21:14:55.786141Z",
          "iopub.status.idle": "2021-05-23T21:15:04.639960Z",
          "shell.execute_reply.started": "2021-05-23T21:14:55.786084Z",
          "shell.execute_reply": "2021-05-23T21:15:04.638511Z"
        },
        "trusted": true,
        "colab": {
          "base_uri": "https://localhost:8080/",
          "height": 1000
        },
        "outputId": "b48e4018-b83e-4de8-bd6c-db282b10548a"
      },
      "source": [
        "# Decision Tree\n",
        "from numpy import mean\n",
        "from numpy import std\n",
        "from sklearn import metrics\n",
        "from sklearn.tree import DecisionTreeClassifier\n",
        "from sklearn.model_selection import cross_val_predict\n",
        "from sklearn.metrics import confusion_matrix, classification_report\n",
        "from sklearn.model_selection import KFold\n",
        "from sklearn.model_selection import cross_val_score\n",
        "\n",
        "\n",
        "# create model\n",
        "model = DecisionTreeClassifier()\n",
        "\n",
        "#===================================================================================================\n",
        "#cross validation \n",
        "\n",
        "# evaluate model\n",
        "scores = cross_val_score(model, X_train, y_train, scoring='accuracy', cv=10, n_jobs=-1)\n",
        "# report performance\n",
        "print(50*\"=\")\n",
        "print(\"Cross validation Accuracy:\")\n",
        "print('Accuracy: %.3f (%.3f)' % (mean(scores), std(scores))) \n",
        "print(50*\"=\")\n",
        "\n",
        "#====================================================================================================\n",
        "print(50*\"=\")\n",
        "print(\"GRID SEARCH FOR DECISION TREE CLASSIFIER\")\n",
        "\n",
        "params = { \n",
        "    \"random_state\":range(30,40)} \n",
        "gs_Deci = GridSearchCV(model,\n",
        "                      param_grid=params,\n",
        "                      scoring='accuracy',\n",
        "                      cv=10)\n",
        "gs_Deci.fit(X_train, y_train)\n",
        "\n",
        "print(\"Best Parameters\")\n",
        "print(gs_Deci.best_params_)\n",
        "\n",
        "print(\"Best estimaters\")\n",
        "print(gs_Deci.best_estimator_)\n",
        "\n",
        "#Predicting Bugs\n",
        "y_pred = gs_Deci.best_estimator_.predict(X_test)\n",
        "\n",
        "#CONFUSION MATRIX\n",
        "print(50*\"=\")\n",
        "print(\"CONFUSION MATRIX\")\n",
        "print(confusion_matrix(y_test,y_pred))\n",
        "\n",
        "from sklearn.metrics import plot_confusion_matrix\n",
        "\n",
        "import matplotlib.pyplot as plt\n",
        "plt.rcParams[\"figure.figsize\"] = (20,7)\n",
        "\n",
        "class_names=['NON BUGGY FILE','BUGGY FILE']\n",
        "\n",
        "RF_confusion = plot_confusion_matrix(gs_Deci.best_estimator_,X_test,y_test,\n",
        "                                 display_labels=class_names,\n",
        "                                 cmap=plt.cm.Greens,\n",
        "                                 normalize=None, values_format = '.0f')\n",
        "\n",
        "\n",
        "RF_confusion.ax_.set_title(\"Confusion Matrix using Decision tree Classfier\")\n",
        "\n",
        "print(50*\"=\")\n",
        "print(classification_report(y_test,y_pred))\n",
        "print(50*\"=\")\n",
        "#====================================================================================================\n",
        "\n",
        "# Model Accuracy: how often is the classifier correct?\n",
        "RF_Accuracy = metrics.accuracy_score(y_test, y_pred)\n",
        "print(\"Accuracy:\",RF_Accuracy)\n",
        "\n",
        "# Model Precision: what percentage of positive tuples are labeled as such?\n",
        "print(\"Precision:\",metrics.precision_score(y_test, y_pred))\n",
        "\n",
        "# Model Recall: what percentage of positive tuples are labelled as such?\n",
        "print(\"Recall:\",metrics.recall_score(y_test, y_pred))\n",
        "\n",
        "#Calculate F1 Score\n",
        "print(\"F1 Score:\",metrics.f1_score(y_test, y_pred))\n",
        "\n",
        "#Calculate Mean Absolute Error\n",
        "print(\"Mean Absolute Error:\",metrics.mean_absolute_error(y_test, y_pred))\n",
        "\n",
        "# kappa\n",
        "print(\"Cohens kappa:\", metrics.cohen_kappa_score(y_test, y_pred))\n",
        "\n",
        "# ROC AUC\n",
        "print(\"ROC AUC:\", metrics.roc_auc_score(y_test, y_pred))\n",
        "print(50*\"=\")"
      ],
      "execution_count": 42,
      "outputs": [
        {
          "output_type": "stream",
          "text": [
            "==================================================\n",
            "Cross validation Accuracy:\n",
            "Accuracy: 0.834 (0.004)\n",
            "==================================================\n",
            "==================================================\n",
            "GRID SEARCH FOR DECISION TREE CLASSIFIER\n",
            "Best Parameters\n",
            "{'random_state': 31}\n",
            "Best estimaters\n",
            "DecisionTreeClassifier(ccp_alpha=0.0, class_weight=None, criterion='gini',\n",
            "                       max_depth=None, max_features=None, max_leaf_nodes=None,\n",
            "                       min_impurity_decrease=0.0, min_impurity_split=None,\n",
            "                       min_samples_leaf=1, min_samples_split=2,\n",
            "                       min_weight_fraction_leaf=0.0, presort='deprecated',\n",
            "                       random_state=31, splitter='best')\n",
            "==================================================\n",
            "CONFUSION MATRIX\n",
            "[[9323 1025]\n",
            " [1437 2646]]\n",
            "==================================================\n",
            "              precision    recall  f1-score   support\n",
            "\n",
            "         0.0       0.87      0.90      0.88     10348\n",
            "         1.0       0.72      0.65      0.68      4083\n",
            "\n",
            "    accuracy                           0.83     14431\n",
            "   macro avg       0.79      0.77      0.78     14431\n",
            "weighted avg       0.83      0.83      0.83     14431\n",
            "\n",
            "==================================================\n",
            "Accuracy: 0.8293950523179267\n",
            "Precision: 0.7207845273767366\n",
            "Recall: 0.6480529022777369\n",
            "F1 Score: 0.6824864586020118\n",
            "Mean Absolute Error: 0.17060494768207332\n",
            "Cohens kappa: 0.5662980104586164\n",
            "ROC AUC: 0.7744999725922893\n",
            "==================================================\n"
          ],
          "name": "stdout"
        },
        {
          "output_type": "display_data",
          "data": {
            "image/png": "[encoded data removed]",
            "text/plain": [
              "<Figure size 1440x504 with 2 Axes>"
            ]
          },
          "metadata": {
            "tags": [],
            "needs_background": "light"
          }
        }
      ]
    },
    {
      "cell_type": "code",
      "metadata": {
        "_uuid": "afcb60f2-8e41-4772-b6e4-11f60add4aa6",
        "_cell_guid": "135726ea-d1ea-4c1f-8c2e-b0861e6de0dd",
        "id": "unPCGhq6f4kV",
        "jupyter": {
          "outputs_hidden": false
        },
        "execution": {
          "iopub.status.busy": "2021-05-23T21:18:00.826085Z",
          "iopub.execute_input": "2021-05-23T21:18:00.826548Z",
          "iopub.status.idle": "2021-05-23T21:18:11.489630Z",
          "shell.execute_reply.started": "2021-05-23T21:18:00.826500Z",
          "shell.execute_reply": "2021-05-23T21:18:11.488449Z"
        },
        "trusted": true,
        "colab": {
          "base_uri": "https://localhost:8080/",
          "height": 934
        },
        "outputId": "6acf4b13-d243-446d-f04c-94c3915eabed"
      },
      "source": [
        "# Logistic regression\n",
        "from numpy import mean\n",
        "from numpy import std\n",
        "from sklearn.linear_model import LogisticRegression\n",
        "from sklearn.model_selection import cross_val_predict\n",
        "from sklearn.metrics import confusion_matrix, classification_report\n",
        "from sklearn.model_selection import KFold\n",
        "from sklearn.model_selection import cross_val_score\n",
        "from sklearn import metrics\n",
        "\n",
        "# create model\n",
        "model = LogisticRegression()\n",
        "\n",
        "#===================================================================================================\n",
        "#cross validation \n",
        "\n",
        "# evaluate model\n",
        "scores = cross_val_score(model, X_train, y_train, scoring='accuracy', cv=10, n_jobs=-1)\n",
        "# report performance\n",
        "print(50*\"=\")\n",
        "print(\"Cross validation Accuracy:\")\n",
        "print('Accuracy: %.3f (%.3f)' % (mean(scores), std(scores))) \n",
        "print(50*\"=\")\n",
        "\n",
        "#====================================================================================================\n",
        "print(50*\"=\")\n",
        "\n",
        "model.fit(X_train, y_train)\n",
        "\n",
        "\n",
        "\n",
        "#Predicting Bugs\n",
        "y_pred = model.predict(X_test)\n",
        "\n",
        "#CONFUSION MATRIX\n",
        "print(50*\"=\")\n",
        "print(\"CONFUSION MATRIX\")\n",
        "print(confusion_matrix(y_test,y_pred))\n",
        "\n",
        "from sklearn.metrics import plot_confusion_matrix\n",
        "\n",
        "import matplotlib.pyplot as plt\n",
        "plt.rcParams[\"figure.figsize\"] = (20,7)\n",
        "\n",
        "class_names=['NON BUGGY FILE','BUGGY FILE']\n",
        "\n",
        "confusion = plot_confusion_matrix(model,X_test,y_test,\n",
        "                                 display_labels=class_names,\n",
        "                                 cmap=plt.cm.Greens,\n",
        "                                 normalize=None, values_format = '.0f')\n",
        "\n",
        "\n",
        "confusion.ax_.set_title(\"Confusion Matrix using Logistic Regression\")\n",
        "\n",
        "print(50*\"=\")\n",
        "print(classification_report(y_test,y_pred))\n",
        "print(50*\"=\")\n",
        "#====================================================================================================\n",
        "\n",
        "# Model Accuracy: how often is the classifier correct?\n",
        "RF_Accuracy = metrics.accuracy_score(y_test, y_pred)\n",
        "print(\"Accuracy:\",RF_Accuracy)\n",
        "\n",
        "# Model Precision: what percentage of positive tuples are labeled as such?\n",
        "print(\"Precision:\",metrics.precision_score(y_test, y_pred))\n",
        "\n",
        "# Model Recall: what percentage of positive tuples are labelled as such?\n",
        "print(\"Recall:\",metrics.recall_score(y_test, y_pred))\n",
        "\n",
        "#Calculate F1 Score\n",
        "print(\"F1 Score:\",metrics.f1_score(y_test, y_pred))\n",
        "\n",
        "#Calculate Mean Absolute Error\n",
        "print(\"Mean Absolute Error:\",metrics.mean_absolute_error(y_test, y_pred))\n",
        "\n",
        "# kappa\n",
        "print(\"Cohens kappa:\", metrics.cohen_kappa_score(y_test, y_pred))\n",
        "\n",
        "# ROC AUC\n",
        "print(\"ROC AUC:\", metrics.roc_auc_score(y_test, y_pred))\n",
        "print(50*\"=\")"
      ],
      "execution_count": 43,
      "outputs": [
        {
          "output_type": "stream",
          "text": [
            "==================================================\n",
            "Cross validation Accuracy:\n",
            "Accuracy: 0.720 (0.001)\n",
            "==================================================\n",
            "==================================================\n",
            "==================================================\n",
            "CONFUSION MATRIX\n",
            "[[10324    24]\n",
            " [ 4055    28]]\n",
            "==================================================\n",
            "              precision    recall  f1-score   support\n",
            "\n",
            "         0.0       0.72      1.00      0.84     10348\n",
            "         1.0       0.54      0.01      0.01      4083\n",
            "\n",
            "    accuracy                           0.72     14431\n",
            "   macro avg       0.63      0.50      0.42     14431\n",
            "weighted avg       0.67      0.72      0.60     14431\n",
            "\n",
            "==================================================\n",
            "Accuracy: 0.7173446053634537\n",
            "Precision: 0.5384615384615384\n",
            "Recall: 0.006857702669605682\n",
            "F1 Score: 0.013542926239419589\n",
            "Mean Absolute Error: 0.2826553946365463\n",
            "Cohens kappa: 0.00647290867860828\n",
            "ROC AUC: 0.5022692069590781\n",
            "==================================================\n"
          ],
          "name": "stdout"
        },
        {
          "output_type": "display_data",
          "data": {
            "image/png": "[encoded data removed]",
            "text/plain": [
              "<Figure size 1440x504 with 2 Axes>"
            ]
          },
          "metadata": {
            "tags": [],
            "needs_background": "light"
          }
        }
      ]
    },
    {
      "cell_type": "code",
      "metadata": {
        "_uuid": "66444d2a-67e1-462b-a199-fbd740603ad6",
        "_cell_guid": "4bea15a8-097d-4d40-8c6d-3b80c1c0d27e",
        "id": "ZTmZb2hpfi6S",
        "jupyter": {
          "outputs_hidden": false
        },
        "execution": {
          "iopub.status.busy": "2021-05-23T05:35:49.891032Z",
          "iopub.execute_input": "2021-05-23T05:35:49.891467Z",
          "iopub.status.idle": "2021-05-23T05:35:51.041354Z",
          "shell.execute_reply.started": "2021-05-23T05:35:49.891377Z",
          "shell.execute_reply": "2021-05-23T05:35:51.038167Z"
        },
        "trusted": true,
        "colab": {
          "base_uri": "https://localhost:8080/",
          "height": 934
        },
        "outputId": "e922de83-e373-4081-96bf-bec194f4a3ac"
      },
      "source": [
        "# Support Vector Machine\n",
        "from numpy import mean\n",
        "from numpy import std\n",
        "from sklearn.svm import SVC\n",
        "from sklearn.model_selection import cross_val_predict\n",
        "from sklearn.metrics import confusion_matrix, classification_report\n",
        "from sklearn.model_selection import KFold\n",
        "from sklearn.model_selection import cross_val_score\n",
        "from sklearn import metrics\n",
        "\n",
        "# create model\n",
        "model = SVC(gamma='auto')\n",
        "\n",
        "#===================================================================================================\n",
        "#cross validation \n",
        "\n",
        "# evaluate model\n",
        "scores = cross_val_score(model, X_train, y_train, scoring='accuracy', cv=10, n_jobs=-1)\n",
        "# report performance\n",
        "print(50*\"=\")\n",
        "print(\"Cross validation Accuracy:\")\n",
        "print('Accuracy: %.3f (%.3f)' % (mean(scores), std(scores))) \n",
        "print(50*\"=\")\n",
        "\n",
        "#====================================================================================================\n",
        "print(50*\"=\")\n",
        "# print(\"GRID SEARCH FOR SVM\")\n",
        "\n",
        "# params = { \n",
        "#     \"random_state\":range(30,40)} \n",
        "# gs_svm = GridSearchCV(model,\n",
        "#                       param_grid=params,\n",
        "#                       scoring='accuracy',\n",
        "#                       cv=10)\n",
        "model.fit(X_train, y_train)\n",
        "\n",
        "# print(\"Best Parameters\")\n",
        "# print(gs_svm.best_params_)\n",
        "\n",
        "# print(\"Best estimaters\")\n",
        "# print(gs_svm.best_estimator_)\n",
        "\n",
        "#Predicting Bugs\n",
        "y_pred = model.predict(X_test)\n",
        "\n",
        "#CONFUSION MATRIX\n",
        "print(50*\"=\")\n",
        "print(\"CONFUSION MATRIX\")\n",
        "print(confusion_matrix(y_test,y_pred))\n",
        "\n",
        "from sklearn.metrics import plot_confusion_matrix\n",
        "\n",
        "import matplotlib.pyplot as plt\n",
        "plt.rcParams[\"figure.figsize\"] = (20,7)\n",
        "\n",
        "class_names=['NON BUGGY FILE','BUGGY FILE']\n",
        "\n",
        "confusion = plot_confusion_matrix(model,X_test,y_test,\n",
        "                                 display_labels=class_names,\n",
        "                                 cmap=plt.cm.Greens,\n",
        "                                 normalize=None, values_format = '.0f')\n",
        "\n",
        "\n",
        "confusion.ax_.set_title(\"Confusion Matrix using Support Vector Machine\")\n",
        "\n",
        "print(50*\"=\")\n",
        "print(classification_report(y_test,y_pred))\n",
        "print(50*\"=\")\n",
        "#====================================================================================================\n",
        "\n",
        "# Model Accuracy: how often is the classifier correct?\n",
        "RF_Accuracy = metrics.accuracy_score(y_test, y_pred)\n",
        "print(\"Accuracy:\",RF_Accuracy)\n",
        "\n",
        "# Model Precision: what percentage of positive tuples are labeled as such?\n",
        "print(\"Precision:\",metrics.precision_score(y_test, y_pred))\n",
        "\n",
        "# Model Recall: what percentage of positive tuples are labelled as such?\n",
        "print(\"Recall:\",metrics.recall_score(y_test, y_pred))\n",
        "\n",
        "#Calculate F1 Score\n",
        "print(\"F1 Score:\",metrics.f1_score(y_test, y_pred))\n",
        "\n",
        "#Calculate Mean Absolute Error\n",
        "print(\"Mean Absolute Error:\",metrics.mean_absolute_error(y_test, y_pred))\n",
        "\n",
        "# kappa\n",
        "print(\"Cohens kappa:\", metrics.cohen_kappa_score(y_test, y_pred))\n",
        "\n",
        "# ROC AUC\n",
        "print(\"ROC AUC:\", metrics.roc_auc_score(y_test, y_pred))\n",
        "print(50*\"=\")"
      ],
      "execution_count": 30,
      "outputs": [
        {
          "output_type": "stream",
          "text": [
            "==================================================\n",
            "Cross validation Accuracy:\n",
            "Accuracy: 0.756 (0.003)\n",
            "==================================================\n",
            "==================================================\n",
            "==================================================\n",
            "CONFUSION MATRIX\n",
            "[[9827  521]\n",
            " [3070 1013]]\n",
            "==================================================\n",
            "              precision    recall  f1-score   support\n",
            "\n",
            "         0.0       0.76      0.95      0.85     10348\n",
            "         1.0       0.66      0.25      0.36      4083\n",
            "\n",
            "    accuracy                           0.75     14431\n",
            "   macro avg       0.71      0.60      0.60     14431\n",
            "weighted avg       0.73      0.75      0.71     14431\n",
            "\n",
            "==================================================\n",
            "Accuracy: 0.751160695724482\n",
            "Precision: 0.6603650586701434\n",
            "Recall: 0.24810188586823415\n",
            "F1 Score: 0.3606907601922735\n",
            "Mean Absolute Error: 0.24883930427551798\n",
            "Cohens kappa: 0.2438348945707821\n",
            "ROC AUC: 0.5988769962777585\n",
            "==================================================\n"
          ],
          "name": "stdout"
        },
        {
          "output_type": "display_data",
          "data": {
            "image/png": "[encoded data removed]",
            "text/plain": [
              "<Figure size 1440x504 with 2 Axes>"
            ]
          },
          "metadata": {
            "tags": [],
            "needs_background": "light"
          }
        }
      ]
    },
    {
      "cell_type": "code",
      "metadata": {
        "_uuid": "deb49675-cf86-4fe2-a09d-f6eb7be575c6",
        "_cell_guid": "1a562bbf-9d4c-44fd-87b8-ad368aeb864d",
        "jupyter": {
          "outputs_hidden": false
        },
        "trusted": true,
        "id": "WoH10pHmO994"
      },
      "source": [
        "#Random Forest\n",
        "from numpy import mean\n",
        "from numpy import std\n",
        "from sklearn.ensemble import RandomForestRegressor\n",
        "from sklearn.model_selection import cross_val_predict\n",
        "from sklearn.metrics import confusion_matrix, classification_report\n",
        "from sklearn.model_selection import KFold\n",
        "from sklearn.model_selection import cross_val_score\n",
        "from sklearn import metrics\n",
        "\n",
        "# create model\n",
        "model = RandomForestRegressor()\n",
        "\n",
        "#===================================================================================================\n",
        "#cross validation \n",
        "\n",
        "# evaluate model\n",
        "scores = cross_val_score(model, X_train, y_train, scoring='accuracy', cv=10, n_jobs=-1)\n",
        "# report performance\n",
        "print(50*\"=\")\n",
        "print(\"Cross validation Accuracy:\")\n",
        "print('Accuracy: %.3f (%.3f)' % (mean(scores), std(scores))) \n",
        "print(50*\"=\")\n",
        "\n",
        "#====================================================================================================\n",
        "print(50*\"=\")\n",
        "print(\"GRID SEARCH FOR Random Forest\")\n",
        "\n",
        "params = { \n",
        "    \"random_state\":range(30,40)} \n",
        "gs_logi = GridSearchCV(model,\n",
        "                      param_grid=params,\n",
        "                      scoring='accuracy',\n",
        "                      cv=10)\n",
        "gs_logi.fit(X_train, y_train)\n",
        "\n",
        "print(\"Best Parameters\")\n",
        "print(gs_logi.best_params_)\n",
        "\n",
        "print(\"Best estimaters\")\n",
        "print(gs_logi.best_estimator_)\n",
        "\n",
        "#Predicting Bugs\n",
        "y_pred = gs_logi.best_estimator_.predict(X_test)\n",
        "\n",
        "#CONFUSION MATRIX\n",
        "print(50*\"=\")\n",
        "print(\"CONFUSION MATRIX\")\n",
        "print(confusion_matrix(y_test,y_pred))\n",
        "\n",
        "from sklearn.metrics import plot_confusion_matrix\n",
        "\n",
        "import matplotlib.pyplot as plt\n",
        "plt.rcParams[\"figure.figsize\"] = (20,7)\n",
        "\n",
        "class_names=['NON BUGGY FILE','BUGGY FILE']\n",
        "\n",
        "confusion = plot_confusion_matrix(gs_Deci.best_estimator_,X_test,y_test,\n",
        "                                 display_labels=class_names,\n",
        "                                 cmap=plt.cm.Greens,\n",
        "                                 normalize=None, values_format = '.0f')\n",
        "\n",
        "\n",
        "confusion.ax_.set_title(\"Confusion Matrix using Random Forest\")\n",
        "\n",
        "print(50*\"=\")\n",
        "print(classification_report(y_test,y_pred))\n",
        "print(50*\"=\")\n",
        "#====================================================================================================\n",
        "\n",
        "# Model Accuracy: how often is the classifier correct?\n",
        "RF_Accuracy = metrics.accuracy_score(y_test, y_pred)\n",
        "print(\"Accuracy:\",RF_Accuracy)\n",
        "\n",
        "# Model Precision: what percentage of positive tuples are labeled as such?\n",
        "print(\"Precision:\",metrics.precision_score(y_test, y_pred))\n",
        "\n",
        "# Model Recall: what percentage of positive tuples are labelled as such?\n",
        "print(\"Recall:\",metrics.recall_score(y_test, y_pred))\n",
        "\n",
        "#Calculate F1 Score\n",
        "print(\"F1 Score:\",metrics.f1_score(y_test, y_pred))\n",
        "\n",
        "#Calculate Mean Absolute Error\n",
        "print(\"Mean Absolute Error:\",metrics.mean_absolute_error(y_test, y_pred))\n",
        "\n",
        "# kappa\n",
        "print(\"Cohens kappa:\", metrics.cohen_kappa_score(y_test, y_pred))\n",
        "\n",
        "# ROC AUC\n",
        "print(\"ROC AUC:\", metrics.roc_auc_score(y_test, y_pred))\n",
        "print(50*\"=\")"
      ],
      "execution_count": null,
      "outputs": []
    },
    {
      "cell_type": "code",
      "metadata": {
        "_uuid": "b5392906-178e-470c-a0ad-c376aaa59416",
        "_cell_guid": "0e115af5-f635-4fbd-9ce0-139dc737fa94",
        "execution": {
          "iopub.status.busy": "2021-05-23T21:28:28.510578Z",
          "iopub.status.idle": "2021-05-23T21:28:28.511585Z"
        },
        "jupyter": {
          "outputs_hidden": false
        },
        "trusted": true,
        "id": "2wHiK49hO998",
        "colab": {
          "base_uri": "https://localhost:8080/",
          "height": 917
        },
        "outputId": "bbee0eb7-cd3f-434b-b87f-fcaaf0e9a309"
      },
      "source": [
        "#Naive Bayes\n",
        "from numpy import mean\n",
        "from numpy import std\n",
        "from sklearn.naive_bayes import GaussianNB\n",
        "from sklearn.model_selection import cross_val_predict\n",
        "from sklearn.metrics import confusion_matrix, classification_report\n",
        "from sklearn.model_selection import KFold\n",
        "from sklearn.model_selection import cross_val_score\n",
        "from sklearn import metrics\n",
        "\n",
        "# create model\n",
        "model = GaussianNB()\n",
        "\n",
        "#===================================================================================================\n",
        "#cross validation \n",
        "\n",
        "# evaluate model\n",
        "scores = cross_val_score(model, X_train, y_train, scoring='accuracy', cv=10, n_jobs=-1)\n",
        "# report performance\n",
        "print(50*\"=\")\n",
        "print(\"Cross validation Accuracy:\")\n",
        "print('Accuracy: %.3f (%.3f)' % (mean(scores), std(scores))) \n",
        "print(50*\"=\")\n",
        "\n",
        "#====================================================================================================\n",
        "\n",
        "model.fit(X_train, y_train)\n",
        "\n",
        "#Predicting Bugs\n",
        "y_pred = model.predict(X_test)\n",
        "\n",
        "#CONFUSION MATRIX\n",
        "print(50*\"=\")\n",
        "print(\"CONFUSION MATRIX\")\n",
        "print(confusion_matrix(y_test,y_pred))\n",
        "\n",
        "from sklearn.metrics import plot_confusion_matrix\n",
        "\n",
        "import matplotlib.pyplot as plt\n",
        "plt.rcParams[\"figure.figsize\"] = (20,7)\n",
        "\n",
        "class_names=['NON BUGGY FILE','BUGGY FILE']\n",
        "\n",
        "confusion = plot_confusion_matrix(model,X_test,y_test,\n",
        "                                 display_labels=class_names,\n",
        "                                 cmap=plt.cm.Greens,\n",
        "                                 normalize=None, values_format = '.0f')\n",
        "\n",
        "\n",
        "confusion.ax_.set_title(\"Confusion Matrix using Naive Bayes\")\n",
        "\n",
        "print(50*\"=\")\n",
        "print(classification_report(y_test,y_pred))\n",
        "print(50*\"=\")\n",
        "#====================================================================================================\n",
        "\n",
        "# Model Accuracy: how often is the classifier correct?\n",
        "RF_Accuracy = metrics.accuracy_score(y_test, y_pred)\n",
        "print(\"Accuracy:\",RF_Accuracy)\n",
        "\n",
        "# Model Precision: what percentage of positive tuples are labeled as such?\n",
        "print(\"Precision:\",metrics.precision_score(y_test, y_pred))\n",
        "\n",
        "# Model Recall: what percentage of positive tuples are labelled as such?\n",
        "print(\"Recall:\",metrics.recall_score(y_test, y_pred))\n",
        "\n",
        "#Calculate F1 Score\n",
        "print(\"F1 Score:\",metrics.f1_score(y_test, y_pred))\n",
        "\n",
        "#Calculate Mean Absolute Error\n",
        "print(\"Mean Absolute Error:\",metrics.mean_absolute_error(y_test, y_pred))\n",
        "\n",
        "# kappa\n",
        "print(\"Cohens kappa:\", metrics.cohen_kappa_score(y_test, y_pred))\n",
        "\n",
        "# ROC AUC\n",
        "print(\"ROC AUC:\", metrics.roc_auc_score(y_test, y_pred))\n",
        "print(50*\"=\")"
      ],
      "execution_count": 34,
      "outputs": [
        {
          "output_type": "stream",
          "text": [
            "==================================================\n",
            "Cross validation Accuracy:\n",
            "Accuracy: 0.714 (0.003)\n",
            "==================================================\n",
            "==================================================\n",
            "CONFUSION MATRIX\n",
            "[[9804  544]\n",
            " [3637  446]]\n",
            "==================================================\n",
            "              precision    recall  f1-score   support\n",
            "\n",
            "         0.0       0.73      0.95      0.82     10348\n",
            "         1.0       0.45      0.11      0.18      4083\n",
            "\n",
            "    accuracy                           0.71     14431\n",
            "   macro avg       0.59      0.53      0.50     14431\n",
            "weighted avg       0.65      0.71      0.64     14431\n",
            "\n",
            "==================================================\n",
            "Accuracy: 0.7102764881158616\n",
            "Precision: 0.4505050505050505\n",
            "Recall: 0.10923340680871908\n",
            "F1 Score: 0.17583284052828702\n",
            "Mean Absolute Error: 0.2897235118841383\n",
            "Cohens kappa: 0.07352286340961556\n",
            "ROC AUC: 0.5283314308879312\n",
            "==================================================\n"
          ],
          "name": "stdout"
        },
        {
          "output_type": "display_data",
          "data": {
            "image/png": "[encoded data removed]",
            "text/plain": [
              "<Figure size 1440x504 with 2 Axes>"
            ]
          },
          "metadata": {
            "tags": [],
            "needs_background": "light"
          }
        }
      ]
    },
    {
      "cell_type": "code",
      "metadata": {
        "_uuid": "0427adc2-e954-4386-8c84-d3714e6bf6f6",
        "_cell_guid": "1890287d-4723-4a4a-b620-0f583ef77ca6",
        "id": "VajRXKY64FGq",
        "jupyter": {
          "outputs_hidden": false
        },
        "execution": {
          "iopub.status.busy": "2021-05-23T21:39:37.629407Z",
          "iopub.execute_input": "2021-05-23T21:39:37.629867Z"
        },
        "trusted": true,
        "colab": {
          "base_uri": "https://localhost:8080/",
          "height": 934
        },
        "outputId": "43c15b73-3fd8-45ac-df0e-9561bd91cb9f"
      },
      "source": [
        "# Multilayer perceptron\n",
        "from numpy import mean\n",
        "from numpy import std\n",
        "from sklearn.neural_network import MLPClassifier\n",
        "from sklearn.model_selection import cross_val_predict\n",
        "from sklearn.metrics import confusion_matrix, classification_report\n",
        "from sklearn.model_selection import KFold\n",
        "from sklearn.model_selection import cross_val_score\n",
        "from sklearn import metrics\n",
        "\n",
        "# create model\n",
        "model = MLPClassifier()\n",
        "\n",
        "#===================================================================================================\n",
        "#cross validation \n",
        "\n",
        "# evaluate model\n",
        "scores = cross_val_score(model, X_train, y_train, scoring='accuracy', cv=10, n_jobs=-1)\n",
        "# report performance\n",
        "print(50*\"=\")\n",
        "print(\"Cross validation Accuracy:\")\n",
        "print('Accuracy: %.3f (%.3f)' % (mean(scores), std(scores))) \n",
        "print(50*\"=\")\n",
        "\n",
        "#====================================================================================================\n",
        "print(50*\"=\")\n",
        "\n",
        "model.fit(X_train, y_train)\n",
        "\n",
        "\n",
        "#Predicting Bugs\n",
        "y_pred = model.predict(X_test)\n",
        "\n",
        "#CONFUSION MATRIX\n",
        "print(50*\"=\")\n",
        "print(\"CONFUSION MATRIX\")\n",
        "print(confusion_matrix(y_test,y_pred))\n",
        "\n",
        "from sklearn.metrics import plot_confusion_matrix\n",
        "\n",
        "import matplotlib.pyplot as plt\n",
        "plt.rcParams[\"figure.figsize\"] = (20,7)\n",
        "\n",
        "class_names=['NON BUGGY FILE','BUGGY FILE']\n",
        "\n",
        "confusion = plot_confusion_matrix(model,X_test,y_test,\n",
        "                                 display_labels=class_names,\n",
        "                                 cmap=plt.cm.Greens,\n",
        "                                 normalize=None, values_format = '.0f')\n",
        "\n",
        "\n",
        "confusion.ax_.set_title(\"Confusion Matrix using Multilayer perceptron\")\n",
        "\n",
        "print(50*\"=\")\n",
        "print(classification_report(y_test,y_pred))\n",
        "print(50*\"=\")\n",
        "#====================================================================================================\n",
        "\n",
        "# Model Accuracy: how often is the classifier correct?\n",
        "RF_Accuracy = metrics.accuracy_score(y_test, y_pred)\n",
        "print(\"Accuracy:\",RF_Accuracy)\n",
        "\n",
        "# Model Precision: what percentage of positive tuples are labeled as such?\n",
        "print(\"Precision:\",metrics.precision_score(y_test, y_pred))\n",
        "\n",
        "# Model Recall: what percentage of positive tuples are labelled as such?\n",
        "print(\"Recall:\",metrics.recall_score(y_test, y_pred))\n",
        "\n",
        "#Calculate F1 Score\n",
        "print(\"F1 Score:\",metrics.f1_score(y_test, y_pred))\n",
        "\n",
        "#Calculate Mean Absolute Error\n",
        "print(\"Mean Absolute Error:\",metrics.mean_absolute_error(y_test, y_pred))\n",
        "\n",
        "# kappa\n",
        "print(\"Cohens kappa:\", metrics.cohen_kappa_score(y_test, y_pred))\n",
        "\n",
        "# ROC AUC\n",
        "print(\"ROC AUC:\", metrics.roc_auc_score(y_test, y_pred))\n",
        "print(50*\"=\")"
      ],
      "execution_count": 38,
      "outputs": [
        {
          "output_type": "stream",
          "text": [
            "==================================================\n",
            "Cross validation Accuracy:\n",
            "Accuracy: 0.770 (0.004)\n",
            "==================================================\n",
            "==================================================\n",
            "==================================================\n",
            "CONFUSION MATRIX\n",
            "[[9517  831]\n",
            " [2519 1564]]\n",
            "==================================================\n",
            "              precision    recall  f1-score   support\n",
            "\n",
            "         0.0       0.79      0.92      0.85     10348\n",
            "         1.0       0.65      0.38      0.48      4083\n",
            "\n",
            "    accuracy                           0.77     14431\n",
            "   macro avg       0.72      0.65      0.67     14431\n",
            "weighted avg       0.75      0.77      0.75     14431\n",
            "\n",
            "==================================================\n",
            "Accuracy: 0.7678608551035965\n",
            "Precision: 0.653027139874739\n",
            "Recall: 0.38305167768797455\n",
            "F1 Score: 0.4828650818153751\n",
            "Mean Absolute Error: 0.23213914489640358\n",
            "Cohens kappa: 0.3460547434931541\n",
            "ROC AUC: 0.6513731523345169\n",
            "==================================================\n"
          ],
          "name": "stdout"
        },
        {
          "output_type": "display_data",
          "data": {
            "image/png": "[encoded data removed]",
            "text/plain": [
              "<Figure size 1440x504 with 2 Axes>"
            ]
          },
          "metadata": {
            "tags": [],
            "needs_background": "light"
          }
        }
      ]
    },
    {
      "cell_type": "code",
      "metadata": {
        "id": "P2rt7OM1ccA8",
        "colab": {
          "base_uri": "https://localhost:8080/",
          "height": 917
        },
        "outputId": "27982770-335b-45f1-892c-c8aca56dd213"
      },
      "source": [
        "#KNN\n",
        "from numpy import mean\n",
        "from numpy import std\n",
        "from sklearn.neighbors import KNeighborsClassifier\n",
        "from sklearn.model_selection import cross_val_predict\n",
        "from sklearn.metrics import confusion_matrix, classification_report\n",
        "from sklearn.model_selection import KFold\n",
        "from sklearn.model_selection import cross_val_score\n",
        "from sklearn import metrics\n",
        "\n",
        "\n",
        "k = 4  \n",
        "\n",
        "# create model\n",
        "model = KNeighborsClassifier(n_neighbors = k)\n",
        "\n",
        "#===================================================================================================\n",
        "#cross validation \n",
        "\n",
        "# evaluate model\n",
        "scores = cross_val_score(model, X_train, y_train, scoring='accuracy', cv=10, n_jobs=-1)\n",
        "# report performance\n",
        "print(50*\"=\")\n",
        "print(\"Cross validation Accuracy:\")\n",
        "print('Accuracy: %.3f (%.3f)' % (mean(scores), std(scores))) \n",
        "print(50*\"=\")\n",
        "\n",
        "#====================================================================================================\n",
        "\n",
        "model.fit(X_train, y_train)\n",
        "\n",
        "#Predicting Bugs\n",
        "y_pred = model.predict(X_test)\n",
        "\n",
        "#CONFUSION MATRIX\n",
        "print(50*\"=\")\n",
        "print(\"CONFUSION MATRIX\")\n",
        "print(confusion_matrix(y_test,y_pred))\n",
        "\n",
        "from sklearn.metrics import plot_confusion_matrix\n",
        "\n",
        "import matplotlib.pyplot as plt\n",
        "plt.rcParams[\"figure.figsize\"] = (20,7)\n",
        "\n",
        "class_names=['NON BUGGY FILE','BUGGY FILE']\n",
        "\n",
        "confusion = plot_confusion_matrix(model,X_test,y_test,\n",
        "                                 display_labels=class_names,\n",
        "                                 cmap=plt.cm.Greens,\n",
        "                                 normalize=None, values_format = '.0f')\n",
        "\n",
        "\n",
        "confusion.ax_.set_title(\"Confusion Matrix using KNN\")\n",
        "\n",
        "print(50*\"=\")\n",
        "print(classification_report(y_test,y_pred))\n",
        "print(50*\"=\")\n",
        "#====================================================================================================\n",
        "\n",
        "# Model Accuracy: how often is the classifier correct?\n",
        "RF_Accuracy = metrics.accuracy_score(y_test, y_pred)\n",
        "print(\"Accuracy:\",RF_Accuracy)\n",
        "\n",
        "# Model Precision: what percentage of positive tuples are labeled as such?\n",
        "print(\"Precision:\",metrics.precision_score(y_test, y_pred))\n",
        "\n",
        "# Model Recall: what percentage of positive tuples are labelled as such?\n",
        "print(\"Recall:\",metrics.recall_score(y_test, y_pred))\n",
        "\n",
        "#Calculate F1 Score\n",
        "print(\"F1 Score:\",metrics.f1_score(y_test, y_pred))\n",
        "\n",
        "#Calculate Mean Absolute Error\n",
        "print(\"Mean Absolute Error:\",metrics.mean_absolute_error(y_test, y_pred))\n",
        "\n",
        "# kappa\n",
        "print(\"Cohens kappa:\", metrics.cohen_kappa_score(y_test, y_pred))\n",
        "\n",
        "# ROC AUC\n",
        "print(\"ROC AUC:\", metrics.roc_auc_score(y_test, y_pred))\n",
        "print(50*\"=\")\n"
      ],
      "execution_count": 37,
      "outputs": [
        {
          "output_type": "stream",
          "text": [
            "==================================================\n",
            "Cross validation Accuracy:\n",
            "Accuracy: 0.811 (0.004)\n",
            "==================================================\n",
            "==================================================\n",
            "CONFUSION MATRIX\n",
            "[[9476  872]\n",
            " [1970 2113]]\n",
            "==================================================\n",
            "              precision    recall  f1-score   support\n",
            "\n",
            "         0.0       0.83      0.92      0.87     10348\n",
            "         1.0       0.71      0.52      0.60      4083\n",
            "\n",
            "    accuracy                           0.80     14431\n",
            "   macro avg       0.77      0.72      0.73     14431\n",
            "weighted avg       0.79      0.80      0.79     14431\n",
            "\n",
            "==================================================\n",
            "Accuracy: 0.8030628508072899\n",
            "Precision: 0.7078726968174205\n",
            "Recall: 0.5175116336027431\n",
            "F1 Score: 0.5979060554612338\n",
            "Mean Absolute Error: 0.19693714919271013\n",
            "Cohens kappa: 0.47163844828165047\n",
            "ROC AUC: 0.7166220711500378\n",
            "==================================================\n"
          ],
          "name": "stdout"
        },
        {
          "output_type": "display_data",
          "data": {
            "image/png": "[encoded data removed]",
            "text/plain": [
              "<Figure size 1440x504 with 2 Axes>"
            ]
          },
          "metadata": {
            "tags": [],
            "needs_background": "light"
          }
        }
      ]
    },
    {
      "cell_type": "code",
      "metadata": {
        "trusted": true,
        "colab": {
          "base_uri": "https://localhost:8080/",
          "height": 1000
        },
        "id": "oEescGayO9-A",
        "outputId": "300f4247-5eb9-4ed4-e071-84e179fbd04f"
      },
      "source": [
        "#AdaBoost\n",
        "from numpy import mean\n",
        "from numpy import std\n",
        "from sklearn.ensemble import AdaBoostClassifier\n",
        "from sklearn.model_selection import cross_val_predict\n",
        "from sklearn.metrics import confusion_matrix, classification_report\n",
        "from sklearn.model_selection import KFold\n",
        "from sklearn.model_selection import cross_val_score\n",
        "from sklearn import metrics\n",
        "\n",
        "# create model\n",
        "model = AdaBoostClassifier()\n",
        "\n",
        "#===================================================================================================\n",
        "#cross validation \n",
        "\n",
        "# evaluate model\n",
        "scores = cross_val_score(model, X_train, y_train, scoring='accuracy', cv=10, n_jobs=-1)\n",
        "# report performance\n",
        "print(50*\"=\")\n",
        "print(\"Cross validation Accuracy:\")\n",
        "print('Accuracy: %.3f (%.3f)' % (mean(scores), std(scores))) \n",
        "print(50*\"=\")\n",
        "\n",
        "#====================================================================================================\n",
        "print(50*\"=\")\n",
        "print(\"GRID SEARCH FOR AdaBoost\")\n",
        "\n",
        "params = { \n",
        "    \"random_state\":range(30,40)} \n",
        "gs_ada = GridSearchCV(model,\n",
        "                      param_grid=params,\n",
        "                      scoring='accuracy',\n",
        "                      cv=10)\n",
        "gs_ada.fit(X_train, y_train)\n",
        "\n",
        "print(\"Best Parameters\")\n",
        "print(gs_ada.best_params_)\n",
        "\n",
        "print(\"Best estimaters\")\n",
        "print(gs_ada.best_estimator_)\n",
        "\n",
        "#Predicting Bugs\n",
        "y_pred = gs_ada.best_estimator_.predict(X_test)\n",
        "\n",
        "#CONFUSION MATRIX\n",
        "print(50*\"=\")\n",
        "print(\"CONFUSION MATRIX\")\n",
        "print(confusion_matrix(y_test,y_pred))\n",
        "\n",
        "from sklearn.metrics import plot_confusion_matrix\n",
        "\n",
        "import matplotlib.pyplot as plt\n",
        "plt.rcParams[\"figure.figsize\"] = (20,7)\n",
        "\n",
        "class_names=['NON BUGGY FILE','BUGGY FILE']\n",
        "\n",
        "confusion = plot_confusion_matrix(gs_ada.best_estimator_,X_test,y_test,\n",
        "                                 display_labels=class_names,\n",
        "                                 cmap=plt.cm.Greens,\n",
        "                                 normalize=None, values_format = '.0f')\n",
        "\n",
        "\n",
        "confusion.ax_.set_title(\"Confusion Matrix using AdaBoost\")\n",
        "\n",
        "print(50*\"=\")\n",
        "print(classification_report(y_test,y_pred))\n",
        "print(50*\"=\")\n",
        "#====================================================================================================\n",
        "\n",
        "# Model Accuracy: how often is the classifier correct?\n",
        "RF_Accuracy = metrics.accuracy_score(y_test, y_pred)\n",
        "print(\"Accuracy:\",RF_Accuracy)\n",
        "\n",
        "# Model Precision: what percentage of positive tuples are labeled as such?\n",
        "print(\"Precision:\",metrics.precision_score(y_test, y_pred))\n",
        "\n",
        "# Model Recall: what percentage of positive tuples are labelled as such?\n",
        "print(\"Recall:\",metrics.recall_score(y_test, y_pred))\n",
        "\n",
        "#Calculate F1 Score\n",
        "print(\"F1 Score:\",metrics.f1_score(y_test, y_pred))\n",
        "\n",
        "#Calculate Mean Absolute Error\n",
        "print(\"Mean Absolute Error:\",metrics.mean_absolute_error(y_test, y_pred))\n",
        "\n",
        "# kappa\n",
        "print(\"Cohens kappa:\", metrics.cohen_kappa_score(y_test, y_pred))\n",
        "\n",
        "# ROC AUC\n",
        "print(\"ROC AUC:\", metrics.roc_auc_score(y_test, y_pred))\n",
        "print(50*\"=\")"
      ],
      "execution_count": null,
      "outputs": [
        {
          "output_type": "stream",
          "text": [
            "==================================================\n",
            "Cross validation Accuracy:\n",
            "Accuracy: 0.756 (0.006)\n",
            "==================================================\n",
            "==================================================\n",
            "GRID SEARCH FOR AdaBoost\n",
            "Best Parameters\n",
            "{'random_state': 30}\n",
            "Best estimaters\n",
            "AdaBoostClassifier(algorithm='SAMME.R', base_estimator=None, learning_rate=1.0,\n",
            "                   n_estimators=50, random_state=30)\n",
            "==================================================\n",
            "CONFUSION MATRIX\n",
            "[[9591  757]\n",
            " [2794 1289]]\n",
            "==================================================\n",
            "              precision    recall  f1-score   support\n",
            "\n",
            "         0.0       0.77      0.93      0.84     10348\n",
            "         1.0       0.63      0.32      0.42      4083\n",
            "\n",
            "    accuracy                           0.75     14431\n",
            "   macro avg       0.70      0.62      0.63     14431\n",
            "weighted avg       0.73      0.75      0.72     14431\n",
            "\n",
            "==================================================\n",
            "Accuracy: 0.7539325064098122\n",
            "Precision: 0.6300097751710655\n",
            "Recall: 0.3156992407543473\n",
            "F1 Score: 0.4206232664382444\n",
            "Mean Absolute Error: 0.24606749359018779\n",
            "Cohens kappa: 0.2856912819985703\n",
            "ROC AUC: 0.6212725040261879\n",
            "==================================================\n"
          ],
          "name": "stdout"
        },
        {
          "output_type": "display_data",
          "data": {
            "image/png": "[encoded data removed]",
            "text/plain": [
              "<Figure size 1440x504 with 2 Axes>"
            ]
          },
          "metadata": {
            "tags": [],
            "needs_background": "light"
          }
        }
      ]
    },
    {
      "cell_type": "code",
      "metadata": {
        "id": "aOsXi52LbJDH",
        "colab": {
          "base_uri": "https://localhost:8080/",
          "height": 934
        },
        "outputId": "2844afdd-010e-4d0f-bc08-3dd947ec39c0"
      },
      "source": [
        "#Quadratic Discriminant Analysis\n",
        "from numpy import mean\n",
        "from numpy import std\n",
        "from sklearn.discriminant_analysis import QuadraticDiscriminantAnalysis\n",
        "from sklearn.model_selection import cross_val_predict\n",
        "from sklearn.metrics import confusion_matrix, classification_report\n",
        "from sklearn.model_selection import KFold\n",
        "from sklearn.model_selection import cross_val_score\n",
        "from sklearn import metrics\n",
        "\n",
        "# create model\n",
        "model = QuadraticDiscriminantAnalysis()\n",
        "\n",
        "#===================================================================================================\n",
        "#cross validation \n",
        "\n",
        "# evaluate model\n",
        "scores = cross_val_score(model, X_train, y_train, scoring='accuracy', cv=10, n_jobs=-1)\n",
        "# report performance\n",
        "print(50*\"=\")\n",
        "print(\"Cross validation Accuracy:\")\n",
        "print('Accuracy: %.3f (%.3f)' % (mean(scores), std(scores))) \n",
        "print(50*\"=\")\n",
        "\n",
        "\n",
        "model.fit(X_train, y_train)\n",
        "#====================================================================================================\n",
        "print(50*\"=\")\n",
        "\n",
        "\n",
        "#Predicting Bugs\n",
        "y_pred = model.predict(X_test)\n",
        "\n",
        "#CONFUSION MATRIX\n",
        "print(50*\"=\")\n",
        "print(\"CONFUSION MATRIX\")\n",
        "print(confusion_matrix(y_test,y_pred))\n",
        "\n",
        "from sklearn.metrics import plot_confusion_matrix\n",
        "\n",
        "import matplotlib.pyplot as plt\n",
        "plt.rcParams[\"figure.figsize\"] = (20,7)\n",
        "\n",
        "class_names=['NON BUGGY FILE','BUGGY FILE']\n",
        "\n",
        "confusion = plot_confusion_matrix(model,X_test,y_test,\n",
        "                                 display_labels=class_names,\n",
        "                                 cmap=plt.cm.Greens,\n",
        "                                 normalize=None, values_format = '.0f')\n",
        "\n",
        "\n",
        "confusion.ax_.set_title(\"Confusion Matrix using Quadratic Discriminant Analysis\")\n",
        "\n",
        "print(50*\"=\")\n",
        "print(classification_report(y_test,y_pred))\n",
        "print(50*\"=\")\n",
        "#====================================================================================================\n",
        "\n",
        "# Model Accuracy: how often is the classifier correct?\n",
        "RF_Accuracy = metrics.accuracy_score(y_test, y_pred)\n",
        "print(\"Accuracy:\",RF_Accuracy)\n",
        "\n",
        "# Model Precision: what percentage of positive tuples are labeled as such?\n",
        "print(\"Precision:\",metrics.precision_score(y_test, y_pred))\n",
        "\n",
        "# Model Recall: what percentage of positive tuples are labelled as such?\n",
        "print(\"Recall:\",metrics.recall_score(y_test, y_pred))\n",
        "\n",
        "#Calculate F1 Score\n",
        "print(\"F1 Score:\",metrics.f1_score(y_test, y_pred))\n",
        "\n",
        "#Calculate Mean Absolute Error\n",
        "print(\"Mean Absolute Error:\",metrics.mean_absolute_error(y_test, y_pred))\n",
        "\n",
        "# kappa\n",
        "print(\"Cohens kappa:\", metrics.cohen_kappa_score(y_test, y_pred))\n",
        "\n",
        "# ROC AUC\n",
        "print(\"ROC AUC:\", metrics.roc_auc_score(y_test, y_pred))\n",
        "print(50*\"=\")"
      ],
      "execution_count": 40,
      "outputs": [
        {
          "output_type": "stream",
          "text": [
            "==================================================\n",
            "Cross validation Accuracy:\n",
            "Accuracy: 0.717 (0.002)\n",
            "==================================================\n",
            "==================================================\n",
            "==================================================\n",
            "CONFUSION MATRIX\n",
            "[[9961  387]\n",
            " [3720  363]]\n",
            "==================================================\n",
            "              precision    recall  f1-score   support\n",
            "\n",
            "         0.0       0.73      0.96      0.83     10348\n",
            "         1.0       0.48      0.09      0.15      4083\n",
            "\n",
            "    accuracy                           0.72     14431\n",
            "   macro avg       0.61      0.53      0.49     14431\n",
            "weighted avg       0.66      0.72      0.64     14431\n",
            "\n",
            "==================================================\n",
            "Accuracy: 0.7154043378837226\n",
            "Precision: 0.484\n",
            "Recall: 0.08890521675238795\n",
            "F1 Score: 0.15021725636250777\n",
            "Mean Absolute Error: 0.28459566211627746\n",
            "Cohens kappa: 0.06841198083203437\n",
            "ROC AUC: 0.5257533428176319\n",
            "==================================================\n"
          ],
          "name": "stdout"
        },
        {
          "output_type": "display_data",
          "data": {
            "image/png": "[encoded data removed]",
            "text/plain": [
              "<Figure size 1440x504 with 2 Axes>"
            ]
          },
          "metadata": {
            "tags": [],
            "needs_background": "light"
          }
        }
      ]
    },
    {
      "cell_type": "code",
      "metadata": {
        "colab": {
          "base_uri": "https://localhost:8080/",
          "height": 934
        },
        "id": "jZMJVZwvVb4K",
        "outputId": "5fd231eb-3363-473e-cdf5-af61114319eb"
      },
      "source": [
        "#LinearDiscriminantAnalysis\n",
        "from numpy import mean\n",
        "from numpy import std\n",
        "from sklearn.discriminant_analysis import LinearDiscriminantAnalysis\n",
        "from sklearn.model_selection import cross_val_predict\n",
        "from sklearn.metrics import confusion_matrix, classification_report\n",
        "from sklearn.model_selection import KFold\n",
        "from sklearn.model_selection import cross_val_score\n",
        "from sklearn import metrics\n",
        "\n",
        "# create model\n",
        "model = LinearDiscriminantAnalysis()\n",
        "\n",
        "#===================================================================================================\n",
        "#cross validation \n",
        "\n",
        "# evaluate model\n",
        "scores = cross_val_score(model, X_train, y_train, scoring='accuracy', cv=10, n_jobs=-1)\n",
        "# report performance\n",
        "print(50*\"=\")\n",
        "print(\"Cross validation Accuracy:\")\n",
        "print('Accuracy: %.3f (%.3f)' % (mean(scores), std(scores))) \n",
        "print(50*\"=\")\n",
        "\n",
        "\n",
        "model.fit(X_train, y_train)\n",
        "#====================================================================================================\n",
        "print(50*\"=\")\n",
        "\n",
        "\n",
        "#Predicting Bugs\n",
        "y_pred = model.predict(X_test)\n",
        "\n",
        "#CONFUSION MATRIX\n",
        "print(50*\"=\")\n",
        "print(\"CONFUSION MATRIX\")\n",
        "print(confusion_matrix(y_test,y_pred))\n",
        "\n",
        "from sklearn.metrics import plot_confusion_matrix\n",
        "\n",
        "import matplotlib.pyplot as plt\n",
        "plt.rcParams[\"figure.figsize\"] = (20,7)\n",
        "\n",
        "class_names=['NON BUGGY FILE','BUGGY FILE']\n",
        "\n",
        "confusion = plot_confusion_matrix(model,X_test,y_test,\n",
        "                                 display_labels=class_names,\n",
        "                                 cmap=plt.cm.Greens,\n",
        "                                 normalize=None, values_format = '.0f')\n",
        "\n",
        "\n",
        "confusion.ax_.set_title(\"Confusion Matrix using Linear Discriminant Analysis\")\n",
        "\n",
        "print(50*\"=\")\n",
        "print(classification_report(y_test,y_pred))\n",
        "print(50*\"=\")\n",
        "#====================================================================================================\n",
        "\n",
        "# Model Accuracy: how often is the classifier correct?\n",
        "RF_Accuracy = metrics.accuracy_score(y_test, y_pred)\n",
        "print(\"Accuracy:\",RF_Accuracy)\n",
        "\n",
        "# Model Precision: what percentage of positive tuples are labeled as such?\n",
        "print(\"Precision:\",metrics.precision_score(y_test, y_pred))\n",
        "\n",
        "# Model Recall: what percentage of positive tuples are labelled as such?\n",
        "print(\"Recall:\",metrics.recall_score(y_test, y_pred))\n",
        "\n",
        "#Calculate F1 Score\n",
        "print(\"F1 Score:\",metrics.f1_score(y_test, y_pred))\n",
        "\n",
        "#Calculate Mean Absolute Error\n",
        "print(\"Mean Absolute Error:\",metrics.mean_absolute_error(y_test, y_pred))\n",
        "\n",
        "# kappa\n",
        "print(\"Cohens kappa:\", metrics.cohen_kappa_score(y_test, y_pred))\n",
        "\n",
        "# ROC AUC\n",
        "print(\"ROC AUC:\", metrics.roc_auc_score(y_test, y_pred))\n",
        "print(50*\"=\")"
      ],
      "execution_count": 41,
      "outputs": [
        {
          "output_type": "stream",
          "text": [
            "==================================================\n",
            "Cross validation Accuracy:\n",
            "Accuracy: 0.720 (0.001)\n",
            "==================================================\n",
            "==================================================\n",
            "==================================================\n",
            "CONFUSION MATRIX\n",
            "[[10316    32]\n",
            " [ 4049    34]]\n",
            "==================================================\n",
            "              precision    recall  f1-score   support\n",
            "\n",
            "         0.0       0.72      1.00      0.83     10348\n",
            "         1.0       0.52      0.01      0.02      4083\n",
            "\n",
            "    accuracy                           0.72     14431\n",
            "   macro avg       0.62      0.50      0.43     14431\n",
            "weighted avg       0.66      0.72      0.60     14431\n",
            "\n",
            "==================================================\n",
            "Accuracy: 0.7172060148291872\n",
            "Precision: 0.5151515151515151\n",
            "Recall: 0.008327210384521186\n",
            "F1 Score: 0.016389491443721378\n",
            "Mean Absolute Error: 0.28279398517081283\n",
            "Cohens kappa: 0.007455128327315208\n",
            "ROC AUC: 0.5026174126912942\n",
            "==================================================\n"
          ],
          "name": "stdout"
        },
        {
          "output_type": "display_data",
          "data": {
            "image/png": "[encoded data removed]",
            "text/plain": [
              "<Figure size 1440x504 with 2 Axes>"
            ]
          },
          "metadata": {
            "tags": [],
            "needs_background": "light"
          }
        }
      ]
    }
  ]
}