{
  "nbformat": 4,
  "nbformat_minor": 0,
  "metadata": {
    "kernelspec": {
      "language": "python",
      "display_name": "Python 3",
      "name": "python3"
    },
    "language_info": {
      "name": "python",
      "version": "3.7.10",
      "mimetype": "text/x-python",
      "codemirror_mode": {
        "name": "ipython",
        "version": 3
      },
      "pygments_lexer": "ipython3",
      "nbconvert_exporter": "python",
      "file_extension": ".py"
    },
    "colab": {
      "name": "softwaredefectprediction-code-metrics.ipynb",
      "provenance": [],
      "include_colab_link": true
    }
  },
  "cells": [
    {
      "cell_type": "markdown",
      "metadata": {
        "id": "view-in-github",
        "colab_type": "text"
      },
      "source": [
        "<a href=\"https://colab.research.google.com/github/bramha574/SDP/blob/main/softwaredefectprediction_code_metrics.ipynb\" target=\"_parent\"><img src=\"https://colab.research.google.com/assets/colab-badge.svg\" alt=\"Open In Colab\"/></a>"
      ]
    },
    {
      "cell_type": "code",
      "metadata": {
        "_uuid": "130222ae-1fb1-4540-980d-56ec791b3262",
        "_cell_guid": "1fb707d6-2d87-45e4-aa4e-0e33a508e7a2",
        "id": "agLxKX0b_AuH",
        "jupyter": {
          "outputs_hidden": false
        },
        "execution": {
          "iopub.status.busy": "2021-05-24T03:56:21.022095Z",
          "iopub.execute_input": "2021-05-24T03:56:21.022500Z",
          "iopub.status.idle": "2021-05-24T03:57:42.444581Z",
          "shell.execute_reply.started": "2021-05-24T03:56:21.022418Z",
          "shell.execute_reply": "2021-05-24T03:57:42.443583Z"
        },
        "trusted": true,
        "outputId": "d8a0f8c6-c5ef-4321-97b5-1e65c3539a27"
      },
      "source": [
        "!pip install seaborn\n",
        "!pip install matplotlib\n",
        "!pip install sklearn"
      ],
      "execution_count": null,
      "outputs": [
        {
          "output_type": "stream",
          "text": [
            "Requirement already satisfied: seaborn in /opt/conda/lib/python3.7/site-packages (0.11.1)\n",
            "Requirement already satisfied: pandas>=0.23 in /opt/conda/lib/python3.7/site-packages (from seaborn) (1.2.3)\n",
            "Requirement already satisfied: numpy>=1.15 in /opt/conda/lib/python3.7/site-packages (from seaborn) (1.19.5)\n",
            "Requirement already satisfied: scipy>=1.0 in /opt/conda/lib/python3.7/site-packages (from seaborn) (1.5.4)\n",
            "Requirement already satisfied: matplotlib>=2.2 in /opt/conda/lib/python3.7/site-packages (from seaborn) (3.4.1)\n",
            "Requirement already satisfied: cycler>=0.10 in /opt/conda/lib/python3.7/site-packages (from matplotlib>=2.2->seaborn) (0.10.0)\n",
            "Requirement already satisfied: kiwisolver>=1.0.1 in /opt/conda/lib/python3.7/site-packages (from matplotlib>=2.2->seaborn) (1.3.1)\n",
            "Requirement already satisfied: pyparsing>=2.2.1 in /opt/conda/lib/python3.7/site-packages (from matplotlib>=2.2->seaborn) (2.4.7)\n",
            "Requirement already satisfied: pillow>=6.2.0 in /opt/conda/lib/python3.7/site-packages (from matplotlib>=2.2->seaborn) (7.2.0)\n",
            "Requirement already satisfied: python-dateutil>=2.7 in /opt/conda/lib/python3.7/site-packages (from matplotlib>=2.2->seaborn) (2.8.1)\n",
            "Requirement already satisfied: six in /opt/conda/lib/python3.7/site-packages (from cycler>=0.10->matplotlib>=2.2->seaborn) (1.15.0)\n",
            "Requirement already satisfied: pytz>=2017.3 in /opt/conda/lib/python3.7/site-packages (from pandas>=0.23->seaborn) (2021.1)\n",
            "Requirement already satisfied: matplotlib in /opt/conda/lib/python3.7/site-packages (3.4.1)\n",
            "Requirement already satisfied: kiwisolver>=1.0.1 in /opt/conda/lib/python3.7/site-packages (from matplotlib) (1.3.1)\n",
            "Requirement already satisfied: pyparsing>=2.2.1 in /opt/conda/lib/python3.7/site-packages (from matplotlib) (2.4.7)\n",
            "Requirement already satisfied: python-dateutil>=2.7 in /opt/conda/lib/python3.7/site-packages (from matplotlib) (2.8.1)\n",
            "Requirement already satisfied: pillow>=6.2.0 in /opt/conda/lib/python3.7/site-packages (from matplotlib) (7.2.0)\n",
            "Requirement already satisfied: cycler>=0.10 in /opt/conda/lib/python3.7/site-packages (from matplotlib) (0.10.0)\n",
            "Requirement already satisfied: numpy>=1.16 in /opt/conda/lib/python3.7/site-packages (from matplotlib) (1.19.5)\n",
            "Requirement already satisfied: six in /opt/conda/lib/python3.7/site-packages (from cycler>=0.10->matplotlib) (1.15.0)\n",
            "Requirement already satisfied: sklearn in /opt/conda/lib/python3.7/site-packages (0.0)\n",
            "Requirement already satisfied: scikit-learn in /opt/conda/lib/python3.7/site-packages (from sklearn) (0.24.1)\n",
            "Requirement already satisfied: joblib>=0.11 in /opt/conda/lib/python3.7/site-packages (from scikit-learn->sklearn) (1.0.1)\n",
            "Requirement already satisfied: numpy>=1.13.3 in /opt/conda/lib/python3.7/site-packages (from scikit-learn->sklearn) (1.19.5)\n",
            "Requirement already satisfied: scipy>=0.19.1 in /opt/conda/lib/python3.7/site-packages (from scikit-learn->sklearn) (1.5.4)\n",
            "Requirement already satisfied: threadpoolctl>=2.0.0 in /opt/conda/lib/python3.7/site-packages (from scikit-learn->sklearn) (2.1.0)\n"
          ],
          "name": "stdout"
        }
      ]
    },
    {
      "cell_type": "code",
      "metadata": {
        "_uuid": "1f0425eb-8646-4673-881b-a2d54029ee63",
        "_cell_guid": "0cc59ccd-4b56-489d-9df4-a8edd2def434",
        "id": "kWYaR_Asf1WB",
        "jupyter": {
          "outputs_hidden": false
        },
        "execution": {
          "iopub.status.busy": "2021-05-24T04:25:41.024671Z",
          "iopub.execute_input": "2021-05-24T04:25:41.025047Z",
          "iopub.status.idle": "2021-05-24T04:25:41.120318Z",
          "shell.execute_reply.started": "2021-05-24T04:25:41.025016Z",
          "shell.execute_reply": "2021-05-24T04:25:41.119226Z"
        },
        "trusted": true
      },
      "source": [
        "import pandas as pd\n",
        "import numpy as np\n",
        "\n",
        "#Reading the dataset\n",
        "codemetrics = pd.read_csv(\"/content/READYTOMLCODEMETRICS.csv\")"
      ],
      "execution_count": 3,
      "outputs": []
    },
    {
      "cell_type": "code",
      "metadata": {
        "_uuid": "c61702ab-be87-4294-9ddd-180bc1ba152f",
        "_cell_guid": "590f6bf8-8f20-493a-b018-ef0b37d8758e",
        "id": "iD2pZXNFhTvM",
        "jupyter": {
          "outputs_hidden": false
        },
        "execution": {
          "iopub.status.busy": "2021-05-24T04:25:42.973307Z",
          "iopub.execute_input": "2021-05-24T04:25:42.973706Z",
          "iopub.status.idle": "2021-05-24T04:25:42.996090Z",
          "shell.execute_reply.started": "2021-05-24T04:25:42.973671Z",
          "shell.execute_reply": "2021-05-24T04:25:42.994928Z"
        },
        "trusted": true,
        "colab": {
          "base_uri": "https://localhost:8080/",
          "height": 419
        },
        "outputId": "212b863d-81dc-410e-c9c2-cad0203339b6"
      },
      "source": [
        "codemetrics"
      ],
      "execution_count": 4,
      "outputs": [
        {
          "output_type": "execute_result",
          "data": {
            "text/html": [
              "<div>\n",
              "<style scoped>\n",
              "    .dataframe tbody tr th:only-of-type {\n",
              "        vertical-align: middle;\n",
              "    }\n",
              "\n",
              "    .dataframe tbody tr th {\n",
              "        vertical-align: top;\n",
              "    }\n",
              "\n",
              "    .dataframe thead th {\n",
              "        text-align: right;\n",
              "    }\n",
              "</style>\n",
              "<table border=\"1\" class=\"dataframe\">\n",
              "  <thead>\n",
              "    <tr style=\"text-align: right;\">\n",
              "      <th></th>\n",
              "      <th>Unnamed: 0</th>\n",
              "      <th>entity</th>\n",
              "      <th>Parent</th>\n",
              "      <th>McCC</th>\n",
              "      <th>CLOC</th>\n",
              "      <th>LLOC</th>\n",
              "      <th>LOC</th>\n",
              "      <th>BUG_STATUS</th>\n",
              "    </tr>\n",
              "  </thead>\n",
              "  <tbody>\n",
              "    <tr>\n",
              "      <th>0</th>\n",
              "      <td>0</td>\n",
              "      <td>test/__init__.py</td>\n",
              "      <td>L114</td>\n",
              "      <td>1</td>\n",
              "      <td>0</td>\n",
              "      <td>0</td>\n",
              "      <td>1</td>\n",
              "      <td>0.0</td>\n",
              "    </tr>\n",
              "    <tr>\n",
              "      <th>1</th>\n",
              "      <td>1</td>\n",
              "      <td>test/helper.py</td>\n",
              "      <td>L114</td>\n",
              "      <td>55</td>\n",
              "      <td>12</td>\n",
              "      <td>233</td>\n",
              "      <td>282</td>\n",
              "      <td>0.0</td>\n",
              "    </tr>\n",
              "    <tr>\n",
              "      <th>2</th>\n",
              "      <td>2</td>\n",
              "      <td>test/test_InfoExtractor.py</td>\n",
              "      <td>L114</td>\n",
              "      <td>7</td>\n",
              "      <td>50</td>\n",
              "      <td>1045</td>\n",
              "      <td>1132</td>\n",
              "      <td>1.0</td>\n",
              "    </tr>\n",
              "    <tr>\n",
              "      <th>3</th>\n",
              "      <td>3</td>\n",
              "      <td>test/test_YoutubeDL.py</td>\n",
              "      <td>L114</td>\n",
              "      <td>14</td>\n",
              "      <td>39</td>\n",
              "      <td>792</td>\n",
              "      <td>994</td>\n",
              "      <td>1.0</td>\n",
              "    </tr>\n",
              "    <tr>\n",
              "      <th>4</th>\n",
              "      <td>4</td>\n",
              "      <td>test/test_YoutubeDLCookieJar.py</td>\n",
              "      <td>L114</td>\n",
              "      <td>1</td>\n",
              "      <td>4</td>\n",
              "      <td>36</td>\n",
              "      <td>51</td>\n",
              "      <td>0.0</td>\n",
              "    </tr>\n",
              "    <tr>\n",
              "      <th>...</th>\n",
              "      <td>...</td>\n",
              "      <td>...</td>\n",
              "      <td>...</td>\n",
              "      <td>...</td>\n",
              "      <td>...</td>\n",
              "      <td>...</td>\n",
              "      <td>...</td>\n",
              "      <td>...</td>\n",
              "    </tr>\n",
              "    <tr>\n",
              "      <th>37209</th>\n",
              "      <td>37209</td>\n",
              "      <td>pipenv/vendor/urllib3/packages/ssl_match_hostn...</td>\n",
              "      <td>L70825</td>\n",
              "      <td>1</td>\n",
              "      <td>7</td>\n",
              "      <td>14</td>\n",
              "      <td>22</td>\n",
              "      <td>1.0</td>\n",
              "    </tr>\n",
              "    <tr>\n",
              "      <th>37210</th>\n",
              "      <td>37210</td>\n",
              "      <td>pipenv/vendor/urllib3/packages/ssl_match_hostn...</td>\n",
              "      <td>L70825</td>\n",
              "      <td>29</td>\n",
              "      <td>53</td>\n",
              "      <td>103</td>\n",
              "      <td>160</td>\n",
              "      <td>1.0</td>\n",
              "    </tr>\n",
              "    <tr>\n",
              "      <th>37211</th>\n",
              "      <td>37211</td>\n",
              "      <td>pipenv/vendor/importlib_resources/tests/data01...</td>\n",
              "      <td>L49302</td>\n",
              "      <td>1</td>\n",
              "      <td>0</td>\n",
              "      <td>0</td>\n",
              "      <td>1</td>\n",
              "      <td>1.0</td>\n",
              "    </tr>\n",
              "    <tr>\n",
              "      <th>37212</th>\n",
              "      <td>37212</td>\n",
              "      <td>pipenv/vendor/importlib_resources/tests/data02...</td>\n",
              "      <td>L49312</td>\n",
              "      <td>1</td>\n",
              "      <td>0</td>\n",
              "      <td>0</td>\n",
              "      <td>1</td>\n",
              "      <td>1.0</td>\n",
              "    </tr>\n",
              "    <tr>\n",
              "      <th>37213</th>\n",
              "      <td>37213</td>\n",
              "      <td>pipenv/vendor/importlib_resources/tests/data02...</td>\n",
              "      <td>L49317</td>\n",
              "      <td>1</td>\n",
              "      <td>0</td>\n",
              "      <td>0</td>\n",
              "      <td>1</td>\n",
              "      <td>1.0</td>\n",
              "    </tr>\n",
              "  </tbody>\n",
              "</table>\n",
              "<p>37214 rows × 8 columns</p>\n",
              "</div>"
            ],
            "text/plain": [
              "       Unnamed: 0  ... BUG_STATUS\n",
              "0               0  ...        0.0\n",
              "1               1  ...        0.0\n",
              "2               2  ...        1.0\n",
              "3               3  ...        1.0\n",
              "4               4  ...        0.0\n",
              "...           ...  ...        ...\n",
              "37209       37209  ...        1.0\n",
              "37210       37210  ...        1.0\n",
              "37211       37211  ...        1.0\n",
              "37212       37212  ...        1.0\n",
              "37213       37213  ...        1.0\n",
              "\n",
              "[37214 rows x 8 columns]"
            ]
          },
          "metadata": {
            "tags": []
          },
          "execution_count": 4
        }
      ]
    },
    {
      "cell_type": "code",
      "metadata": {
        "_uuid": "bf0a9a20-f99f-4aac-95c8-226c97166eed",
        "_cell_guid": "f85cded2-9f2b-4b11-bab0-0e4eee6bee8d",
        "id": "llRdoFvjyTtx",
        "jupyter": {
          "outputs_hidden": false
        },
        "execution": {
          "iopub.status.busy": "2021-05-24T04:25:45.624346Z",
          "iopub.execute_input": "2021-05-24T04:25:45.624748Z",
          "iopub.status.idle": "2021-05-24T04:25:45.642722Z",
          "shell.execute_reply.started": "2021-05-24T04:25:45.624710Z",
          "shell.execute_reply": "2021-05-24T04:25:45.641626Z"
        },
        "trusted": true,
        "outputId": "4b13fd3b-bc6a-4574-e562-a094bc9ba1d6"
      },
      "source": [
        "codemetrics.isnull().sum()"
      ],
      "execution_count": null,
      "outputs": [
        {
          "output_type": "execute_result",
          "data": {
            "text/plain": [
              "Unnamed: 0    0\n",
              "entity        0\n",
              "Parent        0\n",
              "McCC          0\n",
              "CLOC          0\n",
              "LLOC          0\n",
              "LOC           0\n",
              "BUG_STATUS    0\n",
              "dtype: int64"
            ]
          },
          "metadata": {
            "tags": []
          },
          "execution_count": 40
        }
      ]
    },
    {
      "cell_type": "code",
      "metadata": {
        "_uuid": "fb7b4a4e-6a2f-4aad-a790-a683d8749e5b",
        "_cell_guid": "746487fd-2ba4-497c-924b-92c4157a0963",
        "id": "xKvex99vhoL0",
        "jupyter": {
          "outputs_hidden": false
        },
        "execution": {
          "iopub.status.busy": "2021-05-24T04:25:49.021647Z",
          "iopub.execute_input": "2021-05-24T04:25:49.022249Z",
          "iopub.status.idle": "2021-05-24T04:25:49.087983Z",
          "shell.execute_reply.started": "2021-05-24T04:25:49.022154Z",
          "shell.execute_reply": "2021-05-24T04:25:49.086634Z"
        },
        "trusted": true,
        "outputId": "64dbe922-c130-48af-ff59-10a07d9a396b"
      },
      "source": [
        "#Quick description of data\n",
        "codemetrics.info()\n",
        "codemetrics.describe()"
      ],
      "execution_count": null,
      "outputs": [
        {
          "output_type": "stream",
          "text": [
            "<class 'pandas.core.frame.DataFrame'>\n",
            "RangeIndex: 37214 entries, 0 to 37213\n",
            "Data columns (total 8 columns):\n",
            " #   Column      Non-Null Count  Dtype  \n",
            "---  ------      --------------  -----  \n",
            " 0   Unnamed: 0  37214 non-null  int64  \n",
            " 1   entity      37214 non-null  object \n",
            " 2   Parent      37214 non-null  object \n",
            " 3   McCC        37214 non-null  int64  \n",
            " 4   CLOC        37214 non-null  int64  \n",
            " 5   LLOC        37214 non-null  int64  \n",
            " 6   LOC         37214 non-null  int64  \n",
            " 7   BUG_STATUS  37214 non-null  float64\n",
            "dtypes: float64(1), int64(5), object(2)\n",
            "memory usage: 2.3+ MB\n"
          ],
          "name": "stdout"
        },
        {
          "output_type": "execute_result",
          "data": {
            "text/plain": [
              "         Unnamed: 0          McCC          CLOC          LLOC           LOC  \\\n",
              "count  37214.000000  37214.000000  37214.000000  37214.000000  37214.000000   \n",
              "mean   18606.500000      8.323507      4.928522    106.671441    171.009674   \n",
              "std    10742.900795     24.978090     49.210669    229.113235    350.575902   \n",
              "min        0.000000      1.000000      0.000000      0.000000      0.000000   \n",
              "25%     9303.250000      1.000000      0.000000     20.000000     51.000000   \n",
              "50%    18606.500000      2.000000      0.000000     48.000000     90.000000   \n",
              "75%    27909.750000      7.000000      0.000000    108.000000    175.000000   \n",
              "max    37213.000000    866.000000   3195.000000  11089.000000  26422.000000   \n",
              "\n",
              "         BUG_STATUS  \n",
              "count  37214.000000  \n",
              "mean       0.420594  \n",
              "std        0.493661  \n",
              "min        0.000000  \n",
              "25%        0.000000  \n",
              "50%        0.000000  \n",
              "75%        1.000000  \n",
              "max        1.000000  "
            ],
            "text/html": [
              "<div>\n",
              "<style scoped>\n",
              "    .dataframe tbody tr th:only-of-type {\n",
              "        vertical-align: middle;\n",
              "    }\n",
              "\n",
              "    .dataframe tbody tr th {\n",
              "        vertical-align: top;\n",
              "    }\n",
              "\n",
              "    .dataframe thead th {\n",
              "        text-align: right;\n",
              "    }\n",
              "</style>\n",
              "<table border=\"1\" class=\"dataframe\">\n",
              "  <thead>\n",
              "    <tr style=\"text-align: right;\">\n",
              "      <th></th>\n",
              "      <th>Unnamed: 0</th>\n",
              "      <th>McCC</th>\n",
              "      <th>CLOC</th>\n",
              "      <th>LLOC</th>\n",
              "      <th>LOC</th>\n",
              "      <th>BUG_STATUS</th>\n",
              "    </tr>\n",
              "  </thead>\n",
              "  <tbody>\n",
              "    <tr>\n",
              "      <th>count</th>\n",
              "      <td>37214.000000</td>\n",
              "      <td>37214.000000</td>\n",
              "      <td>37214.000000</td>\n",
              "      <td>37214.000000</td>\n",
              "      <td>37214.000000</td>\n",
              "      <td>37214.000000</td>\n",
              "    </tr>\n",
              "    <tr>\n",
              "      <th>mean</th>\n",
              "      <td>18606.500000</td>\n",
              "      <td>8.323507</td>\n",
              "      <td>4.928522</td>\n",
              "      <td>106.671441</td>\n",
              "      <td>171.009674</td>\n",
              "      <td>0.420594</td>\n",
              "    </tr>\n",
              "    <tr>\n",
              "      <th>std</th>\n",
              "      <td>10742.900795</td>\n",
              "      <td>24.978090</td>\n",
              "      <td>49.210669</td>\n",
              "      <td>229.113235</td>\n",
              "      <td>350.575902</td>\n",
              "      <td>0.493661</td>\n",
              "    </tr>\n",
              "    <tr>\n",
              "      <th>min</th>\n",
              "      <td>0.000000</td>\n",
              "      <td>1.000000</td>\n",
              "      <td>0.000000</td>\n",
              "      <td>0.000000</td>\n",
              "      <td>0.000000</td>\n",
              "      <td>0.000000</td>\n",
              "    </tr>\n",
              "    <tr>\n",
              "      <th>25%</th>\n",
              "      <td>9303.250000</td>\n",
              "      <td>1.000000</td>\n",
              "      <td>0.000000</td>\n",
              "      <td>20.000000</td>\n",
              "      <td>51.000000</td>\n",
              "      <td>0.000000</td>\n",
              "    </tr>\n",
              "    <tr>\n",
              "      <th>50%</th>\n",
              "      <td>18606.500000</td>\n",
              "      <td>2.000000</td>\n",
              "      <td>0.000000</td>\n",
              "      <td>48.000000</td>\n",
              "      <td>90.000000</td>\n",
              "      <td>0.000000</td>\n",
              "    </tr>\n",
              "    <tr>\n",
              "      <th>75%</th>\n",
              "      <td>27909.750000</td>\n",
              "      <td>7.000000</td>\n",
              "      <td>0.000000</td>\n",
              "      <td>108.000000</td>\n",
              "      <td>175.000000</td>\n",
              "      <td>1.000000</td>\n",
              "    </tr>\n",
              "    <tr>\n",
              "      <th>max</th>\n",
              "      <td>37213.000000</td>\n",
              "      <td>866.000000</td>\n",
              "      <td>3195.000000</td>\n",
              "      <td>11089.000000</td>\n",
              "      <td>26422.000000</td>\n",
              "      <td>1.000000</td>\n",
              "    </tr>\n",
              "  </tbody>\n",
              "</table>\n",
              "</div>"
            ]
          },
          "metadata": {
            "tags": []
          },
          "execution_count": 41
        }
      ]
    },
    {
      "cell_type": "code",
      "metadata": {
        "_uuid": "791826dd-45ff-4b67-bf58-b811412d0112",
        "_cell_guid": "408d530c-06c1-40ff-b9d5-bf0fc535af6a",
        "id": "wfZdHvh2g4Uq",
        "jupyter": {
          "outputs_hidden": false
        },
        "execution": {
          "iopub.status.busy": "2021-05-24T04:26:00.941819Z",
          "iopub.execute_input": "2021-05-24T04:26:00.942168Z",
          "iopub.status.idle": "2021-05-24T04:26:00.950364Z",
          "shell.execute_reply.started": "2021-05-24T04:26:00.942136Z",
          "shell.execute_reply": "2021-05-24T04:26:00.949177Z"
        },
        "trusted": true
      },
      "source": [
        "#Removing the un necessary columns\n",
        "codemetrics.drop(['Unnamed: 0', 'entity', 'Parent'], inplace=True, axis=1)"
      ],
      "execution_count": null,
      "outputs": []
    },
    {
      "cell_type": "code",
      "metadata": {
        "_uuid": "22481455-1c3c-4933-9800-908c7fc96586",
        "_cell_guid": "41104670-4193-4908-808d-4a6c105cb871",
        "id": "AXZW639keMQM",
        "jupyter": {
          "outputs_hidden": false
        },
        "execution": {
          "iopub.status.busy": "2021-05-24T04:26:04.162039Z",
          "iopub.execute_input": "2021-05-24T04:26:04.162520Z",
          "iopub.status.idle": "2021-05-24T04:26:04.297144Z",
          "shell.execute_reply.started": "2021-05-24T04:26:04.162477Z",
          "shell.execute_reply": "2021-05-24T04:26:04.296110Z"
        },
        "trusted": true,
        "outputId": "1d5bbef5-d2d8-4b09-869c-6764bfce1059"
      },
      "source": [
        "\n",
        "import seaborn as sns\n",
        "sns.countplot(x='BUG_STATUS', data=codemetrics)"
      ],
      "execution_count": null,
      "outputs": [
        {
          "output_type": "execute_result",
          "data": {
            "text/plain": [
              "<AxesSubplot:xlabel='BUG_STATUS', ylabel='count'>"
            ]
          },
          "metadata": {
            "tags": []
          },
          "execution_count": 43
        },
        {
          "output_type": "display_data",
          "data": {
            "text/plain": [
              "<Figure size 432x288 with 1 Axes>"
            ],
            "image/png": "[encoded data removed]"
          },
          "metadata": {
            "tags": [],
            "needs_background": "light"
          }
        }
      ]
    },
    {
      "cell_type": "code",
      "metadata": {
        "_uuid": "e033046e-f91f-4b14-b1bd-1a84c9661bd0",
        "_cell_guid": "c0e95087-44c1-4ffd-b096-9c8f88d373e3",
        "id": "zkpwtXV0hEn-",
        "jupyter": {
          "outputs_hidden": false
        },
        "execution": {
          "iopub.status.busy": "2021-05-24T04:26:15.731912Z",
          "iopub.execute_input": "2021-05-24T04:26:15.732613Z",
          "iopub.status.idle": "2021-05-24T04:26:17.022406Z",
          "shell.execute_reply.started": "2021-05-24T04:26:15.732565Z",
          "shell.execute_reply": "2021-05-24T04:26:17.021387Z"
        },
        "trusted": true,
        "outputId": "aa5b90fb-520f-4053-bc54-6724f4e83c15"
      },
      "source": [
        "import matplotlib.pyplot as plt\n",
        "codemetrics.hist(bins=50,figsize=(20,15))\n",
        "plt.show()"
      ],
      "execution_count": null,
      "outputs": [
        {
          "output_type": "display_data",
          "data": {
            "text/plain": [
              "<Figure size 1440x1080 with 6 Axes>"
            ],
            "image/png": "[encoded data removed]"
          },
          "metadata": {
            "tags": [],
            "needs_background": "light"
          }
        }
      ]
    },
    {
      "cell_type": "code",
      "metadata": {
        "_uuid": "17b92e68-b1d0-42e6-bfb6-ac7bae0e146f",
        "_cell_guid": "08bd3da1-2f3e-4ee5-a492-59b2b6371c6b",
        "id": "5Iuwe-azpphf",
        "jupyter": {
          "outputs_hidden": false
        },
        "execution": {
          "iopub.status.busy": "2021-05-24T04:26:21.904282Z",
          "iopub.execute_input": "2021-05-24T04:26:21.905058Z",
          "iopub.status.idle": "2021-05-24T04:26:21.918148Z",
          "shell.execute_reply.started": "2021-05-24T04:26:21.905008Z",
          "shell.execute_reply": "2021-05-24T04:26:21.917218Z"
        },
        "trusted": true
      },
      "source": [
        "# #train and test set splitting\n",
        "from sklearn.model_selection import train_test_split\n",
        "train_set, test_set = train_test_split(codemetrics,test_size=0.2,random_state=42)"
      ],
      "execution_count": null,
      "outputs": []
    },
    {
      "cell_type": "code",
      "metadata": {
        "_uuid": "e6de9337-b60b-43d7-9c39-565c301a69d4",
        "_cell_guid": "73ae56c3-e610-4ce2-add4-cb03bcd0fd25",
        "id": "kbyL_C7jgK-M",
        "jupyter": {
          "outputs_hidden": false
        },
        "execution": {
          "iopub.status.busy": "2021-05-24T04:26:24.437358Z",
          "iopub.execute_input": "2021-05-24T04:26:24.438013Z",
          "iopub.status.idle": "2021-05-24T04:26:24.444882Z",
          "shell.execute_reply.started": "2021-05-24T04:26:24.437963Z",
          "shell.execute_reply": "2021-05-24T04:26:24.443786Z"
        },
        "trusted": true,
        "outputId": "ad7bb2fa-14e9-4bbd-c4b7-4a123e478ef8"
      },
      "source": [
        "x = len(train_set)\n",
        "y = len(test_set)\n",
        "print(train_set.shape)\n",
        "print(test_set.shape)"
      ],
      "execution_count": null,
      "outputs": [
        {
          "output_type": "stream",
          "text": [
            "(29771, 5)\n",
            "(7443, 5)\n"
          ],
          "name": "stdout"
        }
      ]
    },
    {
      "cell_type": "code",
      "metadata": {
        "_uuid": "3403628a-87d8-4746-8207-505044a6019a",
        "_cell_guid": "26d888f5-1f43-451e-a23e-2c6c94a9e5d1",
        "id": "ZpXwP1lchtUR",
        "jupyter": {
          "outputs_hidden": false
        },
        "execution": {
          "iopub.status.busy": "2021-05-24T04:26:26.509038Z",
          "iopub.execute_input": "2021-05-24T04:26:26.509460Z",
          "iopub.status.idle": "2021-05-24T04:26:26.639569Z",
          "shell.execute_reply.started": "2021-05-24T04:26:26.509426Z",
          "shell.execute_reply": "2021-05-24T04:26:26.638376Z"
        },
        "trusted": true,
        "outputId": "482bf750-4863-4c76-bbc1-54c607e1f123"
      },
      "source": [
        "import matplotlib.pyplot as plt\n",
        "fig = plt.figure()\n",
        "ax = fig.add_axes([0,0,1,1])\n",
        "set_ = ['train_set','test_set']\n",
        "length =  [x,y]\n",
        "ax.bar(set_,length)\n",
        "plt.show()"
      ],
      "execution_count": null,
      "outputs": [
        {
          "output_type": "display_data",
          "data": {
            "text/plain": [
              "<Figure size 432x288 with 1 Axes>"
            ],
            "image/png": "[encoded data removed]"
          },
          "metadata": {
            "tags": [],
            "needs_background": "light"
          }
        }
      ]
    },
    {
      "cell_type": "code",
      "metadata": {
        "_uuid": "aac95f44-abea-43d8-801c-e03d72f3d450",
        "_cell_guid": "bb2ee45a-b36b-4d01-8a4f-0e51e7188b75",
        "id": "XyhH1up5vTrY",
        "jupyter": {
          "outputs_hidden": false
        },
        "execution": {
          "iopub.status.busy": "2021-05-24T04:26:31.099505Z",
          "iopub.execute_input": "2021-05-24T04:26:31.099906Z",
          "iopub.status.idle": "2021-05-24T04:26:31.104150Z",
          "shell.execute_reply.started": "2021-05-24T04:26:31.099873Z",
          "shell.execute_reply": "2021-05-24T04:26:31.103372Z"
        },
        "trusted": true
      },
      "source": [
        "codemetrics = train_set.copy()"
      ],
      "execution_count": null,
      "outputs": []
    },
    {
      "cell_type": "code",
      "metadata": {
        "_uuid": "c3666730-d756-4095-a4c5-8a075bf0152f",
        "_cell_guid": "8b5ed9bc-94da-45cf-b105-b8d2cd73c8da",
        "id": "p29rwFx3vjrk",
        "jupyter": {
          "outputs_hidden": false
        },
        "execution": {
          "iopub.status.busy": "2021-05-24T04:26:36.273492Z",
          "iopub.execute_input": "2021-05-24T04:26:36.274208Z",
          "iopub.status.idle": "2021-05-24T04:26:36.286341Z",
          "shell.execute_reply.started": "2021-05-24T04:26:36.274173Z",
          "shell.execute_reply": "2021-05-24T04:26:36.285467Z"
        },
        "trusted": true,
        "outputId": "78d5fd81-0484-42be-ad60-7ca9d4bbd143"
      },
      "source": [
        "#checking correlation\n",
        "corr_matrix = codemetrics.corr()\n",
        "corr_matrix[\"BUG_STATUS\"].sort_values(ascending=False)"
      ],
      "execution_count": null,
      "outputs": [
        {
          "output_type": "execute_result",
          "data": {
            "text/plain": [
              "BUG_STATUS    1.000000\n",
              "LLOC          0.182434\n",
              "LOC           0.156906\n",
              "McCC          0.115525\n",
              "CLOC          0.091014\n",
              "Name: BUG_STATUS, dtype: float64"
            ]
          },
          "metadata": {
            "tags": []
          },
          "execution_count": 49
        }
      ]
    },
    {
      "cell_type": "code",
      "metadata": {
        "_uuid": "564714a3-429f-4806-bd9c-50e6e120f255",
        "_cell_guid": "d7578bb3-b8d4-45b7-95cf-3d7a887597ac",
        "id": "cWmzWLnNwTde",
        "jupyter": {
          "outputs_hidden": false
        },
        "execution": {
          "iopub.status.busy": "2021-05-24T04:26:39.128066Z",
          "iopub.execute_input": "2021-05-24T04:26:39.128712Z",
          "iopub.status.idle": "2021-05-24T04:26:43.625199Z",
          "shell.execute_reply.started": "2021-05-24T04:26:39.128677Z",
          "shell.execute_reply": "2021-05-24T04:26:43.624343Z"
        },
        "trusted": true,
        "outputId": "4a5ec900-2e8e-4195-c952-74a15953f294"
      },
      "source": [
        "#checking correlation with scatter_matrix\n",
        "from pandas.plotting import scatter_matrix\n",
        "\n",
        "attributes = [\"BUG_STATUS\",\"McCC\",\"CLOC\",\"LLOC\", \"LOC\"]\n",
        "scatter_matrix(codemetrics[attributes],figsize=(12,8))"
      ],
      "execution_count": null,
      "outputs": [
        {
          "output_type": "execute_result",
          "data": {
            "text/plain": [
              "array([[<AxesSubplot:xlabel='BUG_STATUS', ylabel='BUG_STATUS'>,\n",
              "        <AxesSubplot:xlabel='McCC', ylabel='BUG_STATUS'>,\n",
              "        <AxesSubplot:xlabel='CLOC', ylabel='BUG_STATUS'>,\n",
              "        <AxesSubplot:xlabel='LLOC', ylabel='BUG_STATUS'>,\n",
              "        <AxesSubplot:xlabel='LOC', ylabel='BUG_STATUS'>],\n",
              "       [<AxesSubplot:xlabel='BUG_STATUS', ylabel='McCC'>,\n",
              "        <AxesSubplot:xlabel='McCC', ylabel='McCC'>,\n",
              "        <AxesSubplot:xlabel='CLOC', ylabel='McCC'>,\n",
              "        <AxesSubplot:xlabel='LLOC', ylabel='McCC'>,\n",
              "        <AxesSubplot:xlabel='LOC', ylabel='McCC'>],\n",
              "       [<AxesSubplot:xlabel='BUG_STATUS', ylabel='CLOC'>,\n",
              "        <AxesSubplot:xlabel='McCC', ylabel='CLOC'>,\n",
              "        <AxesSubplot:xlabel='CLOC', ylabel='CLOC'>,\n",
              "        <AxesSubplot:xlabel='LLOC', ylabel='CLOC'>,\n",
              "        <AxesSubplot:xlabel='LOC', ylabel='CLOC'>],\n",
              "       [<AxesSubplot:xlabel='BUG_STATUS', ylabel='LLOC'>,\n",
              "        <AxesSubplot:xlabel='McCC', ylabel='LLOC'>,\n",
              "        <AxesSubplot:xlabel='CLOC', ylabel='LLOC'>,\n",
              "        <AxesSubplot:xlabel='LLOC', ylabel='LLOC'>,\n",
              "        <AxesSubplot:xlabel='LOC', ylabel='LLOC'>],\n",
              "       [<AxesSubplot:xlabel='BUG_STATUS', ylabel='LOC'>,\n",
              "        <AxesSubplot:xlabel='McCC', ylabel='LOC'>,\n",
              "        <AxesSubplot:xlabel='CLOC', ylabel='LOC'>,\n",
              "        <AxesSubplot:xlabel='LLOC', ylabel='LOC'>,\n",
              "        <AxesSubplot:xlabel='LOC', ylabel='LOC'>]], dtype=object)"
            ]
          },
          "metadata": {
            "tags": []
          },
          "execution_count": 50
        },
        {
          "output_type": "display_data",
          "data": {
            "text/plain": [
              "<Figure size 864x576 with 25 Axes>"
            ],
            "image/png": "[encoded data removed]"
          },
          "metadata": {
            "tags": [],
            "needs_background": "light"
          }
        }
      ]
    },
    {
      "cell_type": "code",
      "metadata": {
        "_uuid": "a7e066f4-d5bf-49d1-b4ff-3794ba287c5d",
        "_cell_guid": "1607af2b-b020-485a-807d-b4547a980073",
        "id": "hntMSav3xuAQ",
        "jupyter": {
          "outputs_hidden": false
        },
        "execution": {
          "iopub.status.busy": "2021-05-24T04:27:01.185113Z",
          "iopub.execute_input": "2021-05-24T04:27:01.185697Z",
          "iopub.status.idle": "2021-05-24T04:27:01.193309Z",
          "shell.execute_reply.started": "2021-05-24T04:27:01.185661Z",
          "shell.execute_reply": "2021-05-24T04:27:01.192390Z"
        },
        "trusted": true
      },
      "source": [
        "X_train = train_set.drop(\"BUG_STATUS\",axis=1)\n",
        "y_train = train_set['BUG_STATUS'].copy()\n",
        "\n",
        "X_test = test_set.drop(\"BUG_STATUS\",axis=1)\n",
        "y_test = test_set['BUG_STATUS'].copy()"
      ],
      "execution_count": null,
      "outputs": []
    },
    {
      "cell_type": "code",
      "metadata": {
        "_uuid": "70fc1169-c23a-476d-a9d8-6ed8f87d82ba",
        "_cell_guid": "138178b0-941e-4fcc-addc-94b3280c733a",
        "id": "TcpQ8IaqpKne",
        "jupyter": {
          "outputs_hidden": false
        },
        "execution": {
          "iopub.status.busy": "2021-05-24T04:27:03.294629Z",
          "iopub.execute_input": "2021-05-24T04:27:03.295154Z",
          "iopub.status.idle": "2021-05-24T04:27:03.309232Z",
          "shell.execute_reply.started": "2021-05-24T04:27:03.295120Z",
          "shell.execute_reply": "2021-05-24T04:27:03.308050Z"
        },
        "trusted": true
      },
      "source": [
        "from sklearn.preprocessing import StandardScaler \n",
        "sc = StandardScaler() \n",
        "X_train = sc.fit_transform(X_train) \n",
        "X_test = sc.transform(X_test)"
      ],
      "execution_count": null,
      "outputs": []
    },
    {
      "cell_type": "code",
      "metadata": {
        "_uuid": "a8d874f4-d22b-404c-9484-ed62b48e378e",
        "_cell_guid": "294c782c-8781-4b1e-9d2f-e72076b1a543",
        "id": "bXHjG9xbWIrf",
        "jupyter": {
          "outputs_hidden": false
        },
        "execution": {
          "iopub.status.busy": "2021-05-24T04:27:05.977474Z",
          "iopub.execute_input": "2021-05-24T04:27:05.977853Z",
          "iopub.status.idle": "2021-05-24T04:27:05.984176Z",
          "shell.execute_reply.started": "2021-05-24T04:27:05.977822Z",
          "shell.execute_reply": "2021-05-24T04:27:05.983126Z"
        },
        "trusted": true,
        "outputId": "535990df-6e0c-47ce-e9cd-1c910f8ba89f"
      },
      "source": [
        "X_train"
      ],
      "execution_count": null,
      "outputs": [
        {
          "output_type": "execute_result",
          "data": {
            "text/plain": [
              "array([[-0.29447239, -0.10838967, -0.37603494, -0.33705662],\n",
              "       [-0.29447239, -0.10838967, -0.43390655, -0.37041937],\n",
              "       [-0.01267304, -0.10838967, -0.32706667, -0.30647411],\n",
              "       ...,\n",
              "       [-0.29447239, -0.10838967, -0.44280987, -0.36485891],\n",
              "       [-0.25421534, -0.10838967, -0.32706667, -0.23974862],\n",
              "       [ 0.26912631, -0.10838967,  0.02016294,  0.05495563]])"
            ]
          },
          "metadata": {
            "tags": []
          },
          "execution_count": 55
        }
      ]
    },
    {
      "cell_type": "code",
      "metadata": {
        "_uuid": "2ad2f093-7ea4-4944-8fb0-963ddab734dc",
        "_cell_guid": "773257c4-8edb-4d81-81d8-6abf5b01daa8",
        "id": "c01x4a-MzxEj",
        "jupyter": {
          "outputs_hidden": false
        },
        "execution": {
          "iopub.status.busy": "2021-05-24T04:27:08.646958Z",
          "iopub.execute_input": "2021-05-24T04:27:08.647840Z",
          "iopub.status.idle": "2021-05-24T04:27:08.659410Z",
          "shell.execute_reply.started": "2021-05-24T04:27:08.647791Z",
          "shell.execute_reply": "2021-05-24T04:27:08.658023Z"
        },
        "trusted": true,
        "outputId": "cf60ad0c-d4bd-4447-c5aa-ac1ccbfc43a1"
      },
      "source": [
        "y_train"
      ],
      "execution_count": null,
      "outputs": [
        {
          "output_type": "execute_result",
          "data": {
            "text/plain": [
              "3923     0.0\n",
              "24375    0.0\n",
              "21840    0.0\n",
              "686      0.0\n",
              "30332    0.0\n",
              "        ... \n",
              "16850    1.0\n",
              "6265     1.0\n",
              "11284    0.0\n",
              "860      1.0\n",
              "15795    1.0\n",
              "Name: BUG_STATUS, Length: 29771, dtype: float64"
            ]
          },
          "metadata": {
            "tags": []
          },
          "execution_count": 56
        }
      ]
    },
    {
      "cell_type": "code",
      "metadata": {
        "_uuid": "1de21963-426a-4964-a16f-975535439bd5",
        "_cell_guid": "76f76723-8414-4667-98c1-057fceeb72f2",
        "id": "qnWrHtAIoOMX",
        "jupyter": {
          "outputs_hidden": false
        },
        "execution": {
          "iopub.status.busy": "2021-05-24T04:27:11.665485Z",
          "iopub.execute_input": "2021-05-24T04:27:11.666175Z",
          "iopub.status.idle": "2021-05-24T04:27:11.672185Z",
          "shell.execute_reply.started": "2021-05-24T04:27:11.666138Z",
          "shell.execute_reply": "2021-05-24T04:27:11.671183Z"
        },
        "trusted": true,
        "outputId": "5369f591-0451-4091-ea0b-c54ef0a3b999"
      },
      "source": [
        "X_test"
      ],
      "execution_count": null,
      "outputs": [
        {
          "output_type": "execute_result",
          "data": {
            "text/plain": [
              "array([[-0.29447239, -0.10838967, -0.45171319, -0.39822165],\n",
              "       [-0.29447239, -0.10838967,  0.79030041,  0.54427588],\n",
              "       [-0.29447239, -0.10838967, -0.42500322, -0.37876005],\n",
              "       ...,\n",
              "       [-0.29447239, -0.10838967, -0.44280987, -0.38710074],\n",
              "       [-0.29447239, -0.10838967, -0.34042165, -0.28979273],\n",
              "       [-0.25421534,  1.45207066,  0.32287594,  0.39414353]])"
            ]
          },
          "metadata": {
            "tags": []
          },
          "execution_count": 57
        }
      ]
    },
    {
      "cell_type": "code",
      "metadata": {
        "_uuid": "ed82a5ca-bc10-4376-ba43-a3287626f35e",
        "_cell_guid": "5dad3e8c-940b-46ad-8fd8-e108e4aea98d",
        "id": "aLvfiOHYu6mS",
        "jupyter": {
          "outputs_hidden": false
        },
        "execution": {
          "iopub.status.busy": "2021-05-24T04:27:13.790198Z",
          "iopub.execute_input": "2021-05-24T04:27:13.790984Z",
          "iopub.status.idle": "2021-05-24T04:27:13.799486Z",
          "shell.execute_reply.started": "2021-05-24T04:27:13.790940Z",
          "shell.execute_reply": "2021-05-24T04:27:13.798665Z"
        },
        "trusted": true,
        "outputId": "29390e6e-d6e9-4b78-a310-6d1549312813"
      },
      "source": [
        "y_test"
      ],
      "execution_count": null,
      "outputs": [
        {
          "output_type": "execute_result",
          "data": {
            "text/plain": [
              "12778    0.0\n",
              "27239    1.0\n",
              "5553     0.0\n",
              "6394     0.0\n",
              "7718     1.0\n",
              "        ... \n",
              "24410    0.0\n",
              "12890    0.0\n",
              "20986    0.0\n",
              "996      1.0\n",
              "36655    1.0\n",
              "Name: BUG_STATUS, Length: 7443, dtype: float64"
            ]
          },
          "metadata": {
            "tags": []
          },
          "execution_count": 58
        }
      ]
    },
    {
      "cell_type": "code",
      "metadata": {
        "_uuid": "a2535cd4-1a1d-44bf-870b-dd3b1233a99c",
        "_cell_guid": "c448e35b-2eed-46fe-a26a-98837a1277c2",
        "id": "9w83oMruf6Ol",
        "jupyter": {
          "outputs_hidden": false
        },
        "execution": {
          "iopub.status.busy": "2021-05-24T04:27:16.472084Z",
          "iopub.execute_input": "2021-05-24T04:27:16.472635Z",
          "iopub.status.idle": "2021-05-24T04:27:16.478252Z",
          "shell.execute_reply.started": "2021-05-24T04:27:16.472595Z",
          "shell.execute_reply": "2021-05-24T04:27:16.477318Z"
        },
        "trusted": true
      },
      "source": [
        "# import all libraries\n",
        "import numpy as np\n",
        "import pandas as pd\n",
        "import matplotlib.pyplot as plt \n",
        "import seaborn as sns\n",
        "import re\n",
        "\n",
        "import sklearn\n",
        "from sklearn.model_selection import train_test_split\n",
        "from sklearn.linear_model import LinearRegression\n",
        "from sklearn.model_selection import cross_val_predict\n",
        "from sklearn.model_selection import GridSearchCV\n",
        "import warnings # supress warnings\n",
        "warnings.filterwarnings('ignore')"
      ],
      "execution_count": null,
      "outputs": []
    },
    {
      "cell_type": "code",
      "metadata": {
        "_uuid": "6c783e45-1443-452b-b8ab-336ff80f3cc8",
        "_cell_guid": "f2651f21-77aa-4211-be57-ab97240d485d",
        "id": "Jp3rN3kGjwxy",
        "jupyter": {
          "outputs_hidden": false
        },
        "execution": {
          "iopub.status.busy": "2021-05-23T21:37:01.927569Z",
          "iopub.execute_input": "2021-05-23T21:37:01.928002Z",
          "iopub.status.idle": "2021-05-23T21:37:01.932359Z",
          "shell.execute_reply.started": "2021-05-23T21:37:01.927965Z",
          "shell.execute_reply": "2021-05-23T21:37:01.931502Z"
        },
        "trusted": true
      },
      "source": [
        "# Classifiers:\n",
        "# Logistic Regression\n",
        "# Decision Tree\n",
        "# Support Vector Machine\n",
        "\n",
        "# Linear Discriminant Analysis\n",
        "# Quadratic Discriminant Analysis\n",
        "# Random Forest\n",
        "# K-Nearest Neighbors\n",
        "# Naive Bayes\n",
        "\n",
        "# Scoring:\n",
        "# precision score\n",
        "# recall score\n",
        "# F1 score\n",
        "# support score\n",
        "# accuracy score\n",
        "# AUC/ROC"
      ],
      "execution_count": null,
      "outputs": []
    },
    {
      "cell_type": "code",
      "metadata": {
        "_uuid": "1450f0f9-d917-4397-b4fd-d4c614c8014e",
        "_cell_guid": "3e62bf29-2f7a-4a9c-abdf-e6f1016077ac",
        "id": "fFKA9q9Eqv7p",
        "jupyter": {
          "outputs_hidden": false
        },
        "execution": {
          "iopub.status.busy": "2021-05-24T04:27:43.641129Z",
          "iopub.execute_input": "2021-05-24T04:27:43.641522Z",
          "iopub.status.idle": "2021-05-24T04:27:51.753846Z",
          "shell.execute_reply.started": "2021-05-24T04:27:43.641486Z",
          "shell.execute_reply": "2021-05-24T04:27:51.752487Z"
        },
        "trusted": true,
        "outputId": "f8f95bc6-cdc1-4244-c991-9d11e0fe6f41"
      },
      "source": [
        "# Decision Tree\n",
        "from numpy import mean\n",
        "from numpy import std\n",
        "from sklearn import metrics\n",
        "from sklearn.tree import DecisionTreeClassifier\n",
        "from sklearn.model_selection import cross_val_predict\n",
        "from sklearn.metrics import confusion_matrix, classification_report\n",
        "from sklearn.model_selection import KFold\n",
        "from sklearn.model_selection import cross_val_score\n",
        "\n",
        "\n",
        "# create model\n",
        "model = DecisionTreeClassifier()\n",
        "\n",
        "#===================================================================================================\n",
        "#cross validation \n",
        "\n",
        "# evaluate model\n",
        "scores = cross_val_score(model, X_train, y_train, scoring='accuracy', cv=10, n_jobs=-1)\n",
        "# report performance\n",
        "print(50*\"=\")\n",
        "print(\"Cross validation Accuracy:\")\n",
        "print('Accuracy: %.3f (%.3f)' % (mean(scores), std(scores))) \n",
        "print(50*\"=\")\n",
        "\n",
        "#====================================================================================================\n",
        "print(50*\"=\")\n",
        "print(\"GRID SEARCH FOR DECISION TREE CLASSIFIER\")\n",
        "\n",
        "params = { \n",
        "    \"random_state\":range(30,40)} \n",
        "gs_Deci = GridSearchCV(model,\n",
        "                      param_grid=params,\n",
        "                      scoring='accuracy',\n",
        "                      cv=10)\n",
        "gs_Deci.fit(X_train, y_train)\n",
        "\n",
        "print(\"Best Parameters\")\n",
        "print(gs_Deci.best_params_)\n",
        "\n",
        "print(\"Best estimaters\")\n",
        "print(gs_Deci.best_estimator_)\n",
        "\n",
        "#Predicting Bugs\n",
        "y_pred = gs_Deci.best_estimator_.predict(X_test)\n",
        "\n",
        "#CONFUSION MATRIX\n",
        "print(50*\"=\")\n",
        "print(\"CONFUSION MATRIX\")\n",
        "print(confusion_matrix(y_test,y_pred))\n",
        "\n",
        "from sklearn.metrics import plot_confusion_matrix\n",
        "\n",
        "import matplotlib.pyplot as plt\n",
        "plt.rcParams[\"figure.figsize\"] = (20,7)\n",
        "\n",
        "class_names=['NON BUGGY FILE','BUGGY FILE']\n",
        "\n",
        "RF_confusion = plot_confusion_matrix(gs_Deci.best_estimator_,X_test,y_test,\n",
        "                                 display_labels=class_names,\n",
        "                                 cmap=plt.cm.Greens,\n",
        "                                 normalize=None, values_format = '.0f')\n",
        "\n",
        "\n",
        "RF_confusion.ax_.set_title(\"Confusion Matrix using Decision tree Classfier\")\n",
        "\n",
        "print(50*\"=\")\n",
        "print(classification_report(y_test,y_pred))\n",
        "print(50*\"=\")\n",
        "#====================================================================================================\n",
        "\n",
        "# Model Accuracy: how often is the classifier correct?\n",
        "RF_Accuracy = metrics.accuracy_score(y_test, y_pred)\n",
        "print(\"Accuracy:\",RF_Accuracy)\n",
        "\n",
        "# Model Precision: what percentage of positive tuples are labeled as such?\n",
        "print(\"Precision:\",metrics.precision_score(y_test, y_pred))\n",
        "\n",
        "# Model Recall: what percentage of positive tuples are labelled as such?\n",
        "print(\"Recall:\",metrics.recall_score(y_test, y_pred))\n",
        "\n",
        "#Calculate F1 Score\n",
        "print(\"F1 Score:\",metrics.f1_score(y_test, y_pred))\n",
        "\n",
        "#Calculate Mean Absolute Error\n",
        "print(\"Mean Absolute Error:\",metrics.mean_absolute_error(y_test, y_pred))\n",
        "\n",
        "# kappa\n",
        "print(\"Cohens kappa:\", metrics.cohen_kappa_score(y_test, y_pred))\n",
        "\n",
        "# ROC AUC\n",
        "print(\"ROC AUC:\", metrics.roc_auc_score(y_test, y_pred))\n",
        "print(50*\"=\")"
      ],
      "execution_count": null,
      "outputs": [
        {
          "output_type": "stream",
          "text": [
            "==================================================\n",
            "Cross validation Accuracy:\n",
            "Accuracy: 0.634 (0.010)\n",
            "==================================================\n",
            "==================================================\n",
            "GRID SEARCH FOR DECISION TREE CLASSIFIER\n",
            "Best Parameters\n",
            "{'random_state': 36}\n",
            "Best estimaters\n",
            "DecisionTreeClassifier(random_state=36)\n",
            "==================================================\n",
            "CONFUSION MATRIX\n",
            "[[3232 1123]\n",
            " [1578 1510]]\n",
            "==================================================\n",
            "              precision    recall  f1-score   support\n",
            "\n",
            "         0.0       0.67      0.74      0.71      4355\n",
            "         1.0       0.57      0.49      0.53      3088\n",
            "\n",
            "    accuracy                           0.64      7443\n",
            "   macro avg       0.62      0.62      0.62      7443\n",
            "weighted avg       0.63      0.64      0.63      7443\n",
            "\n",
            "==================================================\n",
            "Accuracy: 0.6371086927314255\n",
            "Precision: 0.5734903152297759\n",
            "Recall: 0.4889896373056995\n",
            "F1 Score: 0.5278797413039679\n",
            "Mean Absolute Error: 0.3628913072685745\n",
            "Cohens kappa: 0.23618743088667005\n",
            "ROC AUC: 0.615562556884767\n",
            "==================================================\n"
          ],
          "name": "stdout"
        },
        {
          "output_type": "display_data",
          "data": {
            "text/plain": [
              "<Figure size 1440x504 with 2 Axes>"
            ],
            "image/png": "[encoded data removed]"
          },
          "metadata": {
            "tags": [],
            "needs_background": "light"
          }
        }
      ]
    },
    {
      "cell_type": "code",
      "metadata": {
        "_uuid": "5181e537-c703-47fd-851e-54873b47f79f",
        "_cell_guid": "ef123a70-b60b-4083-b6ea-1c747f23acde",
        "id": "unPCGhq6f4kV",
        "jupyter": {
          "outputs_hidden": false
        },
        "execution": {
          "iopub.status.busy": "2021-05-24T04:33:08.229967Z",
          "iopub.execute_input": "2021-05-24T04:33:08.230321Z",
          "iopub.status.idle": "2021-05-24T04:33:20.075195Z",
          "shell.execute_reply.started": "2021-05-24T04:33:08.230292Z",
          "shell.execute_reply": "2021-05-24T04:33:20.073950Z"
        },
        "trusted": true,
        "outputId": "b6aecb55-25a9-4c64-b1a4-12e1ebbd73db"
      },
      "source": [
        "# Logistic regression\n",
        "from numpy import mean\n",
        "from numpy import std\n",
        "from sklearn.linear_model import LogisticRegression\n",
        "from sklearn.model_selection import cross_val_predict\n",
        "from sklearn.metrics import confusion_matrix, classification_report\n",
        "from sklearn.model_selection import KFold\n",
        "from sklearn.model_selection import cross_val_score\n",
        "from sklearn import metrics\n",
        "\n",
        "# create model\n",
        "model = LogisticRegression()\n",
        "\n",
        "#===================================================================================================\n",
        "#cross validation \n",
        "\n",
        "# evaluate model\n",
        "scores = cross_val_score(model, X_train, y_train, scoring='accuracy', cv=10, n_jobs=-1)\n",
        "# report performance\n",
        "print(50*\"=\")\n",
        "print(\"Cross validation Accuracy:\")\n",
        "print('Accuracy: %.3f (%.3f)' % (mean(scores), std(scores))) \n",
        "print(50*\"=\")\n",
        "\n",
        "#====================================================================================================\n",
        "print(50*\"=\")\n",
        "print(\"GRID SEARCH FOR Logistic Regression\")\n",
        "\n",
        "params = { \n",
        "    \"random_state\":range(30,40)} \n",
        "gs_logi = GridSearchCV(model,\n",
        "                      param_grid=params,\n",
        "                      scoring='accuracy',\n",
        "                      cv=10)\n",
        "gs_logi.fit(X_train, y_train)\n",
        "\n",
        "print(\"Best Parameters\")\n",
        "print(gs_logi.best_params_)\n",
        "\n",
        "print(\"Best estimaters\")\n",
        "print(gs_logi.best_estimator_)\n",
        "\n",
        "#Predicting Bugs\n",
        "y_pred = gs_logi.best_estimator_.predict(X_test)\n",
        "\n",
        "#CONFUSION MATRIX\n",
        "print(50*\"=\")\n",
        "print(\"CONFUSION MATRIX\")\n",
        "print(confusion_matrix(y_test,y_pred))\n",
        "\n",
        "from sklearn.metrics import plot_confusion_matrix\n",
        "\n",
        "import matplotlib.pyplot as plt\n",
        "plt.rcParams[\"figure.figsize\"] = (20,7)\n",
        "\n",
        "class_names=['NON BUGGY FILE','BUGGY FILE']\n",
        "\n",
        "confusion = plot_confusion_matrix(gs_Deci.best_estimator_,X_test,y_test,\n",
        "                                 display_labels=class_names,\n",
        "                                 cmap=plt.cm.Greens,\n",
        "                                 normalize=None, values_format = '.0f')\n",
        "\n",
        "\n",
        "confusion.ax_.set_title(\"Confusion Matrix using Logistic Regression\")\n",
        "\n",
        "print(50*\"=\")\n",
        "print(classification_report(y_test,y_pred))\n",
        "print(50*\"=\")\n",
        "#====================================================================================================\n",
        "\n",
        "# Model Accuracy: how often is the classifier correct?\n",
        "RF_Accuracy = metrics.accuracy_score(y_test, y_pred)\n",
        "print(\"Accuracy:\",RF_Accuracy)\n",
        "\n",
        "# Model Precision: what percentage of positive tuples are labeled as such?\n",
        "print(\"Precision:\",metrics.precision_score(y_test, y_pred))\n",
        "\n",
        "# Model Recall: what percentage of positive tuples are labelled as such?\n",
        "print(\"Recall:\",metrics.recall_score(y_test, y_pred))\n",
        "\n",
        "#Calculate F1 Score\n",
        "print(\"F1 Score:\",metrics.f1_score(y_test, y_pred))\n",
        "\n",
        "#Calculate Mean Absolute Error\n",
        "print(\"Mean Absolute Error:\",metrics.mean_absolute_error(y_test, y_pred))\n",
        "\n",
        "# kappa\n",
        "print(\"Cohens kappa:\", metrics.cohen_kappa_score(y_test, y_pred))\n",
        "\n",
        "# ROC AUC\n",
        "print(\"ROC AUC:\", metrics.roc_auc_score(y_test, y_pred))\n",
        "print(50*\"=\")"
      ],
      "execution_count": null,
      "outputs": [
        {
          "output_type": "stream",
          "text": [
            "==================================================\n",
            "Cross validation Accuracy:\n",
            "Accuracy: 0.630 (0.004)\n",
            "==================================================\n",
            "==================================================\n",
            "GRID SEARCH FOR Logistic Regression\n",
            "Best Parameters\n",
            "{'random_state': 30}\n",
            "Best estimaters\n",
            "LogisticRegression(random_state=30)\n",
            "==================================================\n",
            "CONFUSION MATRIX\n",
            "[[4070  285]\n",
            " [2419  669]]\n",
            "==================================================\n",
            "              precision    recall  f1-score   support\n",
            "\n",
            "         0.0       0.63      0.93      0.75      4355\n",
            "         1.0       0.70      0.22      0.33      3088\n",
            "\n",
            "    accuracy                           0.64      7443\n",
            "   macro avg       0.66      0.58      0.54      7443\n",
            "weighted avg       0.66      0.64      0.58      7443\n",
            "\n",
            "==================================================\n",
            "Accuracy: 0.6367056294504904\n",
            "Precision: 0.7012578616352201\n",
            "Recall: 0.21664507772020725\n",
            "F1 Score: 0.3310242454230579\n",
            "Mean Absolute Error: 0.3632943705495096\n",
            "Cohens kappa: 0.16810152086360597\n",
            "ROC AUC: 0.5756015285271531\n",
            "==================================================\n"
          ],
          "name": "stdout"
        },
        {
          "output_type": "display_data",
          "data": {
            "text/plain": [
              "<Figure size 1440x504 with 2 Axes>"
            ],
            "image/png": "[encoded data removed]"
          },
          "metadata": {
            "tags": [],
            "needs_background": "light"
          }
        }
      ]
    },
    {
      "cell_type": "code",
      "metadata": {
        "_uuid": "5b26ad93-a65d-4747-b8bd-81041238e12e",
        "_cell_guid": "94834d53-e5ad-4079-9cd2-65701c5c2f2e",
        "id": "ZTmZb2hpfi6S",
        "jupyter": {
          "outputs_hidden": false
        },
        "execution": {
          "iopub.status.busy": "2021-05-24T03:23:35.954732Z",
          "iopub.execute_input": "2021-05-24T03:23:35.955155Z"
        },
        "trusted": true
      },
      "source": [
        "# Support Vector Machine\n",
        "from numpy import mean\n",
        "from numpy import std\n",
        "from sklearn.svm import SVC\n",
        "from sklearn.model_selection import cross_val_predict\n",
        "from sklearn.metrics import confusion_matrix, classification_report\n",
        "from sklearn.model_selection import KFold\n",
        "from sklearn.model_selection import cross_val_score\n",
        "from sklearn import metrics\n",
        "\n",
        "# create model\n",
        "model = SVC(gamma='auto')\n",
        "\n",
        "#===================================================================================================\n",
        "#cross validation \n",
        "\n",
        "# evaluate model\n",
        "scores = cross_val_score(model, X_train, y_train, scoring='accuracy', cv=10, n_jobs=-1)\n",
        "# report performance\n",
        "print(50*\"=\")\n",
        "print(\"Cross validation Accuracy:\")\n",
        "print('Accuracy: %.3f (%.3f)' % (mean(scores), std(scores))) \n",
        "print(50*\"=\")\n",
        "\n",
        "#====================================================================================================\n",
        "print(50*\"=\")\n",
        "print(\"GRID SEARCH FOR SVM\")\n",
        "\n",
        "params = { \n",
        "    \"random_state\":range(30,40)} \n",
        "\n",
        "#Predicting Bugs\n",
        "y_pred = gs_svm.predict(X_test)\n",
        "\n",
        "#CONFUSION MATRIX\n",
        "print(50*\"=\")\n",
        "print(\"CONFUSION MATRIX\")\n",
        "print(confusion_matrix(y_test,y_pred))\n",
        "\n",
        "from sklearn.metrics import plot_confusion_matrix\n",
        "\n",
        "import matplotlib.pyplot as plt\n",
        "plt.rcParams[\"figure.figsize\"] = (20,7)\n",
        "\n",
        "class_names=['NON BUGGY FILE','BUGGY FILE']\n",
        "\n",
        "confusion = plot_confusion_matrix(gs_svm.best_estimator_,X_test,y_test,\n",
        "                                 display_labels=class_names,\n",
        "                                 cmap=plt.cm.Greens,\n",
        "                                 normalize=None, values_format = '.0f')\n",
        "\n",
        "\n",
        "confusion.ax_.set_title(\"Confusion Matrix using Support Vector Machine\")\n",
        "\n",
        "print(50*\"=\")\n",
        "print(classification_report(y_test,y_pred))\n",
        "print(50*\"=\")\n",
        "#====================================================================================================\n",
        "\n",
        "# Model Accuracy: how often is the classifier correct?\n",
        "RF_Accuracy = metrics.accuracy_score(y_test, y_pred)\n",
        "print(\"Accuracy:\",RF_Accuracy)\n",
        "\n",
        "# Model Precision: what percentage of positive tuples are labeled as such?\n",
        "print(\"Precision:\",metrics.precision_score(y_test, y_pred))\n",
        "\n",
        "# Model Recall: what percentage of positive tuples are labelled as such?\n",
        "print(\"Recall:\",metrics.recall_score(y_test, y_pred))\n",
        "\n",
        "#Calculate F1 Score\n",
        "print(\"F1 Score:\",metrics.f1_score(y_test, y_pred))\n",
        "\n",
        "#Calculate Mean Absolute Error\n",
        "print(\"Mean Absolute Error:\",metrics.mean_absolute_error(y_test, y_pred))\n",
        "\n",
        "# kappa\n",
        "print(\"Cohens kappa:\", metrics.cohen_kappa_score(y_test, y_pred))\n",
        "\n",
        "# ROC AUC\n",
        "print(\"ROC AUC:\", metrics.roc_auc_score(y_test, y_pred))\n",
        "print(50*\"=\")"
      ],
      "execution_count": null,
      "outputs": []
    },
    {
      "cell_type": "code",
      "metadata": {
        "_uuid": "3ef7163e-2d06-45af-ac89-54148d7b24aa",
        "_cell_guid": "91330e71-2662-4d7d-8b26-c8aba0b64ad0",
        "jupyter": {
          "outputs_hidden": false
        },
        "id": "WoH10pHmO994",
        "trusted": true
      },
      "source": [
        "#Random Forest\n",
        "from numpy import mean\n",
        "from numpy import std\n",
        "from sklearn.ensemble import RandomForestRegressor\n",
        "from sklearn.model_selection import cross_val_predict\n",
        "from sklearn.metrics import confusion_matrix, classification_report\n",
        "from sklearn.model_selection import KFold\n",
        "from sklearn.model_selection import cross_val_score\n",
        "from sklearn import metrics\n",
        "\n",
        "# create model\n",
        "model = RandomForestRegressor()\n",
        "\n",
        "#===================================================================================================\n",
        "#cross validation \n",
        "\n",
        "# evaluate model\n",
        "scores = cross_val_score(model, X_train, y_train, scoring='accuracy', cv=10, n_jobs=-1)\n",
        "# report performance\n",
        "print(50*\"=\")\n",
        "print(\"Cross validation Accuracy:\")\n",
        "print('Accuracy: %.3f (%.3f)' % (mean(scores), std(scores))) \n",
        "print(50*\"=\")\n",
        "\n",
        "#====================================================================================================\n",
        "print(50*\"=\")\n",
        "print(\"GRID SEARCH FOR Random Forest\")\n",
        "\n",
        "\n",
        "#Predicting Bugs\n",
        "y_pred = gs_rd.predict(X_test)\n",
        "\n",
        "#CONFUSION MATRIX\n",
        "print(50*\"=\")\n",
        "print(\"CONFUSION MATRIX\")\n",
        "print(confusion_matrix(y_test,y_pred))\n",
        "\n",
        "from sklearn.metrics import plot_confusion_matrix\n",
        "\n",
        "import matplotlib.pyplot as plt\n",
        "plt.rcParams[\"figure.figsize\"] = (20,7)\n",
        "\n",
        "class_names=['NON BUGGY FILE','BUGGY FILE']\n",
        "\n",
        "confusion = plot_confusion_matrix(gs_rd.best_estimator_,X_test,y_test,\n",
        "                                 display_labels=class_names,\n",
        "                                 cmap=plt.cm.Greens,\n",
        "                                 normalize=None, values_format = '.0f')\n",
        "\n",
        "\n",
        "confusion.ax_.set_title(\"Confusion Matrix using Random Forest\")\n",
        "\n",
        "print(50*\"=\")\n",
        "print(classification_report(y_test,y_pred))\n",
        "print(50*\"=\")\n",
        "#====================================================================================================\n",
        "\n",
        "# Model Accuracy: how often is the classifier correct?\n",
        "RF_Accuracy = metrics.accuracy_score(y_test, y_pred)\n",
        "print(\"Accuracy:\",RF_Accuracy)\n",
        "\n",
        "# Model Precision: what percentage of positive tuples are labeled as such?\n",
        "print(\"Precision:\",metrics.precision_score(y_test, y_pred))\n",
        "\n",
        "# Model Recall: what percentage of positive tuples are labelled as such?\n",
        "print(\"Recall:\",metrics.recall_score(y_test, y_pred))\n",
        "\n",
        "#Calculate F1 Score\n",
        "print(\"F1 Score:\",metrics.f1_score(y_test, y_pred))\n",
        "\n",
        "#Calculate Mean Absolute Error\n",
        "print(\"Mean Absolute Error:\",metrics.mean_absolute_error(y_test, y_pred))\n",
        "\n",
        "# kappa\n",
        "print(\"Cohens kappa:\", metrics.cohen_kappa_score(y_test, y_pred))\n",
        "\n",
        "# ROC AUC\n",
        "print(\"ROC AUC:\", metrics.roc_auc_score(y_test, y_pred))\n",
        "print(50*\"=\")"
      ],
      "execution_count": null,
      "outputs": []
    },
    {
      "cell_type": "code",
      "metadata": {
        "_uuid": "deff1072-dc8b-45d5-a056-43b88ee5753b",
        "_cell_guid": "5185fcbc-767c-4abc-b824-3da0e7a66d69",
        "jupyter": {
          "outputs_hidden": false
        },
        "id": "2wHiK49hO998",
        "trusted": true
      },
      "source": [
        "#Naive Bayes\n",
        "from numpy import mean\n",
        "from numpy import std\n",
        "from sklearn.naive_bayes import GaussianNB\n",
        "from sklearn.model_selection import cross_val_predict\n",
        "from sklearn.metrics import confusion_matrix, classification_report\n",
        "from sklearn.model_selection import KFold\n",
        "from sklearn.model_selection import cross_val_score\n",
        "from sklearn import metrics\n",
        "\n",
        "# create model\n",
        "model = GaussianNB()\n",
        "\n",
        "#===================================================================================================\n",
        "#cross validation \n",
        "\n",
        "# evaluate model\n",
        "scores = cross_val_score(model, X_train, y_train, scoring='accuracy', cv=10, n_jobs=-1)\n",
        "# report performance\n",
        "print(50*\"=\")\n",
        "print(\"Cross validation Accuracy:\")\n",
        "print('Accuracy: %.3f (%.3f)' % (mean(scores), std(scores))) \n",
        "print(50*\"=\")\n",
        "\n",
        "#====================================================================================================\n",
        "print(50*\"=\")\n",
        "print(\"GRID SEARCH FOR Random Forest\")\n",
        "\n",
        "params = { \n",
        "    \"random_state\":range(30,40)} \n",
        "gs_nb = GridSearchCV(model,\n",
        "                      param_grid=params,\n",
        "                      scoring='accuracy',\n",
        "                      cv=10)\n",
        "gs_nb.fit(X_train, y_train)\n",
        "\n",
        "print(\"Best Parameters\")\n",
        "print(gs_nb.best_params_)\n",
        "\n",
        "print(\"Best estimaters\")\n",
        "print(gs_nb.best_estimator_)\n",
        "\n",
        "#Predicting Bugs\n",
        "y_pred = gs_nb.best_estimator_.predict(X_test)\n",
        "\n",
        "#CONFUSION MATRIX\n",
        "print(50*\"=\")\n",
        "print(\"CONFUSION MATRIX\")\n",
        "print(confusion_matrix(y_test,y_pred))\n",
        "\n",
        "from sklearn.metrics import plot_confusion_matrix\n",
        "\n",
        "import matplotlib.pyplot as plt\n",
        "plt.rcParams[\"figure.figsize\"] = (20,7)\n",
        "\n",
        "class_names=['NON BUGGY FILE','BUGGY FILE']\n",
        "\n",
        "confusion = plot_confusion_matrix(gs_nb.best_estimator_,X_test,y_test,\n",
        "                                 display_labels=class_names,\n",
        "                                 cmap=plt.cm.Greens,\n",
        "                                 normalize=None, values_format = '.0f')\n",
        "\n",
        "\n",
        "confusion.ax_.set_title(\"Confusion Matrix using Naive Bayes\")\n",
        "\n",
        "print(50*\"=\")\n",
        "print(classification_report(y_test,y_pred))\n",
        "print(50*\"=\")\n",
        "#====================================================================================================\n",
        "\n",
        "# Model Accuracy: how often is the classifier correct?\n",
        "RF_Accuracy = metrics.accuracy_score(y_test, y_pred)\n",
        "print(\"Accuracy:\",RF_Accuracy)\n",
        "\n",
        "# Model Precision: what percentage of positive tuples are labeled as such?\n",
        "print(\"Precision:\",metrics.precision_score(y_test, y_pred))\n",
        "\n",
        "# Model Recall: what percentage of positive tuples are labelled as such?\n",
        "print(\"Recall:\",metrics.recall_score(y_test, y_pred))\n",
        "\n",
        "#Calculate F1 Score\n",
        "print(\"F1 Score:\",metrics.f1_score(y_test, y_pred))\n",
        "\n",
        "#Calculate Mean Absolute Error\n",
        "print(\"Mean Absolute Error:\",metrics.mean_absolute_error(y_test, y_pred))\n",
        "\n",
        "# kappa\n",
        "print(\"Cohens kappa:\", metrics.cohen_kappa_score(y_test, y_pred))\n",
        "\n",
        "# ROC AUC\n",
        "print(\"ROC AUC:\", metrics.roc_auc_score(y_test, y_pred))\n",
        "print(50*\"=\")"
      ],
      "execution_count": null,
      "outputs": []
    },
    {
      "cell_type": "code",
      "metadata": {
        "_uuid": "406ae3b4-53f1-4d8c-8228-6939fd0d5423",
        "_cell_guid": "71709f6a-08bb-4fa8-ac7a-4f265689c4cf",
        "id": "VajRXKY64FGq",
        "jupyter": {
          "outputs_hidden": false
        },
        "execution": {
          "iopub.status.busy": "2021-05-23T21:39:37.629407Z",
          "iopub.execute_input": "2021-05-23T21:39:37.629867Z"
        },
        "trusted": true
      },
      "source": [
        "# Multilayer perceptron\n",
        "from numpy import mean\n",
        "from numpy import std\n",
        "from sklearn.neural_network import MLPClassifier\n",
        "from sklearn.model_selection import cross_val_predict\n",
        "from sklearn.metrics import confusion_matrix, classification_report\n",
        "from sklearn.model_selection import KFold\n",
        "from sklearn.model_selection import cross_val_score\n",
        "from sklearn import metrics\n",
        "\n",
        "# create model\n",
        "model = MLPClassifier()\n",
        "\n",
        "#===================================================================================================\n",
        "#cross validation \n",
        "\n",
        "# evaluate model\n",
        "scores = cross_val_score(model, X_train, y_train, scoring='accuracy', cv=10, n_jobs=-1)\n",
        "# report performance\n",
        "print(50*\"=\")\n",
        "print(\"Cross validation Accuracy:\")\n",
        "print('Accuracy: %.3f (%.3f)' % (mean(scores), std(scores))) \n",
        "print(50*\"=\")\n",
        "\n",
        "#====================================================================================================\n",
        "print(50*\"=\")\n",
        "print(\"GRID SEARCH FOR Multilayer perceptron\")\n",
        "\n",
        "params = { \n",
        "    \"random_state\":range(30,40)} \n",
        "gs_mlp = GridSearchCV(model,\n",
        "                      param_grid=params,\n",
        "                      scoring='accuracy',\n",
        "                      cv=10)\n",
        "gs_mlp.fit(X_train, y_train)\n",
        "\n",
        "print(\"Best Parameters\")\n",
        "print(gs_mlp.best_params_)\n",
        "\n",
        "print(\"Best estimaters\")\n",
        "print(gs_mlp.best_estimator_)\n",
        "\n",
        "#Predicting Bugs\n",
        "y_pred = gs_mlp.best_estimator_.predict(X_test)\n",
        "\n",
        "#CONFUSION MATRIX\n",
        "print(50*\"=\")\n",
        "print(\"CONFUSION MATRIX\")\n",
        "print(confusion_matrix(y_test,y_pred))\n",
        "\n",
        "from sklearn.metrics import plot_confusion_matrix\n",
        "\n",
        "import matplotlib.pyplot as plt\n",
        "plt.rcParams[\"figure.figsize\"] = (20,7)\n",
        "\n",
        "class_names=['NON BUGGY FILE','BUGGY FILE']\n",
        "\n",
        "confusion = plot_confusion_matrix(gs_mlp.best_estimator_,X_test,y_test,\n",
        "                                 display_labels=class_names,\n",
        "                                 cmap=plt.cm.Greens,\n",
        "                                 normalize=None, values_format = '.0f')\n",
        "\n",
        "\n",
        "confusion.ax_.set_title(\"Confusion Matrix using Multilayer perceptron\")\n",
        "\n",
        "print(50*\"=\")\n",
        "print(classification_report(y_test,y_pred))\n",
        "print(50*\"=\")\n",
        "#====================================================================================================\n",
        "\n",
        "# Model Accuracy: how often is the classifier correct?\n",
        "RF_Accuracy = metrics.accuracy_score(y_test, y_pred)\n",
        "print(\"Accuracy:\",RF_Accuracy)\n",
        "\n",
        "# Model Precision: what percentage of positive tuples are labeled as such?\n",
        "print(\"Precision:\",metrics.precision_score(y_test, y_pred))\n",
        "\n",
        "# Model Recall: what percentage of positive tuples are labelled as such?\n",
        "print(\"Recall:\",metrics.recall_score(y_test, y_pred))\n",
        "\n",
        "#Calculate F1 Score\n",
        "print(\"F1 Score:\",metrics.f1_score(y_test, y_pred))\n",
        "\n",
        "#Calculate Mean Absolute Error\n",
        "print(\"Mean Absolute Error:\",metrics.mean_absolute_error(y_test, y_pred))\n",
        "\n",
        "# kappa\n",
        "print(\"Cohens kappa:\", metrics.cohen_kappa_score(y_test, y_pred))\n",
        "\n",
        "# ROC AUC\n",
        "print(\"ROC AUC:\", metrics.roc_auc_score(y_test, y_pred))\n",
        "print(50*\"=\")"
      ],
      "execution_count": null,
      "outputs": []
    },
    {
      "cell_type": "code",
      "metadata": {
        "_uuid": "5873e2f9-8cd2-4cdf-9eb6-b8456b5c4050",
        "_cell_guid": "daaea9c4-c54f-4ed0-93cd-f13dd6a71019",
        "id": "oEescGayO9-A",
        "execution": {
          "iopub.status.busy": "2021-05-24T03:19:55.499673Z",
          "iopub.execute_input": "2021-05-24T03:19:55.500431Z",
          "iopub.status.idle": "2021-05-24T03:19:56.818582Z",
          "shell.execute_reply.started": "2021-05-24T03:19:55.500274Z",
          "shell.execute_reply": "2021-05-24T03:19:56.817349Z"
        },
        "jupyter": {
          "outputs_hidden": false
        },
        "trusted": true
      },
      "source": [
        "#AdaBoost\n",
        "from numpy import mean\n",
        "from numpy import std\n",
        "from sklearn.ensemble import AdaBoostClassifier\n",
        "from sklearn.model_selection import cross_val_predict\n",
        "from sklearn.metrics import confusion_matrix, classification_report\n",
        "from sklearn.model_selection import KFold\n",
        "from sklearn.model_selection import cross_val_score\n",
        "from sklearn import metrics\n",
        "\n",
        "# create model\n",
        "model = AdaBoostClassifier()\n",
        "\n",
        "#===================================================================================================\n",
        "#cross validation \n",
        "\n",
        "# evaluate model\n",
        "scores = cross_val_score(model, X_train, y_train, scoring='accuracy', cv=10, n_jobs=-1)\n",
        "# report performance\n",
        "print(50*\"=\")\n",
        "print(\"Cross validation Accuracy:\")\n",
        "print('Accuracy: %.3f (%.3f)' % (mean(scores), std(scores))) \n",
        "print(50*\"=\")\n",
        "\n",
        "#====================================================================================================\n",
        "print(50*\"=\")\n",
        "print(\"GRID SEARCH FOR AdaBoost\")\n",
        "\n",
        "params = { \n",
        "    \"random_state\":range(30,40)} \n",
        "gs_ada = GridSearchCV(model,\n",
        "                      param_grid=params,\n",
        "                      scoring='accuracy',\n",
        "                      cv=10)\n",
        "gs_ada.fit(X_train, y_train)\n",
        "\n",
        "print(\"Best Parameters\")\n",
        "print(gs_ada.best_params_)\n",
        "\n",
        "print(\"Best estimaters\")\n",
        "print(gs_ada.best_estimator_)\n",
        "\n",
        "#Predicting Bugs\n",
        "y_pred = gs_ada.best_estimator_.predict(X_test)\n",
        "\n",
        "#CONFUSION MATRIX\n",
        "print(50*\"=\")\n",
        "print(\"CONFUSION MATRIX\")\n",
        "print(confusion_matrix(y_test,y_pred))\n",
        "\n",
        "from sklearn.metrics import plot_confusion_matrix\n",
        "\n",
        "import matplotlib.pyplot as plt\n",
        "plt.rcParams[\"figure.figsize\"] = (20,7)\n",
        "\n",
        "class_names=['NON BUGGY FILE','BUGGY FILE']\n",
        "\n",
        "confusion = plot_confusion_matrix(gs_ada.best_estimator_,X_test,y_test,\n",
        "                                 display_labels=class_names,\n",
        "                                 cmap=plt.cm.Greens,\n",
        "                                 normalize=None, values_format = '.0f')\n",
        "\n",
        "\n",
        "confusion.ax_.set_title(\"Confusion Matrix using AdaBoost\")\n",
        "\n",
        "print(50*\"=\")\n",
        "print(classification_report(y_test,y_pred))\n",
        "print(50*\"=\")\n",
        "#====================================================================================================\n",
        "\n",
        "# Model Accuracy: how often is the classifier correct?\n",
        "RF_Accuracy = metrics.accuracy_score(y_test, y_pred)\n",
        "print(\"Accuracy:\",RF_Accuracy)\n",
        "\n",
        "# Model Precision: what percentage of positive tuples are labeled as such?\n",
        "print(\"Precision:\",metrics.precision_score(y_test, y_pred))\n",
        "\n",
        "# Model Recall: what percentage of positive tuples are labelled as such?\n",
        "print(\"Recall:\",metrics.recall_score(y_test, y_pred))\n",
        "\n",
        "#Calculate F1 Score\n",
        "print(\"F1 Score:\",metrics.f1_score(y_test, y_pred))\n",
        "\n",
        "#Calculate Mean Absolute Error\n",
        "print(\"Mean Absolute Error:\",metrics.mean_absolute_error(y_test, y_pred))\n",
        "\n",
        "# kappa\n",
        "print(\"Cohens kappa:\", metrics.cohen_kappa_score(y_test, y_pred))\n",
        "\n",
        "# ROC AUC\n",
        "print(\"ROC AUC:\", metrics.roc_auc_score(y_test, y_pred))\n",
        "print(50*\"=\")"
      ],
      "execution_count": null,
      "outputs": []
    }
  ]
}