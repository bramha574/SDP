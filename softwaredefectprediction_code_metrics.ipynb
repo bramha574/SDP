{
  "nbformat": 4,
  "nbformat_minor": 0,
  "metadata": {
    "colab": {
      "name": "softwaredefectprediction-code-metrics.ipynb",
      "provenance": [],
      "include_colab_link": true
    },
    "kernelspec": {
      "display_name": "Python 3",
      "language": "python",
      "name": "python3"
    },
    "language_info": {
      "codemirror_mode": {
        "name": "ipython",
        "version": 3
      },
      "file_extension": ".py",
      "mimetype": "text/x-python",
      "name": "python",
      "nbconvert_exporter": "python",
      "pygments_lexer": "ipython3",
      "version": "3.7.10"
    }
  },
  "cells": [
    {
      "cell_type": "markdown",
      "metadata": {
        "id": "view-in-github",
        "colab_type": "text"
      },
      "source": [
        "<a href=\"https://colab.research.google.com/github/bramha574/SDP/blob/main/softwaredefectprediction_code_metrics.ipynb\" target=\"_parent\"><img src=\"https://colab.research.google.com/assets/colab-badge.svg\" alt=\"Open In Colab\"/></a>"
      ]
    },
    {
      "cell_type": "code",
      "metadata": {
        "id": "agLxKX0b_AuH",
        "colab": {
          "base_uri": "https://localhost:8080/"
        },
        "outputId": "1d231e11-244f-4f1f-a354-bb78f715d983"
      },
      "source": [
        "!pip install seaborn\n",
        "!pip install matplotlib\n",
        "!pip install sklearn"
      ],
      "execution_count": 4,
      "outputs": [
        {
          "output_type": "stream",
          "text": [
            "Requirement already satisfied: seaborn in /usr/local/lib/python3.7/dist-packages (0.11.1)\n",
            "Requirement already satisfied: pandas>=0.23 in /usr/local/lib/python3.7/dist-packages (from seaborn) (1.1.5)\n",
            "Requirement already satisfied: matplotlib>=2.2 in /usr/local/lib/python3.7/dist-packages (from seaborn) (3.2.2)\n",
            "Requirement already satisfied: numpy>=1.15 in /usr/local/lib/python3.7/dist-packages (from seaborn) (1.19.5)\n",
            "Requirement already satisfied: scipy>=1.0 in /usr/local/lib/python3.7/dist-packages (from seaborn) (1.4.1)\n",
            "Requirement already satisfied: python-dateutil>=2.7.3 in /usr/local/lib/python3.7/dist-packages (from pandas>=0.23->seaborn) (2.8.1)\n",
            "Requirement already satisfied: pytz>=2017.2 in /usr/local/lib/python3.7/dist-packages (from pandas>=0.23->seaborn) (2018.9)\n",
            "Requirement already satisfied: pyparsing!=2.0.4,!=2.1.2,!=2.1.6,>=2.0.1 in /usr/local/lib/python3.7/dist-packages (from matplotlib>=2.2->seaborn) (2.4.7)\n",
            "Requirement already satisfied: kiwisolver>=1.0.1 in /usr/local/lib/python3.7/dist-packages (from matplotlib>=2.2->seaborn) (1.3.1)\n",
            "Requirement already satisfied: cycler>=0.10 in /usr/local/lib/python3.7/dist-packages (from matplotlib>=2.2->seaborn) (0.10.0)\n",
            "Requirement already satisfied: six>=1.5 in /usr/local/lib/python3.7/dist-packages (from python-dateutil>=2.7.3->pandas>=0.23->seaborn) (1.15.0)\n",
            "Requirement already satisfied: matplotlib in /usr/local/lib/python3.7/dist-packages (3.2.2)\n",
            "Requirement already satisfied: pyparsing!=2.0.4,!=2.1.2,!=2.1.6,>=2.0.1 in /usr/local/lib/python3.7/dist-packages (from matplotlib) (2.4.7)\n",
            "Requirement already satisfied: python-dateutil>=2.1 in /usr/local/lib/python3.7/dist-packages (from matplotlib) (2.8.1)\n",
            "Requirement already satisfied: cycler>=0.10 in /usr/local/lib/python3.7/dist-packages (from matplotlib) (0.10.0)\n",
            "Requirement already satisfied: numpy>=1.11 in /usr/local/lib/python3.7/dist-packages (from matplotlib) (1.19.5)\n",
            "Requirement already satisfied: kiwisolver>=1.0.1 in /usr/local/lib/python3.7/dist-packages (from matplotlib) (1.3.1)\n",
            "Requirement already satisfied: six>=1.5 in /usr/local/lib/python3.7/dist-packages (from python-dateutil>=2.1->matplotlib) (1.15.0)\n",
            "Requirement already satisfied: sklearn in /usr/local/lib/python3.7/dist-packages (0.0)\n",
            "Requirement already satisfied: scikit-learn in /usr/local/lib/python3.7/dist-packages (from sklearn) (0.22.2.post1)\n",
            "Requirement already satisfied: numpy>=1.11.0 in /usr/local/lib/python3.7/dist-packages (from scikit-learn->sklearn) (1.19.5)\n",
            "Requirement already satisfied: scipy>=0.17.0 in /usr/local/lib/python3.7/dist-packages (from scikit-learn->sklearn) (1.4.1)\n",
            "Requirement already satisfied: joblib>=0.11 in /usr/local/lib/python3.7/dist-packages (from scikit-learn->sklearn) (1.0.1)\n"
          ],
          "name": "stdout"
        }
      ]
    },
    {
      "cell_type": "code",
      "metadata": {
        "id": "kWYaR_Asf1WB"
      },
      "source": [
        "import pandas as pd\n",
        "import numpy as np\n",
        "\n",
        "#Reading the dataset\n",
        "codemetrics = pd.read_csv(\"/content/READYTOMLCODEMETRICS.csv\")"
      ],
      "execution_count": 1,
      "outputs": []
    },
    {
      "cell_type": "code",
      "metadata": {
        "colab": {
          "base_uri": "https://localhost:8080/",
          "height": 419
        },
        "id": "iD2pZXNFhTvM",
        "outputId": "2759acc5-a74d-4d61-cd16-efacd521d0a5"
      },
      "source": [
        "codemetrics"
      ],
      "execution_count": 2,
      "outputs": [
        {
          "output_type": "execute_result",
          "data": {
            "text/html": [
              "<div>\n",
              "<style scoped>\n",
              "    .dataframe tbody tr th:only-of-type {\n",
              "        vertical-align: middle;\n",
              "    }\n",
              "\n",
              "    .dataframe tbody tr th {\n",
              "        vertical-align: top;\n",
              "    }\n",
              "\n",
              "    .dataframe thead th {\n",
              "        text-align: right;\n",
              "    }\n",
              "</style>\n",
              "<table border=\"1\" class=\"dataframe\">\n",
              "  <thead>\n",
              "    <tr style=\"text-align: right;\">\n",
              "      <th></th>\n",
              "      <th>Unnamed: 0</th>\n",
              "      <th>entity</th>\n",
              "      <th>Parent</th>\n",
              "      <th>McCC</th>\n",
              "      <th>CLOC</th>\n",
              "      <th>LLOC</th>\n",
              "      <th>LOC</th>\n",
              "      <th>BUG_STATUS</th>\n",
              "    </tr>\n",
              "  </thead>\n",
              "  <tbody>\n",
              "    <tr>\n",
              "      <th>0</th>\n",
              "      <td>0</td>\n",
              "      <td>test/__init__.py</td>\n",
              "      <td>L114</td>\n",
              "      <td>1</td>\n",
              "      <td>0</td>\n",
              "      <td>0</td>\n",
              "      <td>1</td>\n",
              "      <td>0.0</td>\n",
              "    </tr>\n",
              "    <tr>\n",
              "      <th>1</th>\n",
              "      <td>1</td>\n",
              "      <td>test/helper.py</td>\n",
              "      <td>L114</td>\n",
              "      <td>55</td>\n",
              "      <td>12</td>\n",
              "      <td>233</td>\n",
              "      <td>282</td>\n",
              "      <td>0.0</td>\n",
              "    </tr>\n",
              "    <tr>\n",
              "      <th>2</th>\n",
              "      <td>2</td>\n",
              "      <td>test/test_InfoExtractor.py</td>\n",
              "      <td>L114</td>\n",
              "      <td>7</td>\n",
              "      <td>50</td>\n",
              "      <td>1045</td>\n",
              "      <td>1132</td>\n",
              "      <td>1.0</td>\n",
              "    </tr>\n",
              "    <tr>\n",
              "      <th>3</th>\n",
              "      <td>3</td>\n",
              "      <td>test/test_YoutubeDL.py</td>\n",
              "      <td>L114</td>\n",
              "      <td>14</td>\n",
              "      <td>39</td>\n",
              "      <td>792</td>\n",
              "      <td>994</td>\n",
              "      <td>1.0</td>\n",
              "    </tr>\n",
              "    <tr>\n",
              "      <th>4</th>\n",
              "      <td>4</td>\n",
              "      <td>test/test_YoutubeDLCookieJar.py</td>\n",
              "      <td>L114</td>\n",
              "      <td>1</td>\n",
              "      <td>4</td>\n",
              "      <td>36</td>\n",
              "      <td>51</td>\n",
              "      <td>0.0</td>\n",
              "    </tr>\n",
              "    <tr>\n",
              "      <th>...</th>\n",
              "      <td>...</td>\n",
              "      <td>...</td>\n",
              "      <td>...</td>\n",
              "      <td>...</td>\n",
              "      <td>...</td>\n",
              "      <td>...</td>\n",
              "      <td>...</td>\n",
              "      <td>...</td>\n",
              "    </tr>\n",
              "    <tr>\n",
              "      <th>37209</th>\n",
              "      <td>37209</td>\n",
              "      <td>pipenv/vendor/urllib3/packages/ssl_match_hostn...</td>\n",
              "      <td>L70825</td>\n",
              "      <td>1</td>\n",
              "      <td>7</td>\n",
              "      <td>14</td>\n",
              "      <td>22</td>\n",
              "      <td>1.0</td>\n",
              "    </tr>\n",
              "    <tr>\n",
              "      <th>37210</th>\n",
              "      <td>37210</td>\n",
              "      <td>pipenv/vendor/urllib3/packages/ssl_match_hostn...</td>\n",
              "      <td>L70825</td>\n",
              "      <td>29</td>\n",
              "      <td>53</td>\n",
              "      <td>103</td>\n",
              "      <td>160</td>\n",
              "      <td>1.0</td>\n",
              "    </tr>\n",
              "    <tr>\n",
              "      <th>37211</th>\n",
              "      <td>37211</td>\n",
              "      <td>pipenv/vendor/importlib_resources/tests/data01...</td>\n",
              "      <td>L49302</td>\n",
              "      <td>1</td>\n",
              "      <td>0</td>\n",
              "      <td>0</td>\n",
              "      <td>1</td>\n",
              "      <td>1.0</td>\n",
              "    </tr>\n",
              "    <tr>\n",
              "      <th>37212</th>\n",
              "      <td>37212</td>\n",
              "      <td>pipenv/vendor/importlib_resources/tests/data02...</td>\n",
              "      <td>L49312</td>\n",
              "      <td>1</td>\n",
              "      <td>0</td>\n",
              "      <td>0</td>\n",
              "      <td>1</td>\n",
              "      <td>1.0</td>\n",
              "    </tr>\n",
              "    <tr>\n",
              "      <th>37213</th>\n",
              "      <td>37213</td>\n",
              "      <td>pipenv/vendor/importlib_resources/tests/data02...</td>\n",
              "      <td>L49317</td>\n",
              "      <td>1</td>\n",
              "      <td>0</td>\n",
              "      <td>0</td>\n",
              "      <td>1</td>\n",
              "      <td>1.0</td>\n",
              "    </tr>\n",
              "  </tbody>\n",
              "</table>\n",
              "<p>37214 rows × 8 columns</p>\n",
              "</div>"
            ],
            "text/plain": [
              "       Unnamed: 0  ... BUG_STATUS\n",
              "0               0  ...        0.0\n",
              "1               1  ...        0.0\n",
              "2               2  ...        1.0\n",
              "3               3  ...        1.0\n",
              "4               4  ...        0.0\n",
              "...           ...  ...        ...\n",
              "37209       37209  ...        1.0\n",
              "37210       37210  ...        1.0\n",
              "37211       37211  ...        1.0\n",
              "37212       37212  ...        1.0\n",
              "37213       37213  ...        1.0\n",
              "\n",
              "[37214 rows x 8 columns]"
            ]
          },
          "metadata": {
            "tags": []
          },
          "execution_count": 2
        }
      ]
    },
    {
      "cell_type": "code",
      "metadata": {
        "colab": {
          "base_uri": "https://localhost:8080/"
        },
        "id": "llRdoFvjyTtx",
        "outputId": "f2d305ef-9762-486b-f46e-231191d405f2"
      },
      "source": [
        "codemetrics.isnull().sum()"
      ],
      "execution_count": 3,
      "outputs": [
        {
          "output_type": "execute_result",
          "data": {
            "text/plain": [
              "Unnamed: 0    0\n",
              "entity        0\n",
              "Parent        0\n",
              "McCC          0\n",
              "CLOC          0\n",
              "LLOC          0\n",
              "LOC           0\n",
              "BUG_STATUS    0\n",
              "dtype: int64"
            ]
          },
          "metadata": {
            "tags": []
          },
          "execution_count": 3
        }
      ]
    },
    {
      "cell_type": "code",
      "metadata": {
        "colab": {
          "base_uri": "https://localhost:8080/",
          "height": 552
        },
        "id": "xKvex99vhoL0",
        "outputId": "a7502c8a-942d-4a01-adfd-a07b4e92106b"
      },
      "source": [
        "#Quick description of data\n",
        "codemetrics.info()\n",
        "codemetrics.describe()"
      ],
      "execution_count": 4,
      "outputs": [
        {
          "output_type": "stream",
          "text": [
            "<class 'pandas.core.frame.DataFrame'>\n",
            "RangeIndex: 37214 entries, 0 to 37213\n",
            "Data columns (total 8 columns):\n",
            " #   Column      Non-Null Count  Dtype  \n",
            "---  ------      --------------  -----  \n",
            " 0   Unnamed: 0  37214 non-null  int64  \n",
            " 1   entity      37214 non-null  object \n",
            " 2   Parent      37214 non-null  object \n",
            " 3   McCC        37214 non-null  int64  \n",
            " 4   CLOC        37214 non-null  int64  \n",
            " 5   LLOC        37214 non-null  int64  \n",
            " 6   LOC         37214 non-null  int64  \n",
            " 7   BUG_STATUS  37214 non-null  float64\n",
            "dtypes: float64(1), int64(5), object(2)\n",
            "memory usage: 2.3+ MB\n"
          ],
          "name": "stdout"
        },
        {
          "output_type": "execute_result",
          "data": {
            "text/html": [
              "<div>\n",
              "<style scoped>\n",
              "    .dataframe tbody tr th:only-of-type {\n",
              "        vertical-align: middle;\n",
              "    }\n",
              "\n",
              "    .dataframe tbody tr th {\n",
              "        vertical-align: top;\n",
              "    }\n",
              "\n",
              "    .dataframe thead th {\n",
              "        text-align: right;\n",
              "    }\n",
              "</style>\n",
              "<table border=\"1\" class=\"dataframe\">\n",
              "  <thead>\n",
              "    <tr style=\"text-align: right;\">\n",
              "      <th></th>\n",
              "      <th>Unnamed: 0</th>\n",
              "      <th>McCC</th>\n",
              "      <th>CLOC</th>\n",
              "      <th>LLOC</th>\n",
              "      <th>LOC</th>\n",
              "      <th>BUG_STATUS</th>\n",
              "    </tr>\n",
              "  </thead>\n",
              "  <tbody>\n",
              "    <tr>\n",
              "      <th>count</th>\n",
              "      <td>37214.000000</td>\n",
              "      <td>37214.000000</td>\n",
              "      <td>37214.000000</td>\n",
              "      <td>37214.000000</td>\n",
              "      <td>37214.000000</td>\n",
              "      <td>37214.000000</td>\n",
              "    </tr>\n",
              "    <tr>\n",
              "      <th>mean</th>\n",
              "      <td>18606.500000</td>\n",
              "      <td>8.323507</td>\n",
              "      <td>4.928522</td>\n",
              "      <td>106.671441</td>\n",
              "      <td>171.009674</td>\n",
              "      <td>0.420594</td>\n",
              "    </tr>\n",
              "    <tr>\n",
              "      <th>std</th>\n",
              "      <td>10742.900795</td>\n",
              "      <td>24.978090</td>\n",
              "      <td>49.210669</td>\n",
              "      <td>229.113235</td>\n",
              "      <td>350.575902</td>\n",
              "      <td>0.493661</td>\n",
              "    </tr>\n",
              "    <tr>\n",
              "      <th>min</th>\n",
              "      <td>0.000000</td>\n",
              "      <td>1.000000</td>\n",
              "      <td>0.000000</td>\n",
              "      <td>0.000000</td>\n",
              "      <td>0.000000</td>\n",
              "      <td>0.000000</td>\n",
              "    </tr>\n",
              "    <tr>\n",
              "      <th>25%</th>\n",
              "      <td>9303.250000</td>\n",
              "      <td>1.000000</td>\n",
              "      <td>0.000000</td>\n",
              "      <td>20.000000</td>\n",
              "      <td>51.000000</td>\n",
              "      <td>0.000000</td>\n",
              "    </tr>\n",
              "    <tr>\n",
              "      <th>50%</th>\n",
              "      <td>18606.500000</td>\n",
              "      <td>2.000000</td>\n",
              "      <td>0.000000</td>\n",
              "      <td>48.000000</td>\n",
              "      <td>90.000000</td>\n",
              "      <td>0.000000</td>\n",
              "    </tr>\n",
              "    <tr>\n",
              "      <th>75%</th>\n",
              "      <td>27909.750000</td>\n",
              "      <td>7.000000</td>\n",
              "      <td>0.000000</td>\n",
              "      <td>108.000000</td>\n",
              "      <td>175.000000</td>\n",
              "      <td>1.000000</td>\n",
              "    </tr>\n",
              "    <tr>\n",
              "      <th>max</th>\n",
              "      <td>37213.000000</td>\n",
              "      <td>866.000000</td>\n",
              "      <td>3195.000000</td>\n",
              "      <td>11089.000000</td>\n",
              "      <td>26422.000000</td>\n",
              "      <td>1.000000</td>\n",
              "    </tr>\n",
              "  </tbody>\n",
              "</table>\n",
              "</div>"
            ],
            "text/plain": [
              "         Unnamed: 0          McCC  ...           LOC    BUG_STATUS\n",
              "count  37214.000000  37214.000000  ...  37214.000000  37214.000000\n",
              "mean   18606.500000      8.323507  ...    171.009674      0.420594\n",
              "std    10742.900795     24.978090  ...    350.575902      0.493661\n",
              "min        0.000000      1.000000  ...      0.000000      0.000000\n",
              "25%     9303.250000      1.000000  ...     51.000000      0.000000\n",
              "50%    18606.500000      2.000000  ...     90.000000      0.000000\n",
              "75%    27909.750000      7.000000  ...    175.000000      1.000000\n",
              "max    37213.000000    866.000000  ...  26422.000000      1.000000\n",
              "\n",
              "[8 rows x 6 columns]"
            ]
          },
          "metadata": {
            "tags": []
          },
          "execution_count": 4
        }
      ]
    },
    {
      "cell_type": "code",
      "metadata": {
        "id": "wfZdHvh2g4Uq"
      },
      "source": [
        "#Removing the un necessary columns\n",
        "codemetrics.drop(['Unnamed: 0', 'entity', 'Parent'], inplace=True, axis=1)"
      ],
      "execution_count": 5,
      "outputs": []
    },
    {
      "cell_type": "code",
      "metadata": {
        "colab": {
          "base_uri": "https://localhost:8080/",
          "height": 297
        },
        "id": "AXZW639keMQM",
        "outputId": "d1841574-c66b-4216-bb58-ffd52933e100"
      },
      "source": [
        "\n",
        "import seaborn as sns\n",
        "sns.countplot(x='BUG_STATUS', data=codemetrics)"
      ],
      "execution_count": 6,
      "outputs": [
        {
          "output_type": "execute_result",
          "data": {
            "text/plain": [
              "<matplotlib.axes._subplots.AxesSubplot at 0x7f126daa1490>"
            ]
          },
          "metadata": {
            "tags": []
          },
          "execution_count": 6
        },
        {
          "output_type": "display_data",
          "data": {
            "image/png": "[encoded data removed]",
            "text/plain": [
              "<Figure size 432x288 with 1 Axes>"
            ]
          },
          "metadata": {
            "tags": [],
            "needs_background": "light"
          }
        }
      ]
    },
    {
      "cell_type": "code",
      "metadata": {
        "colab": {
          "base_uri": "https://localhost:8080/",
          "height": 689
        },
        "id": "zkpwtXV0hEn-",
        "outputId": "2c593d65-569d-4b40-cdc0-5edea2469ebd"
      },
      "source": [
        "import matplotlib.pyplot as plt\n",
        "codemetrics.hist(bins=50,figsize=(20,15))\n",
        "plt.show()"
      ],
      "execution_count": 7,
      "outputs": [
        {
          "output_type": "display_data",
          "data": {
            "image/png": "[encoded data removed]",
            "text/plain": [
              "<Figure size 1440x1080 with 6 Axes>"
            ]
          },
          "metadata": {
            "tags": [],
            "needs_background": "light"
          }
        }
      ]
    },
    {
      "cell_type": "code",
      "metadata": {
        "id": "5Iuwe-azpphf"
      },
      "source": [
        "# #train and test set splitting\n",
        "from sklearn.model_selection import train_test_split\n",
        "train_set, test_set = train_test_split(codemetrics,test_size=0.2,random_state=42)"
      ],
      "execution_count": 8,
      "outputs": []
    },
    {
      "cell_type": "code",
      "metadata": {
        "colab": {
          "base_uri": "https://localhost:8080/"
        },
        "id": "kbyL_C7jgK-M",
        "outputId": "4dcae056-59c7-4e7b-979f-9488e5e98fcd"
      },
      "source": [
        "x = len(train_set)\n",
        "y = len(test_set)\n",
        "print(train_set.shape)\n",
        "print(test_set.shape)"
      ],
      "execution_count": 9,
      "outputs": [
        {
          "output_type": "stream",
          "text": [
            "(29771, 5)\n",
            "(7443, 5)\n"
          ],
          "name": "stdout"
        }
      ]
    },
    {
      "cell_type": "code",
      "metadata": {
        "colab": {
          "base_uri": "https://localhost:8080/",
          "height": 337
        },
        "id": "ZpXwP1lchtUR",
        "outputId": "575d6852-8c8b-4f2f-c365-20a59bf28f4f"
      },
      "source": [
        "import matplotlib.pyplot as plt\n",
        "fig = plt.figure()\n",
        "ax = fig.add_axes([0,0,1,1])\n",
        "set_ = ['train_set','test_set']\n",
        "length =  [x,y]\n",
        "ax.bar(set_,length)\n",
        "plt.show()"
      ],
      "execution_count": 10,
      "outputs": [
        {
          "output_type": "display_data",
          "data": {
            "image/png": "[encoded data removed]",
            "text/plain": [
              "<Figure size 432x288 with 1 Axes>"
            ]
          },
          "metadata": {
            "tags": [],
            "needs_background": "light"
          }
        }
      ]
    },
    {
      "cell_type": "code",
      "metadata": {
        "id": "XyhH1up5vTrY"
      },
      "source": [
        "codemetrics = train_set.copy()"
      ],
      "execution_count": 11,
      "outputs": []
    },
    {
      "cell_type": "code",
      "metadata": {
        "colab": {
          "base_uri": "https://localhost:8080/"
        },
        "id": "p29rwFx3vjrk",
        "outputId": "a8842ff4-1940-4a0b-fc3b-d078c04f4555"
      },
      "source": [
        "#checking correlation\n",
        "corr_matrix = codemetrics.corr()\n",
        "corr_matrix[\"BUG_STATUS\"].sort_values(ascending=False)"
      ],
      "execution_count": 12,
      "outputs": [
        {
          "output_type": "execute_result",
          "data": {
            "text/plain": [
              "BUG_STATUS    1.000000\n",
              "LLOC          0.182434\n",
              "LOC           0.156906\n",
              "McCC          0.115525\n",
              "CLOC          0.091014\n",
              "Name: BUG_STATUS, dtype: float64"
            ]
          },
          "metadata": {
            "tags": []
          },
          "execution_count": 12
        }
      ]
    },
    {
      "cell_type": "code",
      "metadata": {
        "colab": {
          "base_uri": "https://localhost:8080/",
          "height": 955
        },
        "id": "cWmzWLnNwTde",
        "outputId": "b639d6a9-76aa-4024-9960-2dd110ca064a"
      },
      "source": [
        "#checking correlation with scatter_matrix\n",
        "from pandas.plotting import scatter_matrix\n",
        "\n",
        "attributes = [\"BUG_STATUS\",\"McCC\",\"CLOC\",\"LLOC\", \"LOC\"]\n",
        "scatter_matrix(codemetrics[attributes],figsize=(12,8))"
      ],
      "execution_count": 13,
      "outputs": [
        {
          "output_type": "execute_result",
          "data": {
            "text/plain": [
              "array([[<matplotlib.axes._subplots.AxesSubplot object at 0x7f126b5a0250>,\n",
              "        <matplotlib.axes._subplots.AxesSubplot object at 0x7f126b54de10>,\n",
              "        <matplotlib.axes._subplots.AxesSubplot object at 0x7f126b50d4d0>,\n",
              "        <matplotlib.axes._subplots.AxesSubplot object at 0x7f126b4c1b50>,\n",
              "        <matplotlib.axes._subplots.AxesSubplot object at 0x7f126b485210>],\n",
              "       [<matplotlib.axes._subplots.AxesSubplot object at 0x7f126b43b890>,\n",
              "        <matplotlib.axes._subplots.AxesSubplot object at 0x7f126b3f0b90>,\n",
              "        <matplotlib.axes._subplots.AxesSubplot object at 0x7f126b3b35d0>,\n",
              "        <matplotlib.axes._subplots.AxesSubplot object at 0x7f126b3bd710>,\n",
              "        <matplotlib.axes._subplots.AxesSubplot object at 0x7f126b372e50>],\n",
              "       [<matplotlib.axes._subplots.AxesSubplot object at 0x7f126b360990>,\n",
              "        <matplotlib.axes._subplots.AxesSubplot object at 0x7f126b321050>,\n",
              "        <matplotlib.axes._subplots.AxesSubplot object at 0x7f126b2d76d0>,\n",
              "        <matplotlib.axes._subplots.AxesSubplot object at 0x7f126b28fd50>,\n",
              "        <matplotlib.axes._subplots.AxesSubplot object at 0x7f126b252410>],\n",
              "       [<matplotlib.axes._subplots.AxesSubplot object at 0x7f126b207a90>,\n",
              "        <matplotlib.axes._subplots.AxesSubplot object at 0x7f126b1c9150>,\n",
              "        <matplotlib.axes._subplots.AxesSubplot object at 0x7f126b17f7d0>,\n",
              "        <matplotlib.axes._subplots.AxesSubplot object at 0x7f126b135e50>,\n",
              "        <matplotlib.axes._subplots.AxesSubplot object at 0x7f126b0f7510>],\n",
              "       [<matplotlib.axes._subplots.AxesSubplot object at 0x7f126b0b1cd0>,\n",
              "        <matplotlib.axes._subplots.AxesSubplot object at 0x7f126b0733d0>,\n",
              "        <matplotlib.axes._subplots.AxesSubplot object at 0x7f126b028a50>,\n",
              "        <matplotlib.axes._subplots.AxesSubplot object at 0x7f126afe9110>,\n",
              "        <matplotlib.axes._subplots.AxesSubplot object at 0x7f126b01e790>]],\n",
              "      dtype=object)"
            ]
          },
          "metadata": {
            "tags": []
          },
          "execution_count": 13
        },
        {
          "output_type": "display_data",
          "data": {
            "image/png": "[encoded data removed]",
            "text/plain": [
              "<Figure size 864x576 with 25 Axes>"
            ]
          },
          "metadata": {
            "tags": [],
            "needs_background": "light"
          }
        }
      ]
    },
    {
      "cell_type": "code",
      "metadata": {
        "id": "hntMSav3xuAQ"
      },
      "source": [
        "X_train = train_set.drop(\"BUG_STATUS\",axis=1)\n",
        "y_train = train_set['BUG_STATUS'].copy()\n",
        "\n",
        "X_test = test_set.drop(\"BUG_STATUS\",axis=1)\n",
        "y_test = test_set['BUG_STATUS'].copy()"
      ],
      "execution_count": 14,
      "outputs": []
    },
    {
      "cell_type": "code",
      "metadata": {
        "id": "TcpQ8IaqpKne"
      },
      "source": [
        "from sklearn.preprocessing import StandardScaler \n",
        "sc = StandardScaler() \n",
        "X_train = sc.fit_transform(X_train) \n",
        "X_test = sc.transform(X_test)"
      ],
      "execution_count": 15,
      "outputs": []
    },
    {
      "cell_type": "code",
      "metadata": {
        "colab": {
          "base_uri": "https://localhost:8080/"
        },
        "id": "bXHjG9xbWIrf",
        "outputId": "54e8ea94-a24c-4be7-e78b-b5193d89b675"
      },
      "source": [
        "X_train"
      ],
      "execution_count": 16,
      "outputs": [
        {
          "output_type": "execute_result",
          "data": {
            "text/plain": [
              "array([[-0.29447239, -0.10838967, -0.37603494, -0.33705662],\n",
              "       [-0.29447239, -0.10838967, -0.43390655, -0.37041937],\n",
              "       [-0.01267304, -0.10838967, -0.32706667, -0.30647411],\n",
              "       ...,\n",
              "       [-0.29447239, -0.10838967, -0.44280987, -0.36485891],\n",
              "       [-0.25421534, -0.10838967, -0.32706667, -0.23974862],\n",
              "       [ 0.26912631, -0.10838967,  0.02016294,  0.05495563]])"
            ]
          },
          "metadata": {
            "tags": []
          },
          "execution_count": 16
        }
      ]
    },
    {
      "cell_type": "code",
      "metadata": {
        "colab": {
          "base_uri": "https://localhost:8080/"
        },
        "id": "c01x4a-MzxEj",
        "outputId": "e0976398-61a9-4fcb-f47a-f22e8442fa97"
      },
      "source": [
        "y_train"
      ],
      "execution_count": 17,
      "outputs": [
        {
          "output_type": "execute_result",
          "data": {
            "text/plain": [
              "3923     0.0\n",
              "24375    0.0\n",
              "21840    0.0\n",
              "686      0.0\n",
              "30332    0.0\n",
              "        ... \n",
              "16850    1.0\n",
              "6265     1.0\n",
              "11284    0.0\n",
              "860      1.0\n",
              "15795    1.0\n",
              "Name: BUG_STATUS, Length: 29771, dtype: float64"
            ]
          },
          "metadata": {
            "tags": []
          },
          "execution_count": 17
        }
      ]
    },
    {
      "cell_type": "code",
      "metadata": {
        "colab": {
          "base_uri": "https://localhost:8080/"
        },
        "id": "qnWrHtAIoOMX",
        "outputId": "cc1dbbc7-a2a7-4bd5-c075-67b9039969b8"
      },
      "source": [
        "X_test"
      ],
      "execution_count": 18,
      "outputs": [
        {
          "output_type": "execute_result",
          "data": {
            "text/plain": [
              "array([[-0.29447239, -0.10838967, -0.45171319, -0.39822165],\n",
              "       [-0.29447239, -0.10838967,  0.79030041,  0.54427588],\n",
              "       [-0.29447239, -0.10838967, -0.42500322, -0.37876005],\n",
              "       ...,\n",
              "       [-0.29447239, -0.10838967, -0.44280987, -0.38710074],\n",
              "       [-0.29447239, -0.10838967, -0.34042165, -0.28979273],\n",
              "       [-0.25421534,  1.45207066,  0.32287594,  0.39414353]])"
            ]
          },
          "metadata": {
            "tags": []
          },
          "execution_count": 18
        }
      ]
    },
    {
      "cell_type": "code",
      "metadata": {
        "colab": {
          "base_uri": "https://localhost:8080/"
        },
        "id": "aLvfiOHYu6mS",
        "outputId": "3f4c8fb9-9489-4133-92a9-e65d6a196f9f"
      },
      "source": [
        "y_test"
      ],
      "execution_count": 19,
      "outputs": [
        {
          "output_type": "execute_result",
          "data": {
            "text/plain": [
              "12778    0.0\n",
              "27239    1.0\n",
              "5553     0.0\n",
              "6394     0.0\n",
              "7718     1.0\n",
              "        ... \n",
              "24410    0.0\n",
              "12890    0.0\n",
              "20986    0.0\n",
              "996      1.0\n",
              "36655    1.0\n",
              "Name: BUG_STATUS, Length: 7443, dtype: float64"
            ]
          },
          "metadata": {
            "tags": []
          },
          "execution_count": 19
        }
      ]
    },
    {
      "cell_type": "code",
      "metadata": {
        "id": "9w83oMruf6Ol"
      },
      "source": [
        "# import all libraries\n",
        "import numpy as np\n",
        "import pandas as pd\n",
        "import matplotlib.pyplot as plt \n",
        "import seaborn as sns\n",
        "import re\n",
        "\n",
        "import sklearn\n",
        "from sklearn.model_selection import train_test_split\n",
        "from sklearn.linear_model import LinearRegression\n",
        "from sklearn.model_selection import cross_val_predict\n",
        "from sklearn.model_selection import GridSearchCV\n",
        "import warnings # supress warnings\n",
        "warnings.filterwarnings('ignore')"
      ],
      "execution_count": 20,
      "outputs": []
    },
    {
      "cell_type": "code",
      "metadata": {
        "id": "Jp3rN3kGjwxy"
      },
      "source": [
        "# Classifiers:\n",
        "# Logistic Regression\n",
        "# Decision Tree\n",
        "# Support Vector Machine\n",
        "\n",
        "# Linear Discriminant Analysis\n",
        "# Quadratic Discriminant Analysis\n",
        "# Random Forest\n",
        "# K-Nearest Neighbors\n",
        "# Naive Bayes\n",
        "\n",
        "# Scoring:\n",
        "# precision score\n",
        "# recall score\n",
        "# F1 score\n",
        "# support score\n",
        "# accuracy score\n",
        "# AUC/ROC"
      ],
      "execution_count": 21,
      "outputs": []
    },
    {
      "cell_type": "code",
      "metadata": {
        "colab": {
          "base_uri": "https://localhost:8080/",
          "height": 1000
        },
        "id": "fFKA9q9Eqv7p",
        "outputId": "dfbbfc2c-7b7d-4e66-841f-b52588e82be5"
      },
      "source": [
        "# Decision Tree\n",
        "from numpy import mean\n",
        "from numpy import std\n",
        "from sklearn import metrics\n",
        "from sklearn.tree import DecisionTreeClassifier\n",
        "from sklearn.model_selection import cross_val_predict\n",
        "from sklearn.metrics import confusion_matrix, classification_report\n",
        "from sklearn.model_selection import KFold\n",
        "from sklearn.model_selection import cross_val_score\n",
        "\n",
        "\n",
        "# create model\n",
        "model = DecisionTreeClassifier()\n",
        "\n",
        "#===================================================================================================\n",
        "#cross validation \n",
        "\n",
        "# evaluate model\n",
        "scores = cross_val_score(model, X_train, y_train, scoring='accuracy', cv=10, n_jobs=-1)\n",
        "# report performance\n",
        "print(50*\"=\")\n",
        "print(\"Cross validation Accuracy:\")\n",
        "print('Accuracy: %.3f (%.3f)' % (mean(scores), std(scores))) \n",
        "print(50*\"=\")\n",
        "\n",
        "#====================================================================================================\n",
        "print(50*\"=\")\n",
        "print(\"GRID SEARCH FOR DECISION TREE CLASSIFIER\")\n",
        "\n",
        "params = { \n",
        "    \"random_state\":range(30,40)} \n",
        "gs_Deci = GridSearchCV(model,\n",
        "                      param_grid=params,\n",
        "                      scoring='accuracy',\n",
        "                      cv=10)\n",
        "gs_Deci.fit(X_train, y_train)\n",
        "\n",
        "print(\"Best Parameters\")\n",
        "print(gs_Deci.best_params_)\n",
        "\n",
        "print(\"Best estimaters\")\n",
        "print(gs_Deci.best_estimator_)\n",
        "\n",
        "#Predicting Bugs\n",
        "y_pred = gs_Deci.best_estimator_.predict(X_test)\n",
        "\n",
        "#CONFUSION MATRIX\n",
        "print(50*\"=\")\n",
        "print(\"CONFUSION MATRIX\")\n",
        "print(confusion_matrix(y_test,y_pred))\n",
        "\n",
        "from sklearn.metrics import plot_confusion_matrix\n",
        "\n",
        "import matplotlib.pyplot as plt\n",
        "plt.rcParams[\"figure.figsize\"] = (20,7)\n",
        "\n",
        "class_names=['NON BUGGY FILE','BUGGY FILE']\n",
        "\n",
        "RF_confusion = plot_confusion_matrix(gs_Deci.best_estimator_,X_test,y_test,\n",
        "                                 display_labels=class_names,\n",
        "                                 cmap=plt.cm.Greens,\n",
        "                                 normalize=None, values_format = '.0f')\n",
        "\n",
        "\n",
        "RF_confusion.ax_.set_title(\"Confusion Matrix using Decision tree Classfier\")\n",
        "\n",
        "print(50*\"=\")\n",
        "print(classification_report(y_test,y_pred))\n",
        "print(50*\"=\")\n",
        "#====================================================================================================\n",
        "\n",
        "# Model Accuracy: how often is the classifier correct?\n",
        "RF_Accuracy = metrics.accuracy_score(y_test, y_pred)\n",
        "print(\"Accuracy:\",RF_Accuracy)\n",
        "\n",
        "# Model Precision: what percentage of positive tuples are labeled as such?\n",
        "print(\"Precision:\",metrics.precision_score(y_test, y_pred))\n",
        "\n",
        "# Model Recall: what percentage of positive tuples are labelled as such?\n",
        "print(\"Recall:\",metrics.recall_score(y_test, y_pred))\n",
        "\n",
        "#Calculate F1 Score\n",
        "print(\"F1 Score:\",metrics.f1_score(y_test, y_pred))\n",
        "\n",
        "#Calculate Mean Absolute Error\n",
        "print(\"Mean Absolute Error:\",metrics.mean_absolute_error(y_test, y_pred))\n",
        "\n",
        "# kappa\n",
        "print(\"Cohens kappa:\", metrics.cohen_kappa_score(y_test, y_pred))\n",
        "\n",
        "# ROC AUC\n",
        "print(\"ROC AUC:\", metrics.roc_auc_score(y_test, y_pred))\n",
        "print(50*\"=\")"
      ],
      "execution_count": null,
      "outputs": [
        {
          "output_type": "stream",
          "text": [
            "==================================================\n",
            "Cross validation Accuracy:\n",
            "Accuracy: 0.632 (0.009)\n",
            "==================================================\n",
            "==================================================\n",
            "GRID SEARCH FOR DECISION TREE CLASSIFIER\n",
            "Best Parameters\n",
            "{'random_state': 36}\n",
            "Best estimaters\n",
            "DecisionTreeClassifier(ccp_alpha=0.0, class_weight=None, criterion='gini',\n",
            "                       max_depth=None, max_features=None, max_leaf_nodes=None,\n",
            "                       min_impurity_decrease=0.0, min_impurity_split=None,\n",
            "                       min_samples_leaf=1, min_samples_split=2,\n",
            "                       min_weight_fraction_leaf=0.0, presort='deprecated',\n",
            "                       random_state=36, splitter='best')\n",
            "==================================================\n",
            "CONFUSION MATRIX\n",
            "[[3232 1123]\n",
            " [1578 1510]]\n",
            "==================================================\n",
            "              precision    recall  f1-score   support\n",
            "\n",
            "         0.0       0.67      0.74      0.71      4355\n",
            "         1.0       0.57      0.49      0.53      3088\n",
            "\n",
            "    accuracy                           0.64      7443\n",
            "   macro avg       0.62      0.62      0.62      7443\n",
            "weighted avg       0.63      0.64      0.63      7443\n",
            "\n",
            "==================================================\n",
            "Accuracy: 0.6371086927314255\n",
            "Precision: 0.5734903152297759\n",
            "Recall: 0.4889896373056995\n",
            "F1 Score: 0.5278797413039679\n",
            "Mean Absolute Error: 0.3628913072685745\n",
            "Cohens kappa: 0.23618743088667005\n",
            "ROC AUC: 0.615562556884767\n",
            "==================================================\n"
          ],
          "name": "stdout"
        },
        {
          "output_type": "display_data",
          "data": {
            "image/png": "[encoded data removed]",
            "text/plain": [
              "<Figure size 1440x504 with 2 Axes>"
            ]
          },
          "metadata": {
            "tags": []
          }
        }
      ]
    },
    {
      "cell_type": "code",
      "metadata": {
        "colab": {
          "base_uri": "https://localhost:8080/",
          "height": 1000
        },
        "id": "unPCGhq6f4kV",
        "outputId": "e2507813-28d4-44fd-8d87-194440b92885"
      },
      "source": [
        "# Logistic regression\n",
        "from numpy import mean\n",
        "from numpy import std\n",
        "from sklearn.linear_model import LogisticRegression\n",
        "from sklearn.model_selection import cross_val_predict\n",
        "from sklearn.metrics import confusion_matrix, classification_report\n",
        "from sklearn.model_selection import KFold\n",
        "from sklearn.model_selection import cross_val_score\n",
        "from sklearn import metrics\n",
        "\n",
        "# create model\n",
        "model = LogisticRegression()\n",
        "\n",
        "#===================================================================================================\n",
        "#cross validation \n",
        "\n",
        "# evaluate model\n",
        "scores = cross_val_score(model, X_train, y_train, scoring='accuracy', cv=10, n_jobs=-1)\n",
        "# report performance\n",
        "print(50*\"=\")\n",
        "print(\"Cross validation Accuracy:\")\n",
        "print('Accuracy: %.3f (%.3f)' % (mean(scores), std(scores))) \n",
        "print(50*\"=\")\n",
        "\n",
        "#====================================================================================================\n",
        "print(50*\"=\")\n",
        "print(\"GRID SEARCH FOR Logistic Regression\")\n",
        "\n",
        "params = { \n",
        "    \"random_state\":range(30,40)} \n",
        "gs_logi = GridSearchCV(model,\n",
        "                      param_grid=params,\n",
        "                      scoring='accuracy',\n",
        "                      cv=10)\n",
        "gs_logi.fit(X_train, y_train)\n",
        "\n",
        "print(\"Best Parameters\")\n",
        "print(gs_logi.best_params_)\n",
        "\n",
        "print(\"Best estimaters\")\n",
        "print(gs_logi.best_estimator_)\n",
        "\n",
        "#Predicting Bugs\n",
        "y_pred = gs_logi.best_estimator_.predict(X_test)\n",
        "\n",
        "#CONFUSION MATRIX\n",
        "print(50*\"=\")\n",
        "print(\"CONFUSION MATRIX\")\n",
        "print(confusion_matrix(y_test,y_pred))\n",
        "\n",
        "from sklearn.metrics import plot_confusion_matrix\n",
        "\n",
        "import matplotlib.pyplot as plt\n",
        "plt.rcParams[\"figure.figsize\"] = (20,7)\n",
        "\n",
        "class_names=['NON BUGGY FILE','BUGGY FILE']\n",
        "\n",
        "confusion = plot_confusion_matrix(gs_Deci.best_estimator_,X_test,y_test,\n",
        "                                 display_labels=class_names,\n",
        "                                 cmap=plt.cm.Greens,\n",
        "                                 normalize=None, values_format = '.0f')\n",
        "\n",
        "\n",
        "confusion.ax_.set_title(\"Confusion Matrix using Logistic Regression\")\n",
        "\n",
        "print(50*\"=\")\n",
        "print(classification_report(y_test,y_pred))\n",
        "print(50*\"=\")\n",
        "#====================================================================================================\n",
        "\n",
        "# Model Accuracy: how often is the classifier correct?\n",
        "RF_Accuracy = metrics.accuracy_score(y_test, y_pred)\n",
        "print(\"Accuracy:\",RF_Accuracy)\n",
        "\n",
        "# Model Precision: what percentage of positive tuples are labeled as such?\n",
        "print(\"Precision:\",metrics.precision_score(y_test, y_pred))\n",
        "\n",
        "# Model Recall: what percentage of positive tuples are labelled as such?\n",
        "print(\"Recall:\",metrics.recall_score(y_test, y_pred))\n",
        "\n",
        "#Calculate F1 Score\n",
        "print(\"F1 Score:\",metrics.f1_score(y_test, y_pred))\n",
        "\n",
        "#Calculate Mean Absolute Error\n",
        "print(\"Mean Absolute Error:\",metrics.mean_absolute_error(y_test, y_pred))\n",
        "\n",
        "# kappa\n",
        "print(\"Cohens kappa:\", metrics.cohen_kappa_score(y_test, y_pred))\n",
        "\n",
        "# ROC AUC\n",
        "print(\"ROC AUC:\", metrics.roc_auc_score(y_test, y_pred))\n",
        "print(50*\"=\")"
      ],
      "execution_count": null,
      "outputs": [
        {
          "output_type": "stream",
          "text": [
            "==================================================\n",
            "Cross validation Accuracy:\n",
            "Accuracy: 0.630 (0.004)\n",
            "==================================================\n",
            "==================================================\n",
            "GRID SEARCH FOR Logistic Regression\n",
            "Best Parameters\n",
            "{'random_state': 30}\n",
            "Best estimaters\n",
            "LogisticRegression(C=1.0, class_weight=None, dual=False, fit_intercept=True,\n",
            "                   intercept_scaling=1, l1_ratio=None, max_iter=100,\n",
            "                   multi_class='auto', n_jobs=None, penalty='l2',\n",
            "                   random_state=30, solver='lbfgs', tol=0.0001, verbose=0,\n",
            "                   warm_start=False)\n",
            "==================================================\n",
            "CONFUSION MATRIX\n",
            "[[4070  285]\n",
            " [2419  669]]\n",
            "==================================================\n",
            "              precision    recall  f1-score   support\n",
            "\n",
            "         0.0       0.63      0.93      0.75      4355\n",
            "         1.0       0.70      0.22      0.33      3088\n",
            "\n",
            "    accuracy                           0.64      7443\n",
            "   macro avg       0.66      0.58      0.54      7443\n",
            "weighted avg       0.66      0.64      0.58      7443\n",
            "\n",
            "==================================================\n",
            "Accuracy: 0.6367056294504904\n",
            "Precision: 0.7012578616352201\n",
            "Recall: 0.21664507772020725\n",
            "F1 Score: 0.3310242454230579\n",
            "Mean Absolute Error: 0.3632943705495096\n",
            "Cohens kappa: 0.16810152086360597\n",
            "ROC AUC: 0.5756015285271531\n",
            "==================================================\n"
          ],
          "name": "stdout"
        },
        {
          "output_type": "display_data",
          "data": {
            "image/png": "[encoded data removed]",
            "text/plain": [
              "<Figure size 1440x504 with 2 Axes>"
            ]
          },
          "metadata": {
            "tags": []
          }
        }
      ]
    },
    {
      "cell_type": "code",
      "metadata": {
        "colab": {
          "base_uri": "https://localhost:8080/",
          "height": 1000
        },
        "id": "ZTmZb2hpfi6S",
        "outputId": "efae0128-8bf3-41bd-d3d6-9eac0f6bb63a"
      },
      "source": [
        "# Support Vector Machine\n",
        "from numpy import mean\n",
        "from numpy import std\n",
        "from sklearn.svm import SVC\n",
        "from sklearn.model_selection import cross_val_predict\n",
        "from sklearn.metrics import confusion_matrix, classification_report\n",
        "from sklearn.model_selection import KFold\n",
        "from sklearn.model_selection import cross_val_score\n",
        "from sklearn import metrics\n",
        "\n",
        "# create model\n",
        "model = SVC(gamma='auto')\n",
        "\n",
        "#===================================================================================================\n",
        "#cross validation \n",
        "\n",
        "# evaluate model\n",
        "scores = cross_val_score(model, X_train, y_train, scoring='accuracy', cv=10, n_jobs=-1)\n",
        "# report performance\n",
        "print(50*\"=\")\n",
        "print(\"Cross validation Accuracy:\")\n",
        "print('Accuracy: %.3f (%.3f)' % (mean(scores), std(scores))) \n",
        "print(50*\"=\")\n",
        "\n",
        "#====================================================================================================\n",
        "print(50*\"=\")\n",
        "print(\"GRID SEARCH FOR SVM\")\n",
        "\n",
        "params = { \n",
        "    \"random_state\":range(30,40)} \n",
        "gs_svm = GridSearchCV(model,\n",
        "                      param_grid=params,\n",
        "                      scoring='accuracy',\n",
        "                      cv=10)\n",
        "gs_svm.fit(X_train, y_train)\n",
        "\n",
        "print(\"Best Parameters\")\n",
        "print(gs_svm.best_params_)\n",
        "\n",
        "print(\"Best estimaters\")\n",
        "print(gs_svm.best_estimator_)\n",
        "\n",
        "#Predicting Bugs\n",
        "y_pred = gs_svm.best_estimator_.predict(X_test)\n",
        "\n",
        "#CONFUSION MATRIX\n",
        "print(50*\"=\")\n",
        "print(\"CONFUSION MATRIX\")\n",
        "print(confusion_matrix(y_test,y_pred))\n",
        "\n",
        "from sklearn.metrics import plot_confusion_matrix\n",
        "\n",
        "import matplotlib.pyplot as plt\n",
        "plt.rcParams[\"figure.figsize\"] = (20,7)\n",
        "\n",
        "class_names=['NON BUGGY FILE','BUGGY FILE']\n",
        "\n",
        "confusion = plot_confusion_matrix(gs_svm.best_estimator_,X_test,y_test,\n",
        "                                 display_labels=class_names,\n",
        "                                 cmap=plt.cm.Greens,\n",
        "                                 normalize=None, values_format = '.0f')\n",
        "\n",
        "\n",
        "\n",
        "\n",
        "confusion.ax_.set_title(\"Confusion Matrix using Support Vector Machine\")\n",
        "\n",
        "print(50*\"=\")\n",
        "print(classification_report(y_test,y_pred))\n",
        "print(50*\"=\")\n",
        "#====================================================================================================\n",
        "\n",
        "# Model Accuracy: how often is the classifier correct?\n",
        "RF_Accuracy = metrics.accuracy_score(y_test, y_pred)\n",
        "print(\"Accuracy:\",RF_Accuracy)\n",
        "\n",
        "# Model Precision: what percentage of positive tuples are labeled as such?\n",
        "print(\"Precision:\",metrics.precision_score(y_test, y_pred))\n",
        "\n",
        "# Model Recall: what percentage of positive tuples are labelled as such?\n",
        "print(\"Recall:\",metrics.recall_score(y_test, y_pred))\n",
        "\n",
        "#Calculate F1 Score\n",
        "print(\"F1 Score:\",metrics.f1_score(y_test, y_pred))\n",
        "\n",
        "#Calculate Mean Absolute Error\n",
        "print(\"Mean Absolute Error:\",metrics.mean_absolute_error(y_test, y_pred))\n",
        "\n",
        "# kappa\n",
        "print(\"Cohens kappa:\", metrics.cohen_kappa_score(y_test, y_pred))\n",
        "\n",
        "# ROC AUC\n",
        "print(\"ROC AUC:\", metrics.roc_auc_score(y_test, y_pred))\n",
        "print(50*\"=\")"
      ],
      "execution_count": 22,
      "outputs": [
        {
          "output_type": "stream",
          "text": [
            "==================================================\n",
            "Cross validation Accuracy:\n",
            "Accuracy: 0.641 (0.005)\n",
            "==================================================\n",
            "==================================================\n",
            "GRID SEARCH FOR SVM\n",
            "Best Parameters\n",
            "{'random_state': 30}\n",
            "Best estimaters\n",
            "SVC(C=1.0, break_ties=False, cache_size=200, class_weight=None, coef0=0.0,\n",
            "    decision_function_shape='ovr', degree=3, gamma='auto', kernel='rbf',\n",
            "    max_iter=-1, probability=False, random_state=30, shrinking=True, tol=0.001,\n",
            "    verbose=False)\n",
            "==================================================\n",
            "CONFUSION MATRIX\n",
            "[[3956  399]\n",
            " [2186  902]]\n",
            "==================================================\n",
            "              precision    recall  f1-score   support\n",
            "\n",
            "         0.0       0.64      0.91      0.75      4355\n",
            "         1.0       0.69      0.29      0.41      3088\n",
            "\n",
            "    accuracy                           0.65      7443\n",
            "   macro avg       0.67      0.60      0.58      7443\n",
            "weighted avg       0.66      0.65      0.61      7443\n",
            "\n",
            "==================================================\n",
            "Accuracy: 0.6526938062609163\n",
            "Precision: 0.6933128362797848\n",
            "Recall: 0.2920984455958549\n",
            "F1 Score: 0.4110275689223057\n",
            "Mean Absolute Error: 0.3473061937390837\n",
            "Cohens kappa: 0.21890707874372195\n",
            "ROC AUC: 0.6002398083317966\n",
            "==================================================\n"
          ],
          "name": "stdout"
        },
        {
          "output_type": "display_data",
          "data": {
            "image/png": "[encoded data removed]",
            "text/plain": [
              "<Figure size 1440x504 with 2 Axes>"
            ]
          },
          "metadata": {
            "tags": [],
            "needs_background": "light"
          }
        }
      ]
    },
    {
      "cell_type": "code",
      "metadata": {
        "id": "WoH10pHmO994",
        "colab": {
          "base_uri": "https://localhost:8080/",
          "height": 901
        },
        "outputId": "bff62dc2-7550-44c9-e99a-6961bde443cf"
      },
      "source": [
        "#Random Forest\n",
        "from numpy import mean\n",
        "from numpy import std\n",
        "from sklearn.ensemble import RandomForestRegressor\n",
        "from sklearn.model_selection import cross_val_predict\n",
        "from sklearn.metrics import confusion_matrix, classification_report\n",
        "from sklearn.model_selection import KFold\n",
        "from sklearn.model_selection import cross_val_score\n",
        "from sklearn import metrics\n",
        "\n",
        "# create model\n",
        "model = RandomForestRegressor(n_estimators = 1000, random_state = 42)\n",
        "\n",
        "#===================================================================================================\n",
        "#cross validation \n",
        "\n",
        "# evaluate model\n",
        "scores = cross_val_score(model, X_train, y_train, scoring='accuracy', cv=10, n_jobs=-1)\n",
        "# report performance\n",
        "print(50*\"=\")\n",
        "print(\"Cross validation Accuracy:\")\n",
        "print('Accuracy: %.3f (%.3f)' % (mean(scores), std(scores))) \n",
        "print(50*\"=\")\n",
        "model.fit(X_train, y_train)\n",
        "#====================================================================================================\n",
        "print(50*\"=\")\n",
        "\n",
        "#Predicting Bugs\n",
        "y_pred = model.predict(X_test)\n",
        "\n",
        "#CONFUSION MATRIX\n",
        "print(50*\"=\")\n",
        "print(\"CONFUSION MATRIX\")\n",
        "print(confusion_matrix(y_test,y_pred))\n",
        "\n",
        "from sklearn.metrics import plot_confusion_matrix\n",
        "\n",
        "import matplotlib.pyplot as plt\n",
        "plt.rcParams[\"figure.figsize\"] = (20,7)\n",
        "\n",
        "class_names=['NON BUGGY FILE','BUGGY FILE']\n",
        "\n",
        "confusion = plot_confusion_matrix(model,X_test,y_test,\n",
        "                                 display_labels=class_names,\n",
        "                                 cmap=plt.cm.Greens,\n",
        "                                 normalize=None, values_format = '.0f')\n",
        "\n",
        "\n",
        "confusion.ax_.set_title(\"Confusion Matrix using Random Forest\")\n",
        "\n",
        "print(50*\"=\")\n",
        "print(classification_report(y_test,y_pred))\n",
        "print(50*\"=\")\n",
        "#====================================================================================================\n",
        "\n",
        "# Model Accuracy: how often is the classifier correct?\n",
        "RF_Accuracy = metrics.accuracy_score(y_test, y_pred)\n",
        "print(\"Accuracy:\",RF_Accuracy)\n",
        "\n",
        "# Model Precision: what percentage of positive tuples are labeled as such?\n",
        "print(\"Precision:\",metrics.precision_score(y_test, y_pred))\n",
        "\n",
        "# Model Recall: what percentage of positive tuples are labelled as such?\n",
        "print(\"Recall:\",metrics.recall_score(y_test, y_pred))\n",
        "\n",
        "#Calculate F1 Score\n",
        "print(\"F1 Score:\",metrics.f1_score(y_test, y_pred))\n",
        "\n",
        "#Calculate Mean Absolute Error\n",
        "print(\"Mean Absolute Error:\",metrics.mean_absolute_error(y_test, y_pred))\n",
        "\n",
        "# kappa\n",
        "print(\"Cohens kappa:\", metrics.cohen_kappa_score(y_test, y_pred))\n",
        "\n",
        "# ROC AUC\n",
        "print(\"ROC AUC:\", metrics.roc_auc_score(y_test, y_pred))\n",
        "print(50*\"=\")"
      ],
      "execution_count": 42,
      "outputs": [
        {
          "output_type": "error",
          "ename": "ValueError",
          "evalue": "ignored",
          "traceback": [
            "\u001b[0;31m---------------------------------------------------------------------------\u001b[0m",
            "\u001b[0;31m_RemoteTraceback\u001b[0m                          Traceback (most recent call last)",
            "\u001b[0;31m_RemoteTraceback\u001b[0m: \n\"\"\"\nTraceback (most recent call last):\n  File \"/usr/local/lib/python3.7/dist-packages/joblib/externals/loky/process_executor.py\", line 431, in _process_worker\n    r = call_item()\n  File \"/usr/local/lib/python3.7/dist-packages/joblib/externals/loky/process_executor.py\", line 285, in __call__\n    return self.fn(*self.args, **self.kwargs)\n  File \"/usr/local/lib/python3.7/dist-packages/joblib/_parallel_backends.py\", line 595, in __call__\n    return self.func(*args, **kwargs)\n  File \"/usr/local/lib/python3.7/dist-packages/joblib/parallel.py\", line 263, in __call__\n    for func, args, kwargs in self.items]\n  File \"/usr/local/lib/python3.7/dist-packages/joblib/parallel.py\", line 263, in <listcomp>\n    for func, args, kwargs in self.items]\n  File \"/usr/local/lib/python3.7/dist-packages/sklearn/model_selection/_validation.py\", line 544, in _fit_and_score\n    test_scores = _score(estimator, X_test, y_test, scorer)\n  File \"/usr/local/lib/python3.7/dist-packages/sklearn/model_selection/_validation.py\", line 591, in _score\n    scores = scorer(estimator, X_test, y_test)\n  File \"/usr/local/lib/python3.7/dist-packages/sklearn/metrics/_scorer.py\", line 87, in __call__\n    *args, **kwargs)\n  File \"/usr/local/lib/python3.7/dist-packages/sklearn/metrics/_scorer.py\", line 212, in _score\n    **self._kwargs)\n  File \"/usr/local/lib/python3.7/dist-packages/sklearn/metrics/_classification.py\", line 185, in accuracy_score\n    y_type, y_true, y_pred = _check_targets(y_true, y_pred)\n  File \"/usr/local/lib/python3.7/dist-packages/sklearn/metrics/_classification.py\", line 90, in _check_targets\n    \"and {1} targets\".format(type_true, type_pred))\nValueError: Classification metrics can't handle a mix of binary and continuous targets\n\"\"\"",
            "\nThe above exception was the direct cause of the following exception:\n",
            "\u001b[0;31mValueError\u001b[0m                                Traceback (most recent call last)",
            "\u001b[0;32m<ipython-input-42-9a5f006fee5c>\u001b[0m in \u001b[0;36m<module>\u001b[0;34m()\u001b[0m\n\u001b[1;32m     16\u001b[0m \u001b[0;34m\u001b[0m\u001b[0m\n\u001b[1;32m     17\u001b[0m \u001b[0;31m# evaluate model\u001b[0m\u001b[0;34m\u001b[0m\u001b[0;34m\u001b[0m\u001b[0;34m\u001b[0m\u001b[0m\n\u001b[0;32m---> 18\u001b[0;31m \u001b[0mscores\u001b[0m \u001b[0;34m=\u001b[0m \u001b[0mcross_val_score\u001b[0m\u001b[0;34m(\u001b[0m\u001b[0mmodel\u001b[0m\u001b[0;34m,\u001b[0m \u001b[0mX_train\u001b[0m\u001b[0;34m,\u001b[0m \u001b[0my_train\u001b[0m\u001b[0;34m,\u001b[0m \u001b[0mscoring\u001b[0m\u001b[0;34m=\u001b[0m\u001b[0;34m'accuracy'\u001b[0m\u001b[0;34m,\u001b[0m \u001b[0mcv\u001b[0m\u001b[0;34m=\u001b[0m\u001b[0;36m10\u001b[0m\u001b[0;34m,\u001b[0m \u001b[0mn_jobs\u001b[0m\u001b[0;34m=\u001b[0m\u001b[0;34m-\u001b[0m\u001b[0;36m1\u001b[0m\u001b[0;34m)\u001b[0m\u001b[0;34m\u001b[0m\u001b[0;34m\u001b[0m\u001b[0m\n\u001b[0m\u001b[1;32m     19\u001b[0m \u001b[0;31m# report performance\u001b[0m\u001b[0;34m\u001b[0m\u001b[0;34m\u001b[0m\u001b[0;34m\u001b[0m\u001b[0m\n\u001b[1;32m     20\u001b[0m \u001b[0mprint\u001b[0m\u001b[0;34m(\u001b[0m\u001b[0;36m50\u001b[0m\u001b[0;34m*\u001b[0m\u001b[0;34m\"=\"\u001b[0m\u001b[0;34m)\u001b[0m\u001b[0;34m\u001b[0m\u001b[0;34m\u001b[0m\u001b[0m\n",
            "\u001b[0;32m/usr/local/lib/python3.7/dist-packages/sklearn/model_selection/_validation.py\u001b[0m in \u001b[0;36mcross_val_score\u001b[0;34m(estimator, X, y, groups, scoring, cv, n_jobs, verbose, fit_params, pre_dispatch, error_score)\u001b[0m\n\u001b[1;32m    388\u001b[0m                                 \u001b[0mfit_params\u001b[0m\u001b[0;34m=\u001b[0m\u001b[0mfit_params\u001b[0m\u001b[0;34m,\u001b[0m\u001b[0;34m\u001b[0m\u001b[0;34m\u001b[0m\u001b[0m\n\u001b[1;32m    389\u001b[0m                                 \u001b[0mpre_dispatch\u001b[0m\u001b[0;34m=\u001b[0m\u001b[0mpre_dispatch\u001b[0m\u001b[0;34m,\u001b[0m\u001b[0;34m\u001b[0m\u001b[0;34m\u001b[0m\u001b[0m\n\u001b[0;32m--> 390\u001b[0;31m                                 error_score=error_score)\n\u001b[0m\u001b[1;32m    391\u001b[0m     \u001b[0;32mreturn\u001b[0m \u001b[0mcv_results\u001b[0m\u001b[0;34m[\u001b[0m\u001b[0;34m'test_score'\u001b[0m\u001b[0;34m]\u001b[0m\u001b[0;34m\u001b[0m\u001b[0;34m\u001b[0m\u001b[0m\n\u001b[1;32m    392\u001b[0m \u001b[0;34m\u001b[0m\u001b[0m\n",
            "\u001b[0;32m/usr/local/lib/python3.7/dist-packages/sklearn/model_selection/_validation.py\u001b[0m in \u001b[0;36mcross_validate\u001b[0;34m(estimator, X, y, groups, scoring, cv, n_jobs, verbose, fit_params, pre_dispatch, return_train_score, return_estimator, error_score)\u001b[0m\n\u001b[1;32m    234\u001b[0m             \u001b[0mreturn_times\u001b[0m\u001b[0;34m=\u001b[0m\u001b[0;32mTrue\u001b[0m\u001b[0;34m,\u001b[0m \u001b[0mreturn_estimator\u001b[0m\u001b[0;34m=\u001b[0m\u001b[0mreturn_estimator\u001b[0m\u001b[0;34m,\u001b[0m\u001b[0;34m\u001b[0m\u001b[0;34m\u001b[0m\u001b[0m\n\u001b[1;32m    235\u001b[0m             error_score=error_score)\n\u001b[0;32m--> 236\u001b[0;31m         for train, test in cv.split(X, y, groups))\n\u001b[0m\u001b[1;32m    237\u001b[0m \u001b[0;34m\u001b[0m\u001b[0m\n\u001b[1;32m    238\u001b[0m     \u001b[0mzipped_scores\u001b[0m \u001b[0;34m=\u001b[0m \u001b[0mlist\u001b[0m\u001b[0;34m(\u001b[0m\u001b[0mzip\u001b[0m\u001b[0;34m(\u001b[0m\u001b[0;34m*\u001b[0m\u001b[0mscores\u001b[0m\u001b[0;34m)\u001b[0m\u001b[0;34m)\u001b[0m\u001b[0;34m\u001b[0m\u001b[0;34m\u001b[0m\u001b[0m\n",
            "\u001b[0;32m/usr/local/lib/python3.7/dist-packages/joblib/parallel.py\u001b[0m in \u001b[0;36m__call__\u001b[0;34m(self, iterable)\u001b[0m\n\u001b[1;32m   1052\u001b[0m \u001b[0;34m\u001b[0m\u001b[0m\n\u001b[1;32m   1053\u001b[0m             \u001b[0;32mwith\u001b[0m \u001b[0mself\u001b[0m\u001b[0;34m.\u001b[0m\u001b[0m_backend\u001b[0m\u001b[0;34m.\u001b[0m\u001b[0mretrieval_context\u001b[0m\u001b[0;34m(\u001b[0m\u001b[0;34m)\u001b[0m\u001b[0;34m:\u001b[0m\u001b[0;34m\u001b[0m\u001b[0;34m\u001b[0m\u001b[0m\n\u001b[0;32m-> 1054\u001b[0;31m                 \u001b[0mself\u001b[0m\u001b[0;34m.\u001b[0m\u001b[0mretrieve\u001b[0m\u001b[0;34m(\u001b[0m\u001b[0;34m)\u001b[0m\u001b[0;34m\u001b[0m\u001b[0;34m\u001b[0m\u001b[0m\n\u001b[0m\u001b[1;32m   1055\u001b[0m             \u001b[0;31m# Make sure that we get a last message telling us we are done\u001b[0m\u001b[0;34m\u001b[0m\u001b[0;34m\u001b[0m\u001b[0;34m\u001b[0m\u001b[0m\n\u001b[1;32m   1056\u001b[0m             \u001b[0melapsed_time\u001b[0m \u001b[0;34m=\u001b[0m \u001b[0mtime\u001b[0m\u001b[0;34m.\u001b[0m\u001b[0mtime\u001b[0m\u001b[0;34m(\u001b[0m\u001b[0;34m)\u001b[0m \u001b[0;34m-\u001b[0m \u001b[0mself\u001b[0m\u001b[0;34m.\u001b[0m\u001b[0m_start_time\u001b[0m\u001b[0;34m\u001b[0m\u001b[0;34m\u001b[0m\u001b[0m\n",
            "\u001b[0;32m/usr/local/lib/python3.7/dist-packages/joblib/parallel.py\u001b[0m in \u001b[0;36mretrieve\u001b[0;34m(self)\u001b[0m\n\u001b[1;32m    931\u001b[0m             \u001b[0;32mtry\u001b[0m\u001b[0;34m:\u001b[0m\u001b[0;34m\u001b[0m\u001b[0;34m\u001b[0m\u001b[0m\n\u001b[1;32m    932\u001b[0m                 \u001b[0;32mif\u001b[0m \u001b[0mgetattr\u001b[0m\u001b[0;34m(\u001b[0m\u001b[0mself\u001b[0m\u001b[0;34m.\u001b[0m\u001b[0m_backend\u001b[0m\u001b[0;34m,\u001b[0m \u001b[0;34m'supports_timeout'\u001b[0m\u001b[0;34m,\u001b[0m \u001b[0;32mFalse\u001b[0m\u001b[0;34m)\u001b[0m\u001b[0;34m:\u001b[0m\u001b[0;34m\u001b[0m\u001b[0;34m\u001b[0m\u001b[0m\n\u001b[0;32m--> 933\u001b[0;31m                     \u001b[0mself\u001b[0m\u001b[0;34m.\u001b[0m\u001b[0m_output\u001b[0m\u001b[0;34m.\u001b[0m\u001b[0mextend\u001b[0m\u001b[0;34m(\u001b[0m\u001b[0mjob\u001b[0m\u001b[0;34m.\u001b[0m\u001b[0mget\u001b[0m\u001b[0;34m(\u001b[0m\u001b[0mtimeout\u001b[0m\u001b[0;34m=\u001b[0m\u001b[0mself\u001b[0m\u001b[0;34m.\u001b[0m\u001b[0mtimeout\u001b[0m\u001b[0;34m)\u001b[0m\u001b[0;34m)\u001b[0m\u001b[0;34m\u001b[0m\u001b[0;34m\u001b[0m\u001b[0m\n\u001b[0m\u001b[1;32m    934\u001b[0m                 \u001b[0;32melse\u001b[0m\u001b[0;34m:\u001b[0m\u001b[0;34m\u001b[0m\u001b[0;34m\u001b[0m\u001b[0m\n\u001b[1;32m    935\u001b[0m                     \u001b[0mself\u001b[0m\u001b[0;34m.\u001b[0m\u001b[0m_output\u001b[0m\u001b[0;34m.\u001b[0m\u001b[0mextend\u001b[0m\u001b[0;34m(\u001b[0m\u001b[0mjob\u001b[0m\u001b[0;34m.\u001b[0m\u001b[0mget\u001b[0m\u001b[0;34m(\u001b[0m\u001b[0;34m)\u001b[0m\u001b[0;34m)\u001b[0m\u001b[0;34m\u001b[0m\u001b[0;34m\u001b[0m\u001b[0m\n",
            "\u001b[0;32m/usr/local/lib/python3.7/dist-packages/joblib/_parallel_backends.py\u001b[0m in \u001b[0;36mwrap_future_result\u001b[0;34m(future, timeout)\u001b[0m\n\u001b[1;32m    540\u001b[0m         AsyncResults.get from multiprocessing.\"\"\"\n\u001b[1;32m    541\u001b[0m         \u001b[0;32mtry\u001b[0m\u001b[0;34m:\u001b[0m\u001b[0;34m\u001b[0m\u001b[0;34m\u001b[0m\u001b[0m\n\u001b[0;32m--> 542\u001b[0;31m             \u001b[0;32mreturn\u001b[0m \u001b[0mfuture\u001b[0m\u001b[0;34m.\u001b[0m\u001b[0mresult\u001b[0m\u001b[0;34m(\u001b[0m\u001b[0mtimeout\u001b[0m\u001b[0;34m=\u001b[0m\u001b[0mtimeout\u001b[0m\u001b[0;34m)\u001b[0m\u001b[0;34m\u001b[0m\u001b[0;34m\u001b[0m\u001b[0m\n\u001b[0m\u001b[1;32m    543\u001b[0m         \u001b[0;32mexcept\u001b[0m \u001b[0mCfTimeoutError\u001b[0m \u001b[0;32mas\u001b[0m \u001b[0me\u001b[0m\u001b[0;34m:\u001b[0m\u001b[0;34m\u001b[0m\u001b[0;34m\u001b[0m\u001b[0m\n\u001b[1;32m    544\u001b[0m             \u001b[0;32mraise\u001b[0m \u001b[0mTimeoutError\u001b[0m \u001b[0;32mfrom\u001b[0m \u001b[0me\u001b[0m\u001b[0;34m\u001b[0m\u001b[0;34m\u001b[0m\u001b[0m\n",
            "\u001b[0;32m/usr/lib/python3.7/concurrent/futures/_base.py\u001b[0m in \u001b[0;36mresult\u001b[0;34m(self, timeout)\u001b[0m\n\u001b[1;32m    433\u001b[0m                 \u001b[0;32mraise\u001b[0m \u001b[0mCancelledError\u001b[0m\u001b[0;34m(\u001b[0m\u001b[0;34m)\u001b[0m\u001b[0;34m\u001b[0m\u001b[0;34m\u001b[0m\u001b[0m\n\u001b[1;32m    434\u001b[0m             \u001b[0;32melif\u001b[0m \u001b[0mself\u001b[0m\u001b[0;34m.\u001b[0m\u001b[0m_state\u001b[0m \u001b[0;34m==\u001b[0m \u001b[0mFINISHED\u001b[0m\u001b[0;34m:\u001b[0m\u001b[0;34m\u001b[0m\u001b[0;34m\u001b[0m\u001b[0m\n\u001b[0;32m--> 435\u001b[0;31m                 \u001b[0;32mreturn\u001b[0m \u001b[0mself\u001b[0m\u001b[0;34m.\u001b[0m\u001b[0m__get_result\u001b[0m\u001b[0;34m(\u001b[0m\u001b[0;34m)\u001b[0m\u001b[0;34m\u001b[0m\u001b[0;34m\u001b[0m\u001b[0m\n\u001b[0m\u001b[1;32m    436\u001b[0m             \u001b[0;32melse\u001b[0m\u001b[0;34m:\u001b[0m\u001b[0;34m\u001b[0m\u001b[0;34m\u001b[0m\u001b[0m\n\u001b[1;32m    437\u001b[0m                 \u001b[0;32mraise\u001b[0m \u001b[0mTimeoutError\u001b[0m\u001b[0;34m(\u001b[0m\u001b[0;34m)\u001b[0m\u001b[0;34m\u001b[0m\u001b[0;34m\u001b[0m\u001b[0m\n",
            "\u001b[0;32m/usr/lib/python3.7/concurrent/futures/_base.py\u001b[0m in \u001b[0;36m__get_result\u001b[0;34m(self)\u001b[0m\n\u001b[1;32m    382\u001b[0m     \u001b[0;32mdef\u001b[0m \u001b[0m__get_result\u001b[0m\u001b[0;34m(\u001b[0m\u001b[0mself\u001b[0m\u001b[0;34m)\u001b[0m\u001b[0;34m:\u001b[0m\u001b[0;34m\u001b[0m\u001b[0;34m\u001b[0m\u001b[0m\n\u001b[1;32m    383\u001b[0m         \u001b[0;32mif\u001b[0m \u001b[0mself\u001b[0m\u001b[0;34m.\u001b[0m\u001b[0m_exception\u001b[0m\u001b[0;34m:\u001b[0m\u001b[0;34m\u001b[0m\u001b[0;34m\u001b[0m\u001b[0m\n\u001b[0;32m--> 384\u001b[0;31m             \u001b[0;32mraise\u001b[0m \u001b[0mself\u001b[0m\u001b[0;34m.\u001b[0m\u001b[0m_exception\u001b[0m\u001b[0;34m\u001b[0m\u001b[0;34m\u001b[0m\u001b[0m\n\u001b[0m\u001b[1;32m    385\u001b[0m         \u001b[0;32melse\u001b[0m\u001b[0;34m:\u001b[0m\u001b[0;34m\u001b[0m\u001b[0;34m\u001b[0m\u001b[0m\n\u001b[1;32m    386\u001b[0m             \u001b[0;32mreturn\u001b[0m \u001b[0mself\u001b[0m\u001b[0;34m.\u001b[0m\u001b[0m_result\u001b[0m\u001b[0;34m\u001b[0m\u001b[0;34m\u001b[0m\u001b[0m\n",
            "\u001b[0;31mValueError\u001b[0m: Classification metrics can't handle a mix of binary and continuous targets"
          ]
        }
      ]
    },
    {
      "cell_type": "code",
      "metadata": {
        "id": "2wHiK49hO998",
        "colab": {
          "base_uri": "https://localhost:8080/",
          "height": 917
        },
        "outputId": "59c36232-5806-426f-a07b-12c16cbe06f5"
      },
      "source": [
        "#Naive Bayes\n",
        "from numpy import mean\n",
        "from numpy import std\n",
        "from sklearn.naive_bayes import GaussianNB\n",
        "from sklearn.model_selection import cross_val_predict\n",
        "from sklearn.metrics import confusion_matrix, classification_report\n",
        "from sklearn.model_selection import KFold\n",
        "from sklearn.model_selection import cross_val_score\n",
        "from sklearn import metrics\n",
        "\n",
        "# create model\n",
        "model = GaussianNB()\n",
        "\n",
        "#===================================================================================================\n",
        "#cross validation \n",
        "\n",
        "# evaluate model\n",
        "scores = cross_val_score(model, X_train, y_train, scoring='accuracy', cv=10, n_jobs=-1)\n",
        "# report performance\n",
        "print(50*\"=\")\n",
        "print(\"Cross validation Accuracy:\")\n",
        "print('Accuracy: %.3f (%.3f)' % (mean(scores), std(scores))) \n",
        "print(50*\"=\")\n",
        "\n",
        "#====================================================================================================\n",
        "\n",
        "model.fit(X_train, y_train)\n",
        "\n",
        "#Predicting Bugs\n",
        "y_pred = model.predict(X_test)\n",
        "\n",
        "#CONFUSION MATRIX\n",
        "print(50*\"=\")\n",
        "print(\"CONFUSION MATRIX\")\n",
        "print(confusion_matrix(y_test,y_pred))\n",
        "\n",
        "from sklearn.metrics import plot_confusion_matrix\n",
        "\n",
        "import matplotlib.pyplot as plt\n",
        "plt.rcParams[\"figure.figsize\"] = (20,7)\n",
        "\n",
        "class_names=['NON BUGGY FILE','BUGGY FILE']\n",
        "\n",
        "confusion = plot_confusion_matrix(model,X_test,y_test,\n",
        "                                 display_labels=class_names,\n",
        "                                 cmap=plt.cm.Greens,\n",
        "                                 normalize=None, values_format = '.0f')\n",
        "\n",
        "\n",
        "confusion.ax_.set_title(\"Confusion Matrix using Naive Bayes\")\n",
        "\n",
        "print(50*\"=\")\n",
        "print(classification_report(y_test,y_pred))\n",
        "print(50*\"=\")\n",
        "#====================================================================================================\n",
        "\n",
        "# Model Accuracy: how often is the classifier correct?\n",
        "RF_Accuracy = metrics.accuracy_score(y_test, y_pred)\n",
        "print(\"Accuracy:\",RF_Accuracy)\n",
        "\n",
        "# Model Precision: what percentage of positive tuples are labeled as such?\n",
        "print(\"Precision:\",metrics.precision_score(y_test, y_pred))\n",
        "\n",
        "# Model Recall: what percentage of positive tuples are labelled as such?\n",
        "print(\"Recall:\",metrics.recall_score(y_test, y_pred))\n",
        "\n",
        "#Calculate F1 Score\n",
        "print(\"F1 Score:\",metrics.f1_score(y_test, y_pred))\n",
        "\n",
        "#Calculate Mean Absolute Error\n",
        "print(\"Mean Absolute Error:\",metrics.mean_absolute_error(y_test, y_pred))\n",
        "\n",
        "# kappa\n",
        "print(\"Cohens kappa:\", metrics.cohen_kappa_score(y_test, y_pred))\n",
        "\n",
        "# ROC AUC\n",
        "print(\"ROC AUC:\", metrics.roc_auc_score(y_test, y_pred))\n",
        "print(50*\"=\")"
      ],
      "execution_count": 24,
      "outputs": [
        {
          "output_type": "stream",
          "text": [
            "==================================================\n",
            "Cross validation Accuracy:\n",
            "Accuracy: 0.616 (0.002)\n",
            "==================================================\n",
            "==================================================\n",
            "CONFUSION MATRIX\n",
            "[[4218  137]\n",
            " [2639  449]]\n",
            "==================================================\n",
            "              precision    recall  f1-score   support\n",
            "\n",
            "         0.0       0.62      0.97      0.75      4355\n",
            "         1.0       0.77      0.15      0.24      3088\n",
            "\n",
            "    accuracy                           0.63      7443\n",
            "   macro avg       0.69      0.56      0.50      7443\n",
            "weighted avg       0.68      0.63      0.54      7443\n",
            "\n",
            "==================================================\n",
            "Accuracy: 0.6270321107080479\n",
            "Precision: 0.7662116040955631\n",
            "Recall: 0.14540155440414507\n",
            "F1 Score: 0.24442025040827436\n",
            "Mean Absolute Error: 0.3729678892919522\n",
            "Cohens kappa: 0.12916717488999419\n",
            "ROC AUC: 0.5569717301297419\n",
            "==================================================\n"
          ],
          "name": "stdout"
        },
        {
          "output_type": "display_data",
          "data": {
            "image/png": "[encoded data removed]",
            "text/plain": [
              "<Figure size 1440x504 with 2 Axes>"
            ]
          },
          "metadata": {
            "tags": [],
            "needs_background": "light"
          }
        }
      ]
    },
    {
      "cell_type": "code",
      "metadata": {
        "colab": {
          "base_uri": "https://localhost:8080/",
          "height": 917
        },
        "id": "tv70uo6UPbII",
        "outputId": "2934f2a6-370f-458a-a02d-d8bd6d233b81"
      },
      "source": [
        "#KNN\n",
        "from numpy import mean\n",
        "from numpy import std\n",
        "from sklearn.neighbors import KNeighborsClassifier\n",
        "from sklearn.model_selection import cross_val_predict\n",
        "from sklearn.metrics import confusion_matrix, classification_report\n",
        "from sklearn.model_selection import KFold\n",
        "from sklearn.model_selection import cross_val_score\n",
        "from sklearn import metrics\n",
        "import numpy as np\n",
        "\n",
        "\n",
        "\n",
        "k = 25\n",
        "\n",
        "# create model\n",
        "model = KNeighborsClassifier(n_neighbors = k)\n",
        "\n",
        "#===================================================================================================\n",
        "#cross validation \n",
        "\n",
        "# evaluate model\n",
        "scores = cross_val_score(model, X_train, y_train, scoring='accuracy', cv=10, n_jobs=-1)\n",
        "# report performance\n",
        "print(50*\"=\")\n",
        "print(\"Cross validation Accuracy:\")\n",
        "print('Accuracy: %.3f (%.3f)' % (mean(scores), std(scores))) \n",
        "print(50*\"=\")\n",
        "\n",
        "#====================================================================================================\n",
        "\n",
        "model.fit(X_train, y_train)\n",
        "\n",
        "#Predicting Bugs\n",
        "y_pred = model.predict(X_test)\n",
        "\n",
        "#CONFUSION MATRIX\n",
        "print(50*\"=\")\n",
        "print(\"CONFUSION MATRIX\")\n",
        "print(confusion_matrix(y_test,y_pred))\n",
        "\n",
        "from sklearn.metrics import plot_confusion_matrix\n",
        "\n",
        "import matplotlib.pyplot as plt\n",
        "plt.rcParams[\"figure.figsize\"] = (20,7)\n",
        "\n",
        "class_names=['NON BUGGY FILE','BUGGY FILE']\n",
        "\n",
        "confusion = plot_confusion_matrix(model,X_test,y_test,\n",
        "                                 display_labels=class_names,\n",
        "                                 cmap=plt.cm.Greens,\n",
        "                                 normalize=None, values_format = '.0f')\n",
        "\n",
        "\n",
        "confusion.ax_.set_title(\"Confusion Matrix using KNN\")\n",
        "\n",
        "print(50*\"=\")\n",
        "print(classification_report(y_test,y_pred))\n",
        "print(50*\"=\")\n",
        "#====================================================================================================\n",
        "\n",
        "# Model Accuracy: how often is the classifier correct?\n",
        "RF_Accuracy = metrics.accuracy_score(y_test, y_pred)\n",
        "print(\"Accuracy:\",RF_Accuracy)\n",
        "\n",
        "# Model Precision: what percentage of positive tuples are labeled as such?\n",
        "print(\"Precision:\",metrics.precision_score(y_test, y_pred))\n",
        "\n",
        "# Model Recall: what percentage of positive tuples are labelled as such?\n",
        "print(\"Recall:\",metrics.recall_score(y_test, y_pred))\n",
        "\n",
        "#Calculate F1 Score\n",
        "print(\"F1 Score:\",metrics.f1_score(y_test, y_pred))\n",
        "\n",
        "#Calculate Mean Absolute Error\n",
        "print(\"Mean Absolute Error:\",metrics.mean_absolute_error(y_test, y_pred))\n",
        "\n",
        "# kappa\n",
        "print(\"Cohens kappa:\", metrics.cohen_kappa_score(y_test, y_pred))\n",
        "\n",
        "# ROC AUC\n",
        "print(\"ROC AUC:\", metrics.roc_auc_score(y_test, y_pred))\n",
        "print(50*\"=\")\n"
      ],
      "execution_count": 37,
      "outputs": [
        {
          "output_type": "stream",
          "text": [
            "==================================================\n",
            "Cross validation Accuracy:\n",
            "Accuracy: 0.648 (0.008)\n",
            "==================================================\n",
            "==================================================\n",
            "CONFUSION MATRIX\n",
            "[[3458  897]\n",
            " [1655 1433]]\n",
            "==================================================\n",
            "              precision    recall  f1-score   support\n",
            "\n",
            "         0.0       0.68      0.79      0.73      4355\n",
            "         1.0       0.62      0.46      0.53      3088\n",
            "\n",
            "    accuracy                           0.66      7443\n",
            "   macro avg       0.65      0.63      0.63      7443\n",
            "weighted avg       0.65      0.66      0.65      7443\n",
            "\n",
            "==================================================\n",
            "Accuracy: 0.6571275023512024\n",
            "Precision: 0.6150214592274678\n",
            "Recall: 0.4640544041450777\n",
            "F1 Score: 0.5289774824658545\n",
            "Mean Absolute Error: 0.3428724976487975\n",
            "Cohens kappa: 0.26764084059843396\n",
            "ROC AUC: 0.6290421274456732\n",
            "==================================================\n"
          ],
          "name": "stdout"
        },
        {
          "output_type": "display_data",
          "data": {
            "image/png": "[encoded data removed]",
            "text/plain": [
              "<Figure size 1440x504 with 2 Axes>"
            ]
          },
          "metadata": {
            "tags": [],
            "needs_background": "light"
          }
        }
      ]
    },
    {
      "cell_type": "code",
      "metadata": {
        "id": "VajRXKY64FGq",
        "colab": {
          "base_uri": "https://localhost:8080/",
          "height": 934
        },
        "outputId": "5d65be45-8175-4911-fd41-a9b3129859c3"
      },
      "source": [
        "# Multilayer perceptron\n",
        "from numpy import mean\n",
        "from numpy import std\n",
        "from sklearn.neural_network import MLPClassifier\n",
        "from sklearn.model_selection import cross_val_predict\n",
        "from sklearn.metrics import confusion_matrix, classification_report\n",
        "from sklearn.model_selection import KFold\n",
        "from sklearn.model_selection import cross_val_score\n",
        "from sklearn import metrics\n",
        "\n",
        "# create model\n",
        "model = MLPClassifier()\n",
        "\n",
        "#===================================================================================================\n",
        "#cross validation \n",
        "\n",
        "# evaluate model\n",
        "scores = cross_val_score(model, X_train, y_train, scoring='accuracy', cv=10, n_jobs=-1)\n",
        "# report performance\n",
        "print(50*\"=\")\n",
        "print(\"Cross validation Accuracy:\")\n",
        "print('Accuracy: %.3f (%.3f)' % (mean(scores), std(scores))) \n",
        "print(50*\"=\")\n",
        "\n",
        "#====================================================================================================\n",
        "print(50*\"=\")\n",
        "\n",
        "model.fit(X_train, y_train)\n",
        "\n",
        "\n",
        "#Predicting Bugs\n",
        "y_pred = model.predict(X_test)\n",
        "\n",
        "#CONFUSION MATRIX\n",
        "print(50*\"=\")\n",
        "print(\"CONFUSION MATRIX\")\n",
        "print(confusion_matrix(y_test,y_pred))\n",
        "\n",
        "from sklearn.metrics import plot_confusion_matrix\n",
        "\n",
        "import matplotlib.pyplot as plt\n",
        "plt.rcParams[\"figure.figsize\"] = (20,7)\n",
        "\n",
        "class_names=['NON BUGGY FILE','BUGGY FILE']\n",
        "\n",
        "confusion = plot_confusion_matrix(model,X_test,y_test,\n",
        "                                 display_labels=class_names,\n",
        "                                 cmap=plt.cm.Greens,\n",
        "                                 normalize=None, values_format = '.0f')\n",
        "\n",
        "\n",
        "confusion.ax_.set_title(\"Confusion Matrix using Multilayer perceptron\")\n",
        "\n",
        "print(50*\"=\")\n",
        "print(classification_report(y_test,y_pred))\n",
        "print(50*\"=\")\n",
        "#====================================================================================================\n",
        "\n",
        "# Model Accuracy: how often is the classifier correct?\n",
        "RF_Accuracy = metrics.accuracy_score(y_test, y_pred)\n",
        "print(\"Accuracy:\",RF_Accuracy)\n",
        "\n",
        "# Model Precision: what percentage of positive tuples are labeled as such?\n",
        "print(\"Precision:\",metrics.precision_score(y_test, y_pred))\n",
        "\n",
        "# Model Recall: what percentage of positive tuples are labelled as such?\n",
        "print(\"Recall:\",metrics.recall_score(y_test, y_pred))\n",
        "\n",
        "#Calculate F1 Score\n",
        "print(\"F1 Score:\",metrics.f1_score(y_test, y_pred))\n",
        "\n",
        "#Calculate Mean Absolute Error\n",
        "print(\"Mean Absolute Error:\",metrics.mean_absolute_error(y_test, y_pred))\n",
        "\n",
        "# kappa\n",
        "print(\"Cohens kappa:\", metrics.cohen_kappa_score(y_test, y_pred))\n",
        "\n",
        "# ROC AUC\n",
        "print(\"ROC AUC:\", metrics.roc_auc_score(y_test, y_pred))\n",
        "print(50*\"=\")"
      ],
      "execution_count": 26,
      "outputs": [
        {
          "output_type": "stream",
          "text": [
            "==================================================\n",
            "Cross validation Accuracy:\n",
            "Accuracy: 0.646 (0.007)\n",
            "==================================================\n",
            "==================================================\n",
            "==================================================\n",
            "CONFUSION MATRIX\n",
            "[[3716  639]\n",
            " [1906 1182]]\n",
            "==================================================\n",
            "              precision    recall  f1-score   support\n",
            "\n",
            "         0.0       0.66      0.85      0.74      4355\n",
            "         1.0       0.65      0.38      0.48      3088\n",
            "\n",
            "    accuracy                           0.66      7443\n",
            "   macro avg       0.66      0.62      0.61      7443\n",
            "weighted avg       0.66      0.66      0.64      7443\n",
            "\n",
            "==================================================\n",
            "Accuracy: 0.658067983340051\n",
            "Precision: 0.6490939044481054\n",
            "Recall: 0.38277202072538863\n",
            "F1 Score: 0.4815644734161744\n",
            "Mean Absolute Error: 0.34193201665994893\n",
            "Cohens kappa: 0.25102637515172765\n",
            "ROC AUC: 0.6180220608793419\n",
            "==================================================\n"
          ],
          "name": "stdout"
        },
        {
          "output_type": "display_data",
          "data": {
            "image/png": "[encoded data removed]",
            "text/plain": [
              "<Figure size 1440x504 with 2 Axes>"
            ]
          },
          "metadata": {
            "tags": [],
            "needs_background": "light"
          }
        }
      ]
    },
    {
      "cell_type": "code",
      "metadata": {
        "id": "oEescGayO9-A",
        "colab": {
          "base_uri": "https://localhost:8080/",
          "height": 1000
        },
        "outputId": "782b2634-5412-42f1-a569-18a140f4d6f5"
      },
      "source": [
        "#AdaBoost\n",
        "from numpy import mean\n",
        "from numpy import std\n",
        "from sklearn.ensemble import AdaBoostClassifier\n",
        "from sklearn.model_selection import cross_val_predict\n",
        "from sklearn.metrics import confusion_matrix, classification_report\n",
        "from sklearn.model_selection import KFold\n",
        "from sklearn.model_selection import cross_val_score\n",
        "from sklearn import metrics\n",
        "\n",
        "# create model\n",
        "model = AdaBoostClassifier()\n",
        "\n",
        "#===================================================================================================\n",
        "#cross validation \n",
        "\n",
        "# evaluate model\n",
        "scores = cross_val_score(model, X_train, y_train, scoring='accuracy', cv=10, n_jobs=-1)\n",
        "# report performance\n",
        "print(50*\"=\")\n",
        "print(\"Cross validation Accuracy:\")\n",
        "print('Accuracy: %.3f (%.3f)' % (mean(scores), std(scores))) \n",
        "print(50*\"=\")\n",
        "\n",
        "#====================================================================================================\n",
        "print(50*\"=\")\n",
        "print(\"GRID SEARCH FOR AdaBoost\")\n",
        "\n",
        "params = { \n",
        "    \"random_state\":range(30,40)} \n",
        "gs_ada = GridSearchCV(model,\n",
        "                      param_grid=params,\n",
        "                      scoring='accuracy',\n",
        "                      cv=10)\n",
        "gs_ada.fit(X_train, y_train)\n",
        "\n",
        "print(\"Best Parameters\")\n",
        "print(gs_ada.best_params_)\n",
        "\n",
        "print(\"Best estimaters\")\n",
        "print(gs_ada.best_estimator_)\n",
        "\n",
        "#Predicting Bugs\n",
        "y_pred = gs_ada.best_estimator_.predict(X_test)\n",
        "\n",
        "#CONFUSION MATRIX\n",
        "print(50*\"=\")\n",
        "print(\"CONFUSION MATRIX\")\n",
        "print(confusion_matrix(y_test,y_pred))\n",
        "\n",
        "from sklearn.metrics import plot_confusion_matrix\n",
        "\n",
        "import matplotlib.pyplot as plt\n",
        "plt.rcParams[\"figure.figsize\"] = (20,7)\n",
        "\n",
        "class_names=['NON BUGGY FILE','BUGGY FILE']\n",
        "\n",
        "confusion = plot_confusion_matrix(gs_ada.best_estimator_,X_test,y_test,\n",
        "                                 display_labels=class_names,\n",
        "                                 cmap=plt.cm.Greens,\n",
        "                                 normalize=None, values_format = '.0f')\n",
        "\n",
        "\n",
        "confusion.ax_.set_title(\"Confusion Matrix using AdaBoost\")\n",
        "\n",
        "print(50*\"=\")\n",
        "print(classification_report(y_test,y_pred))\n",
        "print(50*\"=\")\n",
        "#====================================================================================================\n",
        "\n",
        "# Model Accuracy: how often is the classifier correct?\n",
        "RF_Accuracy = metrics.accuracy_score(y_test, y_pred)\n",
        "print(\"Accuracy:\",RF_Accuracy)\n",
        "\n",
        "# Model Precision: what percentage of positive tuples are labeled as such?\n",
        "print(\"Precision:\",metrics.precision_score(y_test, y_pred))\n",
        "\n",
        "# Model Recall: what percentage of positive tuples are labelled as such?\n",
        "print(\"Recall:\",metrics.recall_score(y_test, y_pred))\n",
        "\n",
        "#Calculate F1 Score\n",
        "print(\"F1 Score:\",metrics.f1_score(y_test, y_pred))\n",
        "\n",
        "#Calculate Mean Absolute Error\n",
        "print(\"Mean Absolute Error:\",metrics.mean_absolute_error(y_test, y_pred))\n",
        "\n",
        "# kappa\n",
        "print(\"Cohens kappa:\", metrics.cohen_kappa_score(y_test, y_pred))\n",
        "\n",
        "# ROC AUC\n",
        "print(\"ROC AUC:\", metrics.roc_auc_score(y_test, y_pred))\n",
        "print(50*\"=\")"
      ],
      "execution_count": 25,
      "outputs": [
        {
          "output_type": "stream",
          "text": [
            "==================================================\n",
            "Cross validation Accuracy:\n",
            "Accuracy: 0.646 (0.008)\n",
            "==================================================\n",
            "==================================================\n",
            "GRID SEARCH FOR AdaBoost\n",
            "Best Parameters\n",
            "{'random_state': 30}\n",
            "Best estimaters\n",
            "AdaBoostClassifier(algorithm='SAMME.R', base_estimator=None, learning_rate=1.0,\n",
            "                   n_estimators=50, random_state=30)\n",
            "==================================================\n",
            "CONFUSION MATRIX\n",
            "[[3686  669]\n",
            " [1866 1222]]\n",
            "==================================================\n",
            "              precision    recall  f1-score   support\n",
            "\n",
            "         0.0       0.66      0.85      0.74      4355\n",
            "         1.0       0.65      0.40      0.49      3088\n",
            "\n",
            "    accuracy                           0.66      7443\n",
            "   macro avg       0.66      0.62      0.62      7443\n",
            "weighted avg       0.66      0.66      0.64      7443\n",
            "\n",
            "==================================================\n",
            "Accuracy: 0.6594115276098348\n",
            "Precision: 0.6462189317821259\n",
            "Recall: 0.3957253886010363\n",
            "F1 Score: 0.49086161879895557\n",
            "Mean Absolute Error: 0.34058847239016526\n",
            "Cohens kappa: 0.2565763015200898\n",
            "ROC AUC: 0.621054427940013\n",
            "==================================================\n"
          ],
          "name": "stdout"
        },
        {
          "output_type": "display_data",
          "data": {
            "image/png": "[encoded data removed]",
            "text/plain": [
              "<Figure size 1440x504 with 2 Axes>"
            ]
          },
          "metadata": {
            "tags": [],
            "needs_background": "light"
          }
        }
      ]
    },
    {
      "cell_type": "code",
      "metadata": {
        "colab": {
          "base_uri": "https://localhost:8080/",
          "height": 934
        },
        "id": "7ZQRHmnzUa62",
        "outputId": "aa6a5fe5-381d-4cd7-afc4-c310652cee69"
      },
      "source": [
        "#Quadratic Discriminant Analysis\n",
        "from numpy import mean\n",
        "from numpy import std\n",
        "from sklearn.discriminant_analysis import QuadraticDiscriminantAnalysis\n",
        "from sklearn.model_selection import cross_val_predict\n",
        "from sklearn.metrics import confusion_matrix, classification_report\n",
        "from sklearn.model_selection import KFold\n",
        "from sklearn.model_selection import cross_val_score\n",
        "from sklearn import metrics\n",
        "\n",
        "# create model\n",
        "model = QuadraticDiscriminantAnalysis()\n",
        "\n",
        "#===================================================================================================\n",
        "#cross validation \n",
        "\n",
        "# evaluate model\n",
        "scores = cross_val_score(model, X_train, y_train, scoring='accuracy', cv=10, n_jobs=-1)\n",
        "# report performance\n",
        "print(50*\"=\")\n",
        "print(\"Cross validation Accuracy:\")\n",
        "print('Accuracy: %.3f (%.3f)' % (mean(scores), std(scores))) \n",
        "print(50*\"=\")\n",
        "\n",
        "\n",
        "model.fit(X_train, y_train)\n",
        "#====================================================================================================\n",
        "print(50*\"=\")\n",
        "\n",
        "\n",
        "#Predicting Bugs\n",
        "y_pred = model.predict(X_test)\n",
        "\n",
        "#CONFUSION MATRIX\n",
        "print(50*\"=\")\n",
        "print(\"CONFUSION MATRIX\")\n",
        "print(confusion_matrix(y_test,y_pred))\n",
        "\n",
        "from sklearn.metrics import plot_confusion_matrix\n",
        "\n",
        "import matplotlib.pyplot as plt\n",
        "plt.rcParams[\"figure.figsize\"] = (20,7)\n",
        "\n",
        "class_names=['NON BUGGY FILE','BUGGY FILE']\n",
        "\n",
        "confusion = plot_confusion_matrix(model,X_test,y_test,\n",
        "                                 display_labels=class_names,\n",
        "                                 cmap=plt.cm.Greens,\n",
        "                                 normalize=None, values_format = '.0f')\n",
        "\n",
        "\n",
        "confusion.ax_.set_title(\"Confusion Matrix using Quadratic Discriminant Analysis\")\n",
        "\n",
        "print(50*\"=\")\n",
        "print(classification_report(y_test,y_pred))\n",
        "print(50*\"=\")\n",
        "#====================================================================================================\n",
        "\n",
        "# Model Accuracy: how often is the classifier correct?\n",
        "RF_Accuracy = metrics.accuracy_score(y_test, y_pred)\n",
        "print(\"Accuracy:\",RF_Accuracy)\n",
        "\n",
        "# Model Precision: what percentage of positive tuples are labeled as such?\n",
        "print(\"Precision:\",metrics.precision_score(y_test, y_pred))\n",
        "\n",
        "# Model Recall: what percentage of positive tuples are labelled as such?\n",
        "print(\"Recall:\",metrics.recall_score(y_test, y_pred))\n",
        "\n",
        "#Calculate F1 Score\n",
        "print(\"F1 Score:\",metrics.f1_score(y_test, y_pred))\n",
        "\n",
        "#Calculate Mean Absolute Error\n",
        "print(\"Mean Absolute Error:\",metrics.mean_absolute_error(y_test, y_pred))\n",
        "\n",
        "# kappa\n",
        "print(\"Cohens kappa:\", metrics.cohen_kappa_score(y_test, y_pred))\n",
        "\n",
        "# ROC AUC\n",
        "print(\"ROC AUC:\", metrics.roc_auc_score(y_test, y_pred))\n",
        "print(50*\"=\")"
      ],
      "execution_count": 38,
      "outputs": [
        {
          "output_type": "stream",
          "text": [
            "==================================================\n",
            "Cross validation Accuracy:\n",
            "Accuracy: 0.616 (0.003)\n",
            "==================================================\n",
            "==================================================\n",
            "==================================================\n",
            "CONFUSION MATRIX\n",
            "[[4211  144]\n",
            " [2637  451]]\n",
            "==================================================\n",
            "              precision    recall  f1-score   support\n",
            "\n",
            "         0.0       0.61      0.97      0.75      4355\n",
            "         1.0       0.76      0.15      0.24      3088\n",
            "\n",
            "    accuracy                           0.63      7443\n",
            "   macro avg       0.69      0.56      0.50      7443\n",
            "weighted avg       0.67      0.63      0.54      7443\n",
            "\n",
            "==================================================\n",
            "Accuracy: 0.626360338573156\n",
            "Precision: 0.7579831932773109\n",
            "Recall: 0.14604922279792745\n",
            "F1 Score: 0.244909041542221\n",
            "Mean Absolute Error: 0.373639661426844\n",
            "Cohens kappa: 0.1280177492071839\n",
            "ROC AUC: 0.5564918903886308\n",
            "==================================================\n"
          ],
          "name": "stdout"
        },
        {
          "output_type": "display_data",
          "data": {
            "image/png": "[encoded data removed]",
            "text/plain": [
              "<Figure size 1440x504 with 2 Axes>"
            ]
          },
          "metadata": {
            "tags": [],
            "needs_background": "light"
          }
        }
      ]
    },
    {
      "cell_type": "code",
      "metadata": {
        "colab": {
          "base_uri": "https://localhost:8080/",
          "height": 934
        },
        "id": "auNguVrPVC6D",
        "outputId": "b51e15a7-8aed-4bb1-886b-9755c5454a51"
      },
      "source": [
        "#LinearDiscriminantAnalysis\n",
        "from numpy import mean\n",
        "from numpy import std\n",
        "from sklearn.discriminant_analysis import LinearDiscriminantAnalysis\n",
        "from sklearn.model_selection import cross_val_predict\n",
        "from sklearn.metrics import confusion_matrix, classification_report\n",
        "from sklearn.model_selection import KFold\n",
        "from sklearn.model_selection import cross_val_score\n",
        "from sklearn import metrics\n",
        "\n",
        "# create model\n",
        "model = LinearDiscriminantAnalysis()\n",
        "\n",
        "#===================================================================================================\n",
        "#cross validation \n",
        "\n",
        "# evaluate model\n",
        "scores = cross_val_score(model, X_train, y_train, scoring='accuracy', cv=10, n_jobs=-1)\n",
        "# report performance\n",
        "print(50*\"=\")\n",
        "print(\"Cross validation Accuracy:\")\n",
        "print('Accuracy: %.3f (%.3f)' % (mean(scores), std(scores))) \n",
        "print(50*\"=\")\n",
        "\n",
        "\n",
        "model.fit(X_train, y_train)\n",
        "#====================================================================================================\n",
        "print(50*\"=\")\n",
        "\n",
        "\n",
        "#Predicting Bugs\n",
        "y_pred = model.predict(X_test)\n",
        "\n",
        "#CONFUSION MATRIX\n",
        "print(50*\"=\")\n",
        "print(\"CONFUSION MATRIX\")\n",
        "print(confusion_matrix(y_test,y_pred))\n",
        "\n",
        "from sklearn.metrics import plot_confusion_matrix\n",
        "\n",
        "import matplotlib.pyplot as plt\n",
        "plt.rcParams[\"figure.figsize\"] = (20,7)\n",
        "\n",
        "class_names=['NON BUGGY FILE','BUGGY FILE']\n",
        "\n",
        "confusion = plot_confusion_matrix(model,X_test,y_test,\n",
        "                                 display_labels=class_names,\n",
        "                                 cmap=plt.cm.Greens,\n",
        "                                 normalize=None, values_format = '.0f')\n",
        "\n",
        "\n",
        "confusion.ax_.set_title(\"Confusion Matrix using Linear Discriminant Analysis\")\n",
        "\n",
        "print(50*\"=\")\n",
        "print(classification_report(y_test,y_pred))\n",
        "print(50*\"=\")\n",
        "#====================================================================================================\n",
        "\n",
        "# Model Accuracy: how often is the classifier correct?\n",
        "RF_Accuracy = metrics.accuracy_score(y_test, y_pred)\n",
        "print(\"Accuracy:\",RF_Accuracy)\n",
        "\n",
        "# Model Precision: what percentage of positive tuples are labeled as such?\n",
        "print(\"Precision:\",metrics.precision_score(y_test, y_pred))\n",
        "\n",
        "# Model Recall: what percentage of positive tuples are labelled as such?\n",
        "print(\"Recall:\",metrics.recall_score(y_test, y_pred))\n",
        "\n",
        "#Calculate F1 Score\n",
        "print(\"F1 Score:\",metrics.f1_score(y_test, y_pred))\n",
        "\n",
        "#Calculate Mean Absolute Error\n",
        "print(\"Mean Absolute Error:\",metrics.mean_absolute_error(y_test, y_pred))\n",
        "\n",
        "# kappa\n",
        "print(\"Cohens kappa:\", metrics.cohen_kappa_score(y_test, y_pred))\n",
        "\n",
        "# ROC AUC\n",
        "print(\"ROC AUC:\", metrics.roc_auc_score(y_test, y_pred))\n",
        "print(50*\"=\")"
      ],
      "execution_count": 39,
      "outputs": [
        {
          "output_type": "stream",
          "text": [
            "==================================================\n",
            "Cross validation Accuracy:\n",
            "Accuracy: 0.615 (0.002)\n",
            "==================================================\n",
            "==================================================\n",
            "==================================================\n",
            "CONFUSION MATRIX\n",
            "[[4219  136]\n",
            " [2661  427]]\n",
            "==================================================\n",
            "              precision    recall  f1-score   support\n",
            "\n",
            "         0.0       0.61      0.97      0.75      4355\n",
            "         1.0       0.76      0.14      0.23      3088\n",
            "\n",
            "    accuracy                           0.62      7443\n",
            "   macro avg       0.69      0.55      0.49      7443\n",
            "weighted avg       0.67      0.62      0.54      7443\n",
            "\n",
            "==================================================\n",
            "Accuracy: 0.6242106677415021\n",
            "Precision: 0.7584369449378331\n",
            "Recall: 0.13827720207253885\n",
            "F1 Score: 0.2339085182141879\n",
            "Mean Absolute Error: 0.3757893322584979\n",
            "Cohens kappa: 0.12150048286081472\n",
            "ROC AUC: 0.5535243645265105\n",
            "==================================================\n"
          ],
          "name": "stdout"
        },
        {
          "output_type": "display_data",
          "data": {
            "image/png": "[encoded data removed]",
            "text/plain": [
              "<Figure size 1440x504 with 2 Axes>"
            ]
          },
          "metadata": {
            "tags": [],
            "needs_background": "light"
          }
        }
      ]
    }
  ]
}