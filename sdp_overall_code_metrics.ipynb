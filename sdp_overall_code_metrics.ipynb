{
  "nbformat": 4,
  "nbformat_minor": 0,
  "metadata": {
    "kernelspec": {
      "language": "python",
      "display_name": "Python 3",
      "name": "python3"
    },
    "language_info": {
      "pygments_lexer": "ipython3",
      "nbconvert_exporter": "python",
      "version": "3.6.4",
      "file_extension": ".py",
      "codemirror_mode": {
        "name": "ipython",
        "version": 3
      },
      "name": "python",
      "mimetype": "text/x-python"
    },
    "colab": {
      "name": "sdp-overall-code-metrics.ipynb",
      "provenance": [],
      "include_colab_link": true
    }
  },
  "cells": [
    {
      "cell_type": "markdown",
      "metadata": {
        "id": "view-in-github",
        "colab_type": "text"
      },
      "source": [
        "<a href=\"https://colab.research.google.com/github/bramha574/SDP/blob/main/sdp_overall_code_metrics.ipynb\" target=\"_parent\"><img src=\"https://colab.research.google.com/assets/colab-badge.svg\" alt=\"Open In Colab\"/></a>"
      ]
    },
    {
      "cell_type": "code",
      "metadata": {
        "_uuid": "90c825f7-5ed0-4d63-bf56-bb7ce1c26c0e",
        "_cell_guid": "03661c99-3ba9-45db-988e-c9c302016ef9",
        "id": "agLxKX0b_AuH",
        "jupyter": {
          "outputs_hidden": false
        },
        "execution": {
          "iopub.status.busy": "2021-05-23T21:30:57.907193Z",
          "iopub.execute_input": "2021-05-23T21:30:57.907926Z",
          "iopub.status.idle": "2021-05-23T21:32:19.892655Z",
          "shell.execute_reply.started": "2021-05-23T21:30:57.907867Z",
          "shell.execute_reply": "2021-05-23T21:32:19.890910Z"
        },
        "trusted": true,
        "colab": {
          "base_uri": "https://localhost:8080/"
        },
        "outputId": "d8a0f8c6-c5ef-4321-97b5-1e65c3539a27"
      },
      "source": [
        "!pip install seaborn\n",
        "!pip install matplotlib\n",
        "!pip install sklearn"
      ],
      "execution_count": null,
      "outputs": [
        {
          "output_type": "stream",
          "text": [
            "Requirement already satisfied: seaborn in /usr/local/lib/python3.7/dist-packages (0.11.1)\n",
            "Requirement already satisfied: matplotlib>=2.2 in /usr/local/lib/python3.7/dist-packages (from seaborn) (3.2.2)\n",
            "Requirement already satisfied: pandas>=0.23 in /usr/local/lib/python3.7/dist-packages (from seaborn) (1.1.5)\n",
            "Requirement already satisfied: numpy>=1.15 in /usr/local/lib/python3.7/dist-packages (from seaborn) (1.19.5)\n",
            "Requirement already satisfied: scipy>=1.0 in /usr/local/lib/python3.7/dist-packages (from seaborn) (1.4.1)\n",
            "Requirement already satisfied: kiwisolver>=1.0.1 in /usr/local/lib/python3.7/dist-packages (from matplotlib>=2.2->seaborn) (1.3.1)\n",
            "Requirement already satisfied: cycler>=0.10 in /usr/local/lib/python3.7/dist-packages (from matplotlib>=2.2->seaborn) (0.10.0)\n",
            "Requirement already satisfied: python-dateutil>=2.1 in /usr/local/lib/python3.7/dist-packages (from matplotlib>=2.2->seaborn) (2.8.1)\n",
            "Requirement already satisfied: pyparsing!=2.0.4,!=2.1.2,!=2.1.6,>=2.0.1 in /usr/local/lib/python3.7/dist-packages (from matplotlib>=2.2->seaborn) (2.4.7)\n",
            "Requirement already satisfied: pytz>=2017.2 in /usr/local/lib/python3.7/dist-packages (from pandas>=0.23->seaborn) (2018.9)\n",
            "Requirement already satisfied: six in /usr/local/lib/python3.7/dist-packages (from cycler>=0.10->matplotlib>=2.2->seaborn) (1.15.0)\n",
            "Requirement already satisfied: matplotlib in /usr/local/lib/python3.7/dist-packages (3.2.2)\n",
            "Requirement already satisfied: python-dateutil>=2.1 in /usr/local/lib/python3.7/dist-packages (from matplotlib) (2.8.1)\n",
            "Requirement already satisfied: cycler>=0.10 in /usr/local/lib/python3.7/dist-packages (from matplotlib) (0.10.0)\n",
            "Requirement already satisfied: numpy>=1.11 in /usr/local/lib/python3.7/dist-packages (from matplotlib) (1.19.5)\n",
            "Requirement already satisfied: kiwisolver>=1.0.1 in /usr/local/lib/python3.7/dist-packages (from matplotlib) (1.3.1)\n",
            "Requirement already satisfied: pyparsing!=2.0.4,!=2.1.2,!=2.1.6,>=2.0.1 in /usr/local/lib/python3.7/dist-packages (from matplotlib) (2.4.7)\n",
            "Requirement already satisfied: six>=1.5 in /usr/local/lib/python3.7/dist-packages (from python-dateutil>=2.1->matplotlib) (1.15.0)\n",
            "Requirement already satisfied: sklearn in /usr/local/lib/python3.7/dist-packages (0.0)\n",
            "Requirement already satisfied: scikit-learn in /usr/local/lib/python3.7/dist-packages (from sklearn) (0.22.2.post1)\n",
            "Requirement already satisfied: numpy>=1.11.0 in /usr/local/lib/python3.7/dist-packages (from scikit-learn->sklearn) (1.19.5)\n",
            "Requirement already satisfied: scipy>=0.17.0 in /usr/local/lib/python3.7/dist-packages (from scikit-learn->sklearn) (1.4.1)\n",
            "Requirement already satisfied: joblib>=0.11 in /usr/local/lib/python3.7/dist-packages (from scikit-learn->sklearn) (1.0.1)\n"
          ],
          "name": "stdout"
        }
      ]
    },
    {
      "cell_type": "code",
      "metadata": {
        "colab": {
          "base_uri": "https://localhost:8080/"
        },
        "id": "R4OLu0aayG34",
        "outputId": "8bfdb5ef-f717-4a13-d0bc-5e53accff6e1"
      },
      "source": [
        "from google.colab import drive\n",
        "drive.mount('/content/drive', force_remount=True)"
      ],
      "execution_count": 9,
      "outputs": [
        {
          "output_type": "stream",
          "text": [
            "Mounted at /content/drive\n"
          ],
          "name": "stdout"
        }
      ]
    },
    {
      "cell_type": "code",
      "metadata": {
        "_uuid": "53260b93-9806-47ab-afb0-4931c47baef7",
        "_cell_guid": "d6a75b16-11e4-49de-93b3-93187c0b0b5e",
        "id": "kWYaR_Asf1WB",
        "jupyter": {
          "outputs_hidden": false
        },
        "execution": {
          "iopub.status.busy": "2021-05-23T21:35:57.227343Z",
          "iopub.execute_input": "2021-05-23T21:35:57.227795Z",
          "iopub.status.idle": "2021-05-23T21:35:57.402025Z",
          "shell.execute_reply.started": "2021-05-23T21:35:57.227759Z",
          "shell.execute_reply": "2021-05-23T21:35:57.400876Z"
        },
        "trusted": true
      },
      "source": [
        "import pandas as pd\n",
        "import numpy as np\n",
        "\n",
        "#Reading the dataset\n",
        "all_metrics = pd.read_csv(\"/content/drive/MyDrive/MLAnalysis/READYTOMLALLMETRICS.csv\")\n",
        "all_metrics = all_metrics.rename(columns={\"BUG_STATUS_y\": \"BUG_STATUS\"})"
      ],
      "execution_count": 153,
      "outputs": []
    },
    {
      "cell_type": "code",
      "metadata": {
        "_uuid": "d6dcb522-4c28-4ec8-afec-11f40d71ee77",
        "_cell_guid": "1d941397-fa91-4cd7-8809-d3c65219ab55",
        "id": "iD2pZXNFhTvM",
        "jupyter": {
          "outputs_hidden": false
        },
        "execution": {
          "iopub.status.busy": "2021-05-23T21:35:59.221168Z",
          "iopub.execute_input": "2021-05-23T21:35:59.221780Z",
          "iopub.status.idle": "2021-05-23T21:35:59.240562Z",
          "shell.execute_reply.started": "2021-05-23T21:35:59.221721Z",
          "shell.execute_reply": "2021-05-23T21:35:59.239819Z"
        },
        "trusted": true,
        "colab": {
          "base_uri": "https://localhost:8080/",
          "height": 419
        },
        "outputId": "4ecc162e-00f7-4ba1-eae0-f8a5e4164e99"
      },
      "source": [
        "all_metrics"
      ],
      "execution_count": 154,
      "outputs": [
        {
          "output_type": "execute_result",
          "data": {
            "text/html": [
              "<div>\n",
              "<style scoped>\n",
              "    .dataframe tbody tr th:only-of-type {\n",
              "        vertical-align: middle;\n",
              "    }\n",
              "\n",
              "    .dataframe tbody tr th {\n",
              "        vertical-align: top;\n",
              "    }\n",
              "\n",
              "    .dataframe thead th {\n",
              "        text-align: right;\n",
              "    }\n",
              "</style>\n",
              "<table border=\"1\" class=\"dataframe\">\n",
              "  <thead>\n",
              "    <tr style=\"text-align: right;\">\n",
              "      <th></th>\n",
              "      <th>Unnamed: 0</th>\n",
              "      <th>entity</th>\n",
              "      <th>Parent</th>\n",
              "      <th>McCC</th>\n",
              "      <th>CLOC</th>\n",
              "      <th>LLOC</th>\n",
              "      <th>LOC</th>\n",
              "      <th>age-months</th>\n",
              "      <th>n-authors</th>\n",
              "      <th>n-revs</th>\n",
              "      <th>BUG_STATUS</th>\n",
              "    </tr>\n",
              "  </thead>\n",
              "  <tbody>\n",
              "    <tr>\n",
              "      <th>0</th>\n",
              "      <td>0</td>\n",
              "      <td>test/__init__.py</td>\n",
              "      <td>L114</td>\n",
              "      <td>1</td>\n",
              "      <td>0</td>\n",
              "      <td>0</td>\n",
              "      <td>1</td>\n",
              "      <td>NaN</td>\n",
              "      <td>NaN</td>\n",
              "      <td>NaN</td>\n",
              "      <td>0.0</td>\n",
              "    </tr>\n",
              "    <tr>\n",
              "      <th>1</th>\n",
              "      <td>1</td>\n",
              "      <td>test/helper.py</td>\n",
              "      <td>L114</td>\n",
              "      <td>55</td>\n",
              "      <td>12</td>\n",
              "      <td>233</td>\n",
              "      <td>282</td>\n",
              "      <td>NaN</td>\n",
              "      <td>NaN</td>\n",
              "      <td>NaN</td>\n",
              "      <td>0.0</td>\n",
              "    </tr>\n",
              "    <tr>\n",
              "      <th>2</th>\n",
              "      <td>2</td>\n",
              "      <td>test/test_InfoExtractor.py</td>\n",
              "      <td>L114</td>\n",
              "      <td>7</td>\n",
              "      <td>50</td>\n",
              "      <td>1045</td>\n",
              "      <td>1132</td>\n",
              "      <td>NaN</td>\n",
              "      <td>NaN</td>\n",
              "      <td>NaN</td>\n",
              "      <td>1.0</td>\n",
              "    </tr>\n",
              "    <tr>\n",
              "      <th>3</th>\n",
              "      <td>3</td>\n",
              "      <td>test/test_YoutubeDL.py</td>\n",
              "      <td>L114</td>\n",
              "      <td>14</td>\n",
              "      <td>39</td>\n",
              "      <td>792</td>\n",
              "      <td>994</td>\n",
              "      <td>NaN</td>\n",
              "      <td>NaN</td>\n",
              "      <td>NaN</td>\n",
              "      <td>1.0</td>\n",
              "    </tr>\n",
              "    <tr>\n",
              "      <th>4</th>\n",
              "      <td>4</td>\n",
              "      <td>test/test_YoutubeDLCookieJar.py</td>\n",
              "      <td>L114</td>\n",
              "      <td>1</td>\n",
              "      <td>4</td>\n",
              "      <td>36</td>\n",
              "      <td>51</td>\n",
              "      <td>NaN</td>\n",
              "      <td>NaN</td>\n",
              "      <td>NaN</td>\n",
              "      <td>0.0</td>\n",
              "    </tr>\n",
              "    <tr>\n",
              "      <th>...</th>\n",
              "      <td>...</td>\n",
              "      <td>...</td>\n",
              "      <td>...</td>\n",
              "      <td>...</td>\n",
              "      <td>...</td>\n",
              "      <td>...</td>\n",
              "      <td>...</td>\n",
              "      <td>...</td>\n",
              "      <td>...</td>\n",
              "      <td>...</td>\n",
              "      <td>...</td>\n",
              "    </tr>\n",
              "    <tr>\n",
              "      <th>38615</th>\n",
              "      <td>38615</td>\n",
              "      <td>pipenv/vendor/urllib3/packages/ssl_match_hostn...</td>\n",
              "      <td>L70825</td>\n",
              "      <td>1</td>\n",
              "      <td>7</td>\n",
              "      <td>14</td>\n",
              "      <td>22</td>\n",
              "      <td>5.0</td>\n",
              "      <td>2.0</td>\n",
              "      <td>5.0</td>\n",
              "      <td>1.0</td>\n",
              "    </tr>\n",
              "    <tr>\n",
              "      <th>38616</th>\n",
              "      <td>38616</td>\n",
              "      <td>pipenv/vendor/urllib3/packages/ssl_match_hostn...</td>\n",
              "      <td>L70825</td>\n",
              "      <td>29</td>\n",
              "      <td>53</td>\n",
              "      <td>103</td>\n",
              "      <td>160</td>\n",
              "      <td>16.0</td>\n",
              "      <td>1.0</td>\n",
              "      <td>4.0</td>\n",
              "      <td>1.0</td>\n",
              "    </tr>\n",
              "    <tr>\n",
              "      <th>38617</th>\n",
              "      <td>38617</td>\n",
              "      <td>pipenv/vendor/importlib_resources/tests/data01...</td>\n",
              "      <td>L49302</td>\n",
              "      <td>1</td>\n",
              "      <td>0</td>\n",
              "      <td>0</td>\n",
              "      <td>1</td>\n",
              "      <td>13.0</td>\n",
              "      <td>1.0</td>\n",
              "      <td>1.0</td>\n",
              "      <td>1.0</td>\n",
              "    </tr>\n",
              "    <tr>\n",
              "      <th>38618</th>\n",
              "      <td>38618</td>\n",
              "      <td>pipenv/vendor/importlib_resources/tests/data02...</td>\n",
              "      <td>L49312</td>\n",
              "      <td>1</td>\n",
              "      <td>0</td>\n",
              "      <td>0</td>\n",
              "      <td>1</td>\n",
              "      <td>13.0</td>\n",
              "      <td>1.0</td>\n",
              "      <td>1.0</td>\n",
              "      <td>1.0</td>\n",
              "    </tr>\n",
              "    <tr>\n",
              "      <th>38619</th>\n",
              "      <td>38619</td>\n",
              "      <td>pipenv/vendor/importlib_resources/tests/data02...</td>\n",
              "      <td>L49317</td>\n",
              "      <td>1</td>\n",
              "      <td>0</td>\n",
              "      <td>0</td>\n",
              "      <td>1</td>\n",
              "      <td>13.0</td>\n",
              "      <td>1.0</td>\n",
              "      <td>1.0</td>\n",
              "      <td>1.0</td>\n",
              "    </tr>\n",
              "  </tbody>\n",
              "</table>\n",
              "<p>38620 rows × 11 columns</p>\n",
              "</div>"
            ],
            "text/plain": [
              "       Unnamed: 0  ... BUG_STATUS\n",
              "0               0  ...        0.0\n",
              "1               1  ...        0.0\n",
              "2               2  ...        1.0\n",
              "3               3  ...        1.0\n",
              "4               4  ...        0.0\n",
              "...           ...  ...        ...\n",
              "38615       38615  ...        1.0\n",
              "38616       38616  ...        1.0\n",
              "38617       38617  ...        1.0\n",
              "38618       38618  ...        1.0\n",
              "38619       38619  ...        1.0\n",
              "\n",
              "[38620 rows x 11 columns]"
            ]
          },
          "metadata": {
            "tags": []
          },
          "execution_count": 154
        }
      ]
    },
    {
      "cell_type": "code",
      "metadata": {
        "_uuid": "c5406329-e445-477d-ac86-27def19308b6",
        "_cell_guid": "e9103bd7-5c9f-4266-8d6d-9a9dcf4fdff6",
        "id": "llRdoFvjyTtx",
        "jupyter": {
          "outputs_hidden": false
        },
        "execution": {
          "iopub.status.busy": "2021-05-23T21:36:15.616246Z",
          "iopub.execute_input": "2021-05-23T21:36:15.616784Z",
          "iopub.status.idle": "2021-05-23T21:36:15.632433Z",
          "shell.execute_reply.started": "2021-05-23T21:36:15.616734Z",
          "shell.execute_reply": "2021-05-23T21:36:15.631445Z"
        },
        "trusted": true
      },
      "source": [
        "all_metrics.isnull().sum()\n",
        "all_metrics = all_metrics.fillna(all_metrics.median())\n"
      ],
      "execution_count": 157,
      "outputs": []
    },
    {
      "cell_type": "code",
      "metadata": {
        "_uuid": "8eacd946-47d3-4165-ae50-931b1cb3d381",
        "_cell_guid": "7d073bcc-46ea-4123-8e5a-95d2ae48de12",
        "id": "xKvex99vhoL0",
        "jupyter": {
          "outputs_hidden": false
        },
        "execution": {
          "iopub.status.busy": "2021-05-23T21:36:17.119054Z",
          "iopub.execute_input": "2021-05-23T21:36:17.119533Z",
          "iopub.status.idle": "2021-05-23T21:36:17.174264Z",
          "shell.execute_reply.started": "2021-05-23T21:36:17.119501Z",
          "shell.execute_reply": "2021-05-23T21:36:17.173059Z"
        },
        "trusted": true,
        "colab": {
          "base_uri": "https://localhost:8080/",
          "height": 603
        },
        "outputId": "76156066-61ed-47ba-f449-dd4f1e038450"
      },
      "source": [
        "#Quick description of data\n",
        "all_metrics.info()\n",
        "all_metrics.describe()"
      ],
      "execution_count": 133,
      "outputs": [
        {
          "output_type": "stream",
          "text": [
            "<class 'pandas.core.frame.DataFrame'>\n",
            "RangeIndex: 38620 entries, 0 to 38619\n",
            "Data columns (total 11 columns):\n",
            " #   Column      Non-Null Count  Dtype  \n",
            "---  ------      --------------  -----  \n",
            " 0   Unnamed: 0  38620 non-null  int64  \n",
            " 1   entity      38620 non-null  object \n",
            " 2   Parent      38620 non-null  object \n",
            " 3   McCC        38620 non-null  int64  \n",
            " 4   CLOC        38620 non-null  int64  \n",
            " 5   LLOC        38620 non-null  int64  \n",
            " 6   LOC         38620 non-null  int64  \n",
            " 7   age-months  30466 non-null  float64\n",
            " 8   n-authors   30466 non-null  float64\n",
            " 9   n-revs      30466 non-null  float64\n",
            " 10  BUG_STATUS  38620 non-null  float64\n",
            "dtypes: float64(4), int64(5), object(2)\n",
            "memory usage: 3.2+ MB\n"
          ],
          "name": "stdout"
        },
        {
          "output_type": "execute_result",
          "data": {
            "text/html": [
              "<div>\n",
              "<style scoped>\n",
              "    .dataframe tbody tr th:only-of-type {\n",
              "        vertical-align: middle;\n",
              "    }\n",
              "\n",
              "    .dataframe tbody tr th {\n",
              "        vertical-align: top;\n",
              "    }\n",
              "\n",
              "    .dataframe thead th {\n",
              "        text-align: right;\n",
              "    }\n",
              "</style>\n",
              "<table border=\"1\" class=\"dataframe\">\n",
              "  <thead>\n",
              "    <tr style=\"text-align: right;\">\n",
              "      <th></th>\n",
              "      <th>Unnamed: 0</th>\n",
              "      <th>McCC</th>\n",
              "      <th>CLOC</th>\n",
              "      <th>LLOC</th>\n",
              "      <th>LOC</th>\n",
              "      <th>age-months</th>\n",
              "      <th>n-authors</th>\n",
              "      <th>n-revs</th>\n",
              "      <th>BUG_STATUS</th>\n",
              "    </tr>\n",
              "  </thead>\n",
              "  <tbody>\n",
              "    <tr>\n",
              "      <th>count</th>\n",
              "      <td>38620.000000</td>\n",
              "      <td>38620.000000</td>\n",
              "      <td>38620.000000</td>\n",
              "      <td>38620.000000</td>\n",
              "      <td>38620.000000</td>\n",
              "      <td>30466.000000</td>\n",
              "      <td>30466.000000</td>\n",
              "      <td>30466.000000</td>\n",
              "      <td>38620.000000</td>\n",
              "    </tr>\n",
              "    <tr>\n",
              "      <th>mean</th>\n",
              "      <td>19309.500000</td>\n",
              "      <td>9.158182</td>\n",
              "      <td>5.313542</td>\n",
              "      <td>112.148369</td>\n",
              "      <td>180.508622</td>\n",
              "      <td>13.348421</td>\n",
              "      <td>4.028852</td>\n",
              "      <td>10.148198</td>\n",
              "      <td>0.433014</td>\n",
              "    </tr>\n",
              "    <tr>\n",
              "      <th>std</th>\n",
              "      <td>11148.778035</td>\n",
              "      <td>30.987308</td>\n",
              "      <td>49.860791</td>\n",
              "      <td>240.647537</td>\n",
              "      <td>391.612349</td>\n",
              "      <td>13.536503</td>\n",
              "      <td>3.392791</td>\n",
              "      <td>13.611047</td>\n",
              "      <td>0.495499</td>\n",
              "    </tr>\n",
              "    <tr>\n",
              "      <th>min</th>\n",
              "      <td>0.000000</td>\n",
              "      <td>1.000000</td>\n",
              "      <td>0.000000</td>\n",
              "      <td>0.000000</td>\n",
              "      <td>0.000000</td>\n",
              "      <td>0.000000</td>\n",
              "      <td>1.000000</td>\n",
              "      <td>1.000000</td>\n",
              "      <td>0.000000</td>\n",
              "    </tr>\n",
              "    <tr>\n",
              "      <th>25%</th>\n",
              "      <td>9654.750000</td>\n",
              "      <td>1.000000</td>\n",
              "      <td>0.000000</td>\n",
              "      <td>20.000000</td>\n",
              "      <td>53.000000</td>\n",
              "      <td>2.000000</td>\n",
              "      <td>2.000000</td>\n",
              "      <td>3.000000</td>\n",
              "      <td>0.000000</td>\n",
              "    </tr>\n",
              "    <tr>\n",
              "      <th>50%</th>\n",
              "      <td>19309.500000</td>\n",
              "      <td>2.000000</td>\n",
              "      <td>0.000000</td>\n",
              "      <td>50.000000</td>\n",
              "      <td>93.000000</td>\n",
              "      <td>9.000000</td>\n",
              "      <td>3.000000</td>\n",
              "      <td>8.000000</td>\n",
              "      <td>0.000000</td>\n",
              "    </tr>\n",
              "    <tr>\n",
              "      <th>75%</th>\n",
              "      <td>28964.250000</td>\n",
              "      <td>7.000000</td>\n",
              "      <td>0.000000</td>\n",
              "      <td>114.000000</td>\n",
              "      <td>184.000000</td>\n",
              "      <td>22.000000</td>\n",
              "      <td>5.000000</td>\n",
              "      <td>13.000000</td>\n",
              "      <td>1.000000</td>\n",
              "    </tr>\n",
              "    <tr>\n",
              "      <th>max</th>\n",
              "      <td>38619.000000</td>\n",
              "      <td>866.000000</td>\n",
              "      <td>3195.000000</td>\n",
              "      <td>11089.000000</td>\n",
              "      <td>26422.000000</td>\n",
              "      <td>60.000000</td>\n",
              "      <td>126.000000</td>\n",
              "      <td>673.000000</td>\n",
              "      <td>1.000000</td>\n",
              "    </tr>\n",
              "  </tbody>\n",
              "</table>\n",
              "</div>"
            ],
            "text/plain": [
              "         Unnamed: 0          McCC  ...        n-revs    BUG_STATUS\n",
              "count  38620.000000  38620.000000  ...  30466.000000  38620.000000\n",
              "mean   19309.500000      9.158182  ...     10.148198      0.433014\n",
              "std    11148.778035     30.987308  ...     13.611047      0.495499\n",
              "min        0.000000      1.000000  ...      1.000000      0.000000\n",
              "25%     9654.750000      1.000000  ...      3.000000      0.000000\n",
              "50%    19309.500000      2.000000  ...      8.000000      0.000000\n",
              "75%    28964.250000      7.000000  ...     13.000000      1.000000\n",
              "max    38619.000000    866.000000  ...    673.000000      1.000000\n",
              "\n",
              "[8 rows x 9 columns]"
            ]
          },
          "metadata": {
            "tags": []
          },
          "execution_count": 133
        }
      ]
    },
    {
      "cell_type": "code",
      "metadata": {
        "_uuid": "5915a91d-30aa-4f83-b08a-56a6a6cee493",
        "_cell_guid": "96e3ac0c-ace6-48de-9021-6fc869adab02",
        "id": "wfZdHvh2g4Uq",
        "jupyter": {
          "outputs_hidden": false
        },
        "execution": {
          "iopub.status.busy": "2021-05-23T21:36:20.223725Z",
          "iopub.execute_input": "2021-05-23T21:36:20.224083Z",
          "iopub.status.idle": "2021-05-23T21:36:20.234038Z",
          "shell.execute_reply.started": "2021-05-23T21:36:20.224053Z",
          "shell.execute_reply": "2021-05-23T21:36:20.233075Z"
        },
        "trusted": true
      },
      "source": [
        "#Removing the un necessary columns\n",
        "all_metrics.drop(['Unnamed: 0', 'Parent'], inplace=True, axis=1)"
      ],
      "execution_count": 160,
      "outputs": []
    },
    {
      "cell_type": "code",
      "metadata": {
        "_uuid": "d9fe1738-0daf-423f-8ac1-e160410fe2c5",
        "_cell_guid": "aca3280b-d167-4bbd-ac51-979b63a0a68e",
        "id": "AXZW639keMQM",
        "jupyter": {
          "outputs_hidden": false
        },
        "execution": {
          "iopub.status.busy": "2021-05-23T21:36:22.003335Z",
          "iopub.execute_input": "2021-05-23T21:36:22.003913Z",
          "iopub.status.idle": "2021-05-23T21:36:22.144570Z",
          "shell.execute_reply.started": "2021-05-23T21:36:22.003874Z",
          "shell.execute_reply": "2021-05-23T21:36:22.143863Z"
        },
        "trusted": true
      },
      "source": [
        "\n",
        "#import seaborn as sns\n",
        "#sns.countplot(x='BUG_STATUS', data=all_metrics)"
      ],
      "execution_count": 135,
      "outputs": []
    },
    {
      "cell_type": "code",
      "metadata": {
        "_uuid": "78cc0445-be86-4beb-981c-2993545b3a22",
        "_cell_guid": "73597211-1600-4a61-88d2-89cd2f06acea",
        "id": "zkpwtXV0hEn-",
        "jupyter": {
          "outputs_hidden": false
        },
        "execution": {
          "iopub.status.busy": "2021-05-23T21:36:24.409974Z",
          "iopub.execute_input": "2021-05-23T21:36:24.410488Z",
          "iopub.status.idle": "2021-05-23T21:36:25.361529Z",
          "shell.execute_reply.started": "2021-05-23T21:36:24.410430Z",
          "shell.execute_reply": "2021-05-23T21:36:25.360744Z"
        },
        "trusted": true,
        "colab": {
          "base_uri": "https://localhost:8080/",
          "height": 879
        },
        "outputId": "d19b9bc7-4856-4368-9b39-7f0dcfe0845f"
      },
      "source": [
        "import matplotlib.pyplot as plt\n",
        "all_metrics.hist(bins=50,figsize=(20,15))\n",
        "plt.show()"
      ],
      "execution_count": 161,
      "outputs": [
        {
          "output_type": "display_data",
          "data": {
            "image/png": "[encoded data removed]",
            "text/plain": [
              "<Figure size 1440x1080 with 9 Axes>"
            ]
          },
          "metadata": {
            "tags": [],
            "needs_background": "light"
          }
        }
      ]
    },
    {
      "cell_type": "code",
      "metadata": {
        "_uuid": "2006bade-5e03-4aaf-99ea-30491b39caf7",
        "_cell_guid": "9075422a-4128-4370-8208-73bbdb8926d3",
        "id": "5Iuwe-azpphf",
        "jupyter": {
          "outputs_hidden": false
        },
        "execution": {
          "iopub.status.busy": "2021-05-23T21:36:27.867877Z",
          "iopub.execute_input": "2021-05-23T21:36:27.868461Z",
          "iopub.status.idle": "2021-05-23T21:36:27.886399Z",
          "shell.execute_reply.started": "2021-05-23T21:36:27.868414Z",
          "shell.execute_reply": "2021-05-23T21:36:27.884849Z"
        },
        "trusted": true
      },
      "source": [
        "# #train and test set splitting\n",
        "from sklearn.model_selection import train_test_split\n",
        "train_set, test_set = train_test_split(all_metrics,test_size=0.2,random_state=42)"
      ],
      "execution_count": 162,
      "outputs": []
    },
    {
      "cell_type": "code",
      "metadata": {
        "_uuid": "7cb12903-570d-4d6e-9717-5095d79e29a7",
        "_cell_guid": "861fdd8f-aab6-43d8-88f4-9bb0138ae680",
        "id": "kbyL_C7jgK-M",
        "jupyter": {
          "outputs_hidden": false
        },
        "execution": {
          "iopub.status.busy": "2021-05-23T21:36:29.670764Z",
          "iopub.execute_input": "2021-05-23T21:36:29.671123Z",
          "iopub.status.idle": "2021-05-23T21:36:29.677715Z",
          "shell.execute_reply.started": "2021-05-23T21:36:29.671092Z",
          "shell.execute_reply": "2021-05-23T21:36:29.676380Z"
        },
        "trusted": true,
        "colab": {
          "base_uri": "https://localhost:8080/"
        },
        "outputId": "96370aca-088a-4ea2-cf1d-83b3c0d5ec52"
      },
      "source": [
        "x = len(train_set)\n",
        "y = len(test_set)\n",
        "print(train_set.shape)\n",
        "print(test_set.shape)"
      ],
      "execution_count": 163,
      "outputs": [
        {
          "output_type": "stream",
          "text": [
            "(30896, 9)\n",
            "(7724, 9)\n"
          ],
          "name": "stdout"
        }
      ]
    },
    {
      "cell_type": "code",
      "metadata": {
        "_uuid": "f0de04f8-5742-4faa-87a9-de3e3a80ab3c",
        "_cell_guid": "7734d2bc-c118-4689-82f8-5a32263a2117",
        "id": "ZpXwP1lchtUR",
        "jupyter": {
          "outputs_hidden": false
        },
        "execution": {
          "iopub.status.busy": "2021-05-23T21:36:30.892896Z",
          "iopub.execute_input": "2021-05-23T21:36:30.893303Z",
          "iopub.status.idle": "2021-05-23T21:36:31.045394Z",
          "shell.execute_reply.started": "2021-05-23T21:36:30.893270Z",
          "shell.execute_reply": "2021-05-23T21:36:31.043945Z"
        },
        "trusted": true,
        "colab": {
          "base_uri": "https://localhost:8080/",
          "height": 337
        },
        "outputId": "7e04f4a7-081c-4bef-ea4d-c9fc5df79523"
      },
      "source": [
        "import matplotlib.pyplot as plt\n",
        "fig = plt.figure()\n",
        "ax = fig.add_axes([0,0,1,1])\n",
        "set_ = ['train_set','test_set']\n",
        "length =  [x,y]\n",
        "ax.bar(set_,length)\n",
        "plt.show()"
      ],
      "execution_count": 164,
      "outputs": [
        {
          "output_type": "display_data",
          "data": {
            "image/png": "[encoded data removed]",
            "text/plain": [
              "<Figure size 432x288 with 1 Axes>"
            ]
          },
          "metadata": {
            "tags": [],
            "needs_background": "light"
          }
        }
      ]
    },
    {
      "cell_type": "code",
      "metadata": {
        "_uuid": "87481ba9-d3b3-40a9-b328-aed24122c2f8",
        "_cell_guid": "fb2b9707-538b-48bc-bab5-f86d9b97e7ed",
        "id": "XyhH1up5vTrY",
        "jupyter": {
          "outputs_hidden": false
        },
        "execution": {
          "iopub.status.busy": "2021-05-23T21:36:36.221768Z",
          "iopub.execute_input": "2021-05-23T21:36:36.222219Z",
          "iopub.status.idle": "2021-05-23T21:36:36.231661Z",
          "shell.execute_reply.started": "2021-05-23T21:36:36.222181Z",
          "shell.execute_reply": "2021-05-23T21:36:36.230277Z"
        },
        "trusted": true
      },
      "source": [
        "all_metrics = train_set.copy()"
      ],
      "execution_count": 165,
      "outputs": []
    },
    {
      "cell_type": "code",
      "metadata": {
        "_uuid": "cf5bfcae-7e16-43f8-a40a-01cd71eaea93",
        "_cell_guid": "ff26d2ca-422c-4a06-affb-e27fe959169c",
        "id": "p29rwFx3vjrk",
        "jupyter": {
          "outputs_hidden": false
        },
        "execution": {
          "iopub.status.busy": "2021-05-23T21:36:37.630829Z",
          "iopub.execute_input": "2021-05-23T21:36:37.631220Z",
          "iopub.status.idle": "2021-05-23T21:36:37.648975Z",
          "shell.execute_reply.started": "2021-05-23T21:36:37.631187Z",
          "shell.execute_reply": "2021-05-23T21:36:37.647638Z"
        },
        "trusted": true,
        "colab": {
          "base_uri": "https://localhost:8080/"
        },
        "outputId": "12bf7c7b-eadd-441d-f9b4-c7a9a40879d4"
      },
      "source": [
        "#checking correlation\n",
        "corr_matrix = all_metrics.corr()\n",
        "corr_matrix[\"BUG_STATUS\"].sort_values(ascending=False)"
      ],
      "execution_count": 166,
      "outputs": [
        {
          "output_type": "execute_result",
          "data": {
            "text/plain": [
              "BUG_STATUS    1.000000\n",
              "LLOC          0.183161\n",
              "LOC           0.159084\n",
              "McCC          0.116698\n",
              "CLOC          0.086818\n",
              "n-revs        0.084677\n",
              "n-authors     0.069318\n",
              "age-months   -0.021640\n",
              "Name: BUG_STATUS, dtype: float64"
            ]
          },
          "metadata": {
            "tags": []
          },
          "execution_count": 166
        }
      ]
    },
    {
      "cell_type": "code",
      "metadata": {
        "_uuid": "94373729-6498-4d04-a5f8-90f53a787075",
        "_cell_guid": "491655b7-e75c-43e8-8315-daf0e8fc8bc1",
        "id": "cWmzWLnNwTde",
        "jupyter": {
          "outputs_hidden": false
        },
        "execution": {
          "iopub.status.busy": "2021-05-23T21:36:39.021891Z",
          "iopub.execute_input": "2021-05-23T21:36:39.022309Z",
          "iopub.status.idle": "2021-05-23T21:36:43.304946Z",
          "shell.execute_reply.started": "2021-05-23T21:36:39.022275Z",
          "shell.execute_reply": "2021-05-23T21:36:43.303594Z"
        },
        "trusted": true,
        "colab": {
          "base_uri": "https://localhost:8080/",
          "height": 1000
        },
        "outputId": "e1c105a2-820b-43ff-ee92-e671876e3894"
      },
      "source": [
        "\n",
        "\n",
        "#checking correlation with scatter_matrix\n",
        "from pandas.plotting import scatter_matrix\n",
        "\n",
        "attributes = [\"BUG_STATUS\", \"age-months\", \"n-authors\",\"n-revs\", \"McCC\", \"CLOC\", \"LLOC\"]\n",
        "scatter_matrix(all_metrics[attributes],figsize=(12,8))"
      ],
      "execution_count": 168,
      "outputs": [
        {
          "output_type": "execute_result",
          "data": {
            "text/plain": [
              "array([[<matplotlib.axes._subplots.AxesSubplot object at 0x7f60ae797710>,\n",
              "        <matplotlib.axes._subplots.AxesSubplot object at 0x7f60af1cb810>,\n",
              "        <matplotlib.axes._subplots.AxesSubplot object at 0x7f60ae687c10>,\n",
              "        <matplotlib.axes._subplots.AxesSubplot object at 0x7f60ae6411d0>,\n",
              "        <matplotlib.axes._subplots.AxesSubplot object at 0x7f60ae5f6750>,\n",
              "        <matplotlib.axes._subplots.AxesSubplot object at 0x7f60ae62ccd0>,\n",
              "        <matplotlib.axes._subplots.AxesSubplot object at 0x7f60ae5ef310>],\n",
              "       [<matplotlib.axes._subplots.AxesSubplot object at 0x7f60ae5a38d0>,\n",
              "        <matplotlib.axes._subplots.AxesSubplot object at 0x7f60ae5a3910>,\n",
              "        <matplotlib.axes._subplots.AxesSubplot object at 0x7f60ae560dd0>,\n",
              "        <matplotlib.axes._subplots.AxesSubplot object at 0x7f60ae4d8850>,\n",
              "        <matplotlib.axes._subplots.AxesSubplot object at 0x7f60ae48ddd0>,\n",
              "        <matplotlib.axes._subplots.AxesSubplot object at 0x7f60ae44e390>,\n",
              "        <matplotlib.axes._subplots.AxesSubplot object at 0x7f60ae406910>],\n",
              "       [<matplotlib.axes._subplots.AxesSubplot object at 0x7f60ae3bbe90>,\n",
              "        <matplotlib.axes._subplots.AxesSubplot object at 0x7f60ae37c450>,\n",
              "        <matplotlib.axes._subplots.AxesSubplot object at 0x7f60ae3329d0>,\n",
              "        <matplotlib.axes._subplots.AxesSubplot object at 0x7f60ae368f50>,\n",
              "        <matplotlib.axes._subplots.AxesSubplot object at 0x7f60ae32b510>,\n",
              "        <matplotlib.axes._subplots.AxesSubplot object at 0x7f60ae2dfa90>,\n",
              "        <matplotlib.axes._subplots.AxesSubplot object at 0x7f60ae295fd0>],\n",
              "       [<matplotlib.axes._subplots.AxesSubplot object at 0x7f60ae25b5d0>,\n",
              "        <matplotlib.axes._subplots.AxesSubplot object at 0x7f60ae20cb50>,\n",
              "        <matplotlib.axes._subplots.AxesSubplot object at 0x7f60ae1cf110>,\n",
              "        <matplotlib.axes._subplots.AxesSubplot object at 0x7f60ae186690>,\n",
              "        <matplotlib.axes._subplots.AxesSubplot object at 0x7f60ae13ac10>,\n",
              "        <matplotlib.axes._subplots.AxesSubplot object at 0x7f60ae0fb1d0>,\n",
              "        <matplotlib.axes._subplots.AxesSubplot object at 0x7f60ae0b2750>],\n",
              "       [<matplotlib.axes._subplots.AxesSubplot object at 0x7f60ae0e7cd0>,\n",
              "        <matplotlib.axes._subplots.AxesSubplot object at 0x7f60ae0a72d0>,\n",
              "        <matplotlib.axes._subplots.AxesSubplot object at 0x7f60ae05a890>,\n",
              "        <matplotlib.axes._subplots.AxesSubplot object at 0x7f60ae00fe10>,\n",
              "        <matplotlib.axes._subplots.AxesSubplot object at 0x7f60adfd13d0>,\n",
              "        <matplotlib.axes._subplots.AxesSubplot object at 0x7f60adf85950>,\n",
              "        <matplotlib.axes._subplots.AxesSubplot object at 0x7f60adf3aed0>],\n",
              "       [<matplotlib.axes._subplots.AxesSubplot object at 0x7f60adefd490>,\n",
              "        <matplotlib.axes._subplots.AxesSubplot object at 0x7f60adeb3a10>,\n",
              "        <matplotlib.axes._subplots.AxesSubplot object at 0x7f60adeeaf90>,\n",
              "        <matplotlib.axes._subplots.AxesSubplot object at 0x7f60adeab550>,\n",
              "        <matplotlib.axes._subplots.AxesSubplot object at 0x7f60ade62ad0>,\n",
              "        <matplotlib.axes._subplots.AxesSubplot object at 0x7f60ade0db90>,\n",
              "        <matplotlib.axes._subplots.AxesSubplot object at 0x7f60addda610>],\n",
              "       [<matplotlib.axes._subplots.AxesSubplot object at 0x7f60add8db90>,\n",
              "        <matplotlib.axes._subplots.AxesSubplot object at 0x7f60ae75bb50>,\n",
              "        <matplotlib.axes._subplots.AxesSubplot object at 0x7f60af2643d0>,\n",
              "        <matplotlib.axes._subplots.AxesSubplot object at 0x7f60af1b3890>,\n",
              "        <matplotlib.axes._subplots.AxesSubplot object at 0x7f60aef95850>,\n",
              "        <matplotlib.axes._subplots.AxesSubplot object at 0x7f60aebc0a90>,\n",
              "        <matplotlib.axes._subplots.AxesSubplot object at 0x7f60aebe5250>]],\n",
              "      dtype=object)"
            ]
          },
          "metadata": {
            "tags": []
          },
          "execution_count": 168
        },
        {
          "output_type": "display_data",
          "data": {
            "image/png": "[encoded data removed]",
            "text/plain": [
              "<Figure size 864x576 with 49 Axes>"
            ]
          },
          "metadata": {
            "tags": [],
            "needs_background": "light"
          }
        }
      ]
    },
    {
      "cell_type": "code",
      "metadata": {
        "_uuid": "46206cae-9cef-4741-8942-97a66ea23315",
        "_cell_guid": "84e82b57-3c58-4630-9656-c26c8b5b8cdc",
        "id": "hntMSav3xuAQ",
        "jupyter": {
          "outputs_hidden": false
        },
        "execution": {
          "iopub.status.busy": "2021-05-23T21:36:45.646097Z",
          "iopub.execute_input": "2021-05-23T21:36:45.646553Z",
          "iopub.status.idle": "2021-05-23T21:36:45.661529Z",
          "shell.execute_reply.started": "2021-05-23T21:36:45.646513Z",
          "shell.execute_reply": "2021-05-23T21:36:45.659994Z"
        },
        "trusted": true
      },
      "source": [
        "X_train = train_set.drop(\"BUG_STATUS\",axis=1)\n",
        "y_train = train_set['BUG_STATUS'].copy()\n",
        "\n",
        "X_test = test_set.drop(\"BUG_STATUS\",axis=1)\n",
        "y_test = test_set['BUG_STATUS'].copy()"
      ],
      "execution_count": 171,
      "outputs": []
    },
    {
      "cell_type": "code",
      "metadata": {
        "_uuid": "5615d7e6-7212-4966-bb39-97ee568706ac",
        "_cell_guid": "620aa13e-ac8d-4d72-8af2-34874dd8f815",
        "id": "lr3enoUPdhb7",
        "jupyter": {
          "outputs_hidden": false
        },
        "execution": {
          "iopub.status.busy": "2021-05-23T21:36:47.190002Z",
          "iopub.execute_input": "2021-05-23T21:36:47.190454Z",
          "iopub.status.idle": "2021-05-23T21:36:47.200477Z",
          "shell.execute_reply.started": "2021-05-23T21:36:47.190418Z",
          "shell.execute_reply": "2021-05-23T21:36:47.199254Z"
        },
        "trusted": true
      },
      "source": [
        "X_train = X_train.drop(\"entity\",axis=1)\n",
        "X_test = X_test.drop(\"entity\",axis=1)"
      ],
      "execution_count": 172,
      "outputs": []
    },
    {
      "cell_type": "code",
      "metadata": {
        "_uuid": "cd40ec53-491f-46d9-bd96-8c9bb9426282",
        "_cell_guid": "888b9903-ccc4-4f05-886a-cecbfe4f1498",
        "id": "TcpQ8IaqpKne",
        "jupyter": {
          "outputs_hidden": false
        },
        "execution": {
          "iopub.status.busy": "2021-05-23T21:36:48.328195Z",
          "iopub.execute_input": "2021-05-23T21:36:48.328640Z",
          "iopub.status.idle": "2021-05-23T21:36:48.346632Z",
          "shell.execute_reply.started": "2021-05-23T21:36:48.328582Z",
          "shell.execute_reply": "2021-05-23T21:36:48.345082Z"
        },
        "trusted": true
      },
      "source": [
        "from sklearn.preprocessing import StandardScaler \n",
        "sc = StandardScaler() \n",
        "X_train = sc.fit_transform(X_train) \n",
        "X_test = sc.transform(X_test)"
      ],
      "execution_count": 173,
      "outputs": []
    },
    {
      "cell_type": "code",
      "metadata": {
        "_uuid": "59ecb714-c68b-4b84-bd0d-15103417ae07",
        "_cell_guid": "75b81480-bd01-4687-b7cf-252766f777d7",
        "id": "bXHjG9xbWIrf",
        "jupyter": {
          "outputs_hidden": false
        },
        "execution": {
          "iopub.status.busy": "2021-05-23T21:36:51.382307Z",
          "iopub.execute_input": "2021-05-23T21:36:51.382887Z",
          "iopub.status.idle": "2021-05-23T21:36:51.389149Z",
          "shell.execute_reply.started": "2021-05-23T21:36:51.382850Z",
          "shell.execute_reply": "2021-05-23T21:36:51.388234Z"
        },
        "trusted": true,
        "colab": {
          "base_uri": "https://localhost:8080/"
        },
        "outputId": "0b60c375-9b83-42e1-819a-18fa1c1d722a"
      },
      "source": [
        "X_train"
      ],
      "execution_count": 175,
      "outputs": [
        {
          "output_type": "execute_result",
          "data": {
            "text/plain": [
              "array([[-0.26415397, -0.10238295, -0.35237601, ...,  0.62162407,\n",
              "        -0.9530412 , -0.74919566],\n",
              "       [-0.0713605 , -0.10238295,  1.11735624, ..., -0.28234361,\n",
              "        -0.27439363, -0.14548673],\n",
              "       [-0.23202173, -0.10238295, -0.0275733 , ..., -1.02195352,\n",
              "         2.10087288,  1.06193114],\n",
              "       ...,\n",
              "       [-0.26415397, -0.08331372, -0.27523537, ...,  0.04637191,\n",
              "        -0.9530412 , -0.74919566],\n",
              "       [-0.23202173, -0.10238295, -0.32395577, ...,  0.04637191,\n",
              "         0.74357773, -0.14548673],\n",
              "       [ 0.2820942 , -0.10238295,  0.25662907, ..., -0.11798585,\n",
              "         0.40425395,  1.06193114]])"
            ]
          },
          "metadata": {
            "tags": []
          },
          "execution_count": 175
        }
      ]
    },
    {
      "cell_type": "code",
      "metadata": {
        "_uuid": "f7ee2a54-e178-4e04-a032-b08df60cf716",
        "_cell_guid": "29b30004-8862-4707-b6ce-894718c81b25",
        "id": "c01x4a-MzxEj",
        "jupyter": {
          "outputs_hidden": false
        },
        "execution": {
          "iopub.status.busy": "2021-05-23T21:36:52.674236Z",
          "iopub.execute_input": "2021-05-23T21:36:52.674941Z",
          "iopub.status.idle": "2021-05-23T21:36:52.684284Z",
          "shell.execute_reply.started": "2021-05-23T21:36:52.674896Z",
          "shell.execute_reply": "2021-05-23T21:36:52.683089Z"
        },
        "trusted": true,
        "colab": {
          "base_uri": "https://localhost:8080/"
        },
        "outputId": "06ad7ac5-995d-4d98-f01a-9a95f930795c"
      },
      "source": [
        "y_train"
      ],
      "execution_count": 176,
      "outputs": [
        {
          "output_type": "execute_result",
          "data": {
            "text/plain": [
              "31693    0.0\n",
              "7831     1.0\n",
              "29891    1.0\n",
              "34714    0.0\n",
              "11034    0.0\n",
              "        ... \n",
              "6265     0.0\n",
              "11284    0.0\n",
              "38158    1.0\n",
              "860      1.0\n",
              "15795    1.0\n",
              "Name: BUG_STATUS, Length: 30896, dtype: float64"
            ]
          },
          "metadata": {
            "tags": []
          },
          "execution_count": 176
        }
      ]
    },
    {
      "cell_type": "code",
      "metadata": {
        "_uuid": "beb08a8c-81f8-4700-87de-12ddb7b1ad04",
        "_cell_guid": "c570aa8f-6ff5-45e8-934e-310ce66a7fb8",
        "id": "qnWrHtAIoOMX",
        "jupyter": {
          "outputs_hidden": false
        },
        "execution": {
          "iopub.status.busy": "2021-05-23T21:36:54.595232Z",
          "iopub.execute_input": "2021-05-23T21:36:54.595875Z",
          "iopub.status.idle": "2021-05-23T21:36:54.604391Z",
          "shell.execute_reply.started": "2021-05-23T21:36:54.595817Z",
          "shell.execute_reply": "2021-05-23T21:36:54.603180Z"
        },
        "trusted": true,
        "colab": {
          "base_uri": "https://localhost:8080/"
        },
        "outputId": "2733d88d-c6fe-4461-df35-03e937d32f8b"
      },
      "source": [
        "X_test"
      ],
      "execution_count": 177,
      "outputs": [
        {
          "output_type": "execute_result",
          "data": {
            "text/plain": [
              "array([[-0.0713605 , -0.10238295,  0.04956734, ..., -1.02195352,\n",
              "        -0.27439363, -0.23173086],\n",
              "       [-0.13562499, -0.10238295,  0.05362738, ..., -0.28234361,\n",
              "        -0.27439363, -0.14548673],\n",
              "       [-0.19988948, -0.10238295, -0.3036556 , ..., -0.28234361,\n",
              "        -0.27439363, -0.14548673],\n",
              "       ...,\n",
              "       [-0.26415397, -0.10238295, -0.36861615, ..., -0.93977464,\n",
              "        -0.61371741, -0.66295153],\n",
              "       [-0.26415397, -0.10238295, -0.38079625, ..., -0.03580697,\n",
              "        -0.9530412 , -0.74919566],\n",
              "       [-0.26415397, -0.10238295, -0.44169675, ...,  2.42955941,\n",
              "        -0.9530412 , -0.66295153]])"
            ]
          },
          "metadata": {
            "tags": []
          },
          "execution_count": 177
        }
      ]
    },
    {
      "cell_type": "code",
      "metadata": {
        "_uuid": "4d6be04c-bae4-4f31-9ba5-664b794d6f77",
        "_cell_guid": "5d9e5679-3f3a-474b-b858-9429ea004287",
        "id": "aLvfiOHYu6mS",
        "jupyter": {
          "outputs_hidden": false
        },
        "execution": {
          "iopub.status.busy": "2021-05-23T21:36:56.707170Z",
          "iopub.execute_input": "2021-05-23T21:36:56.707576Z",
          "iopub.status.idle": "2021-05-23T21:36:56.716994Z",
          "shell.execute_reply.started": "2021-05-23T21:36:56.707542Z",
          "shell.execute_reply": "2021-05-23T21:36:56.715627Z"
        },
        "trusted": true,
        "colab": {
          "base_uri": "https://localhost:8080/"
        },
        "outputId": "4b820276-9072-4e36-efc6-d0877b3539df"
      },
      "source": [
        "y_test"
      ],
      "execution_count": 178,
      "outputs": [
        {
          "output_type": "execute_result",
          "data": {
            "text/plain": [
              "29074    1.0\n",
              "2323     0.0\n",
              "8879     0.0\n",
              "5503     1.0\n",
              "33846    0.0\n",
              "        ... \n",
              "13088    0.0\n",
              "21237    0.0\n",
              "17559    1.0\n",
              "16235    1.0\n",
              "34870    0.0\n",
              "Name: BUG_STATUS, Length: 7724, dtype: float64"
            ]
          },
          "metadata": {
            "tags": []
          },
          "execution_count": 178
        }
      ]
    },
    {
      "cell_type": "code",
      "metadata": {
        "_uuid": "706e9fa3-5aad-4886-8da7-b9bb2b6388a1",
        "_cell_guid": "76da276c-b0f4-4672-979a-66ae6ddca17c",
        "id": "9w83oMruf6Ol",
        "jupyter": {
          "outputs_hidden": false
        },
        "execution": {
          "iopub.status.busy": "2021-05-23T21:36:58.227802Z",
          "iopub.execute_input": "2021-05-23T21:36:58.228223Z",
          "iopub.status.idle": "2021-05-23T21:36:58.235218Z",
          "shell.execute_reply.started": "2021-05-23T21:36:58.228186Z",
          "shell.execute_reply": "2021-05-23T21:36:58.233923Z"
        },
        "trusted": true
      },
      "source": [
        "# import all libraries\n",
        "import numpy as np\n",
        "import pandas as pd\n",
        "import matplotlib.pyplot as plt \n",
        "import seaborn as sns\n",
        "import re\n",
        "\n",
        "import sklearn\n",
        "from sklearn.model_selection import train_test_split\n",
        "from sklearn.linear_model import LinearRegression\n",
        "from sklearn.model_selection import cross_val_predict\n",
        "from sklearn.model_selection import GridSearchCV\n",
        "import warnings # supress warnings\n",
        "warnings.filterwarnings('ignore')"
      ],
      "execution_count": 179,
      "outputs": []
    },
    {
      "cell_type": "code",
      "metadata": {
        "_uuid": "c7dceafa-59c7-45b6-9e20-d8fd2edb6cbd",
        "_cell_guid": "ab578582-46e7-472c-9fb5-4e0dd7082775",
        "id": "Jp3rN3kGjwxy",
        "jupyter": {
          "outputs_hidden": false
        },
        "execution": {
          "iopub.status.busy": "2021-05-23T21:37:01.927569Z",
          "iopub.execute_input": "2021-05-23T21:37:01.928002Z",
          "iopub.status.idle": "2021-05-23T21:37:01.932359Z",
          "shell.execute_reply.started": "2021-05-23T21:37:01.927965Z",
          "shell.execute_reply": "2021-05-23T21:37:01.931502Z"
        },
        "trusted": true
      },
      "source": [
        "# Classifiers:\n",
        "# Logistic Regression\n",
        "# Decision Tree\n",
        "# Support Vector Machine\n",
        "\n",
        "# Linear Discriminant Analysis\n",
        "# Quadratic Discriminant Analysis\n",
        "# Random Forest\n",
        "# K-Nearest Neighbors\n",
        "# Naive Bayes\n",
        "\n",
        "# Scoring:\n",
        "# precision score\n",
        "# recall score\n",
        "# F1 score\n",
        "# support score\n",
        "# accuracy score\n",
        "# AUC/ROC"
      ],
      "execution_count": null,
      "outputs": []
    },
    {
      "cell_type": "code",
      "metadata": {
        "_uuid": "29d65766-02b6-4153-a9b8-bfc83ac5e913",
        "_cell_guid": "70a9bb8e-d99a-4d51-9049-795e9b00123e",
        "id": "fFKA9q9Eqv7p",
        "jupyter": {
          "outputs_hidden": false
        },
        "execution": {
          "iopub.status.busy": "2021-05-23T21:14:55.785521Z",
          "iopub.execute_input": "2021-05-23T21:14:55.786141Z",
          "iopub.status.idle": "2021-05-23T21:15:04.639960Z",
          "shell.execute_reply.started": "2021-05-23T21:14:55.786084Z",
          "shell.execute_reply": "2021-05-23T21:15:04.638511Z"
        },
        "trusted": true,
        "colab": {
          "base_uri": "https://localhost:8080/",
          "height": 1000
        },
        "outputId": "d03bb8db-6894-461e-d489-291eaaba964a"
      },
      "source": [
        "# Decision Tree\n",
        "from numpy import mean\n",
        "from numpy import std\n",
        "from sklearn import metrics\n",
        "from sklearn.tree import DecisionTreeClassifier\n",
        "from sklearn.model_selection import cross_val_predict\n",
        "from sklearn.metrics import confusion_matrix, classification_report\n",
        "from sklearn.model_selection import KFold\n",
        "from sklearn.model_selection import cross_val_score\n",
        "\n",
        "\n",
        "# create model\n",
        "model = DecisionTreeClassifier()\n",
        "\n",
        "#===================================================================================================\n",
        "#cross validation \n",
        "\n",
        "# evaluate model\n",
        "scores = cross_val_score(model, X_train, y_train, scoring='accuracy', cv=10, n_jobs=-1)\n",
        "# report performance\n",
        "print(50*\"=\")\n",
        "print(\"Cross validation Accuracy:\")\n",
        "print('Accuracy: %.3f (%.3f)' % (mean(scores), std(scores))) \n",
        "print(50*\"=\")\n",
        "\n",
        "#====================================================================================================\n",
        "print(50*\"=\")\n",
        "print(\"GRID SEARCH FOR DECISION TREE CLASSIFIER\")\n",
        "\n",
        "params = { \n",
        "    \"random_state\":range(30,40)} \n",
        "gs_Deci = GridSearchCV(model,\n",
        "                      param_grid=params,\n",
        "                      scoring='accuracy',\n",
        "                      cv=10)\n",
        "gs_Deci.fit(X_train, y_train)\n",
        "\n",
        "print(\"Best Parameters\")\n",
        "print(gs_Deci.best_params_)\n",
        "\n",
        "print(\"Best estimaters\")\n",
        "print(gs_Deci.best_estimator_)\n",
        "\n",
        "#Predicting Bugs\n",
        "y_pred = gs_Deci.best_estimator_.predict(X_test)\n",
        "\n",
        "#CONFUSION MATRIX\n",
        "print(50*\"=\")\n",
        "print(\"CONFUSION MATRIX\")\n",
        "print(confusion_matrix(y_test,y_pred))\n",
        "\n",
        "from sklearn.metrics import plot_confusion_matrix\n",
        "\n",
        "import matplotlib.pyplot as plt\n",
        "plt.rcParams[\"figure.figsize\"] = (20,7)\n",
        "\n",
        "class_names=['NON BUGGY FILE','BUGGY FILE']\n",
        "\n",
        "RF_confusion = plot_confusion_matrix(gs_Deci.best_estimator_,X_test,y_test,\n",
        "                                 display_labels=class_names,\n",
        "                                 cmap=plt.cm.Greens,\n",
        "                                 normalize=None, values_format = '.0f')\n",
        "\n",
        "\n",
        "RF_confusion.ax_.set_title(\"Confusion Matrix using Decision tree Classfier\")\n",
        "\n",
        "print(50*\"=\")\n",
        "print(classification_report(y_test,y_pred))\n",
        "print(50*\"=\")\n",
        "#====================================================================================================\n",
        "\n",
        "# Model Accuracy: how often is the classifier correct?\n",
        "RF_Accuracy = metrics.accuracy_score(y_test, y_pred)\n",
        "print(\"Accuracy:\",RF_Accuracy)\n",
        "\n",
        "# Model Precision: what percentage of positive tuples are labeled as such?\n",
        "print(\"Precision:\",metrics.precision_score(y_test, y_pred))\n",
        "\n",
        "# Model Recall: what percentage of positive tuples are labelled as such?\n",
        "print(\"Recall:\",metrics.recall_score(y_test, y_pred))\n",
        "\n",
        "#Calculate F1 Score\n",
        "print(\"F1 Score:\",metrics.f1_score(y_test, y_pred))\n",
        "\n",
        "#Calculate Mean Absolute Error\n",
        "print(\"Mean Absolute Error:\",metrics.mean_absolute_error(y_test, y_pred))\n",
        "\n",
        "# kappa\n",
        "print(\"Cohens kappa:\", metrics.cohen_kappa_score(y_test, y_pred))\n",
        "\n",
        "# ROC AUC\n",
        "print(\"ROC AUC:\", metrics.roc_auc_score(y_test, y_pred))\n",
        "print(50*\"=\")"
      ],
      "execution_count": 180,
      "outputs": [
        {
          "output_type": "stream",
          "text": [
            "==================================================\n",
            "Cross validation Accuracy:\n",
            "Accuracy: 0.754 (0.006)\n",
            "==================================================\n",
            "==================================================\n",
            "GRID SEARCH FOR DECISION TREE CLASSIFIER\n",
            "Best Parameters\n",
            "{'random_state': 36}\n",
            "Best estimaters\n",
            "DecisionTreeClassifier(ccp_alpha=0.0, class_weight=None, criterion='gini',\n",
            "                       max_depth=None, max_features=None, max_leaf_nodes=None,\n",
            "                       min_impurity_decrease=0.0, min_impurity_split=None,\n",
            "                       min_samples_leaf=1, min_samples_split=2,\n",
            "                       min_weight_fraction_leaf=0.0, presort='deprecated',\n",
            "                       random_state=36, splitter='best')\n",
            "==================================================\n",
            "CONFUSION MATRIX\n",
            "[[3430  927]\n",
            " [ 968 2399]]\n",
            "==================================================\n",
            "              precision    recall  f1-score   support\n",
            "\n",
            "         0.0       0.78      0.79      0.78      4357\n",
            "         1.0       0.72      0.71      0.72      3367\n",
            "\n",
            "    accuracy                           0.75      7724\n",
            "   macro avg       0.75      0.75      0.75      7724\n",
            "weighted avg       0.75      0.75      0.75      7724\n",
            "\n",
            "==================================================\n",
            "Accuracy: 0.7546607975142413\n",
            "Precision: 0.7212868310282622\n",
            "Recall: 0.7125037125037125\n",
            "F1 Score: 0.716868369938742\n",
            "Mean Absolute Error: 0.24533920248575866\n",
            "Cohens kappa: 0.5004349569998725\n",
            "ROC AUC: 0.7498713191850671\n",
            "==================================================\n"
          ],
          "name": "stdout"
        },
        {
          "output_type": "display_data",
          "data": {
            "image/png": "[encoded data removed]",
            "text/plain": [
              "<Figure size 1440x504 with 2 Axes>"
            ]
          },
          "metadata": {
            "tags": [],
            "needs_background": "light"
          }
        }
      ]
    },
    {
      "cell_type": "code",
      "metadata": {
        "_uuid": "afcb60f2-8e41-4772-b6e4-11f60add4aa6",
        "_cell_guid": "135726ea-d1ea-4c1f-8c2e-b0861e6de0dd",
        "id": "unPCGhq6f4kV",
        "jupyter": {
          "outputs_hidden": false
        },
        "execution": {
          "iopub.status.busy": "2021-05-23T21:18:00.826085Z",
          "iopub.execute_input": "2021-05-23T21:18:00.826548Z",
          "iopub.status.idle": "2021-05-23T21:18:11.489630Z",
          "shell.execute_reply.started": "2021-05-23T21:18:00.826500Z",
          "shell.execute_reply": "2021-05-23T21:18:11.488449Z"
        },
        "trusted": true,
        "colab": {
          "base_uri": "https://localhost:8080/",
          "height": 934
        },
        "outputId": "f4d8075d-440a-4cae-dc03-c594fcbd5e94"
      },
      "source": [
        "# Logistic regression\n",
        "from numpy import mean\n",
        "from numpy import std\n",
        "from sklearn.linear_model import LogisticRegression\n",
        "from sklearn.model_selection import cross_val_predict\n",
        "from sklearn.metrics import confusion_matrix, classification_report\n",
        "from sklearn.model_selection import KFold\n",
        "from sklearn.model_selection import cross_val_score\n",
        "from sklearn import metrics\n",
        "\n",
        "# create model\n",
        "model = LogisticRegression()\n",
        "\n",
        "#===================================================================================================\n",
        "#cross validation \n",
        "\n",
        "# evaluate model\n",
        "scores = cross_val_score(model, X_train, y_train, scoring='accuracy', cv=10, n_jobs=-1)\n",
        "# report performance\n",
        "print(50*\"=\")\n",
        "print(\"Cross validation Accuracy:\")\n",
        "print('Accuracy: %.3f (%.3f)' % (mean(scores), std(scores))) \n",
        "print(50*\"=\")\n",
        "\n",
        "#====================================================================================================\n",
        "print(50*\"=\")\n",
        "\n",
        "model.fit(X_train, y_train)\n",
        "\n",
        "\n",
        "\n",
        "#Predicting Bugs\n",
        "y_pred = model.predict(X_test)\n",
        "\n",
        "#CONFUSION MATRIX\n",
        "print(50*\"=\")\n",
        "print(\"CONFUSION MATRIX\")\n",
        "print(confusion_matrix(y_test,y_pred))\n",
        "\n",
        "from sklearn.metrics import plot_confusion_matrix\n",
        "\n",
        "import matplotlib.pyplot as plt\n",
        "plt.rcParams[\"figure.figsize\"] = (20,7)\n",
        "\n",
        "class_names=['NON BUGGY FILE','BUGGY FILE']\n",
        "\n",
        "confusion = plot_confusion_matrix(model,X_test,y_test,\n",
        "                                 display_labels=class_names,\n",
        "                                 cmap=plt.cm.Greens,\n",
        "                                 normalize=None, values_format = '.0f')\n",
        "\n",
        "\n",
        "confusion.ax_.set_title(\"Confusion Matrix using Logistic Regression\")\n",
        "\n",
        "print(50*\"=\")\n",
        "print(classification_report(y_test,y_pred))\n",
        "print(50*\"=\")\n",
        "#====================================================================================================\n",
        "\n",
        "# Model Accuracy: how often is the classifier correct?\n",
        "RF_Accuracy = metrics.accuracy_score(y_test, y_pred)\n",
        "print(\"Accuracy:\",RF_Accuracy)\n",
        "\n",
        "# Model Precision: what percentage of positive tuples are labeled as such?\n",
        "print(\"Precision:\",metrics.precision_score(y_test, y_pred))\n",
        "\n",
        "# Model Recall: what percentage of positive tuples are labelled as such?\n",
        "print(\"Recall:\",metrics.recall_score(y_test, y_pred))\n",
        "\n",
        "#Calculate F1 Score\n",
        "print(\"F1 Score:\",metrics.f1_score(y_test, y_pred))\n",
        "\n",
        "#Calculate Mean Absolute Error\n",
        "print(\"Mean Absolute Error:\",metrics.mean_absolute_error(y_test, y_pred))\n",
        "\n",
        "# kappa\n",
        "print(\"Cohens kappa:\", metrics.cohen_kappa_score(y_test, y_pred))\n",
        "\n",
        "# ROC AUC\n",
        "print(\"ROC AUC:\", metrics.roc_auc_score(y_test, y_pred))\n",
        "print(50*\"=\")"
      ],
      "execution_count": 181,
      "outputs": [
        {
          "output_type": "stream",
          "text": [
            "==================================================\n",
            "Cross validation Accuracy:\n",
            "Accuracy: 0.628 (0.005)\n",
            "==================================================\n",
            "==================================================\n",
            "==================================================\n",
            "CONFUSION MATRIX\n",
            "[[4056  301]\n",
            " [2523  844]]\n",
            "==================================================\n",
            "              precision    recall  f1-score   support\n",
            "\n",
            "         0.0       0.62      0.93      0.74      4357\n",
            "         1.0       0.74      0.25      0.37      3367\n",
            "\n",
            "    accuracy                           0.63      7724\n",
            "   macro avg       0.68      0.59      0.56      7724\n",
            "weighted avg       0.67      0.63      0.58      7724\n",
            "\n",
            "==================================================\n",
            "Accuracy: 0.6343863283272916\n",
            "Precision: 0.737117903930131\n",
            "Recall: 0.25066825066825066\n",
            "F1 Score: 0.3741134751773049\n",
            "Mean Absolute Error: 0.3656136716727084\n",
            "Cohens kappa: 0.1963018185015043\n",
            "ROC AUC: 0.5907920091991701\n",
            "==================================================\n"
          ],
          "name": "stdout"
        },
        {
          "output_type": "display_data",
          "data": {
            "image/png": "[encoded data removed]",
            "text/plain": [
              "<Figure size 1440x504 with 2 Axes>"
            ]
          },
          "metadata": {
            "tags": [],
            "needs_background": "light"
          }
        }
      ]
    },
    {
      "cell_type": "code",
      "metadata": {
        "_uuid": "66444d2a-67e1-462b-a199-fbd740603ad6",
        "_cell_guid": "4bea15a8-097d-4d40-8c6d-3b80c1c0d27e",
        "id": "ZTmZb2hpfi6S",
        "jupyter": {
          "outputs_hidden": false
        },
        "execution": {
          "iopub.status.busy": "2021-05-23T05:35:49.891032Z",
          "iopub.execute_input": "2021-05-23T05:35:49.891467Z",
          "iopub.status.idle": "2021-05-23T05:35:51.041354Z",
          "shell.execute_reply.started": "2021-05-23T05:35:49.891377Z",
          "shell.execute_reply": "2021-05-23T05:35:51.038167Z"
        },
        "trusted": true,
        "colab": {
          "base_uri": "https://localhost:8080/",
          "height": 934
        },
        "outputId": "ff33e5c5-298b-490d-9479-e0e1e1c12ae9"
      },
      "source": [
        "# Support Vector Machine\n",
        "from numpy import mean\n",
        "from numpy import std\n",
        "from sklearn.svm import SVC\n",
        "from sklearn.model_selection import cross_val_predict\n",
        "from sklearn.metrics import confusion_matrix, classification_report\n",
        "from sklearn.model_selection import KFold\n",
        "from sklearn.model_selection import cross_val_score\n",
        "from sklearn import metrics\n",
        "\n",
        "# create model\n",
        "model = SVC(gamma='auto')\n",
        "\n",
        "#===================================================================================================\n",
        "#cross validation \n",
        "\n",
        "# evaluate model\n",
        "scores = cross_val_score(model, X_train, y_train, scoring='accuracy', cv=10, n_jobs=-1)\n",
        "# report performance\n",
        "print(50*\"=\")\n",
        "print(\"Cross validation Accuracy:\")\n",
        "print('Accuracy: %.3f (%.3f)' % (mean(scores), std(scores))) \n",
        "print(50*\"=\")\n",
        "\n",
        "#====================================================================================================\n",
        "print(50*\"=\")\n",
        "# print(\"GRID SEARCH FOR SVM\")\n",
        "\n",
        "# params = { \n",
        "#     \"random_state\":range(30,40)} \n",
        "# gs_svm = GridSearchCV(model,\n",
        "#                       param_grid=params,\n",
        "#                       scoring='accuracy',\n",
        "#                       cv=10)\n",
        "model.fit(X_train, y_train)\n",
        "\n",
        "# print(\"Best Parameters\")\n",
        "# print(gs_svm.best_params_)\n",
        "\n",
        "# print(\"Best estimaters\")\n",
        "# print(gs_svm.best_estimator_)\n",
        "\n",
        "#Predicting Bugs\n",
        "y_pred = model.predict(X_test)\n",
        "\n",
        "#CONFUSION MATRIX\n",
        "print(50*\"=\")\n",
        "print(\"CONFUSION MATRIX\")\n",
        "print(confusion_matrix(y_test,y_pred))\n",
        "\n",
        "from sklearn.metrics import plot_confusion_matrix\n",
        "\n",
        "import matplotlib.pyplot as plt\n",
        "plt.rcParams[\"figure.figsize\"] = (20,7)\n",
        "\n",
        "class_names=['NON BUGGY FILE','BUGGY FILE']\n",
        "\n",
        "confusion = plot_confusion_matrix(model,X_test,y_test,\n",
        "                                 display_labels=class_names,\n",
        "                                 cmap=plt.cm.Greens,\n",
        "                                 normalize=None, values_format = '.0f')\n",
        "\n",
        "\n",
        "confusion.ax_.set_title(\"Confusion Matrix using Support Vector Machine\")\n",
        "\n",
        "print(50*\"=\")\n",
        "print(classification_report(y_test,y_pred))\n",
        "print(50*\"=\")\n",
        "#====================================================================================================\n",
        "\n",
        "# Model Accuracy: how often is the classifier correct?\n",
        "RF_Accuracy = metrics.accuracy_score(y_test, y_pred)\n",
        "print(\"Accuracy:\",RF_Accuracy)\n",
        "\n",
        "# Model Precision: what percentage of positive tuples are labeled as such?\n",
        "print(\"Precision:\",metrics.precision_score(y_test, y_pred))\n",
        "\n",
        "# Model Recall: what percentage of positive tuples are labelled as such?\n",
        "print(\"Recall:\",metrics.recall_score(y_test, y_pred))\n",
        "\n",
        "#Calculate F1 Score\n",
        "print(\"F1 Score:\",metrics.f1_score(y_test, y_pred))\n",
        "\n",
        "#Calculate Mean Absolute Error\n",
        "print(\"Mean Absolute Error:\",metrics.mean_absolute_error(y_test, y_pred))\n",
        "\n",
        "# kappa\n",
        "print(\"Cohens kappa:\", metrics.cohen_kappa_score(y_test, y_pred))\n",
        "\n",
        "# ROC AUC\n",
        "print(\"ROC AUC:\", metrics.roc_auc_score(y_test, y_pred))\n",
        "print(50*\"=\")"
      ],
      "execution_count": 199,
      "outputs": [
        {
          "output_type": "stream",
          "text": [
            "==================================================\n",
            "Cross validation Accuracy:\n",
            "Accuracy: 0.718 (0.009)\n",
            "==================================================\n",
            "==================================================\n",
            "==================================================\n",
            "CONFUSION MATRIX\n",
            "[[3843  514]\n",
            " [1662 1705]]\n",
            "==================================================\n",
            "              precision    recall  f1-score   support\n",
            "\n",
            "         0.0       0.70      0.88      0.78      4357\n",
            "         1.0       0.77      0.51      0.61      3367\n",
            "\n",
            "    accuracy                           0.72      7724\n",
            "   macro avg       0.73      0.69      0.69      7724\n",
            "weighted avg       0.73      0.72      0.71      7724\n",
            "\n",
            "==================================================\n",
            "Accuracy: 0.7182806835836354\n",
            "Precision: 0.7683641279855791\n",
            "Recall: 0.5063855063855064\n",
            "F1 Score: 0.6104547081990691\n",
            "Mean Absolute Error: 0.28171931641636455\n",
            "Cohens kappa: 0.4040664005107448\n",
            "ROC AUC: 0.6942072126832282\n",
            "==================================================\n"
          ],
          "name": "stdout"
        },
        {
          "output_type": "display_data",
          "data": {
            "image/png": "[encoded data removed]",
            "text/plain": [
              "<Figure size 1440x504 with 2 Axes>"
            ]
          },
          "metadata": {
            "tags": [],
            "needs_background": "light"
          }
        }
      ]
    },
    {
      "cell_type": "code",
      "metadata": {
        "_uuid": "deb49675-cf86-4fe2-a09d-f6eb7be575c6",
        "_cell_guid": "1a562bbf-9d4c-44fd-87b8-ad368aeb864d",
        "jupyter": {
          "outputs_hidden": false
        },
        "trusted": true,
        "id": "WoH10pHmO994",
        "colab": {
          "base_uri": "https://localhost:8080/",
          "height": 1000
        },
        "outputId": "670838cf-f3d9-444e-d4b1-733fbaf5937a"
      },
      "source": [
        "#Random Forest\n",
        "from numpy import mean\n",
        "from numpy import std\n",
        "from sklearn.ensemble import RandomForestClassifier\n",
        "from sklearn.model_selection import cross_val_predict\n",
        "from sklearn.metrics import confusion_matrix, classification_report\n",
        "from sklearn.model_selection import KFold\n",
        "from sklearn.model_selection import cross_val_score\n",
        "from sklearn import metrics\n",
        "\n",
        "# create model\n",
        "model = RandomForestClassifier()\n",
        "\n",
        "#===================================================================================================\n",
        "#cross validation \n",
        "\n",
        "# evaluate model\n",
        "scores = cross_val_score(model, X_train, y_train, scoring='accuracy', cv=10, n_jobs=-1)\n",
        "# report performance\n",
        "print(50*\"=\")\n",
        "print(\"Cross validation Accuracy:\")\n",
        "print('Accuracy: %.3f (%.3f)' % (mean(scores), std(scores))) \n",
        "print(50*\"=\")\n",
        "\n",
        "#====================================================================================================\n",
        "print(50*\"=\")\n",
        "print(\"GRID SEARCH FOR Random Forest\")\n",
        "\n",
        "params = { \n",
        "    \"random_state\":range(30,40)} \n",
        "gs_logi = GridSearchCV(model,\n",
        "                      param_grid=params,\n",
        "                      scoring='accuracy',\n",
        "                      cv=10)\n",
        "gs_logi.fit(X_train, y_train)\n",
        "\n",
        "print(\"Best Parameters\")\n",
        "print(gs_logi.best_params_)\n",
        "\n",
        "print(\"Best estimaters\")\n",
        "print(gs_logi.best_estimator_)\n",
        "\n",
        "#Predicting Bugs\n",
        "y_pred = gs_logi.best_estimator_.predict(X_test)\n",
        "\n",
        "#CONFUSION MATRIX\n",
        "print(50*\"=\")\n",
        "print(\"CONFUSION MATRIX\")\n",
        "print(confusion_matrix(y_test,y_pred))\n",
        "\n",
        "from sklearn.metrics import plot_confusion_matrix\n",
        "\n",
        "import matplotlib.pyplot as plt\n",
        "plt.rcParams[\"figure.figsize\"] = (20,7)\n",
        "\n",
        "class_names=['NON BUGGY FILE','BUGGY FILE']\n",
        "\n",
        "confusion = plot_confusion_matrix(gs_Deci.best_estimator_,X_test,y_test,\n",
        "                                 display_labels=class_names,\n",
        "                                 cmap=plt.cm.Greens,\n",
        "                                 normalize=None, values_format = '.0f')\n",
        "\n",
        "\n",
        "confusion.ax_.set_title(\"Confusion Matrix using Random Forest\")\n",
        "\n",
        "print(50*\"=\")\n",
        "print(classification_report(y_test,y_pred))\n",
        "print(50*\"=\")\n",
        "#====================================================================================================\n",
        "\n",
        "# Model Accuracy: how often is the classifier correct?\n",
        "RF_Accuracy = metrics.accuracy_score(y_test, y_pred)\n",
        "print(\"Accuracy:\",RF_Accuracy)\n",
        "\n",
        "# Model Precision: what percentage of positive tuples are labeled as such?\n",
        "print(\"Precision:\",metrics.precision_score(y_test, y_pred))\n",
        "\n",
        "# Model Recall: what percentage of positive tuples are labelled as such?\n",
        "print(\"Recall:\",metrics.recall_score(y_test, y_pred))\n",
        "\n",
        "#Calculate F1 Score\n",
        "print(\"F1 Score:\",metrics.f1_score(y_test, y_pred))\n",
        "\n",
        "#Calculate Mean Absolute Error\n",
        "print(\"Mean Absolute Error:\",metrics.mean_absolute_error(y_test, y_pred))\n",
        "\n",
        "# kappa\n",
        "print(\"Cohens kappa:\", metrics.cohen_kappa_score(y_test, y_pred))\n",
        "\n",
        "# ROC AUC\n",
        "print(\"ROC AUC:\", metrics.roc_auc_score(y_test, y_pred))\n",
        "print(50*\"=\")"
      ],
      "execution_count": 184,
      "outputs": [
        {
          "output_type": "stream",
          "text": [
            "==================================================\n",
            "Cross validation Accuracy:\n",
            "Accuracy: 0.791 (0.006)\n",
            "==================================================\n",
            "==================================================\n",
            "GRID SEARCH FOR Random Forest\n",
            "Best Parameters\n",
            "{'random_state': 32}\n",
            "Best estimaters\n",
            "RandomForestClassifier(bootstrap=True, ccp_alpha=0.0, class_weight=None,\n",
            "                       criterion='gini', max_depth=None, max_features='auto',\n",
            "                       max_leaf_nodes=None, max_samples=None,\n",
            "                       min_impurity_decrease=0.0, min_impurity_split=None,\n",
            "                       min_samples_leaf=1, min_samples_split=2,\n",
            "                       min_weight_fraction_leaf=0.0, n_estimators=100,\n",
            "                       n_jobs=None, oob_score=False, random_state=32, verbose=0,\n",
            "                       warm_start=False)\n",
            "==================================================\n",
            "CONFUSION MATRIX\n",
            "[[3642  715]\n",
            " [ 888 2479]]\n",
            "==================================================\n",
            "              precision    recall  f1-score   support\n",
            "\n",
            "         0.0       0.80      0.84      0.82      4357\n",
            "         1.0       0.78      0.74      0.76      3367\n",
            "\n",
            "    accuracy                           0.79      7724\n",
            "   macro avg       0.79      0.79      0.79      7724\n",
            "weighted avg       0.79      0.79      0.79      7724\n",
            "\n",
            "==================================================\n",
            "Accuracy: 0.7924650440186431\n",
            "Precision: 0.7761427676894177\n",
            "Recall: 0.7362637362637363\n",
            "F1 Score: 0.7556774881877764\n",
            "Mean Absolute Error: 0.20753495598135682\n",
            "Cohens kappa: 0.5755195419977971\n",
            "ROC AUC: 0.7860799975787353\n",
            "==================================================\n"
          ],
          "name": "stdout"
        },
        {
          "output_type": "display_data",
          "data": {
            "image/png": "[encoded data removed]",
            "text/plain": [
              "<Figure size 1440x504 with 2 Axes>"
            ]
          },
          "metadata": {
            "tags": [],
            "needs_background": "light"
          }
        }
      ]
    },
    {
      "cell_type": "code",
      "metadata": {
        "_uuid": "b5392906-178e-470c-a0ad-c376aaa59416",
        "_cell_guid": "0e115af5-f635-4fbd-9ce0-139dc737fa94",
        "execution": {
          "iopub.status.busy": "2021-05-23T21:28:28.510578Z",
          "iopub.status.idle": "2021-05-23T21:28:28.511585Z"
        },
        "jupyter": {
          "outputs_hidden": false
        },
        "trusted": true,
        "id": "2wHiK49hO998",
        "colab": {
          "base_uri": "https://localhost:8080/",
          "height": 917
        },
        "outputId": "c5665774-de18-4acb-d3c6-e6aeb2d595a2"
      },
      "source": [
        "#Naive Bayes\n",
        "from numpy import mean\n",
        "from numpy import std\n",
        "from sklearn.naive_bayes import GaussianNB\n",
        "from sklearn.model_selection import cross_val_predict\n",
        "from sklearn.metrics import confusion_matrix, classification_report\n",
        "from sklearn.model_selection import KFold\n",
        "from sklearn.model_selection import cross_val_score\n",
        "from sklearn import metrics\n",
        "\n",
        "# create model\n",
        "model = GaussianNB()\n",
        "\n",
        "#===================================================================================================\n",
        "#cross validation \n",
        "\n",
        "# evaluate model\n",
        "scores = cross_val_score(model, X_train, y_train, scoring='accuracy', cv=10, n_jobs=-1)\n",
        "# report performance\n",
        "print(50*\"=\")\n",
        "print(\"Cross validation Accuracy:\")\n",
        "print('Accuracy: %.3f (%.3f)' % (mean(scores), std(scores))) \n",
        "print(50*\"=\")\n",
        "\n",
        "#====================================================================================================\n",
        "\n",
        "model.fit(X_train, y_train)\n",
        "\n",
        "#Predicting Bugs\n",
        "y_pred = model.predict(X_test)\n",
        "\n",
        "#CONFUSION MATRIX\n",
        "print(50*\"=\")\n",
        "print(\"CONFUSION MATRIX\")\n",
        "print(confusion_matrix(y_test,y_pred))\n",
        "\n",
        "from sklearn.metrics import plot_confusion_matrix\n",
        "\n",
        "import matplotlib.pyplot as plt\n",
        "plt.rcParams[\"figure.figsize\"] = (20,7)\n",
        "\n",
        "class_names=['NON BUGGY FILE','BUGGY FILE']\n",
        "\n",
        "confusion = plot_confusion_matrix(model,X_test,y_test,\n",
        "                                 display_labels=class_names,\n",
        "                                 cmap=plt.cm.Greens,\n",
        "                                 normalize=None, values_format = '.0f')\n",
        "\n",
        "\n",
        "confusion.ax_.set_title(\"Confusion Matrix using Naive Bayes\")\n",
        "\n",
        "print(50*\"=\")\n",
        "print(classification_report(y_test,y_pred))\n",
        "print(50*\"=\")\n",
        "#====================================================================================================\n",
        "\n",
        "# Model Accuracy: how often is the classifier correct?\n",
        "RF_Accuracy = metrics.accuracy_score(y_test, y_pred)\n",
        "print(\"Accuracy:\",RF_Accuracy)\n",
        "\n",
        "# Model Precision: what percentage of positive tuples are labeled as such?\n",
        "print(\"Precision:\",metrics.precision_score(y_test, y_pred))\n",
        "\n",
        "# Model Recall: what percentage of positive tuples are labelled as such?\n",
        "print(\"Recall:\",metrics.recall_score(y_test, y_pred))\n",
        "\n",
        "#Calculate F1 Score\n",
        "print(\"F1 Score:\",metrics.f1_score(y_test, y_pred))\n",
        "\n",
        "#Calculate Mean Absolute Error\n",
        "print(\"Mean Absolute Error:\",metrics.mean_absolute_error(y_test, y_pred))\n",
        "\n",
        "# kappa\n",
        "print(\"Cohens kappa:\", metrics.cohen_kappa_score(y_test, y_pred))\n",
        "\n",
        "# ROC AUC\n",
        "print(\"ROC AUC:\", metrics.roc_auc_score(y_test, y_pred))\n",
        "print(50*\"=\")"
      ],
      "execution_count": 187,
      "outputs": [
        {
          "output_type": "stream",
          "text": [
            "==================================================\n",
            "Cross validation Accuracy:\n",
            "Accuracy: 0.615 (0.004)\n",
            "==================================================\n",
            "==================================================\n",
            "CONFUSION MATRIX\n",
            "[[4214  143]\n",
            " [2808  559]]\n",
            "==================================================\n",
            "              precision    recall  f1-score   support\n",
            "\n",
            "         0.0       0.60      0.97      0.74      4357\n",
            "         1.0       0.80      0.17      0.27      3367\n",
            "\n",
            "    accuracy                           0.62      7724\n",
            "   macro avg       0.70      0.57      0.51      7724\n",
            "weighted avg       0.69      0.62      0.54      7724\n",
            "\n",
            "==================================================\n",
            "Accuracy: 0.6179440704298291\n",
            "Precision: 0.7962962962962963\n",
            "Recall: 0.16602316602316602\n",
            "F1 Score: 0.2747603833865815\n",
            "Mean Absolute Error: 0.38205592957017087\n",
            "Cohens kappa: 0.14636393025040217\n",
            "ROC AUC: 0.5666012089009564\n",
            "==================================================\n"
          ],
          "name": "stdout"
        },
        {
          "output_type": "display_data",
          "data": {
            "image/png": "[encoded data removed]",
            "text/plain": [
              "<Figure size 1440x504 with 2 Axes>"
            ]
          },
          "metadata": {
            "tags": [],
            "needs_background": "light"
          }
        }
      ]
    },
    {
      "cell_type": "code",
      "metadata": {
        "_uuid": "0427adc2-e954-4386-8c84-d3714e6bf6f6",
        "_cell_guid": "1890287d-4723-4a4a-b620-0f583ef77ca6",
        "id": "VajRXKY64FGq",
        "jupyter": {
          "outputs_hidden": false
        },
        "execution": {
          "iopub.status.busy": "2021-05-23T21:39:37.629407Z",
          "iopub.execute_input": "2021-05-23T21:39:37.629867Z"
        },
        "trusted": true,
        "colab": {
          "base_uri": "https://localhost:8080/",
          "height": 934
        },
        "outputId": "f7406a1a-ac07-4d72-ccaf-809f43407b05"
      },
      "source": [
        "# Multilayer perceptron\n",
        "from numpy import mean\n",
        "from numpy import std\n",
        "from sklearn.neural_network import MLPClassifier\n",
        "from sklearn.model_selection import cross_val_predict\n",
        "from sklearn.metrics import confusion_matrix, classification_report\n",
        "from sklearn.model_selection import KFold\n",
        "from sklearn.model_selection import cross_val_score\n",
        "from sklearn import metrics\n",
        "\n",
        "# create model\n",
        "model = MLPClassifier()\n",
        "\n",
        "#===================================================================================================\n",
        "#cross validation \n",
        "\n",
        "# evaluate model\n",
        "scores = cross_val_score(model, X_train, y_train, scoring='accuracy', cv=10, n_jobs=-1)\n",
        "# report performance\n",
        "print(50*\"=\")\n",
        "print(\"Cross validation Accuracy:\")\n",
        "print('Accuracy: %.3f (%.3f)' % (mean(scores), std(scores))) \n",
        "print(50*\"=\")\n",
        "\n",
        "#====================================================================================================\n",
        "print(50*\"=\")\n",
        "\n",
        "model.fit(X_train, y_train)\n",
        "\n",
        "\n",
        "#Predicting Bugs\n",
        "y_pred = model.predict(X_test)\n",
        "\n",
        "#CONFUSION MATRIX\n",
        "print(50*\"=\")\n",
        "print(\"CONFUSION MATRIX\")\n",
        "print(confusion_matrix(y_test,y_pred))\n",
        "\n",
        "from sklearn.metrics import plot_confusion_matrix\n",
        "\n",
        "import matplotlib.pyplot as plt\n",
        "plt.rcParams[\"figure.figsize\"] = (20,7)\n",
        "\n",
        "class_names=['NON BUGGY FILE','BUGGY FILE']\n",
        "\n",
        "confusion = plot_confusion_matrix(model,X_test,y_test,\n",
        "                                 display_labels=class_names,\n",
        "                                 cmap=plt.cm.Greens,\n",
        "                                 normalize=None, values_format = '.0f')\n",
        "\n",
        "\n",
        "confusion.ax_.set_title(\"Confusion Matrix using Multilayer perceptron\")\n",
        "\n",
        "print(50*\"=\")\n",
        "print(classification_report(y_test,y_pred))\n",
        "print(50*\"=\")\n",
        "#====================================================================================================\n",
        "\n",
        "# Model Accuracy: how often is the classifier correct?\n",
        "RF_Accuracy = metrics.accuracy_score(y_test, y_pred)\n",
        "print(\"Accuracy:\",RF_Accuracy)\n",
        "\n",
        "# Model Precision: what percentage of positive tuples are labeled as such?\n",
        "print(\"Precision:\",metrics.precision_score(y_test, y_pred))\n",
        "\n",
        "# Model Recall: what percentage of positive tuples are labelled as such?\n",
        "print(\"Recall:\",metrics.recall_score(y_test, y_pred))\n",
        "\n",
        "#Calculate F1 Score\n",
        "print(\"F1 Score:\",metrics.f1_score(y_test, y_pred))\n",
        "\n",
        "#Calculate Mean Absolute Error\n",
        "print(\"Mean Absolute Error:\",metrics.mean_absolute_error(y_test, y_pred))\n",
        "\n",
        "# kappa\n",
        "print(\"Cohens kappa:\", metrics.cohen_kappa_score(y_test, y_pred))\n",
        "\n",
        "# ROC AUC\n",
        "print(\"ROC AUC:\", metrics.roc_auc_score(y_test, y_pred))\n",
        "print(50*\"=\")"
      ],
      "execution_count": 188,
      "outputs": [
        {
          "output_type": "stream",
          "text": [
            "==================================================\n",
            "Cross validation Accuracy:\n",
            "Accuracy: 0.758 (0.006)\n",
            "==================================================\n",
            "==================================================\n",
            "==================================================\n",
            "CONFUSION MATRIX\n",
            "[[3702  655]\n",
            " [1156 2211]]\n",
            "==================================================\n",
            "              precision    recall  f1-score   support\n",
            "\n",
            "         0.0       0.76      0.85      0.80      4357\n",
            "         1.0       0.77      0.66      0.71      3367\n",
            "\n",
            "    accuracy                           0.77      7724\n",
            "   macro avg       0.77      0.75      0.76      7724\n",
            "weighted avg       0.77      0.77      0.76      7724\n",
            "\n",
            "==================================================\n",
            "Accuracy: 0.7655359917141378\n",
            "Precision: 0.7714584787159805\n",
            "Recall: 0.6566676566676567\n",
            "F1 Score: 0.7094497031926842\n",
            "Mean Absolute Error: 0.23446400828586225\n",
            "Cohens kappa: 0.5150415780753104\n",
            "ROC AUC: 0.7531674294355039\n",
            "==================================================\n"
          ],
          "name": "stdout"
        },
        {
          "output_type": "display_data",
          "data": {
            "image/png": "[encoded data removed]",
            "text/plain": [
              "<Figure size 1440x504 with 2 Axes>"
            ]
          },
          "metadata": {
            "tags": [],
            "needs_background": "light"
          }
        }
      ]
    },
    {
      "cell_type": "code",
      "metadata": {
        "id": "P2rt7OM1ccA8",
        "colab": {
          "base_uri": "https://localhost:8080/",
          "height": 917
        },
        "outputId": "9fbe7bfb-4e53-4493-8946-ee627480f3b3"
      },
      "source": [
        "#KNN\n",
        "from numpy import mean\n",
        "from numpy import std\n",
        "from sklearn.neighbors import KNeighborsClassifier\n",
        "from sklearn.model_selection import cross_val_predict\n",
        "from sklearn.metrics import confusion_matrix, classification_report\n",
        "from sklearn.model_selection import KFold\n",
        "from sklearn.model_selection import cross_val_score\n",
        "from sklearn import metrics\n",
        "\n",
        "\n",
        "k = 15\n",
        "\n",
        "# create model\n",
        "model = KNeighborsClassifier(n_neighbors = k)\n",
        "\n",
        "#===================================================================================================\n",
        "#cross validation \n",
        "\n",
        "# evaluate model\n",
        "scores = cross_val_score(model, X_train, y_train, scoring='accuracy', cv=10, n_jobs=-1)\n",
        "# report performance\n",
        "print(50*\"=\")\n",
        "print(\"Cross validation Accuracy:\")\n",
        "print('Accuracy: %.3f (%.3f)' % (mean(scores), std(scores))) \n",
        "print(50*\"=\")\n",
        "\n",
        "#====================================================================================================\n",
        "\n",
        "model.fit(X_train, y_train)\n",
        "\n",
        "#Predicting Bugs\n",
        "y_pred = model.predict(X_test)\n",
        "\n",
        "#CONFUSION MATRIX\n",
        "print(50*\"=\")\n",
        "print(\"CONFUSION MATRIX\")\n",
        "print(confusion_matrix(y_test,y_pred))\n",
        "\n",
        "from sklearn.metrics import plot_confusion_matrix\n",
        "\n",
        "import matplotlib.pyplot as plt\n",
        "plt.rcParams[\"figure.figsize\"] = (20,7)\n",
        "\n",
        "class_names=['NON BUGGY FILE','BUGGY FILE']\n",
        "\n",
        "confusion = plot_confusion_matrix(model,X_test,y_test,\n",
        "                                 display_labels=class_names,\n",
        "                                 cmap=plt.cm.Greens,\n",
        "                                 normalize=None, values_format = '.0f')\n",
        "\n",
        "\n",
        "confusion.ax_.set_title(\"Confusion Matrix using KNN\")\n",
        "\n",
        "print(50*\"=\")\n",
        "print(classification_report(y_test,y_pred))\n",
        "print(50*\"=\")\n",
        "#====================================================================================================\n",
        "\n",
        "# Model Accuracy: how often is the classifier correct?\n",
        "RF_Accuracy = metrics.accuracy_score(y_test, y_pred)\n",
        "print(\"Accuracy:\",RF_Accuracy)\n",
        "\n",
        "# Model Precision: what percentage of positive tuples are labeled as such?\n",
        "print(\"Precision:\",metrics.precision_score(y_test, y_pred))\n",
        "\n",
        "# Model Recall: what percentage of positive tuples are labelled as such?\n",
        "print(\"Recall:\",metrics.recall_score(y_test, y_pred))\n",
        "\n",
        "#Calculate F1 Score\n",
        "print(\"F1 Score:\",metrics.f1_score(y_test, y_pred))\n",
        "\n",
        "#Calculate Mean Absolute Error\n",
        "print(\"Mean Absolute Error:\",metrics.mean_absolute_error(y_test, y_pred))\n",
        "\n",
        "# kappa\n",
        "print(\"Cohens kappa:\", metrics.cohen_kappa_score(y_test, y_pred))\n",
        "\n",
        "# ROC AUC\n",
        "print(\"ROC AUC:\", metrics.roc_auc_score(y_test, y_pred))\n",
        "print(50*\"=\")\n"
      ],
      "execution_count": 198,
      "outputs": [
        {
          "output_type": "stream",
          "text": [
            "==================================================\n",
            "Cross validation Accuracy:\n",
            "Accuracy: 0.763 (0.009)\n",
            "==================================================\n",
            "==================================================\n",
            "CONFUSION MATRIX\n",
            "[[3651  706]\n",
            " [1071 2296]]\n",
            "==================================================\n",
            "              precision    recall  f1-score   support\n",
            "\n",
            "         0.0       0.77      0.84      0.80      4357\n",
            "         1.0       0.76      0.68      0.72      3367\n",
            "\n",
            "    accuracy                           0.77      7724\n",
            "   macro avg       0.77      0.76      0.76      7724\n",
            "weighted avg       0.77      0.77      0.77      7724\n",
            "\n",
            "==================================================\n",
            "Accuracy: 0.7699378560331435\n",
            "Precision: 0.7648234510326449\n",
            "Recall: 0.681912681912682\n",
            "F1 Score: 0.7209923064845346\n",
            "Mean Absolute Error: 0.23006214396685656\n",
            "Cohens kappa: 0.5263571628915706\n",
            "ROC AUC: 0.7599372911514294\n",
            "==================================================\n"
          ],
          "name": "stdout"
        },
        {
          "output_type": "display_data",
          "data": {
            "image/png": "[encoded data removed]",
            "text/plain": [
              "<Figure size 1440x504 with 2 Axes>"
            ]
          },
          "metadata": {
            "tags": [],
            "needs_background": "light"
          }
        }
      ]
    },
    {
      "cell_type": "code",
      "metadata": {
        "trusted": true,
        "colab": {
          "base_uri": "https://localhost:8080/",
          "height": 1000
        },
        "id": "oEescGayO9-A",
        "outputId": "c4b9f45c-2f14-499e-8733-30ffa2f18e65"
      },
      "source": [
        "#AdaBoost\n",
        "from numpy import mean\n",
        "from numpy import std\n",
        "from sklearn.ensemble import AdaBoostClassifier\n",
        "from sklearn.model_selection import cross_val_predict\n",
        "from sklearn.metrics import confusion_matrix, classification_report\n",
        "from sklearn.model_selection import KFold\n",
        "from sklearn.model_selection import cross_val_score\n",
        "from sklearn import metrics\n",
        "\n",
        "# create model\n",
        "model = AdaBoostClassifier()\n",
        "\n",
        "#===================================================================================================\n",
        "#cross validation \n",
        "\n",
        "# evaluate model\n",
        "scores = cross_val_score(model, X_train, y_train, scoring='accuracy', cv=10, n_jobs=-1)\n",
        "# report performance\n",
        "print(50*\"=\")\n",
        "print(\"Cross validation Accuracy:\")\n",
        "print('Accuracy: %.3f (%.3f)' % (mean(scores), std(scores))) \n",
        "print(50*\"=\")\n",
        "\n",
        "#====================================================================================================\n",
        "print(50*\"=\")\n",
        "print(\"GRID SEARCH FOR AdaBoost\")\n",
        "\n",
        "params = { \n",
        "    \"random_state\":range(30,40)} \n",
        "gs_ada = GridSearchCV(model,\n",
        "                      param_grid=params,\n",
        "                      scoring='accuracy',\n",
        "                      cv=10)\n",
        "gs_ada.fit(X_train, y_train)\n",
        "\n",
        "print(\"Best Parameters\")\n",
        "print(gs_ada.best_params_)\n",
        "\n",
        "print(\"Best estimaters\")\n",
        "print(gs_ada.best_estimator_)\n",
        "\n",
        "#Predicting Bugs\n",
        "y_pred = gs_ada.best_estimator_.predict(X_test)\n",
        "\n",
        "#CONFUSION MATRIX\n",
        "print(50*\"=\")\n",
        "print(\"CONFUSION MATRIX\")\n",
        "print(confusion_matrix(y_test,y_pred))\n",
        "\n",
        "from sklearn.metrics import plot_confusion_matrix\n",
        "\n",
        "import matplotlib.pyplot as plt\n",
        "plt.rcParams[\"figure.figsize\"] = (20,7)\n",
        "\n",
        "class_names=['NON BUGGY FILE','BUGGY FILE']\n",
        "\n",
        "confusion = plot_confusion_matrix(gs_ada.best_estimator_,X_test,y_test,\n",
        "                                 display_labels=class_names,\n",
        "                                 cmap=plt.cm.Greens,\n",
        "                                 normalize=None, values_format = '.0f')\n",
        "\n",
        "\n",
        "confusion.ax_.set_title(\"Confusion Matrix using AdaBoost\")\n",
        "\n",
        "print(50*\"=\")\n",
        "print(classification_report(y_test,y_pred))\n",
        "print(50*\"=\")\n",
        "#====================================================================================================\n",
        "\n",
        "# Model Accuracy: how often is the classifier correct?\n",
        "RF_Accuracy = metrics.accuracy_score(y_test, y_pred)\n",
        "print(\"Accuracy:\",RF_Accuracy)\n",
        "\n",
        "# Model Precision: what percentage of positive tuples are labeled as such?\n",
        "print(\"Precision:\",metrics.precision_score(y_test, y_pred))\n",
        "\n",
        "# Model Recall: what percentage of positive tuples are labelled as such?\n",
        "print(\"Recall:\",metrics.recall_score(y_test, y_pred))\n",
        "\n",
        "#Calculate F1 Score\n",
        "print(\"F1 Score:\",metrics.f1_score(y_test, y_pred))\n",
        "\n",
        "#Calculate Mean Absolute Error\n",
        "print(\"Mean Absolute Error:\",metrics.mean_absolute_error(y_test, y_pred))\n",
        "\n",
        "# kappa\n",
        "print(\"Cohens kappa:\", metrics.cohen_kappa_score(y_test, y_pred))\n",
        "\n",
        "# ROC AUC\n",
        "print(\"ROC AUC:\", metrics.roc_auc_score(y_test, y_pred))\n",
        "print(50*\"=\")"
      ],
      "execution_count": 189,
      "outputs": [
        {
          "output_type": "stream",
          "text": [
            "==================================================\n",
            "Cross validation Accuracy:\n",
            "Accuracy: 0.717 (0.009)\n",
            "==================================================\n",
            "==================================================\n",
            "GRID SEARCH FOR AdaBoost\n",
            "Best Parameters\n",
            "{'random_state': 30}\n",
            "Best estimaters\n",
            "AdaBoostClassifier(algorithm='SAMME.R', base_estimator=None, learning_rate=1.0,\n",
            "                   n_estimators=50, random_state=30)\n",
            "==================================================\n",
            "CONFUSION MATRIX\n",
            "[[3444  913]\n",
            " [1302 2065]]\n",
            "==================================================\n",
            "              precision    recall  f1-score   support\n",
            "\n",
            "         0.0       0.73      0.79      0.76      4357\n",
            "         1.0       0.69      0.61      0.65      3367\n",
            "\n",
            "    accuracy                           0.71      7724\n",
            "   macro avg       0.71      0.70      0.70      7724\n",
            "weighted avg       0.71      0.71      0.71      7724\n",
            "\n",
            "==================================================\n",
            "Accuracy: 0.7132314862765406\n",
            "Precision: 0.69341840161182\n",
            "Recall: 0.6133056133056133\n",
            "F1 Score: 0.6509062253743105\n",
            "Mean Absolute Error: 0.28676851372345935\n",
            "Cohens kappa: 0.4091278693561248\n",
            "ROC AUC: 0.7018788796388062\n",
            "==================================================\n"
          ],
          "name": "stdout"
        },
        {
          "output_type": "display_data",
          "data": {
            "image/png": "[encoded data removed]",
            "text/plain": [
              "<Figure size 1440x504 with 2 Axes>"
            ]
          },
          "metadata": {
            "tags": [],
            "needs_background": "light"
          }
        }
      ]
    },
    {
      "cell_type": "code",
      "metadata": {
        "id": "aOsXi52LbJDH",
        "colab": {
          "base_uri": "https://localhost:8080/",
          "height": 934
        },
        "outputId": "245299d2-9b70-487c-faa6-c6e27fb559d0"
      },
      "source": [
        "#Quadratic Discriminant Analysis\n",
        "from numpy import mean\n",
        "from numpy import std\n",
        "from sklearn.discriminant_analysis import QuadraticDiscriminantAnalysis\n",
        "from sklearn.model_selection import cross_val_predict\n",
        "from sklearn.metrics import confusion_matrix, classification_report\n",
        "from sklearn.model_selection import KFold\n",
        "from sklearn.model_selection import cross_val_score\n",
        "from sklearn import metrics\n",
        "\n",
        "# create model\n",
        "model = QuadraticDiscriminantAnalysis()\n",
        "\n",
        "#===================================================================================================\n",
        "#cross validation \n",
        "\n",
        "# evaluate model\n",
        "scores = cross_val_score(model, X_train, y_train, scoring='accuracy', cv=10, n_jobs=-1)\n",
        "# report performance\n",
        "print(50*\"=\")\n",
        "print(\"Cross validation Accuracy:\")\n",
        "print('Accuracy: %.3f (%.3f)' % (mean(scores), std(scores))) \n",
        "print(50*\"=\")\n",
        "\n",
        "\n",
        "model.fit(X_train, y_train)\n",
        "#====================================================================================================\n",
        "print(50*\"=\")\n",
        "\n",
        "\n",
        "#Predicting Bugs\n",
        "y_pred = model.predict(X_test)\n",
        "\n",
        "#CONFUSION MATRIX\n",
        "print(50*\"=\")\n",
        "print(\"CONFUSION MATRIX\")\n",
        "print(confusion_matrix(y_test,y_pred))\n",
        "\n",
        "from sklearn.metrics import plot_confusion_matrix\n",
        "\n",
        "import matplotlib.pyplot as plt\n",
        "plt.rcParams[\"figure.figsize\"] = (20,7)\n",
        "\n",
        "class_names=['NON BUGGY FILE','BUGGY FILE']\n",
        "\n",
        "confusion = plot_confusion_matrix(model,X_test,y_test,\n",
        "                                 display_labels=class_names,\n",
        "                                 cmap=plt.cm.Greens,\n",
        "                                 normalize=None, values_format = '.0f')\n",
        "\n",
        "\n",
        "confusion.ax_.set_title(\"Confusion Matrix using Quadratic Discriminant Analysis\")\n",
        "\n",
        "print(50*\"=\")\n",
        "print(classification_report(y_test,y_pred))\n",
        "print(50*\"=\")\n",
        "#====================================================================================================\n",
        "\n",
        "# Model Accuracy: how often is the classifier correct?\n",
        "RF_Accuracy = metrics.accuracy_score(y_test, y_pred)\n",
        "print(\"Accuracy:\",RF_Accuracy)\n",
        "\n",
        "# Model Precision: what percentage of positive tuples are labeled as such?\n",
        "print(\"Precision:\",metrics.precision_score(y_test, y_pred))\n",
        "\n",
        "# Model Recall: what percentage of positive tuples are labelled as such?\n",
        "print(\"Recall:\",metrics.recall_score(y_test, y_pred))\n",
        "\n",
        "#Calculate F1 Score\n",
        "print(\"F1 Score:\",metrics.f1_score(y_test, y_pred))\n",
        "\n",
        "#Calculate Mean Absolute Error\n",
        "print(\"Mean Absolute Error:\",metrics.mean_absolute_error(y_test, y_pred))\n",
        "\n",
        "# kappa\n",
        "print(\"Cohens kappa:\", metrics.cohen_kappa_score(y_test, y_pred))\n",
        "\n",
        "# ROC AUC\n",
        "print(\"ROC AUC:\", metrics.roc_auc_score(y_test, y_pred))\n",
        "print(50*\"=\")"
      ],
      "execution_count": 190,
      "outputs": [
        {
          "output_type": "stream",
          "text": [
            "==================================================\n",
            "Cross validation Accuracy:\n",
            "Accuracy: 0.622 (0.003)\n",
            "==================================================\n",
            "==================================================\n",
            "==================================================\n",
            "CONFUSION MATRIX\n",
            "[[4205  152]\n",
            " [2750  617]]\n",
            "==================================================\n",
            "              precision    recall  f1-score   support\n",
            "\n",
            "         0.0       0.60      0.97      0.74      4357\n",
            "         1.0       0.80      0.18      0.30      3367\n",
            "\n",
            "    accuracy                           0.62      7724\n",
            "   macro avg       0.70      0.57      0.52      7724\n",
            "weighted avg       0.69      0.62      0.55      7724\n",
            "\n",
            "==================================================\n",
            "Accuracy: 0.624287933713102\n",
            "Precision: 0.8023407022106632\n",
            "Recall: 0.18324918324918324\n",
            "F1 Score: 0.2983558994197292\n",
            "Mean Absolute Error: 0.37571206628689796\n",
            "Cohens kappa: 0.1626183156332307\n",
            "ROC AUC: 0.5741813967657438\n",
            "==================================================\n"
          ],
          "name": "stdout"
        },
        {
          "output_type": "display_data",
          "data": {
            "image/png": "[encoded data removed]",
            "text/plain": [
              "<Figure size 1440x504 with 2 Axes>"
            ]
          },
          "metadata": {
            "tags": [],
            "needs_background": "light"
          }
        }
      ]
    },
    {
      "cell_type": "code",
      "metadata": {
        "colab": {
          "base_uri": "https://localhost:8080/",
          "height": 934
        },
        "id": "jZMJVZwvVb4K",
        "outputId": "df678cd4-bba1-41c8-9395-662dae99ef0f"
      },
      "source": [
        "#LinearDiscriminantAnalysis\n",
        "from numpy import mean\n",
        "from numpy import std\n",
        "from sklearn.discriminant_analysis import LinearDiscriminantAnalysis\n",
        "from sklearn.model_selection import cross_val_predict\n",
        "from sklearn.metrics import confusion_matrix, classification_report\n",
        "from sklearn.model_selection import KFold\n",
        "from sklearn.model_selection import cross_val_score\n",
        "from sklearn import metrics\n",
        "\n",
        "# create model\n",
        "model = LinearDiscriminantAnalysis()\n",
        "\n",
        "#===================================================================================================\n",
        "#cross validation \n",
        "\n",
        "# evaluate model\n",
        "scores = cross_val_score(model, X_train, y_train, scoring='accuracy', cv=10, n_jobs=-1)\n",
        "# report performance\n",
        "print(50*\"=\")\n",
        "print(\"Cross validation Accuracy:\")\n",
        "print('Accuracy: %.3f (%.3f)' % (mean(scores), std(scores))) \n",
        "print(50*\"=\")\n",
        "\n",
        "\n",
        "model.fit(X_train, y_train)\n",
        "#====================================================================================================\n",
        "print(50*\"=\")\n",
        "\n",
        "\n",
        "#Predicting Bugs\n",
        "y_pred = model.predict(X_test)\n",
        "\n",
        "#CONFUSION MATRIX\n",
        "print(50*\"=\")\n",
        "print(\"CONFUSION MATRIX\")\n",
        "print(confusion_matrix(y_test,y_pred))\n",
        "\n",
        "from sklearn.metrics import plot_confusion_matrix\n",
        "\n",
        "import matplotlib.pyplot as plt\n",
        "plt.rcParams[\"figure.figsize\"] = (20,7)\n",
        "\n",
        "class_names=['NON BUGGY FILE','BUGGY FILE']\n",
        "\n",
        "confusion = plot_confusion_matrix(model,X_test,y_test,\n",
        "                                 display_labels=class_names,\n",
        "                                 cmap=plt.cm.Greens,\n",
        "                                 normalize=None, values_format = '.0f')\n",
        "\n",
        "\n",
        "confusion.ax_.set_title(\"Confusion Matrix using Linear Discriminant Analysis\")\n",
        "\n",
        "print(50*\"=\")\n",
        "print(classification_report(y_test,y_pred))\n",
        "print(50*\"=\")\n",
        "#====================================================================================================\n",
        "\n",
        "# Model Accuracy: how often is the classifier correct?\n",
        "RF_Accuracy = metrics.accuracy_score(y_test, y_pred)\n",
        "print(\"Accuracy:\",RF_Accuracy)\n",
        "\n",
        "# Model Precision: what percentage of positive tuples are labeled as such?\n",
        "print(\"Precision:\",metrics.precision_score(y_test, y_pred))\n",
        "\n",
        "# Model Recall: what percentage of positive tuples are labelled as such?\n",
        "print(\"Recall:\",metrics.recall_score(y_test, y_pred))\n",
        "\n",
        "#Calculate F1 Score\n",
        "print(\"F1 Score:\",metrics.f1_score(y_test, y_pred))\n",
        "\n",
        "#Calculate Mean Absolute Error\n",
        "print(\"Mean Absolute Error:\",metrics.mean_absolute_error(y_test, y_pred))\n",
        "\n",
        "# kappa\n",
        "print(\"Cohens kappa:\", metrics.cohen_kappa_score(y_test, y_pred))\n",
        "\n",
        "# ROC AUC\n",
        "print(\"ROC AUC:\", metrics.roc_auc_score(y_test, y_pred))\n",
        "print(50*\"=\")"
      ],
      "execution_count": 191,
      "outputs": [
        {
          "output_type": "stream",
          "text": [
            "==================================================\n",
            "Cross validation Accuracy:\n",
            "Accuracy: 0.610 (0.004)\n",
            "==================================================\n",
            "==================================================\n",
            "==================================================\n",
            "CONFUSION MATRIX\n",
            "[[4229  128]\n",
            " [2865  502]]\n",
            "==================================================\n",
            "              precision    recall  f1-score   support\n",
            "\n",
            "         0.0       0.60      0.97      0.74      4357\n",
            "         1.0       0.80      0.15      0.25      3367\n",
            "\n",
            "    accuracy                           0.61      7724\n",
            "   macro avg       0.70      0.56      0.49      7724\n",
            "weighted avg       0.68      0.61      0.53      7724\n",
            "\n",
            "==================================================\n",
            "Accuracy: 0.6125064733298808\n",
            "Precision: 0.7968253968253968\n",
            "Recall: 0.1490941490941491\n",
            "F1 Score: 0.2511883912934701\n",
            "Mean Absolute Error: 0.3874935266701191\n",
            "Cohens kappa: 0.13189719061007255\n",
            "ROC AUC: 0.5598580683501501\n",
            "==================================================\n"
          ],
          "name": "stdout"
        },
        {
          "output_type": "display_data",
          "data": {
            "image/png": "[encoded data removed]",
            "text/plain": [
              "<Figure size 1440x504 with 2 Axes>"
            ]
          },
          "metadata": {
            "tags": [],
            "needs_background": "light"
          }
        }
      ]
    }
  ]
}